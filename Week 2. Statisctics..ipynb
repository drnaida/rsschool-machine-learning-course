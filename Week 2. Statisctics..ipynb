{
 "cells": [
  {
   "cell_type": "markdown",
   "id": "d4b754a6",
   "metadata": {},
   "source": [
    "# Question #1"
   ]
  },
  {
   "cell_type": "markdown",
   "id": "8afd966e",
   "metadata": {},
   "source": [
    "mean < median < mode"
   ]
  },
  {
   "cell_type": "markdown",
   "id": "df306b6f",
   "metadata": {},
   "source": [
    "# Question 3"
   ]
  },
  {
   "cell_type": "markdown",
   "id": "c4096b83",
   "metadata": {},
   "source": [
    " a z-score (also called a standard score) gives you an idea of how far from the mean a data point is"
   ]
  },
  {
   "cell_type": "markdown",
   "id": "cd834646",
   "metadata": {},
   "source": [
    "In a symmetric distribution, the mean, mode and median"
   ]
  },
  {
   "cell_type": "markdown",
   "id": "ca370a6c",
   "metadata": {},
   "source": [
    "symmetric distribution = normal distribution"
   ]
  },
  {
   "cell_type": "markdown",
   "id": "98919026",
   "metadata": {},
   "source": [
    "z-score = standart score"
   ]
  },
  {
   "cell_type": "markdown",
   "id": "800b3191",
   "metadata": {},
   "source": [
    "z-score = how many standart deviation distance is between mean and raw score"
   ]
  },
  {
   "cell_type": "markdown",
   "id": "453f7ee6",
   "metadata": {},
   "source": [
    "# Question 4\n",
    "\n",
    "range > std\n",
    "variance = std^2"
   ]
  },
  {
   "cell_type": "markdown",
   "id": "e81181d9",
   "metadata": {},
   "source": [
    "# Question 5"
   ]
  },
  {
   "cell_type": "markdown",
   "id": "d62c472c",
   "metadata": {},
   "source": [
    "# Question 6"
   ]
  },
  {
   "cell_type": "markdown",
   "id": "5e71e326",
   "metadata": {},
   "source": [
    "population = the entire group to be studied"
   ]
  },
  {
   "cell_type": "markdown",
   "id": "97ffa8a2",
   "metadata": {},
   "source": [
    "outlier = result that is too different from others"
   ]
  },
  {
   "cell_type": "code",
   "execution_count": null,
   "id": "7c0195f3",
   "metadata": {},
   "outputs": [],
   "source": []
  }
 ],
 "metadata": {
  "kernelspec": {
   "display_name": "Python 3 (ipykernel)",
   "language": "python",
   "name": "python3"
  },
  "language_info": {
   "codemirror_mode": {
    "name": "ipython",
    "version": 3
   },
   "file_extension": ".py",
   "mimetype": "text/x-python",
   "name": "python",
   "nbconvert_exporter": "python",
   "pygments_lexer": "ipython3",
   "version": "3.9.1"
  }
 },
 "nbformat": 4,
 "nbformat_minor": 5
}
