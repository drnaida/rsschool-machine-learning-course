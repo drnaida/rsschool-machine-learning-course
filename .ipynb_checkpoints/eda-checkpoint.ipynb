{
 "cells": [
  {
   "cell_type": "markdown",
   "id": "976b8301",
   "metadata": {},
   "source": [
    "## Import data"
   ]
  },
  {
   "cell_type": "code",
   "execution_count": 1522,
   "id": "b489cb9e",
   "metadata": {
    "scrolled": false
   },
   "outputs": [],
   "source": [
    "import pandas as pd\n",
    "import seaborn as sns\n",
    "import numpy as np\n",
    "import matplotlib.pyplot as plt\n",
    "%matplotlib inline\n",
    "\n",
    "path_to_file = 'train_titanic.csv'\n",
    "\n",
    "titanic_data = pd.read_csv(path_to_file, index_col='PassengerId')"
   ]
  },
  {
   "cell_type": "markdown",
   "id": "d07912a0",
   "metadata": {},
   "source": [
    "# Context"
   ]
  },
  {
   "cell_type": "markdown",
   "id": "d92d0d8a",
   "metadata": {},
   "source": [
    "## What is titanic dataset about?"
   ]
  },
  {
   "cell_type": "markdown",
   "id": "ca463a7e",
   "metadata": {},
   "source": [
    "Titanic is a dataset that contains features about people who were on Titanic like age, port in which they were embarked, whether they survived the Titanic catastrophe and etc."
   ]
  },
  {
   "cell_type": "code",
   "execution_count": 1523,
   "id": "8f49a152",
   "metadata": {},
   "outputs": [
    {
     "data": {
      "text/html": [
       "<div>\n",
       "<style scoped>\n",
       "    .dataframe tbody tr th:only-of-type {\n",
       "        vertical-align: middle;\n",
       "    }\n",
       "\n",
       "    .dataframe tbody tr th {\n",
       "        vertical-align: top;\n",
       "    }\n",
       "\n",
       "    .dataframe thead th {\n",
       "        text-align: right;\n",
       "    }\n",
       "</style>\n",
       "<table border=\"1\" class=\"dataframe\">\n",
       "  <thead>\n",
       "    <tr style=\"text-align: right;\">\n",
       "      <th></th>\n",
       "      <th>Survived</th>\n",
       "      <th>Pclass</th>\n",
       "      <th>Name</th>\n",
       "      <th>Sex</th>\n",
       "      <th>Age</th>\n",
       "      <th>SibSp</th>\n",
       "      <th>Parch</th>\n",
       "      <th>Ticket</th>\n",
       "      <th>Fare</th>\n",
       "      <th>Cabin</th>\n",
       "      <th>Embarked</th>\n",
       "    </tr>\n",
       "    <tr>\n",
       "      <th>PassengerId</th>\n",
       "      <th></th>\n",
       "      <th></th>\n",
       "      <th></th>\n",
       "      <th></th>\n",
       "      <th></th>\n",
       "      <th></th>\n",
       "      <th></th>\n",
       "      <th></th>\n",
       "      <th></th>\n",
       "      <th></th>\n",
       "      <th></th>\n",
       "    </tr>\n",
       "  </thead>\n",
       "  <tbody>\n",
       "    <tr>\n",
       "      <th>0</th>\n",
       "      <td>1</td>\n",
       "      <td>1</td>\n",
       "      <td>Oconnor, Frankie</td>\n",
       "      <td>male</td>\n",
       "      <td>NaN</td>\n",
       "      <td>2</td>\n",
       "      <td>0</td>\n",
       "      <td>209245</td>\n",
       "      <td>27.14</td>\n",
       "      <td>C12239</td>\n",
       "      <td>S</td>\n",
       "    </tr>\n",
       "    <tr>\n",
       "      <th>1</th>\n",
       "      <td>0</td>\n",
       "      <td>3</td>\n",
       "      <td>Bryan, Drew</td>\n",
       "      <td>male</td>\n",
       "      <td>NaN</td>\n",
       "      <td>0</td>\n",
       "      <td>0</td>\n",
       "      <td>27323</td>\n",
       "      <td>13.35</td>\n",
       "      <td>NaN</td>\n",
       "      <td>S</td>\n",
       "    </tr>\n",
       "    <tr>\n",
       "      <th>2</th>\n",
       "      <td>0</td>\n",
       "      <td>3</td>\n",
       "      <td>Owens, Kenneth</td>\n",
       "      <td>male</td>\n",
       "      <td>0.33</td>\n",
       "      <td>1</td>\n",
       "      <td>2</td>\n",
       "      <td>CA 457703</td>\n",
       "      <td>71.29</td>\n",
       "      <td>NaN</td>\n",
       "      <td>S</td>\n",
       "    </tr>\n",
       "    <tr>\n",
       "      <th>3</th>\n",
       "      <td>0</td>\n",
       "      <td>3</td>\n",
       "      <td>Kramer, James</td>\n",
       "      <td>male</td>\n",
       "      <td>19.00</td>\n",
       "      <td>0</td>\n",
       "      <td>0</td>\n",
       "      <td>A. 10866</td>\n",
       "      <td>13.04</td>\n",
       "      <td>NaN</td>\n",
       "      <td>S</td>\n",
       "    </tr>\n",
       "    <tr>\n",
       "      <th>4</th>\n",
       "      <td>1</td>\n",
       "      <td>3</td>\n",
       "      <td>Bond, Michael</td>\n",
       "      <td>male</td>\n",
       "      <td>25.00</td>\n",
       "      <td>0</td>\n",
       "      <td>0</td>\n",
       "      <td>427635</td>\n",
       "      <td>7.76</td>\n",
       "      <td>NaN</td>\n",
       "      <td>S</td>\n",
       "    </tr>\n",
       "    <tr>\n",
       "      <th>5</th>\n",
       "      <td>0</td>\n",
       "      <td>2</td>\n",
       "      <td>Sassano, Jonathan</td>\n",
       "      <td>male</td>\n",
       "      <td>35.00</td>\n",
       "      <td>0</td>\n",
       "      <td>0</td>\n",
       "      <td>13363</td>\n",
       "      <td>6.71</td>\n",
       "      <td>NaN</td>\n",
       "      <td>S</td>\n",
       "    </tr>\n",
       "    <tr>\n",
       "      <th>6</th>\n",
       "      <td>0</td>\n",
       "      <td>3</td>\n",
       "      <td>Conway, Jose</td>\n",
       "      <td>male</td>\n",
       "      <td>7.00</td>\n",
       "      <td>0</td>\n",
       "      <td>0</td>\n",
       "      <td>A/5</td>\n",
       "      <td>9.77</td>\n",
       "      <td>NaN</td>\n",
       "      <td>S</td>\n",
       "    </tr>\n",
       "    <tr>\n",
       "      <th>7</th>\n",
       "      <td>1</td>\n",
       "      <td>3</td>\n",
       "      <td>Werner, Linda</td>\n",
       "      <td>female</td>\n",
       "      <td>6.00</td>\n",
       "      <td>1</td>\n",
       "      <td>2</td>\n",
       "      <td>434426</td>\n",
       "      <td>31.50</td>\n",
       "      <td>NaN</td>\n",
       "      <td>S</td>\n",
       "    </tr>\n",
       "    <tr>\n",
       "      <th>8</th>\n",
       "      <td>0</td>\n",
       "      <td>1</td>\n",
       "      <td>Wardlaw, Michael</td>\n",
       "      <td>male</td>\n",
       "      <td>27.00</td>\n",
       "      <td>2</td>\n",
       "      <td>1</td>\n",
       "      <td>474849</td>\n",
       "      <td>73.02</td>\n",
       "      <td>A7253</td>\n",
       "      <td>S</td>\n",
       "    </tr>\n",
       "    <tr>\n",
       "      <th>9</th>\n",
       "      <td>0</td>\n",
       "      <td>2</td>\n",
       "      <td>Greigo, Rudy</td>\n",
       "      <td>male</td>\n",
       "      <td>66.00</td>\n",
       "      <td>0</td>\n",
       "      <td>0</td>\n",
       "      <td>6981</td>\n",
       "      <td>9.14</td>\n",
       "      <td>D2969</td>\n",
       "      <td>C</td>\n",
       "    </tr>\n",
       "    <tr>\n",
       "      <th>10</th>\n",
       "      <td>0</td>\n",
       "      <td>3</td>\n",
       "      <td>Nichols, William</td>\n",
       "      <td>male</td>\n",
       "      <td>31.00</td>\n",
       "      <td>0</td>\n",
       "      <td>0</td>\n",
       "      <td>459690</td>\n",
       "      <td>8.06</td>\n",
       "      <td>NaN</td>\n",
       "      <td>S</td>\n",
       "    </tr>\n",
       "    <tr>\n",
       "      <th>11</th>\n",
       "      <td>0</td>\n",
       "      <td>1</td>\n",
       "      <td>Telschow, Robert</td>\n",
       "      <td>male</td>\n",
       "      <td>60.00</td>\n",
       "      <td>0</td>\n",
       "      <td>0</td>\n",
       "      <td>19600</td>\n",
       "      <td>31.50</td>\n",
       "      <td>A9055</td>\n",
       "      <td>S</td>\n",
       "    </tr>\n",
       "    <tr>\n",
       "      <th>12</th>\n",
       "      <td>0</td>\n",
       "      <td>3</td>\n",
       "      <td>Stewart, Pat</td>\n",
       "      <td>male</td>\n",
       "      <td>36.00</td>\n",
       "      <td>0</td>\n",
       "      <td>0</td>\n",
       "      <td>434108</td>\n",
       "      <td>9.34</td>\n",
       "      <td>C8674</td>\n",
       "      <td>S</td>\n",
       "    </tr>\n",
       "    <tr>\n",
       "      <th>13</th>\n",
       "      <td>1</td>\n",
       "      <td>2</td>\n",
       "      <td>Raef, Phillip</td>\n",
       "      <td>male</td>\n",
       "      <td>50.00</td>\n",
       "      <td>0</td>\n",
       "      <td>0</td>\n",
       "      <td>3790453</td>\n",
       "      <td>7.88</td>\n",
       "      <td>NaN</td>\n",
       "      <td>Q</td>\n",
       "    </tr>\n",
       "    <tr>\n",
       "      <th>14</th>\n",
       "      <td>1</td>\n",
       "      <td>1</td>\n",
       "      <td>Seaton, Karen</td>\n",
       "      <td>female</td>\n",
       "      <td>44.00</td>\n",
       "      <td>0</td>\n",
       "      <td>1</td>\n",
       "      <td>12425</td>\n",
       "      <td>28.40</td>\n",
       "      <td>D6945</td>\n",
       "      <td>C</td>\n",
       "    </tr>\n",
       "  </tbody>\n",
       "</table>\n",
       "</div>"
      ],
      "text/plain": [
       "             Survived  Pclass               Name     Sex    Age  SibSp  Parch  \\\n",
       "PassengerId                                                                     \n",
       "0                   1       1   Oconnor, Frankie    male    NaN      2      0   \n",
       "1                   0       3        Bryan, Drew    male    NaN      0      0   \n",
       "2                   0       3     Owens, Kenneth    male   0.33      1      2   \n",
       "3                   0       3      Kramer, James    male  19.00      0      0   \n",
       "4                   1       3      Bond, Michael    male  25.00      0      0   \n",
       "5                   0       2  Sassano, Jonathan    male  35.00      0      0   \n",
       "6                   0       3       Conway, Jose    male   7.00      0      0   \n",
       "7                   1       3      Werner, Linda  female   6.00      1      2   \n",
       "8                   0       1   Wardlaw, Michael    male  27.00      2      1   \n",
       "9                   0       2       Greigo, Rudy    male  66.00      0      0   \n",
       "10                  0       3   Nichols, William    male  31.00      0      0   \n",
       "11                  0       1   Telschow, Robert    male  60.00      0      0   \n",
       "12                  0       3       Stewart, Pat    male  36.00      0      0   \n",
       "13                  1       2      Raef, Phillip    male  50.00      0      0   \n",
       "14                  1       1      Seaton, Karen  female  44.00      0      1   \n",
       "\n",
       "                Ticket   Fare   Cabin Embarked  \n",
       "PassengerId                                     \n",
       "0               209245  27.14  C12239        S  \n",
       "1                27323  13.35     NaN        S  \n",
       "2            CA 457703  71.29     NaN        S  \n",
       "3             A. 10866  13.04     NaN        S  \n",
       "4               427635   7.76     NaN        S  \n",
       "5                13363   6.71     NaN        S  \n",
       "6                 A/5    9.77     NaN        S  \n",
       "7               434426  31.50     NaN        S  \n",
       "8               474849  73.02   A7253        S  \n",
       "9                 6981   9.14   D2969        C  \n",
       "10              459690   8.06     NaN        S  \n",
       "11               19600  31.50   A9055        S  \n",
       "12              434108   9.34   C8674        S  \n",
       "13             3790453   7.88     NaN        Q  \n",
       "14               12425  28.40   D6945        C  "
      ]
     },
     "execution_count": 1523,
     "metadata": {},
     "output_type": "execute_result"
    }
   ],
   "source": [
    "titanic_data.head(15)"
   ]
  },
  {
   "cell_type": "markdown",
   "id": "597d1773",
   "metadata": {},
   "source": [
    "## What is the unique id for each row of data?"
   ]
  },
  {
   "cell_type": "markdown",
   "id": "d056999d",
   "metadata": {},
   "source": [
    "Each row of data is identified by a 'PassengerId' column."
   ]
  },
  {
   "cell_type": "markdown",
   "id": "bcf8fb4a",
   "metadata": {},
   "source": [
    "## Understanding the meaning of each variable"
   ]
  },
  {
   "cell_type": "code",
   "execution_count": 1524,
   "id": "cc2541b1",
   "metadata": {
    "scrolled": false
   },
   "outputs": [
    {
     "data": {
      "text/plain": [
       "['Survived',\n",
       " 'Pclass',\n",
       " 'Name',\n",
       " 'Sex',\n",
       " 'Age',\n",
       " 'SibSp',\n",
       " 'Parch',\n",
       " 'Ticket',\n",
       " 'Fare',\n",
       " 'Cabin',\n",
       " 'Embarked']"
      ]
     },
     "execution_count": 1524,
     "metadata": {},
     "output_type": "execute_result"
    }
   ],
   "source": [
    "list(titanic_data.columns.values)"
   ]
  },
  {
   "cell_type": "markdown",
   "id": "cb7aff3a",
   "metadata": {},
   "source": [
    "Those are the variables/features that we have"
   ]
  },
  {
   "cell_type": "markdown",
   "id": "5fcd0e04",
   "metadata": {},
   "source": [
    "Let's understand the meaning of all features (variables) in the dataset:"
   ]
  },
  {
   "cell_type": "markdown",
   "id": "3d901430",
   "metadata": {},
   "source": [
    "'Survived' - whether a person survived the catastrophe or not, values 0 - dead and 1 - alive\n",
    "\n",
    "'Pclass' - class of the cabin, can be 1st, 2nd or 3rd\n",
    "\n",
    "'Name' - name of the passenger, contains of First Name and Surname\n",
    "\n",
    "'Sex' - sex of the passenger, can be 'male' or 'female'\n",
    "\n",
    "'Age' - age of the person\n",
    "\n",
    "'SibSp' - number of horizontal relatives (siblings and spouses) a person travelled with\n",
    "\n",
    "'Parch' - number of vertical relatives (parents or children) a person travelled with\n",
    "\n",
    "'Ticket' - an id of a ticket\n",
    "\n",
    "'Fare' - amount of money person paid for a cabin\n",
    "\n",
    "'Cabin' - number of a cabin, consists of a letter representing deck and a number\n",
    "\n",
    "'Embarked' - name of the port in which person came on board of Titanic. Values are either 'C' - Cherbourg, 'S' - Southampton, or 'Q' - Queenstown"
   ]
  },
  {
   "cell_type": "markdown",
   "id": "57005421",
   "metadata": {},
   "source": [
    "## Deck plan"
   ]
  },
  {
   "cell_type": "markdown",
   "id": "5297b11d",
   "metadata": {},
   "source": [
    "Since column 'Cabin' contains values with letters, and letters represent decks on Titanic, I will leave here a plane of Titanic decks.\n",
    "\n",
    " ![Titanic Deck plan](titanic_deck_plan.jpg)"
   ]
  },
  {
   "cell_type": "markdown",
   "id": "9b4320c6",
   "metadata": {},
   "source": [
    "# Data quality assessment"
   ]
  },
  {
   "cell_type": "markdown",
   "id": "ea89da14",
   "metadata": {},
   "source": [
    "## Number of raws and columnms"
   ]
  },
  {
   "cell_type": "markdown",
   "id": "bd814b87",
   "metadata": {},
   "source": [
    "Let's check how many raws and columns the initial dataset has using shape method"
   ]
  },
  {
   "cell_type": "code",
   "execution_count": 1525,
   "id": "ca4f6966",
   "metadata": {},
   "outputs": [
    {
     "data": {
      "text/plain": [
       "(100000, 11)"
      ]
     },
     "execution_count": 1525,
     "metadata": {},
     "output_type": "execute_result"
    }
   ],
   "source": [
    "titanic_data_shape = titanic_data.shape\n",
    "titanic_data_shape"
   ]
  },
  {
   "cell_type": "markdown",
   "id": "3c209e1a",
   "metadata": {},
   "source": [
    "In other words, there are 100,000 raws and 11 columns with features (with index it would be 12 columns)"
   ]
  },
  {
   "cell_type": "markdown",
   "id": "50327dd5",
   "metadata": {},
   "source": [
    "## Types of columns\n",
    "\n",
    "Let's inspect data types of columns"
   ]
  },
  {
   "cell_type": "code",
   "execution_count": 1526,
   "id": "05a4e991",
   "metadata": {
    "scrolled": true
   },
   "outputs": [
    {
     "data": {
      "text/plain": [
       "Survived      int64\n",
       "Pclass        int64\n",
       "Name         object\n",
       "Sex          object\n",
       "Age         float64\n",
       "SibSp         int64\n",
       "Parch         int64\n",
       "Ticket       object\n",
       "Fare        float64\n",
       "Cabin        object\n",
       "Embarked     object\n",
       "dtype: object"
      ]
     },
     "execution_count": 1526,
     "metadata": {},
     "output_type": "execute_result"
    }
   ],
   "source": [
    "titanic_data.dtypes"
   ]
  },
  {
   "cell_type": "code",
   "execution_count": 1527,
   "id": "e82888e3",
   "metadata": {},
   "outputs": [
    {
     "data": {
      "text/plain": [
       "object     5\n",
       "int64      4\n",
       "float64    2\n",
       "dtype: int64"
      ]
     },
     "execution_count": 1527,
     "metadata": {},
     "output_type": "execute_result"
    }
   ],
   "source": [
    "titanic_data.dtypes.value_counts()"
   ]
  },
  {
   "cell_type": "markdown",
   "id": "3126bdf4",
   "metadata": {},
   "source": [
    "The dataset has 4 columns with integers, 2 columns with floats and 5 columns with object values."
   ]
  },
  {
   "cell_type": "markdown",
   "id": "70433841",
   "metadata": {},
   "source": [
    "## Categorizing features\n",
    "\n",
    "Our features can be divided in 2 groups based on their datatypes:\n",
    "\n",
    "1. Categorical features represent characteristics, and numbers can be used as values in them (for exampled, for a categorical feature 'Survived' dead means a number 0 and alive means a number 1 but we cannot add those numbers or calculate their mean because they represent characteristics)"
   ]
  },
  {
   "cell_type": "markdown",
   "id": "ce113035",
   "metadata": {},
   "source": [
    "There are 5 features with categorical data:\n",
    "1. Survived\n",
    "2. Pclass\n",
    "3. Sex\n",
    "4. Cabin\n",
    "5. Embarked"
   ]
  },
  {
   "cell_type": "markdown",
   "id": "964d2076",
   "metadata": {},
   "source": [
    "A sub-class of categorical features are ordinal features. Ordinal features are the ones that can be ranked. In our case, ordinal feature is a 'Pclass' because 1st class is higher than 2nd, and 2nd is higher than 3rd."
   ]
  },
  {
   "cell_type": "markdown",
   "id": "babd220d",
   "metadata": {},
   "source": [
    "\n",
    "2. Quantitative (numeric) features. It's data which values are exact numbers."
   ]
  },
  {
   "cell_type": "markdown",
   "id": "8195e7f4",
   "metadata": {},
   "source": [
    "Quantitative data:\n",
    "1. Age\n",
    "2. Fare\n",
    "3. SibSp\n",
    "4. Parch"
   ]
  },
  {
   "cell_type": "markdown",
   "id": "ee3ce73e",
   "metadata": {},
   "source": [
    "Moreover, quantitive data can be divided in continuos and discrete. Continuos can take any value in a range while discrete takes certain values. For example, age in our dataset has years and months, so it can take any value in a range between 0 and highest value of age possible."
   ]
  },
  {
   "cell_type": "markdown",
   "id": "f5978cf3",
   "metadata": {},
   "source": [
    "Continuous values:\n",
    "1. Age\n",
    "2. Fare"
   ]
  },
  {
   "cell_type": "markdown",
   "id": "415e5eee",
   "metadata": {},
   "source": [
    "Discrete values:\n",
    "    \n",
    "1. SibSp\n",
    "2. Parch"
   ]
  },
  {
   "cell_type": "markdown",
   "id": "e78667ee",
   "metadata": {},
   "source": [
    "## Checking for duplicates"
   ]
  },
  {
   "cell_type": "code",
   "execution_count": 1528,
   "id": "967bccc3",
   "metadata": {},
   "outputs": [
    {
     "data": {
      "text/plain": [
       "False    100000\n",
       "dtype: int64"
      ]
     },
     "execution_count": 1528,
     "metadata": {},
     "output_type": "execute_result"
    }
   ],
   "source": [
    "titanic_data.duplicated().value_counts()"
   ]
  },
  {
   "cell_type": "markdown",
   "id": "8fac8948",
   "metadata": {},
   "source": [
    "There is no duplicated data in the dataset."
   ]
  },
  {
   "cell_type": "markdown",
   "id": "61edb8d9",
   "metadata": {},
   "source": [
    "## Dealing with syntax errors and range constrains"
   ]
  },
  {
   "cell_type": "markdown",
   "id": "244b4367",
   "metadata": {},
   "source": [
    "There are certain ranges and logical values which certain variables can have. For example, age cannot be negative, fare cannot be negative and etc.\n",
    "\n",
    "Let's check those ranges for each variable."
   ]
  },
  {
   "cell_type": "markdown",
   "id": "df9f22ed",
   "metadata": {},
   "source": [
    "### Pclass"
   ]
  },
  {
   "cell_type": "markdown",
   "id": "279b2add",
   "metadata": {},
   "source": [
    "According to the internet, on Titanic there were only 3 classes of cabins: 1st, 2nd and 3rd. Let's check that this is really like this in our dataset."
   ]
  },
  {
   "cell_type": "code",
   "execution_count": 1529,
   "id": "bc40d2ff",
   "metadata": {},
   "outputs": [
    {
     "data": {
      "text/plain": [
       "3    41006\n",
       "1    30315\n",
       "2    28679\n",
       "Name: Pclass, dtype: int64"
      ]
     },
     "execution_count": 1529,
     "metadata": {},
     "output_type": "execute_result"
    }
   ],
   "source": [
    "titanic_data.Pclass.value_counts()"
   ]
  },
  {
   "cell_type": "markdown",
   "id": "36f4bad0",
   "metadata": {},
   "source": [
    "True, the data is within the range of discrete values."
   ]
  },
  {
   "cell_type": "markdown",
   "id": "a4e72ee5",
   "metadata": {},
   "source": [
    "### Sex"
   ]
  },
  {
   "cell_type": "markdown",
   "id": "d7f77b40",
   "metadata": {},
   "source": [
    "Let's check that sex is within a range of discrete values 'male' or 'female'."
   ]
  },
  {
   "cell_type": "code",
   "execution_count": 1530,
   "id": "ed80bb2f",
   "metadata": {},
   "outputs": [
    {
     "data": {
      "text/plain": [
       "male      56114\n",
       "female    43886\n",
       "Name: Sex, dtype: int64"
      ]
     },
     "execution_count": 1530,
     "metadata": {},
     "output_type": "execute_result"
    }
   ],
   "source": [
    "titanic_data.Sex.value_counts()"
   ]
  },
  {
   "cell_type": "markdown",
   "id": "3794625c",
   "metadata": {},
   "source": [
    "True, the data is within the range of discrete values."
   ]
  },
  {
   "cell_type": "markdown",
   "id": "477a314d",
   "metadata": {},
   "source": [
    "### Age"
   ]
  },
  {
   "cell_type": "markdown",
   "id": "4bfa636d",
   "metadata": {},
   "source": [
    "Let's check that age is bigger than 0 and less than 122 (the highest age that a person lived was 122 years according to the internet)."
   ]
  },
  {
   "cell_type": "code",
   "execution_count": 1531,
   "id": "bdcf79a5",
   "metadata": {
    "scrolled": false
   },
   "outputs": [
    {
     "data": {
      "text/plain": [
       "Survived    0\n",
       "Pclass      0\n",
       "Name        0\n",
       "Sex         0\n",
       "Age         0\n",
       "SibSp       0\n",
       "Parch       0\n",
       "Ticket      0\n",
       "Fare        0\n",
       "Cabin       0\n",
       "Embarked    0\n",
       "dtype: int64"
      ]
     },
     "execution_count": 1531,
     "metadata": {},
     "output_type": "execute_result"
    }
   ],
   "source": [
    "titanic_data.loc[(titanic_data.Age <= 0) | (titanic_data.Age >= 122)].count()"
   ]
  },
  {
   "cell_type": "markdown",
   "id": "e03f4f0b",
   "metadata": {},
   "source": [
    "True, ages are bigger than 0 and lower than 122."
   ]
  },
  {
   "cell_type": "markdown",
   "id": "f02a1855",
   "metadata": {},
   "source": [
    "### SibSp"
   ]
  },
  {
   "cell_type": "markdown",
   "id": "1d048cf5",
   "metadata": {},
   "source": [
    "Let's check that SibSp is NOT a negative number since number of people cannot be negative."
   ]
  },
  {
   "cell_type": "code",
   "execution_count": 1532,
   "id": "8e8380ff",
   "metadata": {},
   "outputs": [
    {
     "data": {
      "text/plain": [
       "Survived    0\n",
       "Pclass      0\n",
       "Name        0\n",
       "Sex         0\n",
       "Age         0\n",
       "SibSp       0\n",
       "Parch       0\n",
       "Ticket      0\n",
       "Fare        0\n",
       "Cabin       0\n",
       "Embarked    0\n",
       "dtype: int64"
      ]
     },
     "execution_count": 1532,
     "metadata": {},
     "output_type": "execute_result"
    }
   ],
   "source": [
    "titanic_data.loc[(titanic_data.SibSp < 0)].count()"
   ]
  },
  {
   "cell_type": "markdown",
   "id": "96b7dfef",
   "metadata": {},
   "source": [
    "True, there are no negative values of SibSp."
   ]
  },
  {
   "cell_type": "markdown",
   "id": "c3353e82",
   "metadata": {},
   "source": [
    "### Parch"
   ]
  },
  {
   "cell_type": "markdown",
   "id": "648b77bc",
   "metadata": {},
   "source": [
    "Let's check that Parch is NOT a negative number since number of people cannot be negative."
   ]
  },
  {
   "cell_type": "code",
   "execution_count": 1533,
   "id": "c49990bc",
   "metadata": {},
   "outputs": [
    {
     "data": {
      "text/plain": [
       "Survived    0\n",
       "Pclass      0\n",
       "Name        0\n",
       "Sex         0\n",
       "Age         0\n",
       "SibSp       0\n",
       "Parch       0\n",
       "Ticket      0\n",
       "Fare        0\n",
       "Cabin       0\n",
       "Embarked    0\n",
       "dtype: int64"
      ]
     },
     "execution_count": 1533,
     "metadata": {},
     "output_type": "execute_result"
    }
   ],
   "source": [
    "titanic_data.loc[(titanic_data.Parch < 0)].count()"
   ]
  },
  {
   "cell_type": "markdown",
   "id": "f60cd29e",
   "metadata": {},
   "source": [
    "True, there are no negative values of Parch."
   ]
  },
  {
   "cell_type": "markdown",
   "id": "f0f603be",
   "metadata": {},
   "source": [
    "### Fare"
   ]
  },
  {
   "cell_type": "markdown",
   "id": "378c1335",
   "metadata": {},
   "source": [
    "Let's check that 'Fare' is NOT equal to negative number, 0 or too big number which would be impossible to pay."
   ]
  },
  {
   "cell_type": "code",
   "execution_count": 1534,
   "id": "f4dd38b9",
   "metadata": {},
   "outputs": [
    {
     "data": {
      "text/plain": [
       "(0.68, 744.66)"
      ]
     },
     "execution_count": 1534,
     "metadata": {},
     "output_type": "execute_result"
    }
   ],
   "source": [
    "titanic_data['Fare'].min(), titanic_data['Fare'].max()"
   ]
  },
  {
   "cell_type": "markdown",
   "id": "66c6bf2e",
   "metadata": {},
   "source": [
    "True, there are no negative, 0 or too big values."
   ]
  },
  {
   "cell_type": "markdown",
   "id": "9b6ed33e",
   "metadata": {},
   "source": [
    "### Embarked"
   ]
  },
  {
   "cell_type": "markdown",
   "id": "19041781",
   "metadata": {},
   "source": [
    "According to the internet, there were three ports (towns) from which people got on board of Titanic: 'S', 'Q', and 'C'. Let's check that this is really like this."
   ]
  },
  {
   "cell_type": "code",
   "execution_count": 1535,
   "id": "21da3048",
   "metadata": {},
   "outputs": [
    {
     "data": {
      "text/plain": [
       "S    72139\n",
       "C    22187\n",
       "Q     5424\n",
       "Name: Embarked, dtype: int64"
      ]
     },
     "execution_count": 1535,
     "metadata": {},
     "output_type": "execute_result"
    }
   ],
   "source": [
    "titanic_data.Embarked.value_counts()"
   ]
  },
  {
   "cell_type": "markdown",
   "id": "36a99ddf",
   "metadata": {},
   "source": [
    "True, there are 3 ports (towns) in our dataset."
   ]
  },
  {
   "cell_type": "markdown",
   "id": "ae77ccc1",
   "metadata": {},
   "source": [
    "## Dealing with missing data"
   ]
  },
  {
   "cell_type": "code",
   "execution_count": 1536,
   "id": "2caa84cc",
   "metadata": {
    "scrolled": false
   },
   "outputs": [
    {
     "name": "stdout",
     "output_type": "stream",
     "text": [
      "<class 'pandas.core.frame.DataFrame'>\n",
      "Int64Index: 100000 entries, 0 to 99999\n",
      "Data columns (total 11 columns):\n",
      " #   Column    Non-Null Count   Dtype  \n",
      "---  ------    --------------   -----  \n",
      " 0   Survived  100000 non-null  int64  \n",
      " 1   Pclass    100000 non-null  int64  \n",
      " 2   Name      100000 non-null  object \n",
      " 3   Sex       100000 non-null  object \n",
      " 4   Age       96708 non-null   float64\n",
      " 5   SibSp     100000 non-null  int64  \n",
      " 6   Parch     100000 non-null  int64  \n",
      " 7   Ticket    95377 non-null   object \n",
      " 8   Fare      99866 non-null   float64\n",
      " 9   Cabin     32134 non-null   object \n",
      " 10  Embarked  99750 non-null   object \n",
      "dtypes: float64(2), int64(4), object(5)\n",
      "memory usage: 9.2+ MB\n"
     ]
    }
   ],
   "source": [
    "titanic_data.info()"
   ]
  },
  {
   "cell_type": "code",
   "execution_count": 1537,
   "id": "97dac035",
   "metadata": {
    "scrolled": false
   },
   "outputs": [
    {
     "data": {
      "text/plain": [
       "Survived        0\n",
       "Pclass          0\n",
       "Name            0\n",
       "Sex             0\n",
       "Age          3292\n",
       "SibSp           0\n",
       "Parch           0\n",
       "Ticket       4623\n",
       "Fare          134\n",
       "Cabin       67866\n",
       "Embarked      250\n",
       "dtype: int64"
      ]
     },
     "execution_count": 1537,
     "metadata": {},
     "output_type": "execute_result"
    }
   ],
   "source": [
    "count_nan = len(titanic_data) - titanic_data.count()\n",
    "count_nan"
   ]
  },
  {
   "cell_type": "markdown",
   "id": "fc46032a",
   "metadata": {},
   "source": [
    "Columns 'Sirvived', 'Pclass', 'Sex','SibSp', 'Parch' have no missing values"
   ]
  },
  {
   "cell_type": "markdown",
   "id": "a6d9707a",
   "metadata": {},
   "source": [
    "Let's calculate percentage of missing data in columns that are left."
   ]
  },
  {
   "cell_type": "code",
   "execution_count": 1538,
   "id": "62372de6",
   "metadata": {
    "scrolled": true
   },
   "outputs": [
    {
     "name": "stdout",
     "output_type": "stream",
     "text": [
      "There are 5 columns that have missing values.\n"
     ]
    },
    {
     "data": {
      "text/html": [
       "<div>\n",
       "<style scoped>\n",
       "    .dataframe tbody tr th:only-of-type {\n",
       "        vertical-align: middle;\n",
       "    }\n",
       "\n",
       "    .dataframe tbody tr th {\n",
       "        vertical-align: top;\n",
       "    }\n",
       "\n",
       "    .dataframe thead th {\n",
       "        text-align: right;\n",
       "    }\n",
       "</style>\n",
       "<table border=\"1\" class=\"dataframe\">\n",
       "  <thead>\n",
       "    <tr style=\"text-align: right;\">\n",
       "      <th></th>\n",
       "      <th>Missing Values</th>\n",
       "      <th>% of Total Values</th>\n",
       "    </tr>\n",
       "  </thead>\n",
       "  <tbody>\n",
       "    <tr>\n",
       "      <th>Cabin</th>\n",
       "      <td>67866</td>\n",
       "      <td>67.9</td>\n",
       "    </tr>\n",
       "    <tr>\n",
       "      <th>Ticket</th>\n",
       "      <td>4623</td>\n",
       "      <td>4.6</td>\n",
       "    </tr>\n",
       "    <tr>\n",
       "      <th>Age</th>\n",
       "      <td>3292</td>\n",
       "      <td>3.3</td>\n",
       "    </tr>\n",
       "    <tr>\n",
       "      <th>Embarked</th>\n",
       "      <td>250</td>\n",
       "      <td>0.2</td>\n",
       "    </tr>\n",
       "    <tr>\n",
       "      <th>Fare</th>\n",
       "      <td>134</td>\n",
       "      <td>0.1</td>\n",
       "    </tr>\n",
       "  </tbody>\n",
       "</table>\n",
       "</div>"
      ],
      "text/plain": [
       "          Missing Values  % of Total Values\n",
       "Cabin              67866               67.9\n",
       "Ticket              4623                4.6\n",
       "Age                 3292                3.3\n",
       "Embarked             250                0.2\n",
       "Fare                 134                0.1"
      ]
     },
     "execution_count": 1538,
     "metadata": {},
     "output_type": "execute_result"
    }
   ],
   "source": [
    "def missing_values_table(df):\n",
    "    mis_val = df.isnull().sum()\n",
    "    mis_val_percent = 100 * df.isnull().sum() / len(df)\n",
    "    mis_val_table = pd.concat([mis_val, mis_val_percent], axis=1)\n",
    "    mis_val_table_ren_columns = mis_val_table.rename(\n",
    "    columns = {0 : 'Missing Values', 1 : '% of Total Values'})\n",
    "    mis_val_table_ren_columns = mis_val_table_ren_columns[\n",
    "        mis_val_table_ren_columns.iloc[:,1] != 0].sort_values(\n",
    "    '% of Total Values', ascending=False).round(1)\n",
    "    print (\"There are \" + str(mis_val_table_ren_columns.shape[0]) +\n",
    "            \" columns that have missing values.\")\n",
    "    return mis_val_table_ren_columns\n",
    "missing_values_table(titanic_data)"
   ]
  },
  {
   "cell_type": "markdown",
   "id": "d213aa02",
   "metadata": {},
   "source": [
    "### Missing 'Cabin' data"
   ]
  },
  {
   "cell_type": "markdown",
   "id": "ea746d24",
   "metadata": {},
   "source": [
    "'Cabin' column contains around 67.9% of missing data, so it would be hard to impute there data without changing it significantly. The first thought would be to delete the column completely but as had been stated above Cabin is connected to Deck and Deck might have an assosiation with survival.\n",
    "\n",
    "Let's extract the Deck letter."
   ]
  },
  {
   "cell_type": "code",
   "execution_count": 1539,
   "id": "7a439410",
   "metadata": {},
   "outputs": [
    {
     "data": {
      "text/html": [
       "<div>\n",
       "<style scoped>\n",
       "    .dataframe tbody tr th:only-of-type {\n",
       "        vertical-align: middle;\n",
       "    }\n",
       "\n",
       "    .dataframe tbody tr th {\n",
       "        vertical-align: top;\n",
       "    }\n",
       "\n",
       "    .dataframe thead th {\n",
       "        text-align: right;\n",
       "    }\n",
       "</style>\n",
       "<table border=\"1\" class=\"dataframe\">\n",
       "  <thead>\n",
       "    <tr style=\"text-align: right;\">\n",
       "      <th></th>\n",
       "      <th>Survived</th>\n",
       "      <th>Pclass</th>\n",
       "      <th>Name</th>\n",
       "      <th>Sex</th>\n",
       "      <th>Age</th>\n",
       "      <th>SibSp</th>\n",
       "      <th>Parch</th>\n",
       "      <th>Ticket</th>\n",
       "      <th>Fare</th>\n",
       "      <th>Cabin</th>\n",
       "      <th>Embarked</th>\n",
       "      <th>Deck</th>\n",
       "    </tr>\n",
       "    <tr>\n",
       "      <th>PassengerId</th>\n",
       "      <th></th>\n",
       "      <th></th>\n",
       "      <th></th>\n",
       "      <th></th>\n",
       "      <th></th>\n",
       "      <th></th>\n",
       "      <th></th>\n",
       "      <th></th>\n",
       "      <th></th>\n",
       "      <th></th>\n",
       "      <th></th>\n",
       "      <th></th>\n",
       "    </tr>\n",
       "  </thead>\n",
       "  <tbody>\n",
       "    <tr>\n",
       "      <th>0</th>\n",
       "      <td>1</td>\n",
       "      <td>1</td>\n",
       "      <td>Oconnor, Frankie</td>\n",
       "      <td>male</td>\n",
       "      <td>NaN</td>\n",
       "      <td>2</td>\n",
       "      <td>0</td>\n",
       "      <td>209245</td>\n",
       "      <td>27.14</td>\n",
       "      <td>C12239</td>\n",
       "      <td>S</td>\n",
       "      <td>C</td>\n",
       "    </tr>\n",
       "    <tr>\n",
       "      <th>1</th>\n",
       "      <td>0</td>\n",
       "      <td>3</td>\n",
       "      <td>Bryan, Drew</td>\n",
       "      <td>male</td>\n",
       "      <td>NaN</td>\n",
       "      <td>0</td>\n",
       "      <td>0</td>\n",
       "      <td>27323</td>\n",
       "      <td>13.35</td>\n",
       "      <td>NaN</td>\n",
       "      <td>S</td>\n",
       "      <td>NaN</td>\n",
       "    </tr>\n",
       "    <tr>\n",
       "      <th>2</th>\n",
       "      <td>0</td>\n",
       "      <td>3</td>\n",
       "      <td>Owens, Kenneth</td>\n",
       "      <td>male</td>\n",
       "      <td>0.33</td>\n",
       "      <td>1</td>\n",
       "      <td>2</td>\n",
       "      <td>CA 457703</td>\n",
       "      <td>71.29</td>\n",
       "      <td>NaN</td>\n",
       "      <td>S</td>\n",
       "      <td>NaN</td>\n",
       "    </tr>\n",
       "    <tr>\n",
       "      <th>3</th>\n",
       "      <td>0</td>\n",
       "      <td>3</td>\n",
       "      <td>Kramer, James</td>\n",
       "      <td>male</td>\n",
       "      <td>19.00</td>\n",
       "      <td>0</td>\n",
       "      <td>0</td>\n",
       "      <td>A. 10866</td>\n",
       "      <td>13.04</td>\n",
       "      <td>NaN</td>\n",
       "      <td>S</td>\n",
       "      <td>NaN</td>\n",
       "    </tr>\n",
       "    <tr>\n",
       "      <th>4</th>\n",
       "      <td>1</td>\n",
       "      <td>3</td>\n",
       "      <td>Bond, Michael</td>\n",
       "      <td>male</td>\n",
       "      <td>25.00</td>\n",
       "      <td>0</td>\n",
       "      <td>0</td>\n",
       "      <td>427635</td>\n",
       "      <td>7.76</td>\n",
       "      <td>NaN</td>\n",
       "      <td>S</td>\n",
       "      <td>NaN</td>\n",
       "    </tr>\n",
       "    <tr>\n",
       "      <th>...</th>\n",
       "      <td>...</td>\n",
       "      <td>...</td>\n",
       "      <td>...</td>\n",
       "      <td>...</td>\n",
       "      <td>...</td>\n",
       "      <td>...</td>\n",
       "      <td>...</td>\n",
       "      <td>...</td>\n",
       "      <td>...</td>\n",
       "      <td>...</td>\n",
       "      <td>...</td>\n",
       "      <td>...</td>\n",
       "    </tr>\n",
       "    <tr>\n",
       "      <th>99995</th>\n",
       "      <td>1</td>\n",
       "      <td>2</td>\n",
       "      <td>Bell, Adele</td>\n",
       "      <td>female</td>\n",
       "      <td>62.00</td>\n",
       "      <td>0</td>\n",
       "      <td>0</td>\n",
       "      <td>PC 15008</td>\n",
       "      <td>14.86</td>\n",
       "      <td>D17243</td>\n",
       "      <td>C</td>\n",
       "      <td>D</td>\n",
       "    </tr>\n",
       "    <tr>\n",
       "      <th>99996</th>\n",
       "      <td>0</td>\n",
       "      <td>2</td>\n",
       "      <td>Brown, Herman</td>\n",
       "      <td>male</td>\n",
       "      <td>66.00</td>\n",
       "      <td>0</td>\n",
       "      <td>0</td>\n",
       "      <td>13273</td>\n",
       "      <td>11.15</td>\n",
       "      <td>NaN</td>\n",
       "      <td>S</td>\n",
       "      <td>NaN</td>\n",
       "    </tr>\n",
       "    <tr>\n",
       "      <th>99997</th>\n",
       "      <td>0</td>\n",
       "      <td>3</td>\n",
       "      <td>Childress, Charles</td>\n",
       "      <td>male</td>\n",
       "      <td>37.00</td>\n",
       "      <td>0</td>\n",
       "      <td>0</td>\n",
       "      <td>NaN</td>\n",
       "      <td>9.95</td>\n",
       "      <td>NaN</td>\n",
       "      <td>S</td>\n",
       "      <td>NaN</td>\n",
       "    </tr>\n",
       "    <tr>\n",
       "      <th>99998</th>\n",
       "      <td>0</td>\n",
       "      <td>3</td>\n",
       "      <td>Caughlin, Thomas</td>\n",
       "      <td>male</td>\n",
       "      <td>51.00</td>\n",
       "      <td>0</td>\n",
       "      <td>1</td>\n",
       "      <td>458654</td>\n",
       "      <td>30.92</td>\n",
       "      <td>NaN</td>\n",
       "      <td>S</td>\n",
       "      <td>NaN</td>\n",
       "    </tr>\n",
       "    <tr>\n",
       "      <th>99999</th>\n",
       "      <td>0</td>\n",
       "      <td>3</td>\n",
       "      <td>Enciso, Tyler</td>\n",
       "      <td>male</td>\n",
       "      <td>55.00</td>\n",
       "      <td>0</td>\n",
       "      <td>0</td>\n",
       "      <td>458074</td>\n",
       "      <td>13.96</td>\n",
       "      <td>NaN</td>\n",
       "      <td>S</td>\n",
       "      <td>NaN</td>\n",
       "    </tr>\n",
       "  </tbody>\n",
       "</table>\n",
       "<p>100000 rows × 12 columns</p>\n",
       "</div>"
      ],
      "text/plain": [
       "             Survived  Pclass                Name     Sex    Age  SibSp  \\\n",
       "PassengerId                                                               \n",
       "0                   1       1    Oconnor, Frankie    male    NaN      2   \n",
       "1                   0       3         Bryan, Drew    male    NaN      0   \n",
       "2                   0       3      Owens, Kenneth    male   0.33      1   \n",
       "3                   0       3       Kramer, James    male  19.00      0   \n",
       "4                   1       3       Bond, Michael    male  25.00      0   \n",
       "...               ...     ...                 ...     ...    ...    ...   \n",
       "99995               1       2         Bell, Adele  female  62.00      0   \n",
       "99996               0       2       Brown, Herman    male  66.00      0   \n",
       "99997               0       3  Childress, Charles    male  37.00      0   \n",
       "99998               0       3    Caughlin, Thomas    male  51.00      0   \n",
       "99999               0       3       Enciso, Tyler    male  55.00      0   \n",
       "\n",
       "             Parch     Ticket   Fare   Cabin Embarked Deck  \n",
       "PassengerId                                                 \n",
       "0                0     209245  27.14  C12239        S    C  \n",
       "1                0      27323  13.35     NaN        S  NaN  \n",
       "2                2  CA 457703  71.29     NaN        S  NaN  \n",
       "3                0   A. 10866  13.04     NaN        S  NaN  \n",
       "4                0     427635   7.76     NaN        S  NaN  \n",
       "...            ...        ...    ...     ...      ...  ...  \n",
       "99995            0   PC 15008  14.86  D17243        C    D  \n",
       "99996            0      13273  11.15     NaN        S  NaN  \n",
       "99997            0        NaN   9.95     NaN        S  NaN  \n",
       "99998            1     458654  30.92     NaN        S  NaN  \n",
       "99999            0     458074  13.96     NaN        S  NaN  \n",
       "\n",
       "[100000 rows x 12 columns]"
      ]
     },
     "execution_count": 1539,
     "metadata": {},
     "output_type": "execute_result"
    }
   ],
   "source": [
    "titanic_data[\"Deck\"] = titanic_data[\"Cabin\"].str.slice(0,1)\n",
    "titanic_data"
   ]
  },
  {
   "cell_type": "markdown",
   "id": "303c5120",
   "metadata": {},
   "source": [
    "Let's replace NaN with 'Not stated' for 'Cabin' and for 'Deck' with 'N'."
   ]
  },
  {
   "cell_type": "code",
   "execution_count": 1540,
   "id": "f38e9d0b",
   "metadata": {},
   "outputs": [
    {
     "name": "stdout",
     "output_type": "stream",
     "text": [
      "<class 'pandas.core.frame.DataFrame'>\n",
      "Int64Index: 100000 entries, 0 to 99999\n",
      "Data columns (total 12 columns):\n",
      " #   Column    Non-Null Count   Dtype  \n",
      "---  ------    --------------   -----  \n",
      " 0   Survived  100000 non-null  int64  \n",
      " 1   Pclass    100000 non-null  int64  \n",
      " 2   Name      100000 non-null  object \n",
      " 3   Sex       100000 non-null  object \n",
      " 4   Age       96708 non-null   float64\n",
      " 5   SibSp     100000 non-null  int64  \n",
      " 6   Parch     100000 non-null  int64  \n",
      " 7   Ticket    95377 non-null   object \n",
      " 8   Fare      99866 non-null   float64\n",
      " 9   Cabin     100000 non-null  object \n",
      " 10  Embarked  99750 non-null   object \n",
      " 11  Deck      100000 non-null  object \n",
      "dtypes: float64(2), int64(4), object(6)\n",
      "memory usage: 9.9+ MB\n"
     ]
    }
   ],
   "source": [
    "titanic_data.Cabin = titanic_data.Cabin.fillna('Not stated')\n",
    "titanic_data.Deck = titanic_data.Deck.fillna('N')\n",
    "titanic_data.info()"
   ]
  },
  {
   "cell_type": "markdown",
   "id": "46615cfa",
   "metadata": {},
   "source": [
    "### Missing 'Ticket' data"
   ]
  },
  {
   "cell_type": "markdown",
   "id": "3bcb64fe",
   "metadata": {},
   "source": [
    "According to articles about the tickets at the internet, people could have the same ticket number if they shared the same cabin. Moreover, tickets can be divided in different groups based on their pattern. For example, tickets that start with 'CA' were sold by the same seller, tickets that start with 'A' were sold by the same seller and etc.\n",
    "\n",
    "Let's check it in our dataset by counting unique values."
   ]
  },
  {
   "cell_type": "code",
   "execution_count": 1541,
   "id": "544bcb15",
   "metadata": {
    "scrolled": true
   },
   "outputs": [
    {
     "data": {
      "text/plain": [
       "A/5             602\n",
       "C.A.            177\n",
       "SC/PARIS        145\n",
       "SOTON/O.Q.       80\n",
       "SC               57\n",
       "               ... \n",
       "421812            1\n",
       "PC 420601         1\n",
       "PC 26800          1\n",
       "STON/O 23755      1\n",
       "458074            1\n",
       "Name: Ticket, Length: 75331, dtype: int64"
      ]
     },
     "execution_count": 1541,
     "metadata": {},
     "output_type": "execute_result"
    }
   ],
   "source": [
    "titanic_data.Ticket.value_counts()"
   ]
  },
  {
   "cell_type": "markdown",
   "id": "7330b5f7",
   "metadata": {},
   "source": [
    "Logically, 602 people or 177 people couldn't share the same cabin. Moreover, information about sellers cannot influence other features but Fare. Consequently, ticket data is not so important and can be deleted."
   ]
  },
  {
   "cell_type": "code",
   "execution_count": 1542,
   "id": "08063b35",
   "metadata": {},
   "outputs": [
    {
     "data": {
      "text/html": [
       "<div>\n",
       "<style scoped>\n",
       "    .dataframe tbody tr th:only-of-type {\n",
       "        vertical-align: middle;\n",
       "    }\n",
       "\n",
       "    .dataframe tbody tr th {\n",
       "        vertical-align: top;\n",
       "    }\n",
       "\n",
       "    .dataframe thead th {\n",
       "        text-align: right;\n",
       "    }\n",
       "</style>\n",
       "<table border=\"1\" class=\"dataframe\">\n",
       "  <thead>\n",
       "    <tr style=\"text-align: right;\">\n",
       "      <th></th>\n",
       "      <th>Survived</th>\n",
       "      <th>Pclass</th>\n",
       "      <th>Name</th>\n",
       "      <th>Sex</th>\n",
       "      <th>Age</th>\n",
       "      <th>SibSp</th>\n",
       "      <th>Parch</th>\n",
       "      <th>Fare</th>\n",
       "      <th>Cabin</th>\n",
       "      <th>Embarked</th>\n",
       "      <th>Deck</th>\n",
       "    </tr>\n",
       "    <tr>\n",
       "      <th>PassengerId</th>\n",
       "      <th></th>\n",
       "      <th></th>\n",
       "      <th></th>\n",
       "      <th></th>\n",
       "      <th></th>\n",
       "      <th></th>\n",
       "      <th></th>\n",
       "      <th></th>\n",
       "      <th></th>\n",
       "      <th></th>\n",
       "      <th></th>\n",
       "    </tr>\n",
       "  </thead>\n",
       "  <tbody>\n",
       "    <tr>\n",
       "      <th>0</th>\n",
       "      <td>1</td>\n",
       "      <td>1</td>\n",
       "      <td>Oconnor, Frankie</td>\n",
       "      <td>male</td>\n",
       "      <td>NaN</td>\n",
       "      <td>2</td>\n",
       "      <td>0</td>\n",
       "      <td>27.14</td>\n",
       "      <td>C12239</td>\n",
       "      <td>S</td>\n",
       "      <td>C</td>\n",
       "    </tr>\n",
       "    <tr>\n",
       "      <th>1</th>\n",
       "      <td>0</td>\n",
       "      <td>3</td>\n",
       "      <td>Bryan, Drew</td>\n",
       "      <td>male</td>\n",
       "      <td>NaN</td>\n",
       "      <td>0</td>\n",
       "      <td>0</td>\n",
       "      <td>13.35</td>\n",
       "      <td>Not stated</td>\n",
       "      <td>S</td>\n",
       "      <td>N</td>\n",
       "    </tr>\n",
       "    <tr>\n",
       "      <th>2</th>\n",
       "      <td>0</td>\n",
       "      <td>3</td>\n",
       "      <td>Owens, Kenneth</td>\n",
       "      <td>male</td>\n",
       "      <td>0.33</td>\n",
       "      <td>1</td>\n",
       "      <td>2</td>\n",
       "      <td>71.29</td>\n",
       "      <td>Not stated</td>\n",
       "      <td>S</td>\n",
       "      <td>N</td>\n",
       "    </tr>\n",
       "    <tr>\n",
       "      <th>3</th>\n",
       "      <td>0</td>\n",
       "      <td>3</td>\n",
       "      <td>Kramer, James</td>\n",
       "      <td>male</td>\n",
       "      <td>19.00</td>\n",
       "      <td>0</td>\n",
       "      <td>0</td>\n",
       "      <td>13.04</td>\n",
       "      <td>Not stated</td>\n",
       "      <td>S</td>\n",
       "      <td>N</td>\n",
       "    </tr>\n",
       "    <tr>\n",
       "      <th>4</th>\n",
       "      <td>1</td>\n",
       "      <td>3</td>\n",
       "      <td>Bond, Michael</td>\n",
       "      <td>male</td>\n",
       "      <td>25.00</td>\n",
       "      <td>0</td>\n",
       "      <td>0</td>\n",
       "      <td>7.76</td>\n",
       "      <td>Not stated</td>\n",
       "      <td>S</td>\n",
       "      <td>N</td>\n",
       "    </tr>\n",
       "    <tr>\n",
       "      <th>...</th>\n",
       "      <td>...</td>\n",
       "      <td>...</td>\n",
       "      <td>...</td>\n",
       "      <td>...</td>\n",
       "      <td>...</td>\n",
       "      <td>...</td>\n",
       "      <td>...</td>\n",
       "      <td>...</td>\n",
       "      <td>...</td>\n",
       "      <td>...</td>\n",
       "      <td>...</td>\n",
       "    </tr>\n",
       "    <tr>\n",
       "      <th>99995</th>\n",
       "      <td>1</td>\n",
       "      <td>2</td>\n",
       "      <td>Bell, Adele</td>\n",
       "      <td>female</td>\n",
       "      <td>62.00</td>\n",
       "      <td>0</td>\n",
       "      <td>0</td>\n",
       "      <td>14.86</td>\n",
       "      <td>D17243</td>\n",
       "      <td>C</td>\n",
       "      <td>D</td>\n",
       "    </tr>\n",
       "    <tr>\n",
       "      <th>99996</th>\n",
       "      <td>0</td>\n",
       "      <td>2</td>\n",
       "      <td>Brown, Herman</td>\n",
       "      <td>male</td>\n",
       "      <td>66.00</td>\n",
       "      <td>0</td>\n",
       "      <td>0</td>\n",
       "      <td>11.15</td>\n",
       "      <td>Not stated</td>\n",
       "      <td>S</td>\n",
       "      <td>N</td>\n",
       "    </tr>\n",
       "    <tr>\n",
       "      <th>99997</th>\n",
       "      <td>0</td>\n",
       "      <td>3</td>\n",
       "      <td>Childress, Charles</td>\n",
       "      <td>male</td>\n",
       "      <td>37.00</td>\n",
       "      <td>0</td>\n",
       "      <td>0</td>\n",
       "      <td>9.95</td>\n",
       "      <td>Not stated</td>\n",
       "      <td>S</td>\n",
       "      <td>N</td>\n",
       "    </tr>\n",
       "    <tr>\n",
       "      <th>99998</th>\n",
       "      <td>0</td>\n",
       "      <td>3</td>\n",
       "      <td>Caughlin, Thomas</td>\n",
       "      <td>male</td>\n",
       "      <td>51.00</td>\n",
       "      <td>0</td>\n",
       "      <td>1</td>\n",
       "      <td>30.92</td>\n",
       "      <td>Not stated</td>\n",
       "      <td>S</td>\n",
       "      <td>N</td>\n",
       "    </tr>\n",
       "    <tr>\n",
       "      <th>99999</th>\n",
       "      <td>0</td>\n",
       "      <td>3</td>\n",
       "      <td>Enciso, Tyler</td>\n",
       "      <td>male</td>\n",
       "      <td>55.00</td>\n",
       "      <td>0</td>\n",
       "      <td>0</td>\n",
       "      <td>13.96</td>\n",
       "      <td>Not stated</td>\n",
       "      <td>S</td>\n",
       "      <td>N</td>\n",
       "    </tr>\n",
       "  </tbody>\n",
       "</table>\n",
       "<p>100000 rows × 11 columns</p>\n",
       "</div>"
      ],
      "text/plain": [
       "             Survived  Pclass                Name     Sex    Age  SibSp  \\\n",
       "PassengerId                                                               \n",
       "0                   1       1    Oconnor, Frankie    male    NaN      2   \n",
       "1                   0       3         Bryan, Drew    male    NaN      0   \n",
       "2                   0       3      Owens, Kenneth    male   0.33      1   \n",
       "3                   0       3       Kramer, James    male  19.00      0   \n",
       "4                   1       3       Bond, Michael    male  25.00      0   \n",
       "...               ...     ...                 ...     ...    ...    ...   \n",
       "99995               1       2         Bell, Adele  female  62.00      0   \n",
       "99996               0       2       Brown, Herman    male  66.00      0   \n",
       "99997               0       3  Childress, Charles    male  37.00      0   \n",
       "99998               0       3    Caughlin, Thomas    male  51.00      0   \n",
       "99999               0       3       Enciso, Tyler    male  55.00      0   \n",
       "\n",
       "             Parch   Fare       Cabin Embarked Deck  \n",
       "PassengerId                                          \n",
       "0                0  27.14      C12239        S    C  \n",
       "1                0  13.35  Not stated        S    N  \n",
       "2                2  71.29  Not stated        S    N  \n",
       "3                0  13.04  Not stated        S    N  \n",
       "4                0   7.76  Not stated        S    N  \n",
       "...            ...    ...         ...      ...  ...  \n",
       "99995            0  14.86      D17243        C    D  \n",
       "99996            0  11.15  Not stated        S    N  \n",
       "99997            0   9.95  Not stated        S    N  \n",
       "99998            1  30.92  Not stated        S    N  \n",
       "99999            0  13.96  Not stated        S    N  \n",
       "\n",
       "[100000 rows x 11 columns]"
      ]
     },
     "execution_count": 1542,
     "metadata": {},
     "output_type": "execute_result"
    }
   ],
   "source": [
    "titanic_data = titanic_data.drop('Ticket', axis=1)\n",
    "titanic_data"
   ]
  },
  {
   "cell_type": "markdown",
   "id": "7934bf08",
   "metadata": {},
   "source": [
    "### Missing 'Embarked' data"
   ]
  },
  {
   "cell_type": "markdown",
   "id": "c6233770",
   "metadata": {},
   "source": [
    "Embarked is a categorical data and has a loss of only 0.2% of data, so let's fill missing data with mode which is 'S'."
   ]
  },
  {
   "cell_type": "code",
   "execution_count": 1543,
   "id": "9b2711ce",
   "metadata": {
    "scrolled": true
   },
   "outputs": [
    {
     "name": "stdout",
     "output_type": "stream",
     "text": [
      "<class 'pandas.core.frame.DataFrame'>\n",
      "Int64Index: 100000 entries, 0 to 99999\n",
      "Data columns (total 11 columns):\n",
      " #   Column    Non-Null Count   Dtype  \n",
      "---  ------    --------------   -----  \n",
      " 0   Survived  100000 non-null  int64  \n",
      " 1   Pclass    100000 non-null  int64  \n",
      " 2   Name      100000 non-null  object \n",
      " 3   Sex       100000 non-null  object \n",
      " 4   Age       96708 non-null   float64\n",
      " 5   SibSp     100000 non-null  int64  \n",
      " 6   Parch     100000 non-null  int64  \n",
      " 7   Fare      99866 non-null   float64\n",
      " 8   Cabin     100000 non-null  object \n",
      " 9   Embarked  100000 non-null  object \n",
      " 10  Deck      100000 non-null  object \n",
      "dtypes: float64(2), int64(4), object(5)\n",
      "memory usage: 9.2+ MB\n"
     ]
    }
   ],
   "source": [
    "embarked_mode = titanic_data.Embarked.mode()[0]\n",
    "titanic_data['Embarked'] = titanic_data['Embarked'].fillna(embarked_mode)\n",
    "titanic_data.info()"
   ]
  },
  {
   "cell_type": "markdown",
   "id": "dc38057e",
   "metadata": {},
   "source": [
    "### Missing 'Fare' data"
   ]
  },
  {
   "cell_type": "markdown",
   "id": "99030b3b",
   "metadata": {},
   "source": [
    "Instead of just filling 'Fare' with mean, let's find correlation between fare mean and other features. Logically, the correlation that might exist is between 'Pclass' and 'Fare' mean because the higher the class, the higher should be price."
   ]
  },
  {
   "cell_type": "code",
   "execution_count": 1544,
   "id": "30ebcd8b",
   "metadata": {},
   "outputs": [
    {
     "data": {
      "text/plain": [
       "(92.65311345995046, 25.756003422146332, 20.618226058504753)"
      ]
     },
     "execution_count": 1544,
     "metadata": {},
     "output_type": "execute_result"
    }
   ],
   "source": [
    "first_class_mean = titanic_data.loc[titanic_data.Pclass == 1].Fare.mean()\n",
    "second_class_mean = titanic_data.loc[titanic_data.Pclass == 2].Fare.mean()\n",
    "third_class_mean = titanic_data.loc[titanic_data.Pclass == 3].Fare.mean()\n",
    "first_class_mean, second_class_mean, third_class_mean"
   ]
  },
  {
   "cell_type": "markdown",
   "id": "3a59d5ac",
   "metadata": {},
   "source": [
    "True, the higher mean price, the higher cabin class."
   ]
  },
  {
   "cell_type": "markdown",
   "id": "a04b3a65",
   "metadata": {},
   "source": [
    "Let's fill missing data in Fares for 1st class with mean for 1st class, for 2nd class with mean for 2nd class and etc. In this case, numbers that we fill will be more accurate because prices for classes of Cabins differ."
   ]
  },
  {
   "cell_type": "code",
   "execution_count": 1545,
   "id": "412a8280",
   "metadata": {
    "scrolled": false
   },
   "outputs": [
    {
     "name": "stdout",
     "output_type": "stream",
     "text": [
      "<class 'pandas.core.frame.DataFrame'>\n",
      "Int64Index: 100000 entries, 0 to 99999\n",
      "Data columns (total 11 columns):\n",
      " #   Column    Non-Null Count   Dtype  \n",
      "---  ------    --------------   -----  \n",
      " 0   Survived  100000 non-null  int64  \n",
      " 1   Pclass    100000 non-null  int64  \n",
      " 2   Name      100000 non-null  object \n",
      " 3   Sex       100000 non-null  object \n",
      " 4   Age       96708 non-null   float64\n",
      " 5   SibSp     100000 non-null  int64  \n",
      " 6   Parch     100000 non-null  int64  \n",
      " 7   Fare      100000 non-null  float64\n",
      " 8   Cabin     100000 non-null  object \n",
      " 9   Embarked  100000 non-null  object \n",
      " 10  Deck      100000 non-null  object \n",
      "dtypes: float64(2), int64(4), object(5)\n",
      "memory usage: 9.2+ MB\n"
     ]
    }
   ],
   "source": [
    "titanic_data['Fare'] = titanic_data.groupby('Pclass')['Fare'].transform(lambda group: group.fillna(group.mean()))\n",
    "titanic_data.info()"
   ]
  },
  {
   "cell_type": "markdown",
   "id": "8d93e03e",
   "metadata": {},
   "source": [
    "### Missing 'Age' data"
   ]
  },
  {
   "cell_type": "markdown",
   "id": "31971edd",
   "metadata": {},
   "source": [
    "Instead of just filling data with median or mean, let's make more accurate filling of missing data. For that, let's try to find assosiations between age and other features."
   ]
  },
  {
   "cell_type": "markdown",
   "id": "c0231ea2",
   "metadata": {},
   "source": [
    "Let's try to find a correlation between 'Age' and 'Pclass'."
   ]
  },
  {
   "cell_type": "code",
   "execution_count": 1546,
   "id": "34495390",
   "metadata": {
    "scrolled": true
   },
   "outputs": [
    {
     "data": {
      "image/png": "[encoded data removed]",
      "text/plain": [
       "<Figure size 720x576 with 1 Axes>"
      ]
     },
     "metadata": {
      "needs_background": "light"
     },
     "output_type": "display_data"
    }
   ],
   "source": [
    "plt.figure(figsize=(10,8))\n",
    "sns.boxplot(x=\"Pclass\", y=\"Age\", data=titanic_data, palette=\"vlag\")\n",
    "plt.title('Correlation between Age and Pclass', fontsize=15);"
   ]
  },
  {
   "cell_type": "markdown",
   "id": "897aef32",
   "metadata": {},
   "source": [
    "As seen above, the higher the Pclass the higher median age of a person. May be that is because older people could have earned more money during their life and riched higher job titles."
   ]
  },
  {
   "cell_type": "markdown",
   "id": "d645a5d8",
   "metadata": {},
   "source": [
    "Let's try to find a correlation between 'Age' and 'Sex'."
   ]
  },
  {
   "cell_type": "code",
   "execution_count": 1547,
   "id": "c4bb0b82",
   "metadata": {},
   "outputs": [
    {
     "data": {
      "image/png": "[encoded data removed]",
      "text/plain": [
       "<Figure size 720x576 with 1 Axes>"
      ]
     },
     "metadata": {
      "needs_background": "light"
     },
     "output_type": "display_data"
    }
   ],
   "source": [
    "plt.figure(figsize=(10,8))\n",
    "sns.boxplot(x=\"Sex\", y=\"Age\", data=titanic_data, palette=\"vlag\")\n",
    "plt.title('Correlation between Age and Sex', fontsize=15);"
   ]
  },
  {
   "cell_type": "markdown",
   "id": "ea53c87e",
   "metadata": {},
   "source": [
    "As seen above, females had a bigger median."
   ]
  },
  {
   "cell_type": "markdown",
   "id": "496d90db",
   "metadata": {},
   "source": [
    "Consequently, let's fill missing Age based on Median Age in a certain Pclass and Sex."
   ]
  },
  {
   "cell_type": "code",
   "execution_count": 1548,
   "id": "3365cd70",
   "metadata": {},
   "outputs": [
    {
     "name": "stdout",
     "output_type": "stream",
     "text": [
      "<class 'pandas.core.frame.DataFrame'>\n",
      "Int64Index: 100000 entries, 0 to 99999\n",
      "Data columns (total 11 columns):\n",
      " #   Column    Non-Null Count   Dtype  \n",
      "---  ------    --------------   -----  \n",
      " 0   Survived  100000 non-null  int64  \n",
      " 1   Pclass    100000 non-null  int64  \n",
      " 2   Name      100000 non-null  object \n",
      " 3   Sex       100000 non-null  object \n",
      " 4   Age       100000 non-null  float64\n",
      " 5   SibSp     100000 non-null  int64  \n",
      " 6   Parch     100000 non-null  int64  \n",
      " 7   Fare      100000 non-null  float64\n",
      " 8   Cabin     100000 non-null  object \n",
      " 9   Embarked  100000 non-null  object \n",
      " 10  Deck      100000 non-null  object \n",
      "dtypes: float64(2), int64(4), object(5)\n",
      "memory usage: 9.2+ MB\n"
     ]
    }
   ],
   "source": [
    "titanic_data['Age'] = titanic_data.groupby(['Pclass', 'Sex'])['Age'].transform(lambda group: group.fillna(group.median()))\n",
    "titanic_data.info()"
   ]
  },
  {
   "cell_type": "markdown",
   "id": "2a095c46",
   "metadata": {},
   "source": [
    "## Ommiting unnessesary data (Name)"
   ]
  },
  {
   "cell_type": "markdown",
   "id": "b2021433",
   "metadata": {},
   "source": [
    "As seen below, names contain only First Name and Surname without any title or occupation, so there may not be any correlation between name and other features."
   ]
  },
  {
   "cell_type": "code",
   "execution_count": 1549,
   "id": "639081de",
   "metadata": {
    "scrolled": true
   },
   "outputs": [
    {
     "data": {
      "text/plain": [
       "Johnson, John        31\n",
       "Smith, James         24\n",
       "Smith, John          24\n",
       "Johnson, William     22\n",
       "Smith, Michael       20\n",
       "Smith, William       19\n",
       "Jones, James         19\n",
       "Smith, Robert        18\n",
       "Johnson, James       18\n",
       "Smith, Mary          17\n",
       "Johnson, Robert      16\n",
       "Williams, Michael    15\n",
       "Brown, John          15\n",
       "Jones, William       15\n",
       "Davis, Robert        15\n",
       "Jones, Robert        15\n",
       "Williams, Robert     14\n",
       "Williams, John       14\n",
       "Davis, John          14\n",
       "Moore, David         14\n",
       "Name: Name, dtype: int64"
      ]
     },
     "execution_count": 1549,
     "metadata": {},
     "output_type": "execute_result"
    }
   ],
   "source": [
    "titanic_data.Name.value_counts().head(20)"
   ]
  },
  {
   "cell_type": "markdown",
   "id": "84c93ba7",
   "metadata": {},
   "source": [
    "So let's delete it."
   ]
  },
  {
   "cell_type": "code",
   "execution_count": 1550,
   "id": "5b2bf35f",
   "metadata": {},
   "outputs": [
    {
     "data": {
      "text/html": [
       "<div>\n",
       "<style scoped>\n",
       "    .dataframe tbody tr th:only-of-type {\n",
       "        vertical-align: middle;\n",
       "    }\n",
       "\n",
       "    .dataframe tbody tr th {\n",
       "        vertical-align: top;\n",
       "    }\n",
       "\n",
       "    .dataframe thead th {\n",
       "        text-align: right;\n",
       "    }\n",
       "</style>\n",
       "<table border=\"1\" class=\"dataframe\">\n",
       "  <thead>\n",
       "    <tr style=\"text-align: right;\">\n",
       "      <th></th>\n",
       "      <th>Survived</th>\n",
       "      <th>Pclass</th>\n",
       "      <th>Sex</th>\n",
       "      <th>Age</th>\n",
       "      <th>SibSp</th>\n",
       "      <th>Parch</th>\n",
       "      <th>Fare</th>\n",
       "      <th>Cabin</th>\n",
       "      <th>Embarked</th>\n",
       "      <th>Deck</th>\n",
       "    </tr>\n",
       "    <tr>\n",
       "      <th>PassengerId</th>\n",
       "      <th></th>\n",
       "      <th></th>\n",
       "      <th></th>\n",
       "      <th></th>\n",
       "      <th></th>\n",
       "      <th></th>\n",
       "      <th></th>\n",
       "      <th></th>\n",
       "      <th></th>\n",
       "      <th></th>\n",
       "    </tr>\n",
       "  </thead>\n",
       "  <tbody>\n",
       "    <tr>\n",
       "      <th>0</th>\n",
       "      <td>1</td>\n",
       "      <td>1</td>\n",
       "      <td>male</td>\n",
       "      <td>44.00</td>\n",
       "      <td>2</td>\n",
       "      <td>0</td>\n",
       "      <td>27.14</td>\n",
       "      <td>C12239</td>\n",
       "      <td>S</td>\n",
       "      <td>C</td>\n",
       "    </tr>\n",
       "    <tr>\n",
       "      <th>1</th>\n",
       "      <td>0</td>\n",
       "      <td>3</td>\n",
       "      <td>male</td>\n",
       "      <td>31.00</td>\n",
       "      <td>0</td>\n",
       "      <td>0</td>\n",
       "      <td>13.35</td>\n",
       "      <td>Not stated</td>\n",
       "      <td>S</td>\n",
       "      <td>N</td>\n",
       "    </tr>\n",
       "    <tr>\n",
       "      <th>2</th>\n",
       "      <td>0</td>\n",
       "      <td>3</td>\n",
       "      <td>male</td>\n",
       "      <td>0.33</td>\n",
       "      <td>1</td>\n",
       "      <td>2</td>\n",
       "      <td>71.29</td>\n",
       "      <td>Not stated</td>\n",
       "      <td>S</td>\n",
       "      <td>N</td>\n",
       "    </tr>\n",
       "    <tr>\n",
       "      <th>3</th>\n",
       "      <td>0</td>\n",
       "      <td>3</td>\n",
       "      <td>male</td>\n",
       "      <td>19.00</td>\n",
       "      <td>0</td>\n",
       "      <td>0</td>\n",
       "      <td>13.04</td>\n",
       "      <td>Not stated</td>\n",
       "      <td>S</td>\n",
       "      <td>N</td>\n",
       "    </tr>\n",
       "    <tr>\n",
       "      <th>4</th>\n",
       "      <td>1</td>\n",
       "      <td>3</td>\n",
       "      <td>male</td>\n",
       "      <td>25.00</td>\n",
       "      <td>0</td>\n",
       "      <td>0</td>\n",
       "      <td>7.76</td>\n",
       "      <td>Not stated</td>\n",
       "      <td>S</td>\n",
       "      <td>N</td>\n",
       "    </tr>\n",
       "    <tr>\n",
       "      <th>...</th>\n",
       "      <td>...</td>\n",
       "      <td>...</td>\n",
       "      <td>...</td>\n",
       "      <td>...</td>\n",
       "      <td>...</td>\n",
       "      <td>...</td>\n",
       "      <td>...</td>\n",
       "      <td>...</td>\n",
       "      <td>...</td>\n",
       "      <td>...</td>\n",
       "    </tr>\n",
       "    <tr>\n",
       "      <th>99995</th>\n",
       "      <td>1</td>\n",
       "      <td>2</td>\n",
       "      <td>female</td>\n",
       "      <td>62.00</td>\n",
       "      <td>0</td>\n",
       "      <td>0</td>\n",
       "      <td>14.86</td>\n",
       "      <td>D17243</td>\n",
       "      <td>C</td>\n",
       "      <td>D</td>\n",
       "    </tr>\n",
       "    <tr>\n",
       "      <th>99996</th>\n",
       "      <td>0</td>\n",
       "      <td>2</td>\n",
       "      <td>male</td>\n",
       "      <td>66.00</td>\n",
       "      <td>0</td>\n",
       "      <td>0</td>\n",
       "      <td>11.15</td>\n",
       "      <td>Not stated</td>\n",
       "      <td>S</td>\n",
       "      <td>N</td>\n",
       "    </tr>\n",
       "    <tr>\n",
       "      <th>99997</th>\n",
       "      <td>0</td>\n",
       "      <td>3</td>\n",
       "      <td>male</td>\n",
       "      <td>37.00</td>\n",
       "      <td>0</td>\n",
       "      <td>0</td>\n",
       "      <td>9.95</td>\n",
       "      <td>Not stated</td>\n",
       "      <td>S</td>\n",
       "      <td>N</td>\n",
       "    </tr>\n",
       "    <tr>\n",
       "      <th>99998</th>\n",
       "      <td>0</td>\n",
       "      <td>3</td>\n",
       "      <td>male</td>\n",
       "      <td>51.00</td>\n",
       "      <td>0</td>\n",
       "      <td>1</td>\n",
       "      <td>30.92</td>\n",
       "      <td>Not stated</td>\n",
       "      <td>S</td>\n",
       "      <td>N</td>\n",
       "    </tr>\n",
       "    <tr>\n",
       "      <th>99999</th>\n",
       "      <td>0</td>\n",
       "      <td>3</td>\n",
       "      <td>male</td>\n",
       "      <td>55.00</td>\n",
       "      <td>0</td>\n",
       "      <td>0</td>\n",
       "      <td>13.96</td>\n",
       "      <td>Not stated</td>\n",
       "      <td>S</td>\n",
       "      <td>N</td>\n",
       "    </tr>\n",
       "  </tbody>\n",
       "</table>\n",
       "<p>100000 rows × 10 columns</p>\n",
       "</div>"
      ],
      "text/plain": [
       "             Survived  Pclass     Sex    Age  SibSp  Parch   Fare       Cabin  \\\n",
       "PassengerId                                                                     \n",
       "0                   1       1    male  44.00      2      0  27.14      C12239   \n",
       "1                   0       3    male  31.00      0      0  13.35  Not stated   \n",
       "2                   0       3    male   0.33      1      2  71.29  Not stated   \n",
       "3                   0       3    male  19.00      0      0  13.04  Not stated   \n",
       "4                   1       3    male  25.00      0      0   7.76  Not stated   \n",
       "...               ...     ...     ...    ...    ...    ...    ...         ...   \n",
       "99995               1       2  female  62.00      0      0  14.86      D17243   \n",
       "99996               0       2    male  66.00      0      0  11.15  Not stated   \n",
       "99997               0       3    male  37.00      0      0   9.95  Not stated   \n",
       "99998               0       3    male  51.00      0      1  30.92  Not stated   \n",
       "99999               0       3    male  55.00      0      0  13.96  Not stated   \n",
       "\n",
       "            Embarked Deck  \n",
       "PassengerId                \n",
       "0                  S    C  \n",
       "1                  S    N  \n",
       "2                  S    N  \n",
       "3                  S    N  \n",
       "4                  S    N  \n",
       "...              ...  ...  \n",
       "99995              C    D  \n",
       "99996              S    N  \n",
       "99997              S    N  \n",
       "99998              S    N  \n",
       "99999              S    N  \n",
       "\n",
       "[100000 rows x 10 columns]"
      ]
     },
     "execution_count": 1550,
     "metadata": {},
     "output_type": "execute_result"
    }
   ],
   "source": [
    "titanic_data = titanic_data.drop('Name', axis=1)\n",
    "titanic_data"
   ]
  },
  {
   "cell_type": "markdown",
   "id": "386fb55a",
   "metadata": {},
   "source": [
    "Now all of the missing values are either filled or deleted. Let's check how the shape of our dataset changed."
   ]
  },
  {
   "cell_type": "code",
   "execution_count": 1551,
   "id": "6c5ef47b",
   "metadata": {},
   "outputs": [
    {
     "name": "stdout",
     "output_type": "stream",
     "text": [
      "Rows left: 100000, 0 raws were deleted\n"
     ]
    }
   ],
   "source": [
    "print(f\"Rows left: {len(titanic_data)}, {titanic_data_shape[0] - len(titanic_data)} raws were deleted\")"
   ]
  },
  {
   "cell_type": "code",
   "execution_count": 1552,
   "id": "4d1845c3",
   "metadata": {},
   "outputs": [
    {
     "name": "stdout",
     "output_type": "stream",
     "text": [
      "Columns left: 10, 2 columns were deleted\n"
     ]
    }
   ],
   "source": [
    "print(f\"Columns left: {titanic_data.shape[1]}, {titanic_data_shape[1] - titanic_data.shape[1] + 1} columns were deleted\")"
   ]
  },
  {
   "cell_type": "markdown",
   "id": "7f9f52f3",
   "metadata": {},
   "source": [
    "## Outlier analysis (boxplots)"
   ]
  },
  {
   "cell_type": "markdown",
   "id": "99991081",
   "metadata": {},
   "source": [
    "Let's find outliers in columns. It can be done using boxplots only with quantitative features like 'Age', 'SibSp', 'Parch', and 'Fare'."
   ]
  },
  {
   "cell_type": "markdown",
   "id": "c75181a3",
   "metadata": {},
   "source": [
    "### Age"
   ]
  },
  {
   "cell_type": "code",
   "execution_count": 1553,
   "id": "643200cf",
   "metadata": {},
   "outputs": [
    {
     "data": {
      "text/plain": [
       "Text(0.5, 1.0, 'Age')"
      ]
     },
     "execution_count": 1553,
     "metadata": {},
     "output_type": "execute_result"
    },
    {
     "data": {
      "image/png": "[encoded data removed]",
      "text/plain": [
       "<Figure size 360x720 with 1 Axes>"
      ]
     },
     "metadata": {
      "needs_background": "light"
     },
     "output_type": "display_data"
    }
   ],
   "source": [
    "plt.figure(figsize=(5,10))\n",
    "sns.boxplot(y=\"Age\", data=titanic_data)\n",
    "plt.title('Age', fontsize=15)"
   ]
  },
  {
   "cell_type": "markdown",
   "id": "6c46988e",
   "metadata": {},
   "source": [
    "As we can see there are no outliers for 'Age'."
   ]
  },
  {
   "cell_type": "markdown",
   "id": "12dd1232",
   "metadata": {},
   "source": [
    "### SibSp"
   ]
  },
  {
   "cell_type": "code",
   "execution_count": 1554,
   "id": "eb727238",
   "metadata": {},
   "outputs": [
    {
     "data": {
      "text/plain": [
       "Text(0.5, 1.0, 'SibSp')"
      ]
     },
     "execution_count": 1554,
     "metadata": {},
     "output_type": "execute_result"
    },
    {
     "data": {
      "image/png": "[encoded data removed]",
      "text/plain": [
       "<Figure size 360x720 with 1 Axes>"
      ]
     },
     "metadata": {
      "needs_background": "light"
     },
     "output_type": "display_data"
    }
   ],
   "source": [
    "plt.figure(figsize=(5,10))\n",
    "sns.boxplot(y=\"SibSp\", data=titanic_data)\n",
    "plt.title('SibSp', fontsize=15)"
   ]
  },
  {
   "cell_type": "markdown",
   "id": "547a1419",
   "metadata": {},
   "source": [
    "Boxplot shows outliers but they don't hurt the results because there can logically be 8 siblings and a wife / a husband, so we will let them be."
   ]
  },
  {
   "cell_type": "markdown",
   "id": "850a4aa3",
   "metadata": {},
   "source": [
    "### Parch"
   ]
  },
  {
   "cell_type": "code",
   "execution_count": 1555,
   "id": "b3adf2f5",
   "metadata": {},
   "outputs": [
    {
     "data": {
      "text/plain": [
       "Text(0.5, 1.0, 'Parch')"
      ]
     },
     "execution_count": 1555,
     "metadata": {},
     "output_type": "execute_result"
    },
    {
     "data": {
      "image/png": "[encoded data removed]",
      "text/plain": [
       "<Figure size 360x720 with 1 Axes>"
      ]
     },
     "metadata": {
      "needs_background": "light"
     },
     "output_type": "display_data"
    }
   ],
   "source": [
    "plt.figure(figsize=(5,10))\n",
    "sns.boxplot(y=\"Parch\", data=titanic_data)\n",
    "plt.title('Parch', fontsize=15)"
   ]
  },
  {
   "cell_type": "markdown",
   "id": "1e6f4f4b",
   "metadata": {},
   "source": [
    "Boxplot shows outliers but they don't hurt the results because there can logically be so many parents and children together, so we will let them be."
   ]
  },
  {
   "cell_type": "markdown",
   "id": "c2fca1fc",
   "metadata": {},
   "source": [
    "### Fare"
   ]
  },
  {
   "cell_type": "code",
   "execution_count": null,
   "id": "e1e835e3",
   "metadata": {},
   "outputs": [
    {
     "data": {
      "text/plain": [
       "Text(0.5, 1.0, 'Fare')"
      ]
     },
     "execution_count": 1556,
     "metadata": {},
     "output_type": "execute_result"
    }
   ],
   "source": [
    "plt.figure(figsize=(5,10))\n",
    "sns.boxplot(y=\"Fare\", data=titanic_data)\n",
    "plt.title('Fare', fontsize=15)"
   ]
  },
  {
   "cell_type": "markdown",
   "id": "dcd1cecb",
   "metadata": {},
   "source": [
    "Let's check whether those outliers mild or extreme."
   ]
  },
  {
   "cell_type": "code",
   "execution_count": null,
   "id": "9ccbfec8",
   "metadata": {
    "scrolled": true
   },
   "outputs": [],
   "source": [
    "Q1 = titanic_data['Fare'].quantile(0.25)\n",
    "Q3 = titanic_data['Fare'].quantile(0.75)\n",
    "IQR = Q3 - Q1\n",
    "lower_lim_mild = Q1 - 1.5 * IQR\n",
    "upper_lim_mild = Q3 + 1.5 * IQR\n",
    "lower_lim_extreme = Q1 - 3 * IQR\n",
    "upper_lim_extreme = Q3 + 3 * IQR\n",
    "lower_lim_mild, upper_lim_mild"
   ]
  },
  {
   "cell_type": "code",
   "execution_count": null,
   "id": "85146c8e",
   "metadata": {
    "scrolled": true
   },
   "outputs": [],
   "source": [
    "lower_lim_extreme, upper_lim_extreme"
   ]
  },
  {
   "cell_type": "code",
   "execution_count": null,
   "id": "2df89a77",
   "metadata": {
    "scrolled": true
   },
   "outputs": [],
   "source": [
    "len(titanic_data[titanic_data['Fare'] < lower_lim_mild])"
   ]
  },
  {
   "cell_type": "markdown",
   "id": "16ed7196",
   "metadata": {},
   "source": [
    "As we can see there is no mild and consequently extreme outliers that are below lower limit."
   ]
  },
  {
   "cell_type": "code",
   "execution_count": null,
   "id": "84f88b03",
   "metadata": {},
   "outputs": [],
   "source": [
    "len(titanic_data[(titanic_data['Fare'] > upper_lim_mild) & (titanic_data['Fare'] < upper_lim_extreme)])"
   ]
  },
  {
   "cell_type": "markdown",
   "id": "9985133b",
   "metadata": {},
   "source": [
    "There are 7788 mild outliers that are higher than upper mild limit."
   ]
  },
  {
   "cell_type": "code",
   "execution_count": null,
   "id": "77e434b7",
   "metadata": {},
   "outputs": [],
   "source": [
    "len(titanic_data[(titanic_data['Fare'] > upper_lim_extreme)])"
   ]
  },
  {
   "cell_type": "markdown",
   "id": "e3de41cf",
   "metadata": {},
   "source": [
    "And there are 9413 extreme outliers that are higher than upper extreme limit."
   ]
  },
  {
   "cell_type": "markdown",
   "id": "eda95f98",
   "metadata": {},
   "source": [
    "In total there are 17201 outliers."
   ]
  },
  {
   "cell_type": "markdown",
   "id": "f578c4bd",
   "metadata": {},
   "source": [
    "Those outliers can be due to mistakes in gathering data but as we know the data is syntatic. Moreover, in real world big prices for cabincs can be due to people who buy tickets and resell them to other people for higher price (resellers).\n",
    "\n",
    "Consequently, we will not delete the outliers."
   ]
  },
  {
   "cell_type": "markdown",
   "id": "4a533411",
   "metadata": {},
   "source": [
    "However, let's look how those outliers distribute between Pclasses and Embarked."
   ]
  },
  {
   "cell_type": "markdown",
   "id": "a6d724d2",
   "metadata": {},
   "source": [
    "'Fare' contains outliers, let's check whether they differ by a Pclass."
   ]
  },
  {
   "cell_type": "code",
   "execution_count": null,
   "id": "915082df",
   "metadata": {
    "scrolled": false
   },
   "outputs": [],
   "source": [
    "plt.figure(figsize=(5,10))\n",
    "sns.boxplot(x='Pclass', y=\"Fare\", data=titanic_data)\n",
    "plt.title('Distribution of Fare outliers between Pclasses', fontsize=15)"
   ]
  },
  {
   "cell_type": "markdown",
   "id": "3d9dcc7b",
   "metadata": {},
   "source": [
    "Looking at the graph, there are a lot of ourliers in each Pclass. Let's examine it closer."
   ]
  },
  {
   "cell_type": "markdown",
   "id": "047a4bfc",
   "metadata": {},
   "source": [
    "### Outliers of Fare feature at the 1st Pclass"
   ]
  },
  {
   "cell_type": "code",
   "execution_count": null,
   "id": "02395964",
   "metadata": {},
   "outputs": [],
   "source": [
    "first_class = titanic_data.loc[titanic_data.Pclass == 1]\n",
    "len(first_class)"
   ]
  },
  {
   "cell_type": "markdown",
   "id": "d0927c90",
   "metadata": {},
   "source": [
    "There are 30315 people at the 1st class Cabins."
   ]
  },
  {
   "cell_type": "code",
   "execution_count": null,
   "id": "e5111d92",
   "metadata": {},
   "outputs": [],
   "source": [
    "Q1_first_class = first_class['Fare'].quantile(0.25)\n",
    "Q3_first_class = first_class['Fare'].quantile(0.75)\n",
    "IQR_first_class = Q3_first_class - Q1_first_class\n",
    "lower_lim_mild_first_class = Q1_first_class - 1.5 * IQR_first_class\n",
    "upper_lim_mild_first_class = Q3_first_class + 1.5 * IQR_first_class\n",
    "lower_lim_extreme_first_class = Q1_first_class - 3 * IQR_first_class\n",
    "upper_lim_extreme_first_class = Q3_first_class + 3 * IQR_first_class\n",
    "lower_lim_mild_first_class, upper_lim_mild_first_class"
   ]
  },
  {
   "cell_type": "code",
   "execution_count": null,
   "id": "dabc0320",
   "metadata": {},
   "outputs": [],
   "source": [
    "lower_lim_extreme_first_class, upper_lim_extreme_first_class"
   ]
  },
  {
   "cell_type": "code",
   "execution_count": null,
   "id": "8adb548a",
   "metadata": {},
   "outputs": [],
   "source": [
    "len(first_class[first_class['Fare'] < lower_lim_mild_first_class])"
   ]
  },
  {
   "cell_type": "markdown",
   "id": "a4364d38",
   "metadata": {},
   "source": [
    "There are no outliers at the 1st class that lie below lower limit. Let's search for outtliers at 1st class that lie above the limit."
   ]
  },
  {
   "cell_type": "code",
   "execution_count": null,
   "id": "53b5ea40",
   "metadata": {},
   "outputs": [],
   "source": [
    "mild_outliers_first_class = len(first_class[(first_class['Fare'] > upper_lim_mild_first_class) & (first_class['Fare'] < upper_lim_extreme_first_class)])\n",
    "print(f\"There are {len(first_class[(first_class['Fare'] > upper_lim_mild_first_class) & (first_class['Fare'] < upper_lim_extreme_first_class)])} mild outliers at the First class.\")"
   ]
  },
  {
   "cell_type": "code",
   "execution_count": null,
   "id": "874cd253",
   "metadata": {},
   "outputs": [],
   "source": [
    "extreme_outliers_first_class = len(first_class[(first_class['Fare'] > upper_lim_extreme_first_class)])\n",
    "print(f\"And there are {len(first_class[(first_class['Fare'] > upper_lim_extreme_first_class)])} extreme outliers\")"
   ]
  },
  {
   "cell_type": "markdown",
   "id": "5012f878",
   "metadata": {},
   "source": [
    "### Outliers of Fare feature at the 2nd Pclass"
   ]
  },
  {
   "cell_type": "code",
   "execution_count": null,
   "id": "a8dcf797",
   "metadata": {},
   "outputs": [],
   "source": [
    "second_class = titanic_data.loc[titanic_data.Pclass == 2]\n",
    "len(second_class)"
   ]
  },
  {
   "cell_type": "code",
   "execution_count": null,
   "id": "ff8243aa",
   "metadata": {},
   "outputs": [],
   "source": [
    "Q1_second_class = second_class['Fare'].quantile(0.25)\n",
    "Q3_second_class = second_class['Fare'].quantile(0.75)\n",
    "IQR_second_class = Q3_second_class - Q1_second_class\n",
    "lower_lim_mild_second_class = Q1_second_class - 1.5 * IQR_second_class\n",
    "upper_lim_mild_second_class = Q3_second_class + 1.5 * IQR_second_class\n",
    "lower_lim_extreme_second_class = Q1_second_class - 3 * IQR_second_class\n",
    "upper_lim_extreme_second_class = Q3_second_class + 3 * IQR_second_class\n",
    "lower_lim_mild_second_class, upper_lim_mild_second_class"
   ]
  },
  {
   "cell_type": "code",
   "execution_count": null,
   "id": "6fea86ac",
   "metadata": {},
   "outputs": [],
   "source": [
    "lower_lim_extreme_second_class, upper_lim_extreme_second_class"
   ]
  },
  {
   "cell_type": "code",
   "execution_count": null,
   "id": "d1d139fd",
   "metadata": {},
   "outputs": [],
   "source": [
    "len(second_class[second_class['Fare'] < lower_lim_mild_second_class])"
   ]
  },
  {
   "cell_type": "markdown",
   "id": "dfca3b00",
   "metadata": {},
   "source": [
    "There are no outliers at the 2nd class that lie below lower limit. Let's search for outtliers at 1st class that lie above the limit."
   ]
  },
  {
   "cell_type": "code",
   "execution_count": null,
   "id": "4f654bc0",
   "metadata": {
    "scrolled": true
   },
   "outputs": [],
   "source": [
    "mild_outliers_second_class = len(second_class[(second_class['Fare'] > upper_lim_mild_second_class) & (second_class['Fare'] < upper_lim_extreme_second_class)])\n",
    "print(f\"There are {len(second_class[(second_class['Fare'] > upper_lim_mild_second_class) & (second_class['Fare'] < upper_lim_extreme_second_class)])} mild outliers at the Second class.\")"
   ]
  },
  {
   "cell_type": "code",
   "execution_count": null,
   "id": "ccd45e28",
   "metadata": {},
   "outputs": [],
   "source": [
    "extreme_outliers_second_class = len(second_class[(second_class['Fare'] > upper_lim_extreme_second_class)])\n",
    "print(f\"And there are {len(second_class[(second_class['Fare'] > upper_lim_extreme_second_class)])} extreme outliers\")"
   ]
  },
  {
   "cell_type": "markdown",
   "id": "e82e0ebc",
   "metadata": {},
   "source": [
    "### Outliers of Fare feature at the 3rd Pclass"
   ]
  },
  {
   "cell_type": "code",
   "execution_count": null,
   "id": "dd862fa2",
   "metadata": {},
   "outputs": [],
   "source": [
    "third_class = titanic_data.loc[titanic_data.Pclass == 3]\n",
    "len(third_class)"
   ]
  },
  {
   "cell_type": "code",
   "execution_count": null,
   "id": "39390d0c",
   "metadata": {},
   "outputs": [],
   "source": [
    "Q1_third_class = third_class['Fare'].quantile(0.25)\n",
    "Q3_third_class = third_class['Fare'].quantile(0.75)\n",
    "IQR_third_class = Q3_third_class - Q1_third_class\n",
    "lower_lim_mild_third_class = Q1_third_class - 1.5 * IQR_third_class\n",
    "upper_lim_mild_third_class = Q3_third_class + 1.5 * IQR_third_class\n",
    "lower_lim_extreme_third_class = Q1_third_class - 3 * IQR_third_class\n",
    "upper_lim_extreme_third_class = Q3_third_class + 3 * IQR_third_class\n",
    "lower_lim_mild_third_class, upper_lim_mild_third_class"
   ]
  },
  {
   "cell_type": "code",
   "execution_count": null,
   "id": "d22d8c53",
   "metadata": {},
   "outputs": [],
   "source": [
    "lower_lim_extreme_third_class, upper_lim_extreme_third_class"
   ]
  },
  {
   "cell_type": "code",
   "execution_count": null,
   "id": "f2abc03a",
   "metadata": {},
   "outputs": [],
   "source": [
    "len(third_class[third_class['Fare'] < lower_lim_mild_third_class])"
   ]
  },
  {
   "cell_type": "code",
   "execution_count": null,
   "id": "3c00c5f8",
   "metadata": {},
   "outputs": [],
   "source": [
    "mild_outliers_third_class = len(third_class[(third_class['Fare'] > upper_lim_mild_third_class) & (third_class['Fare'] < upper_lim_extreme_third_class)])\n",
    "print(f\"There are {len(third_class[(third_class['Fare'] > upper_lim_mild_third_class) & (third_class['Fare'] < upper_lim_extreme_third_class)])} mild outliers at the Third class.\")"
   ]
  },
  {
   "cell_type": "code",
   "execution_count": null,
   "id": "130c2bc0",
   "metadata": {
    "scrolled": true
   },
   "outputs": [],
   "source": [
    "extreme_outliers_third_class = len(third_class[(third_class['Fare'] > upper_lim_extreme_third_class)])\n",
    "print(f\"And there are {len(third_class[(third_class['Fare'] > upper_lim_extreme_third_class)])} extreme outliers\")"
   ]
  },
  {
   "cell_type": "code",
   "execution_count": null,
   "id": "eebe5f19",
   "metadata": {},
   "outputs": [],
   "source": [
    "data_outliers_pclass = {'Mild Outliers':[mild_outliers_first_class, mild_outliers_second_class, mild_outliers_third_class], 'Extreme Outliers':[extreme_outliers_first_class, extreme_outliers_second_class, extreme_outliers_third_class]}  \n",
    "  \n",
    "# Creates pandas DataFrame.  \n",
    "outlier_results_pclass = pd.DataFrame(data_outliers_pclass, index =['1st Pclass', '2nd Pclass', '3rd Class'])  \n",
    "outlier_results_pclass"
   ]
  },
  {
   "cell_type": "markdown",
   "id": "6e4dc734",
   "metadata": {},
   "source": [
    "The most number of mild outliers in Fare contains 3rd class and the most number of extreme outliers contains 3rd class. May be it is due to the fact that 3rd class is usually chosen by immigrants, and after reselling of tickets started many immigrants decided to immigrate and bought tickets for higher price. Or may be it is just because there are more 3rd class tickets, than 1st class and 2nd class tickets."
   ]
  },
  {
   "cell_type": "markdown",
   "id": "c6df94d1",
   "metadata": {},
   "source": [
    "### Distribution of outliers of Fare feature between Embarked values"
   ]
  },
  {
   "cell_type": "code",
   "execution_count": null,
   "id": "790fbdf2",
   "metadata": {},
   "outputs": [],
   "source": [
    "plt.figure(figsize=(5,10))\n",
    "sns.boxplot(x='Embarked', y=\"Fare\", data=titanic_data)\n",
    "plt.title('Distribution of Fare outliers between Embarked values', fontsize=15)"
   ]
  },
  {
   "cell_type": "markdown",
   "id": "fc494e4c",
   "metadata": {},
   "source": [
    "Looking at the graph, we cannot determine certain values, so let's do it by calculations."
   ]
  },
  {
   "cell_type": "markdown",
   "id": "688d36bd",
   "metadata": {},
   "source": [
    "### Outliers of Fare feature at the port 'S'"
   ]
  },
  {
   "cell_type": "code",
   "execution_count": null,
   "id": "2536e533",
   "metadata": {},
   "outputs": [],
   "source": [
    "s_port = titanic_data.loc[titanic_data.Embarked == 'S']\n",
    "len(s_port)"
   ]
  },
  {
   "cell_type": "code",
   "execution_count": null,
   "id": "101db7c0",
   "metadata": {},
   "outputs": [],
   "source": [
    "Q1_s_port = s_port['Fare'].quantile(0.25)\n",
    "Q3_s_port = s_port['Fare'].quantile(0.75)\n",
    "IQR_s_port = Q3_s_port - Q1_s_port\n",
    "lower_lim_mild_s_port = Q1_s_port - 1.5 * IQR_s_port\n",
    "upper_lim_mild_s_port = Q3_s_port + 1.5 * IQR_s_port\n",
    "lower_lim_extreme_s_port = Q1_s_port - 3 * IQR_s_port\n",
    "upper_lim_extreme_s_port = Q3_s_port + 3 * IQR_s_port\n",
    "lower_lim_mild_s_port, upper_lim_mild_s_port"
   ]
  },
  {
   "cell_type": "code",
   "execution_count": null,
   "id": "04bce2d2",
   "metadata": {
    "scrolled": true
   },
   "outputs": [],
   "source": [
    "lower_lim_extreme_s_port, upper_lim_extreme_s_port"
   ]
  },
  {
   "cell_type": "code",
   "execution_count": null,
   "id": "a0039e49",
   "metadata": {},
   "outputs": [],
   "source": [
    "len(s_port[s_port['Fare'] < lower_lim_mild_s_port])"
   ]
  },
  {
   "cell_type": "code",
   "execution_count": null,
   "id": "336af75e",
   "metadata": {
    "scrolled": true
   },
   "outputs": [],
   "source": [
    "mild_outliers_s_port = len(s_port[(s_port['Fare'] > upper_lim_mild_s_port) & (s_port['Fare'] < upper_lim_extreme_s_port)])\n",
    "print(f\"There are {len(s_port[(s_port['Fare'] > upper_lim_mild_s_port) & (s_port['Fare'] < upper_lim_extreme_s_port)])} mild outliers at the S port.\")"
   ]
  },
  {
   "cell_type": "code",
   "execution_count": null,
   "id": "7c782635",
   "metadata": {},
   "outputs": [],
   "source": [
    "extreme_outliers_s_port = len(s_port[(s_port['Fare'] > upper_lim_extreme_s_port)])\n",
    "print(f\"And there are {len(s_port[(s_port['Fare'] > upper_lim_extreme_s_port)])} extreme outliers\")"
   ]
  },
  {
   "cell_type": "markdown",
   "id": "3845fb31",
   "metadata": {},
   "source": [
    "### Outliers of Fare feature at the port 'Q'"
   ]
  },
  {
   "cell_type": "code",
   "execution_count": null,
   "id": "649c4ce6",
   "metadata": {},
   "outputs": [],
   "source": [
    "q_port = titanic_data.loc[titanic_data.Embarked == 'Q']\n",
    "len(q_port)"
   ]
  },
  {
   "cell_type": "code",
   "execution_count": null,
   "id": "50797bb8",
   "metadata": {},
   "outputs": [],
   "source": [
    "Q1_q_port = q_port['Fare'].quantile(0.25)\n",
    "Q3_q_port = q_port['Fare'].quantile(0.75)\n",
    "IQR_q_port = Q3_q_port - Q1_q_port\n",
    "lower_lim_mild_q_port = Q1_q_port - 1.5 * IQR_q_port\n",
    "upper_lim_mild_q_port = Q3_q_port + 1.5 * IQR_q_port\n",
    "lower_lim_extreme_q_port = Q1_q_port - 3 * IQR_q_port\n",
    "upper_lim_extreme_q_port = Q3_q_port + 3 * IQR_q_port\n",
    "lower_lim_mild_q_port, upper_lim_mild_q_port"
   ]
  },
  {
   "cell_type": "code",
   "execution_count": null,
   "id": "229a4831",
   "metadata": {
    "scrolled": true
   },
   "outputs": [],
   "source": [
    "lower_lim_extreme_q_port, upper_lim_extreme_q_port"
   ]
  },
  {
   "cell_type": "code",
   "execution_count": null,
   "id": "cb1439e8",
   "metadata": {},
   "outputs": [],
   "source": [
    "len(q_port[q_port['Fare'] < lower_lim_mild_q_port])"
   ]
  },
  {
   "cell_type": "code",
   "execution_count": null,
   "id": "0661f607",
   "metadata": {
    "scrolled": true
   },
   "outputs": [],
   "source": [
    "mild_outliers_q_port = len(q_port[(q_port['Fare'] > upper_lim_mild_q_port) & (q_port['Fare'] < upper_lim_extreme_q_port)])\n",
    "print(f\"There are {len(q_port[(q_port['Fare'] > upper_lim_mild_q_port) & (q_port['Fare'] < upper_lim_extreme_q_port)])} mild outliers at the Q port.\")"
   ]
  },
  {
   "cell_type": "code",
   "execution_count": null,
   "id": "b6b9c2ed",
   "metadata": {},
   "outputs": [],
   "source": [
    "extreme_outliers_q_port = len(q_port[(q_port['Fare'] > upper_lim_extreme_q_port)])\n",
    "print(f\"And there are {len(q_port[(q_port['Fare'] > upper_lim_extreme_q_port)])} extreme outliers\")"
   ]
  },
  {
   "cell_type": "markdown",
   "id": "5cea091e",
   "metadata": {},
   "source": [
    "### Outliers of Fare feature at the port 'C'"
   ]
  },
  {
   "cell_type": "code",
   "execution_count": null,
   "id": "8259fd07",
   "metadata": {},
   "outputs": [],
   "source": [
    "c_port = titanic_data.loc[titanic_data.Embarked == 'C']\n",
    "len(c_port)"
   ]
  },
  {
   "cell_type": "code",
   "execution_count": null,
   "id": "95e9d145",
   "metadata": {},
   "outputs": [],
   "source": [
    "Q1_c_port = c_port['Fare'].quantile(0.25)\n",
    "Q3_c_port = c_port['Fare'].quantile(0.75)\n",
    "IQR_c_port = Q3_c_port - Q1_c_port\n",
    "lower_lim_mild_c_port = Q1_c_port - 1.5 * IQR_c_port\n",
    "upper_lim_mild_c_port = Q3_c_port + 1.5 * IQR_c_port\n",
    "lower_lim_extreme_c_port = Q1_c_port - 3 * IQR_c_port\n",
    "upper_lim_extreme_c_port = Q3_c_port + 3 * IQR_c_port\n",
    "lower_lim_mild_c_port, upper_lim_mild_c_port"
   ]
  },
  {
   "cell_type": "code",
   "execution_count": null,
   "id": "0e433d0b",
   "metadata": {
    "scrolled": true
   },
   "outputs": [],
   "source": [
    "lower_lim_extreme_c_port, upper_lim_extreme_c_port"
   ]
  },
  {
   "cell_type": "code",
   "execution_count": null,
   "id": "bd53dfd8",
   "metadata": {
    "scrolled": true
   },
   "outputs": [],
   "source": [
    "len(c_port[c_port['Fare'] < lower_lim_mild_c_port])"
   ]
  },
  {
   "cell_type": "code",
   "execution_count": null,
   "id": "fc6479c3",
   "metadata": {},
   "outputs": [],
   "source": [
    "mild_outliers_c_port = len(c_port[(c_port['Fare'] > upper_lim_mild_c_port) & (c_port['Fare'] < upper_lim_extreme_c_port)])\n",
    "print(f\"There are {len(c_port[(c_port['Fare'] > upper_lim_mild_c_port) & (c_port['Fare'] < upper_lim_extreme_c_port)])} mild outliers at the C port.\")"
   ]
  },
  {
   "cell_type": "code",
   "execution_count": null,
   "id": "4c9fc1fc",
   "metadata": {},
   "outputs": [],
   "source": [
    "extreme_outliers_c_port = len(c_port[(c_port['Fare'] > upper_lim_extreme_c_port)])\n",
    "print(f\"And there are {len(c_port[(c_port['Fare'] > upper_lim_extreme_c_port)])} extreme outliers\")"
   ]
  },
  {
   "cell_type": "code",
   "execution_count": null,
   "id": "277484a0",
   "metadata": {},
   "outputs": [],
   "source": [
    "data_outliers_ports = {'Mild Outliers':[mild_outliers_s_port, mild_outliers_q_port, mild_outliers_c_port], 'Extreme Outliers':[extreme_outliers_s_port, extreme_outliers_q_port, extreme_outliers_c_port]}  \n",
    "  \n",
    "# Creates pandas DataFrame.  \n",
    "outlier_results_ports = pd.DataFrame(data_outliers_ports, index =['S', 'Q', 'C'])  \n",
    "outlier_results_ports"
   ]
  },
  {
   "cell_type": "markdown",
   "id": "6fd22523",
   "metadata": {},
   "source": [
    "As we can see the most outliers has a 'S' port. However, 'S' port is the most popular one, it occurs in 72% of the time at the Embarked column."
   ]
  },
  {
   "cell_type": "markdown",
   "id": "1c9c6be1",
   "metadata": {},
   "source": [
    "## Feature Engineering"
   ]
  },
  {
   "cell_type": "markdown",
   "id": "d7325605",
   "metadata": {},
   "source": [
    "Feature engineering will help with visualizing and analyzing data that we have. Moreover, in the future it can help with a model if we create one."
   ]
  },
  {
   "cell_type": "markdown",
   "id": "c61a597a",
   "metadata": {},
   "source": [
    "### AgeGroup Column"
   ]
  },
  {
   "cell_type": "markdown",
   "id": "72a0a2e6",
   "metadata": {},
   "source": [
    "Let's transform a continuos feature age into a discrete because it would be easier to spot patterns in a discrete data."
   ]
  },
  {
   "cell_type": "code",
   "execution_count": null,
   "id": "dae5388d",
   "metadata": {
    "scrolled": false
   },
   "outputs": [],
   "source": [
    "bins = [0, 14, 25, 35, 60, np.inf]\n",
    "labels = ['Child', 'Teenager', 'Young Adult', 'Adult', 'Senior']\n",
    "titanic_data['AgeGroup'] = pd.cut(titanic_data[\"Age\"], bins, labels = labels)\n",
    "titanic_data"
   ]
  },
  {
   "cell_type": "markdown",
   "id": "370406ae",
   "metadata": {},
   "source": [
    "### Fare Band column"
   ]
  },
  {
   "cell_type": "markdown",
   "id": "f061862c",
   "metadata": {},
   "source": [
    "Let's transform a continuos feature Fare into a discrete because it would be easier to spot patterns in a discrete data."
   ]
  },
  {
   "cell_type": "code",
   "execution_count": null,
   "id": "4242dd13",
   "metadata": {
    "scrolled": true
   },
   "outputs": [],
   "source": [
    "titanic_data['FareBand'] = pd.cut(titanic_data['Fare'], 10)\n",
    "titanic_data['FareBand'].value_counts()"
   ]
  },
  {
   "cell_type": "markdown",
   "id": "7d05b218",
   "metadata": {},
   "source": [
    "### Family Column"
   ]
  },
  {
   "cell_type": "markdown",
   "id": "fc724986",
   "metadata": {},
   "source": [
    "Let's sum SibSp and Parch into a new feature Family because amount of Family members nomatter whether they are parents or siblings can influence the survival."
   ]
  },
  {
   "cell_type": "code",
   "execution_count": null,
   "id": "44d1b52b",
   "metadata": {
    "scrolled": false
   },
   "outputs": [],
   "source": [
    "titanic_data['Family'] = titanic_data['SibSp'] + titanic_data['Parch']\n",
    "titanic_data"
   ]
  },
  {
   "cell_type": "markdown",
   "id": "9d85c932",
   "metadata": {},
   "source": [
    "## Pre-Summary we can make based on Data Quality Assestment"
   ]
  },
  {
   "cell_type": "markdown",
   "id": "219aa6b1",
   "metadata": {},
   "source": [
    "Even at the stage of Data Quality assesment we can make certain conclusions about the dataset:\n",
    "\n",
    "- dataset contains categorical, ordinal and numerical values\n",
    "- dataset has no duplicates\n",
    "- all values but Fare are within logical ranges. Fare feature has around 17000 outliers including extreme outliers. Moreover, the most outliers of Fare feature belong to people at the 1st class or S port. Fare contains outliers but they can be due to resell of tickets which highered price\n",
    "- the largest amount of missing values had 'Cabin' feature (around 70%). All missing values has been either replaced or deleted.\n",
    "- we added features 'Family' which is SibSp + Parch, Deck which is the first letter of Cabin, AgeGroup and FareBand\n",
    "- Pclass has a correlation with Fare. Mean Fare is higher when Pclass is more prestigious.\n",
    "- Pclass has a correlation with Age. Older people tend to buy Cabins with higher Pclass.\n",
    "- Female median age is higher than Male median age"
   ]
  },
  {
   "cell_type": "markdown",
   "id": "5408eca5",
   "metadata": {},
   "source": [
    "# Data exploration"
   ]
  },
  {
   "cell_type": "markdown",
   "id": "21230557",
   "metadata": {},
   "source": [
    "## Vizualization and summary statistics for each variable"
   ]
  },
  {
   "cell_type": "markdown",
   "id": "380ba32c",
   "metadata": {},
   "source": [
    "### 'Survived' column"
   ]
  },
  {
   "cell_type": "markdown",
   "id": "488d073c",
   "metadata": {},
   "source": [
    "As 'Survived' column is a category data there is no use in describe() method. \n",
    "\n",
    "Let's see the distribution of values using other ways."
   ]
  },
  {
   "cell_type": "code",
   "execution_count": null,
   "id": "c2af9f0c",
   "metadata": {
    "scrolled": false
   },
   "outputs": [],
   "source": [
    "titanic_data.Survived.value_counts()"
   ]
  },
  {
   "cell_type": "code",
   "execution_count": null,
   "id": "c0da7d86",
   "metadata": {},
   "outputs": [],
   "source": [
    "sns.countplot(x=\"Survived\",data=titanic_data, palette=['red', 'green'])\n",
    "plt.title('Not survived vs. Survived')"
   ]
  },
  {
   "cell_type": "markdown",
   "id": "5319ed4e",
   "metadata": {},
   "source": [
    "We can already make the conclusion that more people didn't survive than survived."
   ]
  },
  {
   "cell_type": "code",
   "execution_count": null,
   "id": "043dbf90",
   "metadata": {
    "scrolled": true
   },
   "outputs": [],
   "source": [
    "print(f\"Precisely, {100*titanic_data.Survived.value_counts()[0]/len(titanic_data)}% didn't survived and {100*titanic_data.Survived.value_counts()[1]/len(titanic_data)}% survived\")"
   ]
  },
  {
   "cell_type": "markdown",
   "id": "bf2476c0",
   "metadata": {},
   "source": [
    "### 'Pclass' column"
   ]
  },
  {
   "cell_type": "markdown",
   "id": "af8a73fe",
   "metadata": {},
   "source": [
    "Let's examine 'Pclass' column with categorical data closer."
   ]
  },
  {
   "cell_type": "code",
   "execution_count": null,
   "id": "0356e633",
   "metadata": {},
   "outputs": [],
   "source": [
    "titanic_data.Pclass.value_counts()"
   ]
  },
  {
   "cell_type": "code",
   "execution_count": null,
   "id": "8256fcfc",
   "metadata": {},
   "outputs": [],
   "source": [
    "sns.countplot(x=\"Pclass\",data=titanic_data)\n",
    "plt.title('Distribution of Pclass by categories')"
   ]
  },
  {
   "cell_type": "markdown",
   "id": "148021e9",
   "metadata": {},
   "source": [
    "To conclude, the most people had 3rd class cabin, than 1st, than 2nd."
   ]
  },
  {
   "cell_type": "code",
   "execution_count": null,
   "id": "414b5bc4",
   "metadata": {},
   "outputs": [],
   "source": [
    "print(f\"Precisely, {100*titanic_data.Pclass.value_counts()[1]/len(titanic_data)}% had 1st class cabin, {100*titanic_data.Pclass.value_counts()[2]/len(titanic_data)}% had 2nd class cabin and {100*titanic_data.Pclass.value_counts()[3]/len(titanic_data)}% had third class cabin\")"
   ]
  },
  {
   "cell_type": "markdown",
   "id": "36c248eb",
   "metadata": {},
   "source": [
    "### 'Sex' column"
   ]
  },
  {
   "cell_type": "markdown",
   "id": "704c771d",
   "metadata": {},
   "source": [
    "Let's examine 'Sex' column with categorical data closer."
   ]
  },
  {
   "cell_type": "code",
   "execution_count": null,
   "id": "4f92ad74",
   "metadata": {},
   "outputs": [],
   "source": [
    "titanic_data.Sex.value_counts()"
   ]
  },
  {
   "cell_type": "code",
   "execution_count": null,
   "id": "b58de96c",
   "metadata": {},
   "outputs": [],
   "source": [
    "sns.countplot(x='Sex', data=titanic_data)\n",
    "plt.title('Distribution of Sex between male and female')"
   ]
  },
  {
   "cell_type": "markdown",
   "id": "bd608f1b",
   "metadata": {},
   "source": [
    "To conclude, there were more male on board than female."
   ]
  },
  {
   "cell_type": "code",
   "execution_count": null,
   "id": "74222568",
   "metadata": {
    "scrolled": true
   },
   "outputs": [],
   "source": [
    "print(f\"Precisely, {100*titanic_data.Sex.value_counts()[0]/len(titanic_data)}% were male and {100*titanic_data.Sex.value_counts()[1]/len(titanic_data)}% were female\")"
   ]
  },
  {
   "cell_type": "markdown",
   "id": "6d1d5faf",
   "metadata": {},
   "source": [
    "### 'Age' column"
   ]
  },
  {
   "cell_type": "markdown",
   "id": "96b0c496",
   "metadata": {},
   "source": [
    "Age is numerical, so let's approach it with describe."
   ]
  },
  {
   "cell_type": "code",
   "execution_count": null,
   "id": "81244f58",
   "metadata": {},
   "outputs": [],
   "source": [
    "titanic_data.Age.describe()"
   ]
  },
  {
   "cell_type": "code",
   "execution_count": null,
   "id": "8d821f63",
   "metadata": {
    "scrolled": true
   },
   "outputs": [],
   "source": [
    "plt.figure(figsize=(10, 6))\n",
    "sns.distplot(a=titanic_data['Age'], kde=False)"
   ]
  },
  {
   "cell_type": "markdown",
   "id": "4b8725ec",
   "metadata": {},
   "source": [
    "To conclude median is 38, mean is roughly the same as median. Minimum value is 0.08 years and maximum is 87 years. People's ages are concentrated between 20 and 40 years old."
   ]
  },
  {
   "cell_type": "markdown",
   "id": "9ac0321e",
   "metadata": {},
   "source": [
    "### 'SibSp' column"
   ]
  },
  {
   "cell_type": "markdown",
   "id": "e09cf8b9",
   "metadata": {},
   "source": [
    "Although we assigned SibSp to be numerical, it's between numerical and categorical, and has discrete values, so we will examine it as categorical value."
   ]
  },
  {
   "cell_type": "code",
   "execution_count": null,
   "id": "fc551596",
   "metadata": {},
   "outputs": [],
   "source": [
    "titanic_data.SibSp.value_counts()"
   ]
  },
  {
   "cell_type": "code",
   "execution_count": null,
   "id": "9a83f35d",
   "metadata": {
    "scrolled": true
   },
   "outputs": [],
   "source": [
    "sns.countplot(x='SibSp', data=titanic_data)\n",
    "plt.title('Distribution of SibSp between categories')"
   ]
  },
  {
   "cell_type": "markdown",
   "id": "d6a97e1c",
   "metadata": {},
   "source": [
    "Let's calculate amount of SibSp values in percent."
   ]
  },
  {
   "cell_type": "code",
   "execution_count": null,
   "id": "e9efa0d9",
   "metadata": {},
   "outputs": [],
   "source": [
    "titanic_data.SibSp.value_counts(normalize=True).map(lambda x: x * 100)"
   ]
  },
  {
   "cell_type": "markdown",
   "id": "0bd7eca1",
   "metadata": {},
   "source": [
    "To conclude, around 73% had no siblings or spouces on board, around 20% had 1 sibling or spouce on board and etc."
   ]
  },
  {
   "cell_type": "markdown",
   "id": "61666672",
   "metadata": {},
   "source": [
    "### 'Parch' column"
   ]
  },
  {
   "cell_type": "markdown",
   "id": "7ce05278",
   "metadata": {},
   "source": [
    "Although we assigned Parch to be numerical, it's between numerical and categorical, and has discrete values, so we will examine it as categorical value."
   ]
  },
  {
   "cell_type": "code",
   "execution_count": null,
   "id": "646db76d",
   "metadata": {},
   "outputs": [],
   "source": [
    "sns.countplot(x='Parch', data=titanic_data)\n",
    "plt.title('Distribution of Parch between categories')"
   ]
  },
  {
   "cell_type": "code",
   "execution_count": null,
   "id": "122e3b0a",
   "metadata": {},
   "outputs": [],
   "source": [
    "titanic_data.Parch.value_counts()"
   ]
  },
  {
   "cell_type": "code",
   "execution_count": null,
   "id": "23225b75",
   "metadata": {
    "scrolled": true
   },
   "outputs": [],
   "source": [
    "sns.countplot(x='Parch', data=titanic_data)\n",
    "plt.title('Distribution of Parch between categories')"
   ]
  },
  {
   "cell_type": "markdown",
   "id": "5e31f8e5",
   "metadata": {},
   "source": [
    "Let's calculate amount of Parch values in percent."
   ]
  },
  {
   "cell_type": "code",
   "execution_count": null,
   "id": "29e6dcae",
   "metadata": {
    "scrolled": true
   },
   "outputs": [],
   "source": [
    "titanic_data.Parch.value_counts(normalize=True).map(lambda x: x * 100)"
   ]
  },
  {
   "cell_type": "markdown",
   "id": "84f651ea",
   "metadata": {},
   "source": [
    "To conclude, around 73% had 0 parent or child on board, around 12% had 1 parent or child on board, around 11% had 1 parent or child on board."
   ]
  },
  {
   "cell_type": "markdown",
   "id": "43b6703c",
   "metadata": {},
   "source": [
    "### 'Fare' column"
   ]
  },
  {
   "cell_type": "markdown",
   "id": "6ba29434",
   "metadata": {},
   "source": [
    "Fare like Age is numerical, so we can use histogram and describe method for it."
   ]
  },
  {
   "cell_type": "code",
   "execution_count": null,
   "id": "7f7659b7",
   "metadata": {},
   "outputs": [],
   "source": [
    "titanic_data.Fare.describe()"
   ]
  },
  {
   "cell_type": "code",
   "execution_count": null,
   "id": "6de9d22e",
   "metadata": {},
   "outputs": [],
   "source": [
    "sns.distplot(a=titanic_data.Fare, kde=False)"
   ]
  },
  {
   "cell_type": "markdown",
   "id": "61355b03",
   "metadata": {},
   "source": [
    "To conclude, mean is around 43.92, median is 24.47, min value is around 0.68 and max value is around 744.6, 75% percent of the values are below 33.5."
   ]
  },
  {
   "cell_type": "markdown",
   "id": "045515ab",
   "metadata": {},
   "source": [
    "### 'Cabin' column"
   ]
  },
  {
   "cell_type": "markdown",
   "id": "e7b22b2a",
   "metadata": {},
   "source": [
    "Cabin data is categorical, but as seen below it has 26993 categories, so there is no much to say in term of distribution of values."
   ]
  },
  {
   "cell_type": "code",
   "execution_count": null,
   "id": "66f9dbe2",
   "metadata": {
    "scrolled": true
   },
   "outputs": [],
   "source": [
    "titanic_data.Cabin.value_counts()"
   ]
  },
  {
   "cell_type": "markdown",
   "id": "7e56b297",
   "metadata": {},
   "source": [
    "To conclude, the most popular value is 'Not stated', others values popularity differs between 1 and 6 people per cabin."
   ]
  },
  {
   "cell_type": "markdown",
   "id": "a40e9b26",
   "metadata": {},
   "source": [
    "### 'Embarked' column"
   ]
  },
  {
   "cell_type": "markdown",
   "id": "92ba9931",
   "metadata": {},
   "source": [
    "Let's examine 'Embarked' column with categorical data closer."
   ]
  },
  {
   "cell_type": "code",
   "execution_count": null,
   "id": "f3e0c0db",
   "metadata": {},
   "outputs": [],
   "source": [
    "titanic_data.Embarked.value_counts()"
   ]
  },
  {
   "cell_type": "code",
   "execution_count": null,
   "id": "d5267873",
   "metadata": {},
   "outputs": [],
   "source": [
    "plt.figure(figsize=(12,6))\n",
    "sns.countplot(x='Embarked', data=titanic_data)\n",
    "plt.title('Distribution of Embarked by categories')"
   ]
  },
  {
   "cell_type": "code",
   "execution_count": null,
   "id": "98816ae1",
   "metadata": {
    "scrolled": true
   },
   "outputs": [],
   "source": [
    "print(f\"To conclude, {100*titanic_data.Embarked.value_counts()[0]/len(titanic_data)}% of passangers came from 'S' port, {100*titanic_data.Embarked.value_counts()[1]/len(titanic_data)}% of people came from 'C' port and {100*titanic_data.Embarked.value_counts()[2]/len(titanic_data)}% of people came from 'Q' port\")"
   ]
  },
  {
   "cell_type": "markdown",
   "id": "755cff43",
   "metadata": {},
   "source": [
    "### 'Deck' column"
   ]
  },
  {
   "cell_type": "markdown",
   "id": "f92b30e8",
   "metadata": {},
   "source": [
    "Deck is a categorical column."
   ]
  },
  {
   "cell_type": "code",
   "execution_count": null,
   "id": "50d6121d",
   "metadata": {},
   "outputs": [],
   "source": [
    "titanic_data.Deck.value_counts()"
   ]
  },
  {
   "cell_type": "code",
   "execution_count": null,
   "id": "368f1acd",
   "metadata": {
    "scrolled": false
   },
   "outputs": [],
   "source": [
    "plt.figure(figsize=(12,6))\n",
    "sns.countplot(x='Deck', data=titanic_data)\n",
    "plt.title('Distribution of Deck by categories')"
   ]
  },
  {
   "cell_type": "code",
   "execution_count": null,
   "id": "78fcfb22",
   "metadata": {
    "scrolled": true
   },
   "outputs": [],
   "source": [
    "print(f\"To conclude, the most popular deck with {100*titanic_data.Deck.value_counts()[0]/len(titanic_data)}% of is not stated, second most popular deck with {100*titanic_data.Deck.value_counts()[1]/len(titanic_data)}% is 'C' deck\")"
   ]
  },
  {
   "cell_type": "markdown",
   "id": "7b36f209",
   "metadata": {},
   "source": [
    "### 'AgeGroup' column"
   ]
  },
  {
   "cell_type": "code",
   "execution_count": null,
   "id": "2c494651",
   "metadata": {},
   "outputs": [],
   "source": [
    "titanic_data.AgeGroup.value_counts()"
   ]
  },
  {
   "cell_type": "code",
   "execution_count": null,
   "id": "c3d07b1a",
   "metadata": {
    "scrolled": true
   },
   "outputs": [],
   "source": [
    "plt.figure(figsize=(12,6))\n",
    "sns.countplot(x='AgeGroup', data=titanic_data)\n",
    "plt.title('Distribution of AgeGroup by categories')"
   ]
  },
  {
   "cell_type": "code",
   "execution_count": null,
   "id": "196b82b2",
   "metadata": {},
   "outputs": [],
   "source": [
    "print(f\"To conclude, the most popular AgeGroup with {100*titanic_data.AgeGroup.value_counts()[0]/len(titanic_data)}% of is Adults, second most popular AgeGroup with {100*titanic_data.AgeGroup.value_counts()[1]/len(titanic_data)}% is Young Adult\")"
   ]
  },
  {
   "cell_type": "markdown",
   "id": "5f5663de",
   "metadata": {},
   "source": [
    "### 'Fareband' column"
   ]
  },
  {
   "cell_type": "code",
   "execution_count": null,
   "id": "41a20dd1",
   "metadata": {},
   "outputs": [],
   "source": [
    "titanic_data.FareBand.value_counts()"
   ]
  },
  {
   "cell_type": "code",
   "execution_count": null,
   "id": "9423d2d6",
   "metadata": {
    "scrolled": false
   },
   "outputs": [],
   "source": [
    "plt.figure(figsize=(20,10))\n",
    "sns.countplot(x='FareBand', data=titanic_data)\n",
    "plt.title('Distribution of Fare by categories')"
   ]
  },
  {
   "cell_type": "code",
   "execution_count": null,
   "id": "c966ed9e",
   "metadata": {},
   "outputs": [],
   "source": [
    "print(f\"To conclude, the most popular range of Fares with 85% is 0-75, second most popular range of Fares with 8% is 75-150\")"
   ]
  },
  {
   "cell_type": "markdown",
   "id": "e105ccbf",
   "metadata": {},
   "source": [
    "### 'Family' column"
   ]
  },
  {
   "cell_type": "code",
   "execution_count": null,
   "id": "eea46559",
   "metadata": {
    "scrolled": false
   },
   "outputs": [],
   "source": [
    "titanic_data.Family.value_counts()"
   ]
  },
  {
   "cell_type": "code",
   "execution_count": null,
   "id": "adf9f380",
   "metadata": {
    "scrolled": false
   },
   "outputs": [],
   "source": [
    "plt.figure(figsize=(12,6))\n",
    "sns.countplot(x='Family', data=titanic_data)\n",
    "plt.title('Number of family members a person travelled with')"
   ]
  },
  {
   "cell_type": "code",
   "execution_count": null,
   "id": "580e7a9b",
   "metadata": {},
   "outputs": [],
   "source": [
    "print(f\"To conclude, the most popular number of family members with {100*titanic_data.Family.value_counts()[0]/len(titanic_data)}% is 0, second most popular number of family members with {100*titanic_data.Family.value_counts()[1]/len(titanic_data)}% is 1\")"
   ]
  },
  {
   "cell_type": "markdown",
   "id": "953efafb",
   "metadata": {},
   "source": [
    "## Assert relationships"
   ]
  },
  {
   "cell_type": "markdown",
   "id": "a924dec0",
   "metadata": {},
   "source": [
    "This is a dataset about a Titanic known for the catastrophy, so logically most of the relationships will be with the Survival."
   ]
  },
  {
   "cell_type": "markdown",
   "id": "d397c023",
   "metadata": {},
   "source": [
    "### Target feature 'Survived'"
   ]
  },
  {
   "cell_type": "markdown",
   "id": "ff571a45",
   "metadata": {},
   "source": [
    "Let's start with finding relationships between 'Survived' feature and others."
   ]
  },
  {
   "cell_type": "markdown",
   "id": "a6a9caae",
   "metadata": {},
   "source": [
    "### Survived and Age"
   ]
  },
  {
   "cell_type": "markdown",
   "id": "3aae7aa4",
   "metadata": {},
   "source": [
    "Hypothetically, age can matter because adolescents and young adults can swim better and are more resistant than too young children or old people. Let's check it.\n",
    "\n",
    "Also, the Captain of Titanic prioritized placing children and women in lifeboats, so kids could have higher chances to survive."
   ]
  },
  {
   "cell_type": "code",
   "execution_count": null,
   "id": "0e7cd892",
   "metadata": {},
   "outputs": [],
   "source": [
    "plt.figure(figsize=(5,10))\n",
    "sns.boxplot(x='Survived', y=\"Age\", data=titanic_data, palette=['red', 'green'])\n",
    "plt.title('Survival and Age', fontsize=15)"
   ]
  },
  {
   "cell_type": "code",
   "execution_count": null,
   "id": "f692f716",
   "metadata": {},
   "outputs": [],
   "source": [
    "titanic_data.groupby('Survived').Age.describe()"
   ]
  },
  {
   "cell_type": "markdown",
   "id": "13fe1a98",
   "metadata": {},
   "source": [
    "As seen by the graph and table, mean age for those who stayed alive is 40 and median is 43, while mean age for those who did NOT survive is 36 and mmedian is 36. Moreover, 25% percentile of age for those who didn't survive is slightly lower."
   ]
  },
  {
   "cell_type": "markdown",
   "id": "eb975f54",
   "metadata": {},
   "source": [
    "Let's examine it further by looking at AgeGroup."
   ]
  },
  {
   "cell_type": "code",
   "execution_count": null,
   "id": "07e12d54",
   "metadata": {},
   "outputs": [],
   "source": [
    "df2 = titanic_data.groupby(['AgeGroup', 'Survived'])['AgeGroup'].count().unstack('Survived')\n",
    "df2[[0, 1]].plot(kind='bar', stacked=True, color=['red', 'green'])\n",
    "plt.title('Survival and AgeGroup', fontsize=15)"
   ]
  },
  {
   "cell_type": "markdown",
   "id": "671c5f9b",
   "metadata": {},
   "source": [
    "It shows that the hypothesis that young adults and adolescents had more changes to survive because of their physical strength is False. In fact, almost half of adults and seniors survived."
   ]
  },
  {
   "cell_type": "markdown",
   "id": "450c315a",
   "metadata": {},
   "source": [
    "Spoiler: combining insigts that we found above and will find below, Adults and Seniors could have higher chances to survive because they primarily bought 1st and 2nd Pclass (People in 1st and 2nd classes had more chances to survive)"
   ]
  },
  {
   "cell_type": "markdown",
   "id": "deeb7774",
   "metadata": {},
   "source": [
    "### Survived and Sex"
   ]
  },
  {
   "cell_type": "markdown",
   "id": "431e7c1a",
   "metadata": {},
   "source": [
    "As was said above the Captain ordered to save women first, so we can propose that women survival rate must be significantly higher."
   ]
  },
  {
   "cell_type": "code",
   "execution_count": null,
   "id": "89af9032",
   "metadata": {},
   "outputs": [],
   "source": [
    "df2 = titanic_data.groupby(['Sex', 'Survived'])['Sex'].count().unstack('Survived')\n",
    "df2[[0, 1]].plot(kind='bar', stacked=True, color=['red', 'green'])\n",
    "plt.title('Survival and Sex', fontsize=15)"
   ]
  },
  {
   "cell_type": "markdown",
   "id": "1cff0e11",
   "metadata": {},
   "source": [
    "True, women chances to survive are significantly higher."
   ]
  },
  {
   "cell_type": "markdown",
   "id": "cef7872b",
   "metadata": {},
   "source": [
    "### Survived and Pclass, Deck"
   ]
  },
  {
   "cell_type": "markdown",
   "id": "ec6ec17b",
   "metadata": {},
   "source": [
    "According to the internet, spaces for people in 3rd class were isolated from people in 1st class and 2nd class, and crew forgot about opening some of those bars separating people of 3rd class from others. \n",
    "\n",
    "Moreover, 3rd class cabins were on lower decks and their passengers had to come upstairs and could, for instance, drawn through doing so, be blocked by some obstacles or come later to the lifeboats.\n",
    "\n",
    "Hypothetically, there should be a big difference in survival between people in 3rd class and lower decks and others. "
   ]
  },
  {
   "cell_type": "markdown",
   "id": "11c66224",
   "metadata": {},
   "source": [
    "According to the intertnet,\n",
    "\n",
    "A Deck had cabins of First Class\n",
    "\n",
    "B Deck had cabins of First Class\n",
    "\n",
    "C Deck had cabins of First Class, Second class\n",
    "\n",
    "D Deck had cabins of First Class, Second class, Third class\n",
    "\n",
    "E Deck had cabins of First Class, Second class, Third class\n",
    "\n",
    "F Deck had cabins of Second class, Third class\n",
    "\n",
    "G Deck had no cabins\n"
   ]
  },
  {
   "cell_type": "code",
   "execution_count": null,
   "id": "c1062f42",
   "metadata": {
    "scrolled": true
   },
   "outputs": [],
   "source": [
    "df2 = titanic_data.groupby(['Pclass', 'Survived'])['Pclass'].count().unstack('Survived')\n",
    "df2[[0, 1]].plot(kind='bar', stacked=True, color=['red', 'green'])\n",
    "plt.title('Survival and Pclass', fontsize=15)"
   ]
  },
  {
   "cell_type": "markdown",
   "id": "1fa56777",
   "metadata": {},
   "source": [
    "True, the higher the class of a cabin, the more chances a person had to survive. Moreover, there is a big difference between survival of 3rd class passengers and other classes passengers."
   ]
  },
  {
   "cell_type": "code",
   "execution_count": null,
   "id": "6d075f80",
   "metadata": {
    "scrolled": true
   },
   "outputs": [],
   "source": [
    "df2 = titanic_data.groupby(['Deck', 'Survived'])['Deck'].count().unstack('Survived')\n",
    "df2[[0, 1]].plot(kind='bar', stacked=True, color=['red', 'green'])\n",
    "plt.title('Survival and Deck', fontsize=15)"
   ]
  },
  {
   "cell_type": "markdown",
   "id": "2dc98774",
   "metadata": {},
   "source": [
    "Distribution of Decks and Survival doesn't show us that lower Decks had lower survival rates. However, we shouldn't forget that 70% of Deck data is lost, so we cannot judge precisely by it.\n",
    "\n",
    "Let's underline that most of the people, whose Deck info is lost, didn't survive."
   ]
  },
  {
   "cell_type": "markdown",
   "id": "ebc2bc2f",
   "metadata": {},
   "source": [
    "### To explore Survived, let's go deeper into pclass, age and sex"
   ]
  },
  {
   "cell_type": "markdown",
   "id": "7f609afe",
   "metadata": {},
   "source": [
    "As we have seen there is a correlation between Pclass and Survived, Sex and Survived. Let's explore it deeper."
   ]
  },
  {
   "cell_type": "markdown",
   "id": "92f3a361",
   "metadata": {},
   "source": [
    "1. Women had more chances to survive. Let's see how Sexes are distributed between Pclasses and Ages."
   ]
  },
  {
   "cell_type": "code",
   "execution_count": null,
   "id": "d1f44dbd",
   "metadata": {
    "scrolled": true
   },
   "outputs": [],
   "source": [
    "df2 = titanic_data.groupby(['Pclass', 'Sex'])['Pclass'].count().unstack('Sex')\n",
    "df2[['female', 'male']].plot(kind='bar', stacked=True, color=['pink', 'blue'])\n",
    "plt.title('Pclass and Sex', fontsize=15)"
   ]
  },
  {
   "cell_type": "markdown",
   "id": "4c236319",
   "metadata": {},
   "source": [
    "In 1st and 2nd Pclasses women and men distributed almost equally. However, at the 3rd Pclass (and we remember that most of 3rd class didn't survive) consists largely of men."
   ]
  },
  {
   "cell_type": "markdown",
   "id": "1d30efdd",
   "metadata": {},
   "source": [
    "2. Let's see go a little deeper into exploring correlationships of Age.\n",
    "\n",
    "In Data Quality Assesment we found that higher mean age correlates with higher class of a Cabin. Let's explore it deeper with a table."
   ]
  },
  {
   "cell_type": "code",
   "execution_count": null,
   "id": "6f3b1503",
   "metadata": {
    "scrolled": true
   },
   "outputs": [],
   "source": [
    "titanic_data.groupby('Pclass').Age.describe()"
   ]
  },
  {
   "cell_type": "markdown",
   "id": "9e21eb95",
   "metadata": {},
   "source": [
    "True, we made sure that people who are older tend to choose a cabin of a higher class."
   ]
  },
  {
   "cell_type": "markdown",
   "id": "e9e31d87",
   "metadata": {},
   "source": [
    "May be a slightly bigger change of survival of people in 40s rather than 30s is because they prefered 1st and 2nd class."
   ]
  },
  {
   "cell_type": "markdown",
   "id": "07b31f13",
   "metadata": {},
   "source": [
    "3. We have already found that median Female age is higher than median Male age. Let's explore it a little deeper in a table."
   ]
  },
  {
   "cell_type": "code",
   "execution_count": null,
   "id": "018f920d",
   "metadata": {},
   "outputs": [],
   "source": [
    "titanic_data.groupby('Sex').Age.describe()"
   ]
  },
  {
   "cell_type": "markdown",
   "id": "b45837c4",
   "metadata": {},
   "source": [
    "4. Let's see the whole picture of a relathionship of Sex, Age, Pclass and Survived. For that let's draw to Scatterplots for each Sex."
   ]
  },
  {
   "cell_type": "markdown",
   "id": "c415bf06",
   "metadata": {},
   "source": [
    "Let's start with females."
   ]
  },
  {
   "cell_type": "code",
   "execution_count": null,
   "id": "a200da42",
   "metadata": {
    "scrolled": true
   },
   "outputs": [],
   "source": [
    "titanic_data_female = titanic_data.loc[titanic_data.Sex == 'female']\n",
    "titanic_data_male = titanic_data.loc[titanic_data.Sex == 'male']\n",
    "plt.figure(figsize=(24, 8))\n",
    "sns.scatterplot(data = titanic_data_female, x = \"Age\", y = \"Pclass\", hue = \"Survived\", style = 'Survived',palette=['red', 'green'], alpha=0.4)\n",
    "plt.title('Relationships of Age, Pclass and Survival for Female', fontsize=15)\n",
    "plt.show()"
   ]
  },
  {
   "cell_type": "code",
   "execution_count": null,
   "id": "7c524e1c",
   "metadata": {
    "scrolled": false
   },
   "outputs": [],
   "source": [
    "df2 = titanic_data_female.groupby(['Pclass', 'Survived'])['Pclass'].count().unstack('Survived')\n",
    "df2[[0, 1]].plot(kind='bar', stacked=True, color=['red', 'green'])\n",
    "plt.title('Relationship of Pclass and Survival for Female', fontsize=15)"
   ]
  },
  {
   "cell_type": "code",
   "execution_count": null,
   "id": "79d14183",
   "metadata": {},
   "outputs": [],
   "source": [
    "df2 = titanic_data_female.groupby(['AgeGroup', 'Survived'])['Age'].count().unstack('Survived')\n",
    "df2[[0, 1]].plot(kind='bar', stacked=True, color=['red', 'green'])\n",
    "plt.title('Relationships of AgeGroup and Survival for Female', fontsize=15)"
   ]
  },
  {
   "cell_type": "markdown",
   "id": "82ab89fc",
   "metadata": {},
   "source": [
    "To conclude, \n",
    "1) Most of females in 1st and 2nd classes with any age Survived.\n",
    "\n",
    "2) Around half of women in 3rd class with any age Survived.\n",
    "\n",
    "3) Women tend to survive no matter what age they have"
   ]
  },
  {
   "cell_type": "code",
   "execution_count": null,
   "id": "14f3ead9",
   "metadata": {
    "scrolled": false
   },
   "outputs": [],
   "source": [
    "plt.figure(figsize=(24, 8))\n",
    "sns.scatterplot(data = titanic_data_male, x = \"Age\", y = \"Pclass\", hue = \"Survived\", style='Survived', palette=['red', 'green'], alpha=0.4)\n",
    "plt.title('Relationships of Age, Pclass and Survival for Male', fontsize=15)\n",
    "plt.show()"
   ]
  },
  {
   "cell_type": "code",
   "execution_count": null,
   "id": "7bca3f6e",
   "metadata": {
    "scrolled": true
   },
   "outputs": [],
   "source": [
    "df2 = titanic_data_male.groupby(['Pclass', 'Survived'])['Pclass'].count().unstack('Survived')\n",
    "df2[[0, 1]].plot(kind='bar', stacked=True, color=['red', 'green'])\n",
    "plt.title('Relationship of Pclass and Survival for Male', fontsize=15)"
   ]
  },
  {
   "cell_type": "code",
   "execution_count": null,
   "id": "c33e899f",
   "metadata": {},
   "outputs": [],
   "source": [
    "df2 = titanic_data_male.groupby(['AgeGroup', 'Survived'])['Age'].count().unstack('Survived')\n",
    "df2[[0, 1]].plot(kind='bar', stacked=True, color=['red', 'green'])\n",
    "plt.title('Relationship of AgeGroup and Survival for Male', fontsize=15)"
   ]
  },
  {
   "cell_type": "markdown",
   "id": "1cd3cd26",
   "metadata": {},
   "source": [
    "To conclude,\n",
    "\n",
    "1) Men had higher chances to survive if they were in 1st class\n",
    "\n",
    "2) The higherst survival chance had male in AgeGroup - Adults"
   ]
  },
  {
   "cell_type": "markdown",
   "id": "5e2f56e8",
   "metadata": {},
   "source": [
    "### Survived and SibSp"
   ]
  },
  {
   "cell_type": "markdown",
   "id": "2b9bb62e",
   "metadata": {},
   "source": [
    "Assuming about relathionship of Survived and SibSp is interesting because of so small info we have about SibSp. In fact, we know only amount of Siblings/Spouses but we cannot match people and their siblings and see what age, sex and etc. their exact Siblings/Spauses had. With info about relationships we found above we could speculate.\n",
    "\n",
    "For example, we could say that if a person has a sister, he might sacrifise his spot on a lifeboat for her and etc. But we don't have this data, so let's not speculate and just see info that graphs show us."
   ]
  },
  {
   "cell_type": "code",
   "execution_count": null,
   "id": "9db9d64e",
   "metadata": {
    "scrolled": false
   },
   "outputs": [],
   "source": [
    "plt.figure(figsize=(10,30))\n",
    "sns.catplot('SibSp', data=titanic_data, hue='Survived', kind='count', palette=['red', 'green'])\n",
    "plt.title('Relationship of SibSp and Survival', fontsize=15)"
   ]
  },
  {
   "cell_type": "markdown",
   "id": "9728ce96",
   "metadata": {},
   "source": [
    "As we can see people who had 0 SibSp had a slightly smaller chance of Survival. As the amount of SibSp increase, chance of survival becomes closer to 50%/50%. It can be due to the fact that relatives tend to help each other."
   ]
  },
  {
   "cell_type": "markdown",
   "id": "e330e5c1",
   "metadata": {},
   "source": [
    "### Survived and Parch"
   ]
  },
  {
   "cell_type": "markdown",
   "id": "d363b196",
   "metadata": {},
   "source": [
    "I will not make any speculations about this relatioship because of the same reason as in 'Survived and SibSp'."
   ]
  },
  {
   "cell_type": "code",
   "execution_count": null,
   "id": "a425fee2",
   "metadata": {},
   "outputs": [],
   "source": [
    "plt.figure(figsize=(10,30))\n",
    "sns.catplot('Parch', data=titanic_data, hue='Survived', kind='count', palette=['red', 'green'])\n",
    "plt.title('Relationship of Parch and Survival', fontsize=15)"
   ]
  },
  {
   "cell_type": "markdown",
   "id": "ada21b03",
   "metadata": {},
   "source": [
    "The relathionship is similar to the one between 'Survived' and 'SibSp' As we can see people who had 0 Parch had a slightly smaller chance of Survival. As the amount of Parch increase, chance of survival becomes closer to 50%/50%. It can be due to the fact that relatives tend to help each other."
   ]
  },
  {
   "cell_type": "markdown",
   "id": "36cf3e60",
   "metadata": {},
   "source": [
    "### Survived and Family"
   ]
  },
  {
   "cell_type": "markdown",
   "id": "d462d947",
   "metadata": {},
   "source": [
    "Let's look closer at the relationship between Survived and Family without diving it into SibSp and Parch."
   ]
  },
  {
   "cell_type": "code",
   "execution_count": null,
   "id": "12324842",
   "metadata": {
    "scrolled": false
   },
   "outputs": [],
   "source": [
    "plt.figure(figsize=(10,30))\n",
    "sns.catplot('Family', data=titanic_data, hue='Survived', kind='count', palette=['red', 'green'])\n",
    "plt.title('Relationship of amount of Family members and Survival', fontsize=15)"
   ]
  },
  {
   "cell_type": "markdown",
   "id": "391b1d77",
   "metadata": {},
   "source": [
    "There is the same pattern as with SibSp and Survived, Parch and Survived. Those who had no relatives had smaller chances to survive."
   ]
  },
  {
   "cell_type": "markdown",
   "id": "c0ff8967",
   "metadata": {},
   "source": [
    "Let's examine the pattern on a scatterplot."
   ]
  },
  {
   "cell_type": "code",
   "execution_count": null,
   "id": "fbdd9601",
   "metadata": {
    "scrolled": false
   },
   "outputs": [],
   "source": [
    "plt.figure(figsize=(24, 8))\n",
    "#sns.scatterplot(data = titanic_data, x = \"SibSp\", y = \"Parch\", hue = \"Survived\", style='Survived', palette=['red', 'green'], alpha=0.4)\n",
    "sns.stripplot(x = \"SibSp\", y = \"Parch\", hue=\"Survived\", palette=['red', 'green'], data = titanic_data, jitter = 1, alpha=0.4)\n",
    "plt.title('Relationship between SibSp, Parch and Survived', fontsize=15)\n",
    "plt.show()"
   ]
  },
  {
   "cell_type": "markdown",
   "id": "29158545",
   "metadata": {},
   "source": [
    "The scatterplot didn't give us a clear info."
   ]
  },
  {
   "cell_type": "markdown",
   "id": "d75f9480",
   "metadata": {},
   "source": [
    "### Survived and Embarked"
   ]
  },
  {
   "cell_type": "markdown",
   "id": "3d8fa5eb",
   "metadata": {},
   "source": [
    "There is a very small change that port city could influence Survival because all of this cities are ports relatively in the same area (France, England and Ireland), and a lot of people who came on board of Titanic there could be living in different cities."
   ]
  },
  {
   "cell_type": "code",
   "execution_count": null,
   "id": "764caac1",
   "metadata": {
    "scrolled": true
   },
   "outputs": [],
   "source": [
    "df2 = titanic_data.groupby(['Embarked', 'Survived'])['Embarked'].count().unstack('Survived')\n",
    "df2[[0, 1]].plot(kind='bar', stacked=True, color=['red', 'green'])\n",
    "plt.title('Relationship between Embarked and Survival', fontsize=15)"
   ]
  },
  {
   "cell_type": "markdown",
   "id": "3e23a574",
   "metadata": {},
   "source": [
    "As we can see there is a difference in survival between ports. People from 'C' and 'Q' ports tended to survive. But it can be caused by other factors like Pclass, Sex or Age. Let's check them."
   ]
  },
  {
   "cell_type": "markdown",
   "id": "6c3e66a2",
   "metadata": {},
   "source": [
    "### Embarked and Pclass"
   ]
  },
  {
   "cell_type": "code",
   "execution_count": null,
   "id": "a7cbc9e8",
   "metadata": {},
   "outputs": [],
   "source": [
    "df2 = titanic_data.groupby(['Embarked', 'Pclass'])['Embarked'].count().unstack('Pclass')\n",
    "df2[[1, 2, 3]].plot(kind='bar', stacked=True)\n",
    "plt.title('Relationship between Embarked and Pclass', fontsize=15)"
   ]
  },
  {
   "cell_type": "markdown",
   "id": "21388dbf",
   "metadata": {},
   "source": [
    "Around 80% of people in 'C' and 'Q' ports had cabins in 1st and 2nd classes while half of people from 'S' port had cabins of 3rd class.\n",
    "\n",
    "It can explain why people in 'C' and 'Q' ports tended to survive."
   ]
  },
  {
   "cell_type": "markdown",
   "id": "7da87016",
   "metadata": {},
   "source": [
    "### Embarked and Sex"
   ]
  },
  {
   "cell_type": "code",
   "execution_count": null,
   "id": "4d0725e0",
   "metadata": {},
   "outputs": [],
   "source": [
    "df2 = titanic_data.groupby(['Embarked', 'Sex'])['Embarked'].count().unstack('Sex')\n",
    "df2[['female', 'male']].plot(kind='bar', stacked=True, color=['pink', 'blue'])\n",
    "plt.title('Relationship between Embarked and Sex', fontsize=15)"
   ]
  },
  {
   "cell_type": "markdown",
   "id": "d94a3fed",
   "metadata": {},
   "source": [
    "Majority of people from 'C' and 'Q' ports were females, and as we know women tend to survive, so again higher rate of survival of people from 'C' and 'Q' ports can be explained. "
   ]
  },
  {
   "cell_type": "markdown",
   "id": "32cf8cee",
   "metadata": {},
   "source": [
    "### Embarked and Age"
   ]
  },
  {
   "cell_type": "code",
   "execution_count": null,
   "id": "c77222bf",
   "metadata": {},
   "outputs": [],
   "source": [
    "plt.figure(figsize=(5,10))\n",
    "sns.boxplot(x='Embarked', y=\"Age\", data=titanic_data)\n",
    "plt.title('Embarked and Age', fontsize=15)"
   ]
  },
  {
   "cell_type": "markdown",
   "id": "d7777b61",
   "metadata": {},
   "source": [
    "People from 'Q' port had the highest median age, from 'C' port second, from 'S' port third. I don't think that correlates with survival rate of 'C' and 'Q' ports but as we know age is assosiated with Pclass."
   ]
  },
  {
   "cell_type": "markdown",
   "id": "663c8b93",
   "metadata": {},
   "source": [
    "## Target feature Fare"
   ]
  },
  {
   "cell_type": "markdown",
   "id": "bbd6ba55",
   "metadata": {},
   "source": [
    "### Fare and Pclass"
   ]
  },
  {
   "cell_type": "markdown",
   "id": "1fbaca73",
   "metadata": {},
   "source": [
    "As we have already found mean Fare was higher for higher Pclass, but Fare as we know contains lots of outliers. Let's explore their relationship a little deeper."
   ]
  },
  {
   "cell_type": "code",
   "execution_count": null,
   "id": "f92acd77",
   "metadata": {},
   "outputs": [],
   "source": [
    "plt.figure(figsize=(5,10))\n",
    "sns.boxplot(x='Pclass', y=\"Fare\", data=titanic_data)\n",
    "plt.title('Distribution of Fare outliers between Pclasses', fontsize=15)"
   ]
  },
  {
   "cell_type": "code",
   "execution_count": null,
   "id": "d650a337",
   "metadata": {},
   "outputs": [],
   "source": [
    "titanic_data.groupby('Pclass').Fare.describe()"
   ]
  },
  {
   "cell_type": "markdown",
   "id": "a15c6291",
   "metadata": {},
   "source": [
    "As we can see 25%, 50%, 75% percentiles and mean values are higher when Pclass is more prestigious. However, outliers are seen at the table because max values are very high for all Pclasses. For example, mean value for 1st class is 92 while max value for 3rd class is 640 which is a lot higher.\n",
    "\n",
    "As said with at the outliers chapter, I assume that this differs because of resellers who could resell tickets for higher prices."
   ]
  },
  {
   "cell_type": "markdown",
   "id": "82bac7a8",
   "metadata": {},
   "source": [
    "### Fare and Age"
   ]
  },
  {
   "cell_type": "markdown",
   "id": "53e5344f",
   "metadata": {},
   "source": [
    "Following modern world logic hypothetically tickets for children and seniors could be lower in price. However, there is no info on the internet telling that tickets were divided into tickets for children, adults, and seniors, so we shouldn't think this way."
   ]
  },
  {
   "cell_type": "code",
   "execution_count": null,
   "id": "17f847f1",
   "metadata": {},
   "outputs": [],
   "source": [
    "sns.scatterplot(x=titanic_data['Fare'], y=titanic_data['Age'])\n",
    "plt.title('Fare and Age', fontsize=15)"
   ]
  },
  {
   "cell_type": "markdown",
   "id": "27ee3368",
   "metadata": {},
   "source": [
    "As we can see there is no clear relationship between Age and Fare. For example, people whose age below 20 could have fare from around 0 to around 600, and etc."
   ]
  },
  {
   "cell_type": "markdown",
   "id": "c28337cb",
   "metadata": {},
   "source": [
    "To underline, the highest Fare tended to have people with age between 30-70 which can be exaplined by choosing higher Pclasses."
   ]
  },
  {
   "cell_type": "markdown",
   "id": "e97772b2",
   "metadata": {},
   "source": [
    "### Fare and Sex"
   ]
  },
  {
   "cell_type": "markdown",
   "id": "f7452827",
   "metadata": {},
   "source": [
    "As said above, tickets were not divided into categories, so we can assume that Fare was distributed equally between sexes."
   ]
  },
  {
   "cell_type": "code",
   "execution_count": null,
   "id": "3766fdaf",
   "metadata": {},
   "outputs": [],
   "source": [
    "plt.figure(figsize=(5,10))\n",
    "sns.boxplot(x='Sex', y=\"Fare\", data=titanic_data, palette=['blue', 'pink'])\n",
    "plt.title('Fare and Sex', fontsize=15)"
   ]
  },
  {
   "cell_type": "code",
   "execution_count": null,
   "id": "b7b3ba72",
   "metadata": {},
   "outputs": [],
   "source": [
    "titanic_data.groupby('Sex').Fare.describe()"
   ]
  },
  {
   "cell_type": "markdown",
   "id": "607716df",
   "metadata": {},
   "source": [
    "Women tended to have higher fares. Probably, it has nothing to do with the fact that they are female. Just there were more females in 1st, and 2nd Pclasses, and Fares there are higher."
   ]
  },
  {
   "cell_type": "markdown",
   "id": "03b44da8",
   "metadata": {},
   "source": [
    "## Target Feature Family"
   ]
  },
  {
   "cell_type": "markdown",
   "id": "3fa716ca",
   "metadata": {},
   "source": [
    "### Family and Sex"
   ]
  },
  {
   "cell_type": "markdown",
   "id": "9400a49e",
   "metadata": {},
   "source": [
    "Let's examine the relathionship between the amount of Family and Sex."
   ]
  },
  {
   "cell_type": "code",
   "execution_count": null,
   "id": "06bc1c80",
   "metadata": {
    "scrolled": false
   },
   "outputs": [],
   "source": [
    "sns.catplot('Family', data=titanic_data, hue='Sex', kind='count', palette=['blue', 'pink'])"
   ]
  },
  {
   "cell_type": "markdown",
   "id": "a57d8338",
   "metadata": {},
   "source": [
    "Men had a higher tendency to travel alone than women. May be that's because years ago women didn't tend to travel independently. With results that people with relatives had a higher chance of survival, it can add to the fact that men survived less than women."
   ]
  },
  {
   "cell_type": "markdown",
   "id": "8b67ab63",
   "metadata": {},
   "source": [
    "### Family and Age"
   ]
  },
  {
   "cell_type": "code",
   "execution_count": null,
   "id": "9ba4a4fc",
   "metadata": {
    "scrolled": false
   },
   "outputs": [],
   "source": [
    "df2 = titanic_data.groupby(['AgeGroup', 'Family'])['AgeGroup'].count().unstack('Family')\n",
    "df2[[0, 1, 2, 3, 4, 5, 6, 7, 8, 9, 10, 11, 12, 13, 14, 17]].plot(kind='bar', stacked=True)\n",
    "plt.title('Relationship between Embarked and Sex', fontsize=15)"
   ]
  },
  {
   "cell_type": "markdown",
   "id": "973699c9",
   "metadata": {},
   "source": [
    "Most of people of every AgeGroup but 'Child' had no relatives travelling with them. 'Child' group had around 20% of those who didn't travel with relatives."
   ]
  },
  {
   "cell_type": "markdown",
   "id": "034945c8",
   "metadata": {},
   "source": [
    "# Summary"
   ]
  },
  {
   "cell_type": "markdown",
   "id": "ef07b0ee",
   "metadata": {},
   "source": [
    "## Data Quality assesment\n",
    "- dataset contains categorical, ordinal and numerical values\n",
    "- dataset has no duplicates\n",
    "- all values but Fare are within logical ranges. Fare feature has around 17000 outliers including extreme outliers. Moreover, the most outliers of Fare feature belong to people at the 1st class or S port. Fare contains outliers but they can be due to resell of tickets which highered price\n",
    "- the largest amount of missing values had 'Cabin' feature (around 70%). All missing values has been either replaced or deleted.\n",
    "- we added features 'Family' which is SibSp + Parch, Deck which is the first letter of Cabin, AgeGroup and FareBand\n",
    "- Pclass has a correlation with Fare. Mean Fare is higher when Pclass is more prestigious.\n",
    "- Pclass has a correlation with Age. Older people tend to buy Cabins with higher Pclass.\n",
    "- Female median age is higher than Male median age"
   ]
  },
  {
   "cell_type": "markdown",
   "id": "ca58baa4",
   "metadata": {},
   "source": [
    "## Summary statistics"
   ]
  },
  {
   "cell_type": "markdown",
   "id": "3a7d4f5b",
   "metadata": {},
   "source": [
    "- around 57% of people didn't survive\n",
    "- around 41% of people had 3rd Pclass\n",
    "- 56% of people were men\n",
    "- median age is 38\n",
    "- around 73% percent had no Siblings, Spouses, Parents or Children with them\n",
    "- mean fare is around 43.92\n",
    "- around 72% percent of people came from 'S' port\n",
    "- 67% percent of Cabins are Not stated, and 11% of cabins were located on 'C' deck\n",
    "- almost half of people were adults, and 20% were young adults\n",
    "- around 61% travelled without relatives\n",
    "- 85% of Fares were below 75"
   ]
  },
  {
   "cell_type": "markdown",
   "id": "080d3ea7",
   "metadata": {},
   "source": [
    "## Assert relationships"
   ]
  },
  {
   "cell_type": "markdown",
   "id": "f2d3e162",
   "metadata": {},
   "source": [
    "- half of adults and seniors survived while other AgeGroups weren't so lucky. Adults and Seniors could have higher chances to survive because they primarily bought 1st and 2nd Pclass,\n",
    "and people in 1st and 2nd classes had more chances to survive\n",
    "- women had significantly higher chances to survive than men no matter what age females had, it can be because women and children were put first on the lifeboats by the captains order\n",
    "- people in 3rd had significantly smaller chances to survive compared to people in 1st and 2nd classes\n",
    "- decks cannot show us insights because 70% of the data is lost. However, people with lost Deck data are more likely to be dead.\n",
    "- most women were in 1st and 2nd Pclasses. Moreover most of women in 1st and 2nd class survived, while for 3rd class half of women survived\n",
    "- men in the Adults AgeGroup had the highest chance of survival among men\n",
    "- people who had 0 relatives travelling with them had slightly smaller chances to survive\n",
    "- people from 'C' and 'Q' ports had more than a half chance of survival which can be explained by the fact that majority of the people from the ports had cabins in 1st and 2nd Pclasses\n",
    "- a lot more men travelled alone than women\n",
    "- most of people in each AgeGroup but 'Child' travelled alone. 20% of children travelled alone.\n",
    "- Fare didn't directly depend on Sex or Age although assosiated with it (differences can be due to Pclasses)\n",
    "- The most important features for Survival are Pclass and Sex"
   ]
  }
 ],
 "metadata": {
  "kernelspec": {
   "display_name": "Python 3 (ipykernel)",
   "language": "python",
   "name": "python3"
  },
  "language_info": {
   "codemirror_mode": {
    "name": "ipython",
    "version": 3
   },
   "file_extension": ".py",
   "mimetype": "text/x-python",
   "name": "python",
   "nbconvert_exporter": "python",
   "pygments_lexer": "ipython3",
   "version": "3.9.1"
  },
  "toc": {
   "base_numbering": 1,
   "nav_menu": {},
   "number_sections": true,
   "sideBar": true,
   "skip_h1_title": false,
   "title_cell": "Table of Contents",
   "title_sidebar": "Contents",
   "toc_cell": false,
   "toc_position": {},
   "toc_section_display": true,
   "toc_window_display": false
  }
 },
 "nbformat": 4,
 "nbformat_minor": 5
}
