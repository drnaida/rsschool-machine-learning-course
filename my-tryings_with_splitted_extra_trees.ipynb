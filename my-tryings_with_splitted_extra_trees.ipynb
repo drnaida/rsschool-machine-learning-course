{
 "cells": [
  {
   "cell_type": "code",
   "execution_count": 1,
   "id": "ea84d60f",
   "metadata": {},
   "outputs": [],
   "source": [
    "import pandas as pd\n",
    "import numpy as np\n",
    "import matplotlib.pyplot as plt\n",
    "from sklearn.preprocessing import normalize\n",
    "from sklearn.ensemble import RandomForestClassifier\n",
    "import datetime"
   ]
  },
  {
   "cell_type": "code",
   "execution_count": 2,
   "id": "ff956e3d",
   "metadata": {},
   "outputs": [],
   "source": [
    "columns_for_bins = ['Elevation', 'Horizontal_Distance_To_Roadways']"
   ]
  },
  {
   "cell_type": "markdown",
   "id": "e7c7413f",
   "metadata": {},
   "source": [
    "**_Get data_**"
   ]
  },
  {
   "cell_type": "code",
   "execution_count": 3,
   "id": "56d590aa",
   "metadata": {},
   "outputs": [],
   "source": [
    "dataset = pd.read_csv('train.csv')\n",
    "dataset.drop(\"Id\", axis=1, inplace=True)"
   ]
  },
  {
   "cell_type": "markdown",
   "id": "9d9dff19",
   "metadata": {},
   "source": [
    "**_Get test data_**"
   ]
  },
  {
   "cell_type": "code",
   "execution_count": 4,
   "id": "7661986b",
   "metadata": {},
   "outputs": [],
   "source": [
    "test_data = pd.read_csv('test.csv')\n",
    "id_column = test_data[\"Id\"].copy(deep=True)\n",
    "test_ids = test_data[\"Id\"]\n",
    "test_data.drop(\"Id\", axis=1, inplace=True)\n",
    "feature_cols = dataset.columns.to_list()\n",
    "feature_cols.remove(\"Cover_Type\")\n",
    "X_test = test_data[feature_cols]"
   ]
  },
  {
   "cell_type": "markdown",
   "id": "b4abd620",
   "metadata": {},
   "source": [
    "**_Featire engineering average distances_**"
   ]
  },
  {
   "cell_type": "code",
   "execution_count": 5,
   "id": "f3fb68e4",
   "metadata": {},
   "outputs": [],
   "source": [
    "dataset[\"Average_Elev_Vert_Hydr\"] = dataset[['Elevation', 'Vertical_Distance_To_Hydrology']].mean(axis=1)\n",
    "X_test[\"Average_Elev_Vert_Hydr\"] = X_test[['Elevation', 'Vertical_Distance_To_Hydrology']].mean(axis=1)\n",
    "\n",
    "dataset[\"Average_Hydro_Road\"] = dataset[['Horizontal_Distance_To_Hydrology', 'Horizontal_Distance_To_Roadways']].mean(axis=1)\n",
    "X_test[\"Average_Hydro_Road\"] = X_test[['Horizontal_Distance_To_Hydrology', 'Horizontal_Distance_To_Roadways']].mean(axis=1)\n",
    "\n",
    "dataset[\"Average_Hydro_Fire\"] = dataset[['Horizontal_Distance_To_Hydrology', 'Horizontal_Distance_To_Fire_Points']].mean(axis=1)\n",
    "X_test[\"Average_Hydro_Fire\"] = X_test[['Horizontal_Distance_To_Hydrology', 'Horizontal_Distance_To_Fire_Points']].mean(axis=1)\n",
    "\n",
    "dataset[\"Average_Road_Fire\"] = dataset[['Horizontal_Distance_To_Roadways', 'Horizontal_Distance_To_Fire_Points']].mean(axis=1)\n",
    "X_test[\"Average_Road_Fire\"] = X_test[['Horizontal_Distance_To_Roadways', 'Horizontal_Distance_To_Fire_Points']].mean(axis=1)"
   ]
  },
  {
   "cell_type": "markdown",
   "id": "5b3ea650",
   "metadata": {},
   "source": [
    "**_Feature engineering average degrees_**"
   ]
  },
  {
   "cell_type": "code",
   "execution_count": 6,
   "id": "7040909d",
   "metadata": {},
   "outputs": [],
   "source": [
    "dataset[\"Average_Hillshade\"] = dataset[['Hillshade_9am', 'Hillshade_Noon', 'Hillshade_3pm']].mean(axis=1)\n",
    "X_test[\"Average_Hillshade\"] = X_test[['Hillshade_9am', 'Hillshade_Noon', 'Hillshade_3pm']].mean(axis=1)"
   ]
  },
  {
   "cell_type": "markdown",
   "id": "f94c9be0",
   "metadata": {},
   "source": [
    "**_Feature engineering Substractions_**"
   ]
  },
  {
   "cell_type": "code",
   "execution_count": 7,
   "id": "f2939202",
   "metadata": {},
   "outputs": [],
   "source": [
    "def calc_diff(a, b):\n",
    "    return abs(b - a)\n",
    "dataset['Substr_Hydro_Road'] = dataset.apply(lambda x: calc_diff(x['Horizontal_Distance_To_Hydrology'], x['Horizontal_Distance_To_Roadways']), axis=1)\n",
    "X_test['Substr_Hydro_Road'] = X_test.apply(lambda x: calc_diff(x['Horizontal_Distance_To_Hydrology'], x['Horizontal_Distance_To_Roadways']), axis=1)\n",
    "\n",
    "dataset['Substr_Road_Fire'] = dataset.apply(lambda x: calc_diff(x['Horizontal_Distance_To_Roadways'], x['Horizontal_Distance_To_Fire_Points']), axis=1)\n",
    "X_test['Substr_Road_Fire'] = X_test.apply(lambda x: calc_diff(x['Horizontal_Distance_To_Roadways'], x['Horizontal_Distance_To_Fire_Points']), axis=1)\n",
    "\n",
    "dataset['Substr_Aspect_Slope'] = dataset.apply(lambda x: calc_diff(x['Aspect'], x['Slope']), axis=1)\n",
    "X_test['Substr_Aspect_Slope'] = X_test.apply(lambda x: calc_diff(x['Aspect'], x['Slope']), axis=1)\n",
    "\n",
    "dataset['Substr_Elev_Vert'] = dataset.apply(lambda x: calc_diff(x['Elevation'], x['Vertical_Distance_To_Hydrology']), axis=1)\n",
    "X_test['Substr_Elev_Vert'] = X_test.apply(lambda x: calc_diff(x['Elevation'], x['Vertical_Distance_To_Hydrology']), axis=1)\n",
    "\n",
    "dataset['Substr_Hillshade_noon_3'] = dataset.apply(lambda x: calc_diff(x['Hillshade_Noon'], x['Hillshade_3pm']), axis=1)\n",
    "X_test['Substr_Hillshade_noon_3'] = X_test.apply(lambda x: calc_diff(x['Hillshade_Noon'], x['Hillshade_3pm']), axis=1)\n",
    "\n",
    "dataset['Substr_Elev_Road'] = dataset.apply(lambda x: calc_diff(x['Elevation'], x['Horizontal_Distance_To_Fire_Points']), axis=1)\n",
    "X_test['Substr_Elev_Road'] = X_test.apply(lambda x: calc_diff(x['Elevation'], x['Horizontal_Distance_To_Fire_Points']), axis=1)\n",
    "\n",
    "def calc_diff_3(a, b, c):\n",
    "    return abs(b - a - c)\n",
    "\n",
    "dataset['Substr_Horizontal_Dist'] = dataset.apply(lambda x: calc_diff_3(x['Horizontal_Distance_To_Hydrology'], x['Horizontal_Distance_To_Roadways'], x['Horizontal_Distance_To_Fire_Points']), axis=1)\n",
    "X_test['Substr_Horizontal_Dist'] = X_test.apply(lambda x: calc_diff_3(x['Horizontal_Distance_To_Hydrology'], x['Horizontal_Distance_To_Roadways'], x['Horizontal_Distance_To_Fire_Points']), axis=1)"
   ]
  },
  {
   "cell_type": "markdown",
   "id": "86d4a266",
   "metadata": {},
   "source": [
    "**_Feature Engineering Additions_**"
   ]
  },
  {
   "cell_type": "code",
   "execution_count": 8,
   "id": "54da3c8b",
   "metadata": {},
   "outputs": [],
   "source": [
    "def calc_add(a, b):\n",
    "    return b + a\n",
    "dataset['Add_Hydro_Road'] = dataset.apply(lambda x: calc_add(x['Horizontal_Distance_To_Hydrology'], x['Horizontal_Distance_To_Roadways']), axis=1)\n",
    "X_test['Add_Hydro_Road'] = X_test.apply(lambda x: calc_add(x['Horizontal_Distance_To_Hydrology'], x['Horizontal_Distance_To_Roadways']), axis=1)\n",
    "\n",
    "dataset['Add_Hydro_Fire'] = dataset.apply(lambda x: calc_add(x['Horizontal_Distance_To_Hydrology'], x['Horizontal_Distance_To_Fire_Points']), axis=1)\n",
    "X_test['Add_Hydro_Fire'] = X_test.apply(lambda x: calc_add(x['Horizontal_Distance_To_Hydrology'], x['Horizontal_Distance_To_Fire_Points']), axis=1)\n",
    "\n",
    "dataset['Add_Road_Fire'] = dataset.apply(lambda x: calc_add(x['Horizontal_Distance_To_Roadways'], x['Horizontal_Distance_To_Fire_Points']), axis=1)\n",
    "X_test['Add_Road_Fire'] = X_test.apply(lambda x: calc_add(x['Horizontal_Distance_To_Roadways'], x['Horizontal_Distance_To_Fire_Points']), axis=1)\n",
    "\n",
    "dataset['Add_elev_road'] = dataset.apply(lambda x: calc_add(x['Elevation'], x['Horizontal_Distance_To_Fire_Points']), axis=1)\n",
    "X_test['Add_elev_road'] = X_test.apply(lambda x: calc_add(x['Elevation'], x['Horizontal_Distance_To_Fire_Points']), axis=1)\n",
    "\n",
    "def calc_add_3(a, b, c):\n",
    "    return b + a + c\n",
    "\n",
    "dataset['Add_Horizontal_Dist'] = dataset.apply(lambda x: calc_add_3(x['Horizontal_Distance_To_Hydrology'], x['Horizontal_Distance_To_Roadways'], x['Horizontal_Distance_To_Fire_Points']), axis=1)\n",
    "X_test['Add_Horizontal_Dist'] = X_test.apply(lambda x: calc_add_3(x['Horizontal_Distance_To_Hydrology'], x['Horizontal_Distance_To_Roadways'], x['Horizontal_Distance_To_Fire_Points']), axis=1)"
   ]
  },
  {
   "cell_type": "markdown",
   "id": "6e8fac07",
   "metadata": {},
   "source": [
    "**_Eucledean distance_**"
   ]
  },
  {
   "cell_type": "code",
   "execution_count": 9,
   "id": "1284588d",
   "metadata": {},
   "outputs": [],
   "source": [
    "dataset['Distanse_to_Hydrolody'] = (dataset['Horizontal_Distance_To_Hydrology'] ** 2 + \n",
    "                                     dataset['Vertical_Distance_To_Hydrology'] ** 2) ** 0.5\n",
    "X_test['Distanse_to_Hydrolody'] = (X_test['Horizontal_Distance_To_Hydrology'] ** 2 + \n",
    "                                     X_test['Vertical_Distance_To_Hydrology'] ** 2) ** 0.5"
   ]
  },
  {
   "cell_type": "markdown",
   "id": "2d9fff4f",
   "metadata": {},
   "source": [
    "**_Normalize data_**"
   ]
  },
  {
   "cell_type": "code",
   "execution_count": 10,
   "id": "35302cfb",
   "metadata": {},
   "outputs": [],
   "source": [
    "columns_for_normalization = ['Aspect', 'Slope', 'Horizontal_Distance_To_Hydrology', 'Hillshade_9am', 'Hillshade_Noon', 'Hillshade_3pm', 'Horizontal_Distance_To_Fire_Points', 'Horizontal_Distance_To_Roadways', 'Add_Horizontal_Dist', 'Add_elev_road']\n",
    "dataset[columns_for_normalization] = normalize(dataset[columns_for_normalization])\n",
    "X_test[columns_for_normalization] = normalize(X_test[columns_for_normalization])"
   ]
  },
  {
   "cell_type": "code",
   "execution_count": 11,
   "id": "cc5727b9",
   "metadata": {},
   "outputs": [],
   "source": [
    "dataset.drop(dataset.index[dataset['Soil_Type7'] == 1], inplace=True)\n",
    "dataset.drop(dataset.index[dataset['Soil_Type8'] == 1], inplace=True)\n",
    "dataset.drop(dataset.index[dataset['Soil_Type15'] == 1], inplace=True)"
   ]
  },
  {
   "cell_type": "markdown",
   "id": "787637b8",
   "metadata": {},
   "source": [
    "**_Combine Soil_**"
   ]
  },
  {
   "cell_type": "code",
   "execution_count": 12,
   "id": "78d7904f",
   "metadata": {},
   "outputs": [],
   "source": [
    "df_train_1_2 = dataset[(dataset['Cover_Type'] <= 2)]\n",
    "df_train_3_4_6 = dataset[(dataset['Cover_Type'].isin([3,4,6]))]\n",
    "\n",
    "X = dataset.drop(\"Cover_Type\", axis=1)\n",
    "\n",
    "X_train_1_2 = df_train_1_2.drop(\"Cover_Type\", axis=1)\n",
    "X_train_3_4_6 = df_train_3_4_6.drop(\"Cover_Type\", axis=1)\n",
    "\n",
    "y = dataset['Cover_Type']\n",
    "y_1_2 = df_train_1_2['Cover_Type']\n",
    "y_3_4_6 = df_train_3_4_6['Cover_Type']"
   ]
  },
  {
   "cell_type": "code",
   "execution_count": 13,
   "id": "7fde5272",
   "metadata": {
    "scrolled": true
   },
   "outputs": [
    {
     "data": {
      "text/plain": [
       "(15119, 72)"
      ]
     },
     "execution_count": 13,
     "metadata": {},
     "output_type": "execute_result"
    }
   ],
   "source": [
    "X.shape"
   ]
  },
  {
   "cell_type": "code",
   "execution_count": 14,
   "id": "79b1fb03",
   "metadata": {},
   "outputs": [
    {
     "data": {
      "text/plain": [
       "(15119,)"
      ]
     },
     "execution_count": 14,
     "metadata": {},
     "output_type": "execute_result"
    }
   ],
   "source": [
    "y.shape"
   ]
  },
  {
   "cell_type": "code",
   "execution_count": 15,
   "id": "e0089180",
   "metadata": {},
   "outputs": [
    {
     "data": {
      "text/plain": [
       "(565892, 72)"
      ]
     },
     "execution_count": 15,
     "metadata": {},
     "output_type": "execute_result"
    }
   ],
   "source": [
    "X_test.shape"
   ]
  },
  {
   "cell_type": "code",
   "execution_count": 16,
   "id": "a3dca783",
   "metadata": {},
   "outputs": [],
   "source": [
    "from sklearn.ensemble import ExtraTreesClassifier\n",
    "def two_largest_indices(inlist):\n",
    "    largest = 0\n",
    "    second_largest = 0\n",
    "    largest_index = 0\n",
    "    second_largest_index = -1\n",
    "    for i in range(len(inlist)):\n",
    "        item = inlist[i]\n",
    "        if item > largest:\n",
    "            second_largest = largest\n",
    "            second_largest_index = largest_index\n",
    "            largest = item\n",
    "            largest_index = i\n",
    "        elif largest > item >= second_largest:\n",
    "            second_largest = item\n",
    "            second_largest_index = i        \n",
    "    return largest_index, second_largest_index    \n",
    "\n",
    "\n",
    "clf = ExtraTreesClassifier(n_estimators=500, random_state=42, max_depth=31, min_samples_split=2, criterion='entropy',\n",
    "                          max_features=12, n_jobs=-1)\n",
    "clf.fit(X, y)\n",
    "\n",
    "clf_1_2 = ExtraTreesClassifier(n_estimators=500, random_state=42, max_depth=31, min_samples_split=2, criterion='gini',\n",
    "                          max_features=12, n_jobs=-1)\n",
    "clf_1_2.fit(X_train_1_2, y_1_2)\n",
    "\n",
    "clf_3_4_6 = ExtraTreesClassifier(n_estimators=500, random_state=42, max_depth=31, min_samples_split=2, criterion='gini',\n",
    "                          max_features=12, n_jobs=-1)\n",
    "clf_3_4_6.fit(X_train_3_4_6, y_3_4_6)\n",
    "\n",
    "\n",
    "vals_1_2 = {}\n",
    "for e, val in enumerate(list(clf_1_2.predict_proba(X_test))):\n",
    "    vals_1_2[e] = val\n",
    "\n",
    "\n",
    "vals_3_4_6 = {}\n",
    "for e, val in enumerate(list(clf_3_4_6.predict_proba(X_test))):\n",
    "    vals_3_4_6[e] = val \n",
    "\n",
    "\n",
    "vals = {}\n",
    "for e, val in enumerate(list(clf.predict(X_test))):\n",
    "    vals[e] = val \n",
    "    \n",
    "\n",
    "with open(\"submission.csv\", \"w\") as outfile:\n",
    "    outfile.write(\"Id,Cover_Type\\n\")\n",
    "    for e, val in enumerate(list(clf.predict_proba(X_test))):\n",
    "        val[0] += vals_1_2[e][0]/1.3\n",
    "        val[1] += vals_1_2[e][1]/1.1\n",
    "        val[2] += vals_3_4_6[e][0]/3.4\n",
    "        val[3] += vals_3_4_6[e][1]/4.0\n",
    "        val[5] += vals_3_4_6[e][2]/3.6\n",
    "        i,j = two_largest_indices(val)\n",
    "        v = i  + 1\n",
    "        outfile.write(\"%s,%s\\n\"%(test_ids[e],v))"
   ]
  },
  {
   "cell_type": "markdown",
   "id": "418cb658",
   "metadata": {},
   "source": [
    "Combinations tried:\n",
    "    - standard scaler"
   ]
  },
  {
   "cell_type": "markdown",
   "id": "87783fce",
   "metadata": {},
   "source": [
    "1 - Spruce/Fir\n",
    "\n",
    "2 - Lodgepole Pine\n",
    "\n",
    "3 - Ponderosa Pine\n",
    "\n",
    "4 - Cottonwood/Willow\n",
    "\n",
    "5 - Aspen\n",
    "\n",
    "6 - Douglas-fir\n",
    "\n",
    "7 - Krummholz"
   ]
  }
 ],
 "metadata": {
  "kernelspec": {
   "display_name": "Python 3 (ipykernel)",
   "language": "python",
   "name": "python3"
  },
  "language_info": {
   "codemirror_mode": {
    "name": "ipython",
    "version": 3
   },
   "file_extension": ".py",
   "mimetype": "text/x-python",
   "name": "python",
   "nbconvert_exporter": "python",
   "pygments_lexer": "ipython3",
   "version": "3.9.1"
  }
 },
 "nbformat": 4,
 "nbformat_minor": 5
}
