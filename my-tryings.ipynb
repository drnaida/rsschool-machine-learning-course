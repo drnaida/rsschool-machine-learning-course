{
 "cells": [
  {
   "cell_type": "code",
   "execution_count": 1,
   "id": "ea84d60f",
   "metadata": {},
   "outputs": [],
   "source": [
    "import pandas as pd\n",
    "import numpy as np\n",
    "import matplotlib.pyplot as plt\n",
    "from sklearn.preprocessing import normalize\n",
    "from sklearn.ensemble import RandomForestClassifier"
   ]
  },
  {
   "cell_type": "code",
   "execution_count": 2,
   "id": "ff956e3d",
   "metadata": {},
   "outputs": [],
   "source": [
    "columns_for_normalization = ['Aspect', 'Slope', 'Horizontal_Distance_To_Hydrology', 'Vertical_Distance_To_Hydrology',\n",
    "'Hillshade_9am', 'Hillshade_Noon', 'Hillshade_3pm', 'Horizontal_Distance_To_Fire_Points']\n",
    "\n",
    "columns_for_bins = ['Elevation', 'Horizontal_Distance_To_Roadways']"
   ]
  },
  {
   "cell_type": "markdown",
   "id": "2c02e302",
   "metadata": {},
   "source": [
    "**_Get data_**"
   ]
  },
  {
   "cell_type": "code",
   "execution_count": 3,
   "id": "e93e8321",
   "metadata": {},
   "outputs": [],
   "source": [
    "dataset = pd.read_csv('train.csv')\n",
    "dataset[columns_for_normalization] = normalize(dataset[columns_for_normalization])\n",
    "dataset.drop(\"Id\", axis=1, inplace=True)"
   ]
  },
  {
   "cell_type": "markdown",
   "id": "1eafec5e",
   "metadata": {},
   "source": [
    "**_Get training data_**"
   ]
  },
  {
   "cell_type": "code",
   "execution_count": 4,
   "id": "6d178c1b",
   "metadata": {},
   "outputs": [],
   "source": [
    "X = dataset.drop(\"Cover_Type\", axis=1)\n",
    "y = dataset[\"Cover_Type\"]"
   ]
  },
  {
   "cell_type": "code",
   "execution_count": 5,
   "id": "a6756b10",
   "metadata": {},
   "outputs": [
    {
     "data": {
      "text/plain": [
       "Index(['Elevation', 'Aspect', 'Slope', 'Horizontal_Distance_To_Hydrology',\n",
       "       'Vertical_Distance_To_Hydrology', 'Horizontal_Distance_To_Roadways',\n",
       "       'Hillshade_9am', 'Hillshade_Noon', 'Hillshade_3pm',\n",
       "       'Horizontal_Distance_To_Fire_Points', 'Wilderness_Area1',\n",
       "       'Wilderness_Area2', 'Wilderness_Area3', 'Wilderness_Area4',\n",
       "       'Soil_Type1', 'Soil_Type2', 'Soil_Type3', 'Soil_Type4', 'Soil_Type5',\n",
       "       'Soil_Type6', 'Soil_Type7', 'Soil_Type8', 'Soil_Type9', 'Soil_Type10',\n",
       "       'Soil_Type11', 'Soil_Type12', 'Soil_Type13', 'Soil_Type14',\n",
       "       'Soil_Type15', 'Soil_Type16', 'Soil_Type17', 'Soil_Type18',\n",
       "       'Soil_Type19', 'Soil_Type20', 'Soil_Type21', 'Soil_Type22',\n",
       "       'Soil_Type23', 'Soil_Type24', 'Soil_Type25', 'Soil_Type26',\n",
       "       'Soil_Type27', 'Soil_Type28', 'Soil_Type29', 'Soil_Type30',\n",
       "       'Soil_Type31', 'Soil_Type32', 'Soil_Type33', 'Soil_Type34',\n",
       "       'Soil_Type35', 'Soil_Type36', 'Soil_Type37', 'Soil_Type38',\n",
       "       'Soil_Type39', 'Soil_Type40'],\n",
       "      dtype='object')"
      ]
     },
     "execution_count": 5,
     "metadata": {},
     "output_type": "execute_result"
    }
   ],
   "source": [
    "X.columns"
   ]
  },
  {
   "cell_type": "markdown",
   "id": "a817a46e",
   "metadata": {},
   "source": [
    "**_Get test data_**"
   ]
  },
  {
   "cell_type": "code",
   "execution_count": 6,
   "id": "7239a6b2",
   "metadata": {},
   "outputs": [],
   "source": [
    "test_data = pd.read_csv('test.csv')\n",
    "test_data[columns_for_normalization] = normalize(test_data[columns_for_normalization])\n",
    "id_column = test_data[\"Id\"].copy(deep=True)\n",
    "test_data.drop(\"Id\", axis=1, inplace=True)"
   ]
  },
  {
   "cell_type": "markdown",
   "id": "de662348",
   "metadata": {},
   "source": [
    "**_Train model_**"
   ]
  },
  {
   "cell_type": "code",
   "execution_count": 7,
   "id": "9dd03e0b",
   "metadata": {
    "scrolled": false
   },
   "outputs": [],
   "source": [
    "model = RandomForestClassifier(n_jobs=-1, random_state=42).fit(X, y)\n",
    "model.fit(X, y)\n",
    "y_predicted = model.predict(test_data)\n",
    "df_for_saving = pd.DataFrame(y_predicted, index=id_column, columns=[\"Cover_Type\"])"
   ]
  },
  {
   "cell_type": "markdown",
   "id": "1309e40e",
   "metadata": {},
   "source": [
    "**_Save dataset_**"
   ]
  },
  {
   "cell_type": "code",
   "execution_count": 9,
   "id": "074e3c7a",
   "metadata": {
    "scrolled": false
   },
   "outputs": [],
   "source": [
    "df_for_saving.to_csv('cover_type.csv', index_label=\"Id\")"
   ]
  },
  {
   "cell_type": "markdown",
   "id": "87783fce",
   "metadata": {},
   "source": [
    "1 - Spruce/Fir\n",
    "\n",
    "2 - Lodgepole Pine\n",
    "\n",
    "3 - Ponderosa Pine\n",
    "\n",
    "4 - Cottonwood/Willow\n",
    "\n",
    "5 - Aspen\n",
    "\n",
    "6 - Douglas-fir\n",
    "\n",
    "7 - Krummholz"
   ]
  },
  {
   "cell_type": "code",
   "execution_count": null,
   "id": "54c6ae1e",
   "metadata": {},
   "outputs": [],
   "source": [
    "plt.rcParams[\"figure.figsize\"] = (16,8)\n",
    "df2 = data.groupby(['Wilderness_Area1', 'Cover_Type'])['Wilderness_Area1'].count().unstack('Cover_Type')\n",
    "df2[[1, 2, 3, 4, 5, 6, 7]].plot(kind='bar', stacked=True)"
   ]
  },
  {
   "cell_type": "code",
   "execution_count": null,
   "id": "de6b78b1",
   "metadata": {},
   "outputs": [],
   "source": [
    "df2 = data.groupby(['Wilderness_Area2', 'Cover_Type'])['Wilderness_Area2'].count().unstack('Cover_Type')\n",
    "df2[[1, 2, 3, 4, 5, 6, 7]].plot(kind='bar', stacked=True)"
   ]
  },
  {
   "cell_type": "code",
   "execution_count": null,
   "id": "526e406b",
   "metadata": {},
   "outputs": [],
   "source": [
    "df2 = data.groupby(['Wilderness_Area3', 'Cover_Type'])['Wilderness_Area3'].count().unstack('Cover_Type')\n",
    "df2[[1, 2, 3, 4, 5, 6, 7]].plot(kind='bar', stacked=True)"
   ]
  },
  {
   "cell_type": "code",
   "execution_count": null,
   "id": "d8eb66bf",
   "metadata": {},
   "outputs": [],
   "source": [
    "df2 = data.groupby(['Wilderness_Area4', 'Cover_Type'])['Wilderness_Area4'].count().unstack('Cover_Type')\n",
    "df2[[1, 2, 3, 4, 5, 6, 7]].plot(kind='bar', stacked=True)"
   ]
  }
 ],
 "metadata": {
  "kernelspec": {
   "display_name": "Python 3 (ipykernel)",
   "language": "python",
   "name": "python3"
  },
  "language_info": {
   "codemirror_mode": {
    "name": "ipython",
    "version": 3
   },
   "file_extension": ".py",
   "mimetype": "text/x-python",
   "name": "python",
   "nbconvert_exporter": "python",
   "pygments_lexer": "ipython3",
   "version": "3.9.1"
  }
 },
 "nbformat": 4,
 "nbformat_minor": 5
}
