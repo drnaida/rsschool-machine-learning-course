{
 "cells": [
  {
   "cell_type": "code",
   "execution_count": 22,
   "id": "8ae4cc6f",
   "metadata": {},
   "outputs": [],
   "source": [
    "# Загрузим библиотеки, участвующие в обработке данных и в их исследовании.\n",
    "import numpy as np\n",
    "import pandas as pd\n",
    "import seaborn as sns\n",
    "import matplotlib.pyplot as plt\n",
    "%matplotlib inline\n",
    "\n",
    "import warnings\n",
    "warnings.filterwarnings(\"ignore\")\n",
    "\n",
    "diagran_counter = 0\n",
    "def title_num(stitle):\n",
    "    global diagran_counter\n",
    "    diagran_counter += 1\n",
    "    return (\"Диаграмма \" + str(diagran_counter) + \". \" + stitle)\n",
    "    "
   ]
  },
  {
   "cell_type": "markdown",
   "id": "f2df8685",
   "metadata": {},
   "source": [
    "# Context (*Контекст*)"
   ]
  },
  {
   "cell_type": "code",
   "execution_count": 23,
   "id": "66b848c7",
   "metadata": {},
   "outputs": [
    {
     "data": {
      "text/html": [
       "<div>\n",
       "<style scoped>\n",
       "    .dataframe tbody tr th:only-of-type {\n",
       "        vertical-align: middle;\n",
       "    }\n",
       "\n",
       "    .dataframe tbody tr th {\n",
       "        vertical-align: top;\n",
       "    }\n",
       "\n",
       "    .dataframe thead th {\n",
       "        text-align: right;\n",
       "    }\n",
       "</style>\n",
       "<table border=\"1\" class=\"dataframe\">\n",
       "  <thead>\n",
       "    <tr style=\"text-align: right;\">\n",
       "      <th></th>\n",
       "      <th>Survived</th>\n",
       "      <th>Pclass</th>\n",
       "      <th>Name</th>\n",
       "      <th>Sex</th>\n",
       "      <th>Age</th>\n",
       "      <th>SibSp</th>\n",
       "      <th>Parch</th>\n",
       "      <th>Ticket</th>\n",
       "      <th>Fare</th>\n",
       "      <th>Cabin</th>\n",
       "      <th>Embarked</th>\n",
       "    </tr>\n",
       "    <tr>\n",
       "      <th>PassengerId</th>\n",
       "      <th></th>\n",
       "      <th></th>\n",
       "      <th></th>\n",
       "      <th></th>\n",
       "      <th></th>\n",
       "      <th></th>\n",
       "      <th></th>\n",
       "      <th></th>\n",
       "      <th></th>\n",
       "      <th></th>\n",
       "      <th></th>\n",
       "    </tr>\n",
       "  </thead>\n",
       "  <tbody>\n",
       "    <tr>\n",
       "      <th>0</th>\n",
       "      <td>1</td>\n",
       "      <td>1</td>\n",
       "      <td>Oconnor, Frankie</td>\n",
       "      <td>male</td>\n",
       "      <td>NaN</td>\n",
       "      <td>2</td>\n",
       "      <td>0</td>\n",
       "      <td>209245</td>\n",
       "      <td>27.14</td>\n",
       "      <td>C12239</td>\n",
       "      <td>S</td>\n",
       "    </tr>\n",
       "    <tr>\n",
       "      <th>1</th>\n",
       "      <td>0</td>\n",
       "      <td>3</td>\n",
       "      <td>Bryan, Drew</td>\n",
       "      <td>male</td>\n",
       "      <td>NaN</td>\n",
       "      <td>0</td>\n",
       "      <td>0</td>\n",
       "      <td>27323</td>\n",
       "      <td>13.35</td>\n",
       "      <td>NaN</td>\n",
       "      <td>S</td>\n",
       "    </tr>\n",
       "    <tr>\n",
       "      <th>2</th>\n",
       "      <td>0</td>\n",
       "      <td>3</td>\n",
       "      <td>Owens, Kenneth</td>\n",
       "      <td>male</td>\n",
       "      <td>0.33</td>\n",
       "      <td>1</td>\n",
       "      <td>2</td>\n",
       "      <td>CA 457703</td>\n",
       "      <td>71.29</td>\n",
       "      <td>NaN</td>\n",
       "      <td>S</td>\n",
       "    </tr>\n",
       "    <tr>\n",
       "      <th>3</th>\n",
       "      <td>0</td>\n",
       "      <td>3</td>\n",
       "      <td>Kramer, James</td>\n",
       "      <td>male</td>\n",
       "      <td>19.00</td>\n",
       "      <td>0</td>\n",
       "      <td>0</td>\n",
       "      <td>A. 10866</td>\n",
       "      <td>13.04</td>\n",
       "      <td>NaN</td>\n",
       "      <td>S</td>\n",
       "    </tr>\n",
       "    <tr>\n",
       "      <th>4</th>\n",
       "      <td>1</td>\n",
       "      <td>3</td>\n",
       "      <td>Bond, Michael</td>\n",
       "      <td>male</td>\n",
       "      <td>25.00</td>\n",
       "      <td>0</td>\n",
       "      <td>0</td>\n",
       "      <td>427635</td>\n",
       "      <td>7.76</td>\n",
       "      <td>NaN</td>\n",
       "      <td>S</td>\n",
       "    </tr>\n",
       "  </tbody>\n",
       "</table>\n",
       "</div>"
      ],
      "text/plain": [
       "             Survived  Pclass              Name   Sex    Age  SibSp  Parch  \\\n",
       "PassengerId                                                                  \n",
       "0                   1       1  Oconnor, Frankie  male    NaN      2      0   \n",
       "1                   0       3       Bryan, Drew  male    NaN      0      0   \n",
       "2                   0       3    Owens, Kenneth  male   0.33      1      2   \n",
       "3                   0       3     Kramer, James  male  19.00      0      0   \n",
       "4                   1       3     Bond, Michael  male  25.00      0      0   \n",
       "\n",
       "                Ticket   Fare   Cabin Embarked  \n",
       "PassengerId                                     \n",
       "0               209245  27.14  C12239        S  \n",
       "1                27323  13.35     NaN        S  \n",
       "2            CA 457703  71.29     NaN        S  \n",
       "3             A. 10866  13.04     NaN        S  \n",
       "4               427635   7.76     NaN        S  "
      ]
     },
     "execution_count": 23,
     "metadata": {},
     "output_type": "execute_result"
    }
   ],
   "source": [
    "# Подгрузим данные для их исследования:\n",
    "df = pd.read_csv(\"train_titanic.csv\", index_col=\"PassengerId\")\n",
    "df.head()"
   ]
  },
  {
   "cell_type": "code",
   "execution_count": 24,
   "id": "2868b103",
   "metadata": {},
   "outputs": [
    {
     "data": {
      "text/html": [
       "<div>\n",
       "<style scoped>\n",
       "    .dataframe tbody tr th:only-of-type {\n",
       "        vertical-align: middle;\n",
       "    }\n",
       "\n",
       "    .dataframe tbody tr th {\n",
       "        vertical-align: top;\n",
       "    }\n",
       "\n",
       "    .dataframe thead th {\n",
       "        text-align: right;\n",
       "    }\n",
       "</style>\n",
       "<table border=\"1\" class=\"dataframe\">\n",
       "  <thead>\n",
       "    <tr style=\"text-align: right;\">\n",
       "      <th></th>\n",
       "      <th>Survived</th>\n",
       "      <th>Pclass</th>\n",
       "      <th>Name</th>\n",
       "      <th>Sex</th>\n",
       "      <th>Age</th>\n",
       "      <th>SibSp</th>\n",
       "      <th>Parch</th>\n",
       "      <th>Ticket</th>\n",
       "      <th>Fare</th>\n",
       "      <th>Cabin</th>\n",
       "      <th>Embarked</th>\n",
       "    </tr>\n",
       "    <tr>\n",
       "      <th>PassengerId</th>\n",
       "      <th></th>\n",
       "      <th></th>\n",
       "      <th></th>\n",
       "      <th></th>\n",
       "      <th></th>\n",
       "      <th></th>\n",
       "      <th></th>\n",
       "      <th></th>\n",
       "      <th></th>\n",
       "      <th></th>\n",
       "      <th></th>\n",
       "    </tr>\n",
       "  </thead>\n",
       "  <tbody>\n",
       "    <tr>\n",
       "      <th>99995</th>\n",
       "      <td>1</td>\n",
       "      <td>2</td>\n",
       "      <td>Bell, Adele</td>\n",
       "      <td>female</td>\n",
       "      <td>62.0</td>\n",
       "      <td>0</td>\n",
       "      <td>0</td>\n",
       "      <td>PC 15008</td>\n",
       "      <td>14.86</td>\n",
       "      <td>D17243</td>\n",
       "      <td>C</td>\n",
       "    </tr>\n",
       "    <tr>\n",
       "      <th>99996</th>\n",
       "      <td>0</td>\n",
       "      <td>2</td>\n",
       "      <td>Brown, Herman</td>\n",
       "      <td>male</td>\n",
       "      <td>66.0</td>\n",
       "      <td>0</td>\n",
       "      <td>0</td>\n",
       "      <td>13273</td>\n",
       "      <td>11.15</td>\n",
       "      <td>NaN</td>\n",
       "      <td>S</td>\n",
       "    </tr>\n",
       "    <tr>\n",
       "      <th>99997</th>\n",
       "      <td>0</td>\n",
       "      <td>3</td>\n",
       "      <td>Childress, Charles</td>\n",
       "      <td>male</td>\n",
       "      <td>37.0</td>\n",
       "      <td>0</td>\n",
       "      <td>0</td>\n",
       "      <td>NaN</td>\n",
       "      <td>9.95</td>\n",
       "      <td>NaN</td>\n",
       "      <td>S</td>\n",
       "    </tr>\n",
       "    <tr>\n",
       "      <th>99998</th>\n",
       "      <td>0</td>\n",
       "      <td>3</td>\n",
       "      <td>Caughlin, Thomas</td>\n",
       "      <td>male</td>\n",
       "      <td>51.0</td>\n",
       "      <td>0</td>\n",
       "      <td>1</td>\n",
       "      <td>458654</td>\n",
       "      <td>30.92</td>\n",
       "      <td>NaN</td>\n",
       "      <td>S</td>\n",
       "    </tr>\n",
       "    <tr>\n",
       "      <th>99999</th>\n",
       "      <td>0</td>\n",
       "      <td>3</td>\n",
       "      <td>Enciso, Tyler</td>\n",
       "      <td>male</td>\n",
       "      <td>55.0</td>\n",
       "      <td>0</td>\n",
       "      <td>0</td>\n",
       "      <td>458074</td>\n",
       "      <td>13.96</td>\n",
       "      <td>NaN</td>\n",
       "      <td>S</td>\n",
       "    </tr>\n",
       "  </tbody>\n",
       "</table>\n",
       "</div>"
      ],
      "text/plain": [
       "             Survived  Pclass                Name     Sex   Age  SibSp  Parch  \\\n",
       "PassengerId                                                                     \n",
       "99995               1       2         Bell, Adele  female  62.0      0      0   \n",
       "99996               0       2       Brown, Herman    male  66.0      0      0   \n",
       "99997               0       3  Childress, Charles    male  37.0      0      0   \n",
       "99998               0       3    Caughlin, Thomas    male  51.0      0      1   \n",
       "99999               0       3       Enciso, Tyler    male  55.0      0      0   \n",
       "\n",
       "               Ticket   Fare   Cabin Embarked  \n",
       "PassengerId                                    \n",
       "99995        PC 15008  14.86  D17243        C  \n",
       "99996           13273  11.15     NaN        S  \n",
       "99997             NaN   9.95     NaN        S  \n",
       "99998          458654  30.92     NaN        S  \n",
       "99999          458074  13.96     NaN        S  "
      ]
     },
     "execution_count": 24,
     "metadata": {},
     "output_type": "execute_result"
    }
   ],
   "source": [
    "df.tail()"
   ]
  },
  {
   "cell_type": "code",
   "execution_count": null,
   "id": "586bdb17",
   "metadata": {},
   "outputs": [],
   "source": []
  },
  {
   "cell_type": "markdown",
   "id": "524d83f1",
   "metadata": {},
   "source": [
    "# Data quality assessment (*Оценка качества данных*)"
   ]
  },
  {
   "cell_type": "markdown",
   "id": "dac5aec1",
   "metadata": {},
   "source": [
    "Что это означает качество данных?\n",
    "\n",
    "Это определённые требования и показатели качества данных. К ним относятся:\n",
    "* Достоверность данных — Validity\n",
    "* Точность — Accuracy\n",
    "* Завершенность — Completeness\n",
    "* Консистенция — Consistency\n",
    "* Единообразие — Uniformity\n",
    "\n",
    "### Достоверность данных\n",
    "* Ограничения типа данных: значения в определенном столбце должны иметь определенный тип данных, например, логическое, числовое, формат даты и т.д.\n",
    "* Ограничения диапазона (Range Constraints): как правило, числа или даты должны попадать в определенный диапазон.\n",
    "* Ограничения уникальности (Unique Constraints): поле или комбинация полей должны быть уникальными в наборе данных.\n",
    "* Ограничения Set-Membership: значения столбца происходят из набора дискретных значений, например, пол человека может быть «мужской» или «женский». Т.е. фиксированный, редко изменяемый набор значений (или никогда не изменяющийся).\n",
    "* и т.п.\n",
    "\n",
    "### Точность — Accuracy\n",
    "Степень, в которой данные близки к истинным значениям.\n",
    "\n",
    "### Завершенность — Completeness\n",
    "Степень, в которой все необходимые данные известны.\n",
    "\n",
    "### Консистенция — Consistency\n",
    "Степень соответствия данных в одном наборе данных или в нескольких наборах данных.\n",
    "\n",
    "### Единообразие — Uniformity\n",
    "Степень, в которой данные указываются с использованием одной и той же единицы измерения.\n",
    "\n"
   ]
  },
  {
   "cell_type": "code",
   "execution_count": 25,
   "id": "773b68ca",
   "metadata": {},
   "outputs": [
    {
     "name": "stdout",
     "output_type": "stream",
     "text": [
      "<class 'pandas.core.frame.DataFrame'>\n",
      "Int64Index: 100000 entries, 0 to 99999\n",
      "Data columns (total 11 columns):\n",
      " #   Column    Non-Null Count   Dtype  \n",
      "---  ------    --------------   -----  \n",
      " 0   Survived  100000 non-null  int64  \n",
      " 1   Pclass    100000 non-null  int64  \n",
      " 2   Name      100000 non-null  object \n",
      " 3   Sex       100000 non-null  object \n",
      " 4   Age       96708 non-null   float64\n",
      " 5   SibSp     100000 non-null  int64  \n",
      " 6   Parch     100000 non-null  int64  \n",
      " 7   Ticket    95377 non-null   object \n",
      " 8   Fare      99866 non-null   float64\n",
      " 9   Cabin     32134 non-null   object \n",
      " 10  Embarked  99750 non-null   object \n",
      "dtypes: float64(2), int64(4), object(5)\n",
      "memory usage: 9.2+ MB\n"
     ]
    }
   ],
   "source": [
    "# Посмотрим на типы столбцов и их наполненность.\n",
    "df.info()"
   ]
  },
  {
   "cell_type": "markdown",
   "id": "e426a8a2",
   "metadata": {},
   "source": [
    "Видим, что все столбцы соответствуют \"**Ограничениям типа данных**\" (требование в части Достоверности данных).\n",
    "\n",
    "Проверим:\n",
    "* \"**Ограничения диапазона**\"\n",
    "* \"**Ограничения уникальности**\"\n",
    "* \"**Ограничения Set-Membership**\"\n",
    "\n",
    "(выводы в конце - в разделе **Summary**)"
   ]
  },
  {
   "cell_type": "code",
   "execution_count": 26,
   "id": "41b0009c",
   "metadata": {},
   "outputs": [
    {
     "data": {
      "text/plain": [
       "[1, 0]"
      ]
     },
     "execution_count": 26,
     "metadata": {},
     "output_type": "execute_result"
    }
   ],
   "source": [
    "# Возможные значения атрибута \"Спасшийся\":\n",
    "df.Survived.unique().tolist()"
   ]
  },
  {
   "cell_type": "code",
   "execution_count": 27,
   "id": "9e8c4ae9",
   "metadata": {},
   "outputs": [
    {
     "data": {
      "text/plain": [
       "[1, 3, 2]"
      ]
     },
     "execution_count": 27,
     "metadata": {},
     "output_type": "execute_result"
    }
   ],
   "source": [
    "# Возможные значения атрибута \"Класс билета\":\n",
    "df.Pclass.unique().tolist()"
   ]
  },
  {
   "cell_type": "code",
   "execution_count": 28,
   "id": "6aef0d02",
   "metadata": {},
   "outputs": [
    {
     "data": {
      "text/plain": [
       "['male', 'female']"
      ]
     },
     "execution_count": 28,
     "metadata": {},
     "output_type": "execute_result"
    }
   ],
   "source": [
    "# Возможная половая принадлежность:\n",
    "df.Sex.unique().tolist()"
   ]
  },
  {
   "cell_type": "code",
   "execution_count": 29,
   "id": "50f9aa37",
   "metadata": {},
   "outputs": [
    {
     "data": {
      "text/plain": [
       "(0.08, 87.0)"
      ]
     },
     "execution_count": 29,
     "metadata": {},
     "output_type": "execute_result"
    }
   ],
   "source": [
    "# Границы значений возраста:\n",
    "df.Age.min(), df.Age.max()"
   ]
  },
  {
   "cell_type": "code",
   "execution_count": 30,
   "id": "10e23cd9",
   "metadata": {},
   "outputs": [
    {
     "data": {
      "text/plain": [
       "[0, 1, 2, 3, 4, 5, 8]"
      ]
     },
     "execution_count": 30,
     "metadata": {},
     "output_type": "execute_result"
    }
   ],
   "source": [
    "# Возможные значения количества, находящихся на борту братьев и сестёр, с учетом мужа и жены данного пасажира.\n",
    "sorted(df.SibSp.unique().tolist())"
   ]
  },
  {
   "cell_type": "code",
   "execution_count": 31,
   "id": "47de5abd",
   "metadata": {},
   "outputs": [
    {
     "data": {
      "text/plain": [
       "[0, 1, 2, 3, 4, 5, 6, 9]"
      ]
     },
     "execution_count": 31,
     "metadata": {},
     "output_type": "execute_result"
    }
   ],
   "source": [
    "# Возможные значения количества, находящихся на борту детей и родителей данного пасажира.\n",
    "sorted(df.Parch.unique().tolist())"
   ]
  },
  {
   "cell_type": "code",
   "execution_count": 32,
   "id": "6a8e581d",
   "metadata": {},
   "outputs": [
    {
     "data": {
      "text/plain": [
       "(0.68, 744.66)"
      ]
     },
     "execution_count": 32,
     "metadata": {},
     "output_type": "execute_result"
    }
   ],
   "source": [
    "df.Fare.min(), df.Fare.max()"
   ]
  },
  {
   "cell_type": "code",
   "execution_count": 33,
   "id": "941dd03a",
   "metadata": {},
   "outputs": [
    {
     "data": {
      "text/plain": [
       "['S', 'C', 'Q', nan]"
      ]
     },
     "execution_count": 33,
     "metadata": {},
     "output_type": "execute_result"
    }
   ],
   "source": [
    "df.Embarked.unique().tolist()"
   ]
  },
  {
   "cell_type": "code",
   "execution_count": 34,
   "id": "1cc0c779",
   "metadata": {},
   "outputs": [
    {
     "data": {
      "text/plain": [
       "S    72139\n",
       "C    22187\n",
       "Q     5424\n",
       "Name: Embarked, dtype: int64"
      ]
     },
     "execution_count": 34,
     "metadata": {},
     "output_type": "execute_result"
    }
   ],
   "source": [
    "df.Embarked.value_counts()"
   ]
  },
  {
   "cell_type": "markdown",
   "id": "ae5f3e9d",
   "metadata": {},
   "source": [
    "Видим, что есть пропуски.\n",
    "Визуально посмотрим пропуски в данных по всем столбцам:"
   ]
  },
  {
   "cell_type": "code",
   "execution_count": null,
   "id": "8b731728",
   "metadata": {},
   "outputs": [],
   "source": []
  },
  {
   "cell_type": "markdown",
   "id": "3fd87c83",
   "metadata": {},
   "source": [
    "Зафиксируем исходное количество строк и столбцов, что бы по завершении исследования увидеть изменения:"
   ]
  },
  {
   "cell_type": "code",
   "execution_count": 35,
   "id": "ef0106e7",
   "metadata": {},
   "outputs": [
    {
     "name": "stdout",
     "output_type": "stream",
     "text": [
      "(100000, 11)\n"
     ]
    }
   ],
   "source": [
    "df_start_shape = df.shape\n",
    "print(df_start_shape)"
   ]
  },
  {
   "cell_type": "code",
   "execution_count": 36,
   "id": "a8528339",
   "metadata": {},
   "outputs": [
    {
     "name": "stdout",
     "output_type": "stream",
     "text": [
      "-------------------------------\n",
      "Процент пропущенных значений:\n",
      "Cabin       67.866\n",
      "Ticket       4.623\n",
      "Age          3.292\n",
      "Embarked     0.250\n",
      "Fare         0.134\n",
      "Survived     0.000\n",
      "Pclass       0.000\n",
      "Name         0.000\n",
      "Sex          0.000\n",
      "SibSp        0.000\n",
      "Parch        0.000\n",
      "dtype: float64\n",
      "-------------------------------\n",
      "Количество пропущенных значений:\n",
      "Cabin       67866\n",
      "Ticket       4623\n",
      "Age          3292\n",
      "Embarked      250\n",
      "Fare          134\n",
      "Survived        0\n",
      "Pclass          0\n",
      "Name            0\n",
      "Sex             0\n",
      "SibSp           0\n",
      "Parch           0\n",
      "dtype: int64\n",
      "-------------------------------\n"
     ]
    }
   ],
   "source": [
    "# Посмотрим проценты пропусков в данных по столбцам:\n",
    "missing_values = ((df.isna().sum() / df_start_shape[0]) * 100 ).sort_values(ascending=False)\n",
    "print(\"-------------------------------\")\n",
    "print(\"Процент пропущенных значений:\")\n",
    "print(missing_values)\n",
    "print(\"-------------------------------\")\n",
    "missing_values = df.isna().sum().sort_values(ascending=False)\n",
    "print(\"Количество пропущенных значений:\")\n",
    "print(missing_values)\n",
    "print(\"-------------------------------\")\n"
   ]
  },
  {
   "cell_type": "markdown",
   "id": "0a94fa6d",
   "metadata": {},
   "source": [
    "#### Проверим на наличие дубликатов:"
   ]
  },
  {
   "cell_type": "code",
   "execution_count": 37,
   "id": "4c9d5909",
   "metadata": {},
   "outputs": [
    {
     "data": {
      "text/html": [
       "<div>\n",
       "<style scoped>\n",
       "    .dataframe tbody tr th:only-of-type {\n",
       "        vertical-align: middle;\n",
       "    }\n",
       "\n",
       "    .dataframe tbody tr th {\n",
       "        vertical-align: top;\n",
       "    }\n",
       "\n",
       "    .dataframe thead th {\n",
       "        text-align: right;\n",
       "    }\n",
       "</style>\n",
       "<table border=\"1\" class=\"dataframe\">\n",
       "  <thead>\n",
       "    <tr style=\"text-align: right;\">\n",
       "      <th></th>\n",
       "      <th>Survived</th>\n",
       "      <th>Pclass</th>\n",
       "      <th>Name</th>\n",
       "      <th>Sex</th>\n",
       "      <th>Age</th>\n",
       "      <th>SibSp</th>\n",
       "      <th>Parch</th>\n",
       "      <th>Ticket</th>\n",
       "      <th>Fare</th>\n",
       "      <th>Cabin</th>\n",
       "      <th>Embarked</th>\n",
       "    </tr>\n",
       "    <tr>\n",
       "      <th>PassengerId</th>\n",
       "      <th></th>\n",
       "      <th></th>\n",
       "      <th></th>\n",
       "      <th></th>\n",
       "      <th></th>\n",
       "      <th></th>\n",
       "      <th></th>\n",
       "      <th></th>\n",
       "      <th></th>\n",
       "      <th></th>\n",
       "      <th></th>\n",
       "    </tr>\n",
       "  </thead>\n",
       "  <tbody>\n",
       "  </tbody>\n",
       "</table>\n",
       "</div>"
      ],
      "text/plain": [
       "Empty DataFrame\n",
       "Columns: [Survived, Pclass, Name, Sex, Age, SibSp, Parch, Ticket, Fare, Cabin, Embarked]\n",
       "Index: []"
      ]
     },
     "execution_count": 37,
     "metadata": {},
     "output_type": "execute_result"
    }
   ],
   "source": [
    "df_dupl = df[df.duplicated(keep=False)]\n",
    "df_dupl"
   ]
  },
  {
   "cell_type": "markdown",
   "id": "94fc7d9f",
   "metadata": {},
   "source": [
    "**В этом разделе необходимо рассмотреть наличие выбросов. Но на мой взгляд эту часть стоит перенести в следующий раздел, так как изучение выбросов можно рассматривать как продолжение изучения \"ящика с усами\".**"
   ]
  },
  {
   "cell_type": "markdown",
   "id": "4bbc2824",
   "metadata": {},
   "source": [
    "# Data exploration (*Исследование данных*)"
   ]
  },
  {
   "cell_type": "markdown",
   "id": "4baee4b7",
   "metadata": {},
   "source": [
    "### Информация для понимания содержимого столбцов:\n",
    "\n",
    "| Столбец       | Описание              | Значения      \n",
    "|:--------------|:----------------------|:-------------\n",
    "| **Survived**  | Выжил или нет         | 0=Нет, 1=Да   \n",
    "| **Pclass**    | Класс билета          | 1st, 2nd, 3rd \n",
    "| **Name**      | Имя пассажира         |               \n",
    "| **Sex**       | пол                   | male, female  \n",
    "| **Age**       | Возраст               | в годах       \n",
    "| **SibSp**     | братья + мужья и жены |               \n",
    "| **Parch**     | Родители + дети       |               \n",
    "| **Ticket**    | Номер билета          |               \n",
    "| **Fare**      | Плата за проезд       |               \n",
    "| **Cabin**     | Номер каюты           |               \n",
    "| **Embarked**  | Порт посадки на борт  | C = Cherbourg  \n",
    "|               |                       | Q = Queenstown\n",
    "|               |                       | S = Southampton \n",
    "\n",
    "**Примечания к переменным**\n",
    "\n",
    "**pclass**: Доступность для социально-экономического статуса (SES)\n",
    "\t1st = Upper\n",
    "\t2nd = Middle\n",
    "\t3rd = Lower\n",
    "\n",
    "**age**: Возраст является дробным, если он меньше 1. Если же возраст дольше 1, то он в виде xx.5 (с точностью до полугода)\n",
    "\n",
    "**sibsp**: Набор данных определяющий следующие семейные отношения (горизонтальные):\n",
    "\tSibling = брат, сестра, сводный брат, сводная сестра\n",
    "\tSpouse = муж, жена (любовницы и женихи игнорировались)\n",
    "\n",
    "**parch**: Набор данных определяющий следующие семейные отношения (вертикальные):\n",
    "\tParent = отец, мать\n",
    "\tChild = дети: дочь, сын, падчерица, пасынок\n",
    "(Некоторые дети путешествовали только с няней, поэтому для них parch=0)"
   ]
  },
  {
   "cell_type": "markdown",
   "id": "8468e570",
   "metadata": {},
   "source": [
    "#### Общая картина по данным выглядит так:"
   ]
  },
  {
   "cell_type": "code",
   "execution_count": 38,
   "id": "eb1c89c1",
   "metadata": {},
   "outputs": [
    {
     "data": {
      "text/html": [
       "<div>\n",
       "<style scoped>\n",
       "    .dataframe tbody tr th:only-of-type {\n",
       "        vertical-align: middle;\n",
       "    }\n",
       "\n",
       "    .dataframe tbody tr th {\n",
       "        vertical-align: top;\n",
       "    }\n",
       "\n",
       "    .dataframe thead th {\n",
       "        text-align: right;\n",
       "    }\n",
       "</style>\n",
       "<table border=\"1\" class=\"dataframe\">\n",
       "  <thead>\n",
       "    <tr style=\"text-align: right;\">\n",
       "      <th></th>\n",
       "      <th>Survived</th>\n",
       "      <th>Pclass</th>\n",
       "      <th>Age</th>\n",
       "      <th>SibSp</th>\n",
       "      <th>Parch</th>\n",
       "      <th>Fare</th>\n",
       "    </tr>\n",
       "  </thead>\n",
       "  <tbody>\n",
       "    <tr>\n",
       "      <th>count</th>\n",
       "      <td>100000.000000</td>\n",
       "      <td>100000.000000</td>\n",
       "      <td>96708.000000</td>\n",
       "      <td>100000.000000</td>\n",
       "      <td>100000.000000</td>\n",
       "      <td>99866.00000</td>\n",
       "    </tr>\n",
       "    <tr>\n",
       "      <th>mean</th>\n",
       "      <td>0.427740</td>\n",
       "      <td>2.106910</td>\n",
       "      <td>38.355472</td>\n",
       "      <td>0.397690</td>\n",
       "      <td>0.454560</td>\n",
       "      <td>43.92933</td>\n",
       "    </tr>\n",
       "    <tr>\n",
       "      <th>std</th>\n",
       "      <td>0.494753</td>\n",
       "      <td>0.837727</td>\n",
       "      <td>18.313556</td>\n",
       "      <td>0.862566</td>\n",
       "      <td>0.950076</td>\n",
       "      <td>69.58882</td>\n",
       "    </tr>\n",
       "    <tr>\n",
       "      <th>min</th>\n",
       "      <td>0.000000</td>\n",
       "      <td>1.000000</td>\n",
       "      <td>0.080000</td>\n",
       "      <td>0.000000</td>\n",
       "      <td>0.000000</td>\n",
       "      <td>0.68000</td>\n",
       "    </tr>\n",
       "    <tr>\n",
       "      <th>25%</th>\n",
       "      <td>0.000000</td>\n",
       "      <td>1.000000</td>\n",
       "      <td>25.000000</td>\n",
       "      <td>0.000000</td>\n",
       "      <td>0.000000</td>\n",
       "      <td>10.04000</td>\n",
       "    </tr>\n",
       "    <tr>\n",
       "      <th>50%</th>\n",
       "      <td>0.000000</td>\n",
       "      <td>2.000000</td>\n",
       "      <td>39.000000</td>\n",
       "      <td>0.000000</td>\n",
       "      <td>0.000000</td>\n",
       "      <td>24.46000</td>\n",
       "    </tr>\n",
       "    <tr>\n",
       "      <th>75%</th>\n",
       "      <td>1.000000</td>\n",
       "      <td>3.000000</td>\n",
       "      <td>53.000000</td>\n",
       "      <td>1.000000</td>\n",
       "      <td>1.000000</td>\n",
       "      <td>33.50000</td>\n",
       "    </tr>\n",
       "    <tr>\n",
       "      <th>max</th>\n",
       "      <td>1.000000</td>\n",
       "      <td>3.000000</td>\n",
       "      <td>87.000000</td>\n",
       "      <td>8.000000</td>\n",
       "      <td>9.000000</td>\n",
       "      <td>744.66000</td>\n",
       "    </tr>\n",
       "  </tbody>\n",
       "</table>\n",
       "</div>"
      ],
      "text/plain": [
       "            Survived         Pclass           Age          SibSp  \\\n",
       "count  100000.000000  100000.000000  96708.000000  100000.000000   \n",
       "mean        0.427740       2.106910     38.355472       0.397690   \n",
       "std         0.494753       0.837727     18.313556       0.862566   \n",
       "min         0.000000       1.000000      0.080000       0.000000   \n",
       "25%         0.000000       1.000000     25.000000       0.000000   \n",
       "50%         0.000000       2.000000     39.000000       0.000000   \n",
       "75%         1.000000       3.000000     53.000000       1.000000   \n",
       "max         1.000000       3.000000     87.000000       8.000000   \n",
       "\n",
       "               Parch         Fare  \n",
       "count  100000.000000  99866.00000  \n",
       "mean        0.454560     43.92933  \n",
       "std         0.950076     69.58882  \n",
       "min         0.000000      0.68000  \n",
       "25%         0.000000     10.04000  \n",
       "50%         0.000000     24.46000  \n",
       "75%         1.000000     33.50000  \n",
       "max         9.000000    744.66000  "
      ]
     },
     "execution_count": 38,
     "metadata": {},
     "output_type": "execute_result"
    }
   ],
   "source": [
    "df.describe()"
   ]
  },
  {
   "cell_type": "markdown",
   "id": "2d8ebe87",
   "metadata": {},
   "source": [
    "Видим, что нет нарушения смысла параметров `возраст` и `цена`:\n",
    "* больше нуля;\n",
    "* не превышают некоторых \"адекватных\" границ.\n",
    "\n",
    "\n",
    "\n",
    "#### Рассмотрим распределение отдельных параметров:"
   ]
  },
  {
   "cell_type": "code",
   "execution_count": 39,
   "id": "7f6093c2",
   "metadata": {},
   "outputs": [
    {
     "data": {
      "text/plain": [
       "0    57226\n",
       "1    42774\n",
       "Name: Survived, dtype: int64"
      ]
     },
     "execution_count": 39,
     "metadata": {},
     "output_type": "execute_result"
    }
   ],
   "source": [
    "df.Survived.value_counts()"
   ]
  },
  {
   "cell_type": "code",
   "execution_count": 40,
   "id": "25f17909",
   "metadata": {},
   "outputs": [
    {
     "data": {
      "text/plain": [
       "3    41006\n",
       "1    30315\n",
       "2    28679\n",
       "Name: Pclass, dtype: int64"
      ]
     },
     "execution_count": 40,
     "metadata": {},
     "output_type": "execute_result"
    }
   ],
   "source": [
    "df.Pclass.value_counts()"
   ]
  },
  {
   "cell_type": "code",
   "execution_count": 41,
   "id": "c743d7ee",
   "metadata": {},
   "outputs": [
    {
     "data": {
      "text/plain": [
       "male      56114\n",
       "female    43886\n",
       "Name: Sex, dtype: int64"
      ]
     },
     "execution_count": 41,
     "metadata": {},
     "output_type": "execute_result"
    }
   ],
   "source": [
    "df.Sex.value_counts()"
   ]
  },
  {
   "cell_type": "code",
   "execution_count": 42,
   "id": "848b3844",
   "metadata": {},
   "outputs": [
    {
     "data": {
      "text/plain": [
       "S    72139\n",
       "C    22187\n",
       "Q     5424\n",
       "Name: Embarked, dtype: int64"
      ]
     },
     "execution_count": 42,
     "metadata": {},
     "output_type": "execute_result"
    }
   ],
   "source": [
    "df.Embarked.value_counts()"
   ]
  },
  {
   "cell_type": "markdown",
   "id": "c41b87fe",
   "metadata": {},
   "source": [
    "Можно рассмотреть распределение значений по столбцам `sibsp` и `parch`, но эти данные без понимания контекста несут невнятный и малоприменимый смысл:"
   ]
  },
  {
   "cell_type": "code",
   "execution_count": 43,
   "id": "9cfdb6dd",
   "metadata": {},
   "outputs": [
    {
     "data": {
      "text/plain": [
       "0    73308\n",
       "1    19758\n",
       "2     3703\n",
       "3     1635\n",
       "4     1168\n",
       "8      296\n",
       "5      132\n",
       "Name: SibSp, dtype: int64"
      ]
     },
     "execution_count": 43,
     "metadata": {},
     "output_type": "execute_result"
    }
   ],
   "source": [
    "df.SibSp.value_counts()"
   ]
  },
  {
   "cell_type": "code",
   "execution_count": 44,
   "id": "6d03681b",
   "metadata": {},
   "outputs": [
    {
     "data": {
      "text/plain": [
       "0    73540\n",
       "1    12996\n",
       "2    11236\n",
       "3      983\n",
       "4      446\n",
       "5      331\n",
       "9      264\n",
       "6      204\n",
       "Name: Parch, dtype: int64"
      ]
     },
     "execution_count": 44,
     "metadata": {},
     "output_type": "execute_result"
    }
   ],
   "source": [
    "df.Parch.value_counts()"
   ]
  },
  {
   "cell_type": "markdown",
   "id": "3899b8dc",
   "metadata": {},
   "source": [
    "Распределение `Ticket` и `Cabin` вообще лишено смысла."
   ]
  },
  {
   "cell_type": "markdown",
   "id": "93cdd9d8",
   "metadata": {},
   "source": [
    "У нас два столбца с числовыми значениями из диапазона, распределение которых стоит расмотреть отдельно. Это `Age` и `Fare`.\n",
    "\n",
    "Все остальный судя по их описанию - это категориальные признаки.\n",
    "\n",
    "#### Изучим отдельно: Age"
   ]
  },
  {
   "cell_type": "code",
   "execution_count": 45,
   "id": "12eb1b84",
   "metadata": {},
   "outputs": [
    {
     "data": {
      "text/plain": [
       "count    96708.000000\n",
       "mean        38.355472\n",
       "std         18.313556\n",
       "min          0.080000\n",
       "25%         25.000000\n",
       "50%         39.000000\n",
       "75%         53.000000\n",
       "max         87.000000\n",
       "Name: Age, dtype: float64"
      ]
     },
     "execution_count": 45,
     "metadata": {},
     "output_type": "execute_result"
    }
   ],
   "source": [
    "# Статистики:\n",
    "df.Age.describe()"
   ]
  },
  {
   "cell_type": "markdown",
   "id": "e786c812",
   "metadata": {},
   "source": [
    "**Средний возраст**: 38 полных лет\n",
    "\n",
    "**Самый старый**: 87 полных лет\n",
    "\n",
    "**Самый маленький**: 0.8 года\n"
   ]
  },
  {
   "cell_type": "code",
   "execution_count": 46,
   "id": "a48932be",
   "metadata": {},
   "outputs": [
    {
     "data": {
      "image/png": "[encoded data removed]",
      "text/plain": [
       "<Figure size 432x288 with 1 Axes>"
      ]
     },
     "metadata": {
      "needs_background": "light"
     },
     "output_type": "display_data"
    }
   ],
   "source": [
    "sns.distplot(a=df[df.Age.isna()==False]['Age'], kde=False)\n",
    "\n",
    "plt.title(title_num(\"Распределение Возврастов\"), fontsize=15);"
   ]
  },
  {
   "cell_type": "markdown",
   "id": "5237d7eb",
   "metadata": {},
   "source": [
    "Рассмотрим распределения разных наборов возрастов (разные группировки):"
   ]
  },
  {
   "cell_type": "code",
   "execution_count": 47,
   "id": "9a9e4634",
   "metadata": {},
   "outputs": [
    {
     "data": {
      "image/png": "[encoded data removed]",
      "text/plain": [
       "<Figure size 432x288 with 1 Axes>"
      ]
     },
     "metadata": {
      "needs_background": "light"
     },
     "output_type": "display_data"
    }
   ],
   "source": [
    "sns.boxplot(y=\"Age\", data=df)\n",
    "plt.title(title_num(\"Распределение возрастов\"), fontsize=20);\n"
   ]
  },
  {
   "cell_type": "code",
   "execution_count": 48,
   "id": "3cd4fecc",
   "metadata": {},
   "outputs": [
    {
     "data": {
      "image/png": "[encoded data removed]",
      "text/plain": [
       "<Figure size 432x288 with 1 Axes>"
      ]
     },
     "metadata": {
      "needs_background": "light"
     },
     "output_type": "display_data"
    }
   ],
   "source": [
    "sns.boxplot(x=\"Survived\", y=\"Age\", data=df, palette=\"vlag\")\n",
    "plt.title(title_num(\"Распределение возрастов в разрезе выжил/утонул\"), fontsize=15);\n"
   ]
  },
  {
   "cell_type": "code",
   "execution_count": 49,
   "id": "06174e9e",
   "metadata": {},
   "outputs": [
    {
     "data": {
      "image/png": "[encoded data removed]",
      "text/plain": [
       "<Figure size 432x288 with 1 Axes>"
      ]
     },
     "metadata": {
      "needs_background": "light"
     },
     "output_type": "display_data"
    }
   ],
   "source": [
    "sns.boxplot(x=\"Sex\", y=\"Age\", data=df, palette=\"vlag\")\n",
    "plt.title(title_num(\"Распределение возрастов в разрезе мужчина/женщина\"), fontsize=15);\n"
   ]
  },
  {
   "cell_type": "code",
   "execution_count": 50,
   "id": "51bbb413",
   "metadata": {},
   "outputs": [
    {
     "data": {
      "image/png": "[encoded data removed]",
      "text/plain": [
       "<Figure size 432x288 with 1 Axes>"
      ]
     },
     "metadata": {
      "needs_background": "light"
     },
     "output_type": "display_data"
    }
   ],
   "source": [
    "sns.boxplot(x=\"Embarked\", y=\"Age\", data=df, palette=\"vlag\")\n",
    "plt.title(title_num(\"Распределение возрастов в разрезе Портов посадки пассажиров\"), fontsize=15);\n"
   ]
  },
  {
   "cell_type": "markdown",
   "id": "1ccf61d6",
   "metadata": {},
   "source": [
    "**Здесь видим небольшой выброс** для порта посадки Q = Queenstown.\n",
    "\n",
    "Посмотрим на эти значения."
   ]
  },
  {
   "cell_type": "code",
   "execution_count": 51,
   "id": "d61d234d",
   "metadata": {},
   "outputs": [
    {
     "name": "stdout",
     "output_type": "stream",
     "text": [
      "Границы для оценки выбросов следуюшие:\n",
      "   нижняя: 3.0\n",
      "   верхняя: 99.0\n",
      "\n",
      "Минимальное значание '0.25' ниже нижней границы. Это выброс.\n",
      "Максимальное значание '83.0' ниже верхней границы. Это обычное значение.\n"
     ]
    }
   ],
   "source": [
    "# Найдём пороги:\n",
    "df_Age_Q = df[df[\"Embarked\"]==\"Q\"][\"Age\"]\n",
    "q25 = df_Age_Q.quantile(0.25)\n",
    "q75 = df_Age_Q.quantile(0.75)\n",
    "iqr = q75 - q25\n",
    "bottom_line = q25 - iqr * 1.5\n",
    "top_line = q75 + iqr * 1.5\n",
    "min_Age_Q = float(df_Age_Q.min())\n",
    "max_Age_Q = float(df_Age_Q.max())\n",
    "\n",
    "print(\"Границы для оценки выбросов следуюшие:\")\n",
    "print(f\"   нижняя: {bottom_line}\")\n",
    "print(f\"   верхняя: {top_line}\\n\")\n",
    "if min_Age_Q < bottom_line:\n",
    "    print(f\"Минимальное значание '{min_Age_Q}' ниже нижней границы. Это выброс.\")\n",
    "else:\n",
    "    print(f\"Минимальное значание '{min_Age_Q}' выше нижней границы. Это обычное значение.\")\n",
    "\n",
    "if max_Age_Q > top_line:\n",
    "    print(f\"Максимальное значание '{max_Age_Q}' выше верхней границы. Это выброс.\")\n",
    "else:\n",
    "    print(f\"Максимальное значание '{max_Age_Q}' ниже верхней границы. Это обычное значение.\")\n"
   ]
  },
  {
   "cell_type": "code",
   "execution_count": 52,
   "id": "300edbca",
   "metadata": {},
   "outputs": [
    {
     "data": {
      "text/html": [
       "<div>\n",
       "<style scoped>\n",
       "    .dataframe tbody tr th:only-of-type {\n",
       "        vertical-align: middle;\n",
       "    }\n",
       "\n",
       "    .dataframe tbody tr th {\n",
       "        vertical-align: top;\n",
       "    }\n",
       "\n",
       "    .dataframe thead th {\n",
       "        text-align: right;\n",
       "    }\n",
       "</style>\n",
       "<table border=\"1\" class=\"dataframe\">\n",
       "  <thead>\n",
       "    <tr style=\"text-align: right;\">\n",
       "      <th></th>\n",
       "      <th>Survived</th>\n",
       "      <th>Pclass</th>\n",
       "      <th>Name</th>\n",
       "      <th>Sex</th>\n",
       "      <th>Age</th>\n",
       "      <th>SibSp</th>\n",
       "      <th>Parch</th>\n",
       "      <th>Ticket</th>\n",
       "      <th>Fare</th>\n",
       "      <th>Cabin</th>\n",
       "      <th>Embarked</th>\n",
       "    </tr>\n",
       "    <tr>\n",
       "      <th>PassengerId</th>\n",
       "      <th></th>\n",
       "      <th></th>\n",
       "      <th></th>\n",
       "      <th></th>\n",
       "      <th></th>\n",
       "      <th></th>\n",
       "      <th></th>\n",
       "      <th></th>\n",
       "      <th></th>\n",
       "      <th></th>\n",
       "      <th></th>\n",
       "    </tr>\n",
       "  </thead>\n",
       "  <tbody>\n",
       "    <tr>\n",
       "      <th>7839</th>\n",
       "      <td>0</td>\n",
       "      <td>3</td>\n",
       "      <td>Rovero, Demetrius</td>\n",
       "      <td>male</td>\n",
       "      <td>2.00</td>\n",
       "      <td>1</td>\n",
       "      <td>1</td>\n",
       "      <td>C.A. 15372</td>\n",
       "      <td>25.82</td>\n",
       "      <td>NaN</td>\n",
       "      <td>Q</td>\n",
       "    </tr>\n",
       "    <tr>\n",
       "      <th>8513</th>\n",
       "      <td>0</td>\n",
       "      <td>3</td>\n",
       "      <td>Phillips, Peter</td>\n",
       "      <td>male</td>\n",
       "      <td>2.00</td>\n",
       "      <td>0</td>\n",
       "      <td>0</td>\n",
       "      <td>STON/O 168011</td>\n",
       "      <td>9.15</td>\n",
       "      <td>NaN</td>\n",
       "      <td>Q</td>\n",
       "    </tr>\n",
       "    <tr>\n",
       "      <th>13794</th>\n",
       "      <td>0</td>\n",
       "      <td>3</td>\n",
       "      <td>Cross, Kayla</td>\n",
       "      <td>female</td>\n",
       "      <td>1.00</td>\n",
       "      <td>4</td>\n",
       "      <td>1</td>\n",
       "      <td>11841</td>\n",
       "      <td>28.61</td>\n",
       "      <td>NaN</td>\n",
       "      <td>Q</td>\n",
       "    </tr>\n",
       "    <tr>\n",
       "      <th>18043</th>\n",
       "      <td>0</td>\n",
       "      <td>3</td>\n",
       "      <td>Gunning, Frank</td>\n",
       "      <td>male</td>\n",
       "      <td>2.00</td>\n",
       "      <td>1</td>\n",
       "      <td>2</td>\n",
       "      <td>A/5 13459</td>\n",
       "      <td>34.17</td>\n",
       "      <td>NaN</td>\n",
       "      <td>Q</td>\n",
       "    </tr>\n",
       "    <tr>\n",
       "      <th>23802</th>\n",
       "      <td>1</td>\n",
       "      <td>3</td>\n",
       "      <td>Moret, Lue</td>\n",
       "      <td>female</td>\n",
       "      <td>0.25</td>\n",
       "      <td>0</td>\n",
       "      <td>0</td>\n",
       "      <td>A. 13869</td>\n",
       "      <td>7.99</td>\n",
       "      <td>NaN</td>\n",
       "      <td>Q</td>\n",
       "    </tr>\n",
       "    <tr>\n",
       "      <th>30821</th>\n",
       "      <td>1</td>\n",
       "      <td>2</td>\n",
       "      <td>Alatorre, Marie</td>\n",
       "      <td>female</td>\n",
       "      <td>2.00</td>\n",
       "      <td>2</td>\n",
       "      <td>0</td>\n",
       "      <td>39336</td>\n",
       "      <td>52.00</td>\n",
       "      <td>NaN</td>\n",
       "      <td>Q</td>\n",
       "    </tr>\n",
       "    <tr>\n",
       "      <th>40782</th>\n",
       "      <td>0</td>\n",
       "      <td>3</td>\n",
       "      <td>Miller, Bryan</td>\n",
       "      <td>male</td>\n",
       "      <td>0.83</td>\n",
       "      <td>1</td>\n",
       "      <td>2</td>\n",
       "      <td>C.A. 413630</td>\n",
       "      <td>31.73</td>\n",
       "      <td>NaN</td>\n",
       "      <td>Q</td>\n",
       "    </tr>\n",
       "    <tr>\n",
       "      <th>51360</th>\n",
       "      <td>0</td>\n",
       "      <td>3</td>\n",
       "      <td>Watton, Camille</td>\n",
       "      <td>female</td>\n",
       "      <td>2.00</td>\n",
       "      <td>1</td>\n",
       "      <td>1</td>\n",
       "      <td>8522</td>\n",
       "      <td>27.14</td>\n",
       "      <td>NaN</td>\n",
       "      <td>Q</td>\n",
       "    </tr>\n",
       "    <tr>\n",
       "      <th>61073</th>\n",
       "      <td>0</td>\n",
       "      <td>3</td>\n",
       "      <td>Greene, Ben</td>\n",
       "      <td>male</td>\n",
       "      <td>2.00</td>\n",
       "      <td>0</td>\n",
       "      <td>0</td>\n",
       "      <td>A. 39072</td>\n",
       "      <td>8.76</td>\n",
       "      <td>NaN</td>\n",
       "      <td>Q</td>\n",
       "    </tr>\n",
       "    <tr>\n",
       "      <th>63890</th>\n",
       "      <td>0</td>\n",
       "      <td>3</td>\n",
       "      <td>Howard, Linda</td>\n",
       "      <td>female</td>\n",
       "      <td>2.00</td>\n",
       "      <td>0</td>\n",
       "      <td>1</td>\n",
       "      <td>23371</td>\n",
       "      <td>30.47</td>\n",
       "      <td>NaN</td>\n",
       "      <td>Q</td>\n",
       "    </tr>\n",
       "    <tr>\n",
       "      <th>64896</th>\n",
       "      <td>1</td>\n",
       "      <td>3</td>\n",
       "      <td>Bower, Linda</td>\n",
       "      <td>female</td>\n",
       "      <td>2.00</td>\n",
       "      <td>1</td>\n",
       "      <td>1</td>\n",
       "      <td>412475</td>\n",
       "      <td>25.65</td>\n",
       "      <td>NaN</td>\n",
       "      <td>Q</td>\n",
       "    </tr>\n",
       "    <tr>\n",
       "      <th>68997</th>\n",
       "      <td>1</td>\n",
       "      <td>3</td>\n",
       "      <td>Duty, Rebecca</td>\n",
       "      <td>female</td>\n",
       "      <td>0.92</td>\n",
       "      <td>1</td>\n",
       "      <td>1</td>\n",
       "      <td>407639</td>\n",
       "      <td>28.80</td>\n",
       "      <td>NaN</td>\n",
       "      <td>Q</td>\n",
       "    </tr>\n",
       "    <tr>\n",
       "      <th>71361</th>\n",
       "      <td>1</td>\n",
       "      <td>2</td>\n",
       "      <td>Delgadillo, Daisy</td>\n",
       "      <td>female</td>\n",
       "      <td>0.83</td>\n",
       "      <td>0</td>\n",
       "      <td>0</td>\n",
       "      <td>430078</td>\n",
       "      <td>8.36</td>\n",
       "      <td>NaN</td>\n",
       "      <td>Q</td>\n",
       "    </tr>\n",
       "    <tr>\n",
       "      <th>71608</th>\n",
       "      <td>0</td>\n",
       "      <td>2</td>\n",
       "      <td>Harmon, Aubrey</td>\n",
       "      <td>male</td>\n",
       "      <td>2.00</td>\n",
       "      <td>1</td>\n",
       "      <td>1</td>\n",
       "      <td>25798</td>\n",
       "      <td>31.57</td>\n",
       "      <td>NaN</td>\n",
       "      <td>Q</td>\n",
       "    </tr>\n",
       "    <tr>\n",
       "      <th>80748</th>\n",
       "      <td>1</td>\n",
       "      <td>2</td>\n",
       "      <td>Rudnick, Karen</td>\n",
       "      <td>female</td>\n",
       "      <td>1.00</td>\n",
       "      <td>0</td>\n",
       "      <td>0</td>\n",
       "      <td>SC/PARIS 16387</td>\n",
       "      <td>9.54</td>\n",
       "      <td>NaN</td>\n",
       "      <td>Q</td>\n",
       "    </tr>\n",
       "    <tr>\n",
       "      <th>88865</th>\n",
       "      <td>0</td>\n",
       "      <td>2</td>\n",
       "      <td>Caesar, Matthew</td>\n",
       "      <td>male</td>\n",
       "      <td>2.00</td>\n",
       "      <td>1</td>\n",
       "      <td>0</td>\n",
       "      <td>46722</td>\n",
       "      <td>64.47</td>\n",
       "      <td>NaN</td>\n",
       "      <td>Q</td>\n",
       "    </tr>\n",
       "    <tr>\n",
       "      <th>94905</th>\n",
       "      <td>0</td>\n",
       "      <td>2</td>\n",
       "      <td>Bruno, Andrew</td>\n",
       "      <td>male</td>\n",
       "      <td>2.00</td>\n",
       "      <td>1</td>\n",
       "      <td>1</td>\n",
       "      <td>25449</td>\n",
       "      <td>11.60</td>\n",
       "      <td>NaN</td>\n",
       "      <td>Q</td>\n",
       "    </tr>\n",
       "  </tbody>\n",
       "</table>\n",
       "</div>"
      ],
      "text/plain": [
       "             Survived  Pclass               Name     Sex   Age  SibSp  Parch  \\\n",
       "PassengerId                                                                    \n",
       "7839                0       3  Rovero, Demetrius    male  2.00      1      1   \n",
       "8513                0       3    Phillips, Peter    male  2.00      0      0   \n",
       "13794               0       3       Cross, Kayla  female  1.00      4      1   \n",
       "18043               0       3     Gunning, Frank    male  2.00      1      2   \n",
       "23802               1       3         Moret, Lue  female  0.25      0      0   \n",
       "30821               1       2    Alatorre, Marie  female  2.00      2      0   \n",
       "40782               0       3      Miller, Bryan    male  0.83      1      2   \n",
       "51360               0       3    Watton, Camille  female  2.00      1      1   \n",
       "61073               0       3        Greene, Ben    male  2.00      0      0   \n",
       "63890               0       3      Howard, Linda  female  2.00      0      1   \n",
       "64896               1       3       Bower, Linda  female  2.00      1      1   \n",
       "68997               1       3      Duty, Rebecca  female  0.92      1      1   \n",
       "71361               1       2  Delgadillo, Daisy  female  0.83      0      0   \n",
       "71608               0       2     Harmon, Aubrey    male  2.00      1      1   \n",
       "80748               1       2     Rudnick, Karen  female  1.00      0      0   \n",
       "88865               0       2    Caesar, Matthew    male  2.00      1      0   \n",
       "94905               0       2      Bruno, Andrew    male  2.00      1      1   \n",
       "\n",
       "                     Ticket   Fare Cabin Embarked  \n",
       "PassengerId                                        \n",
       "7839             C.A. 15372  25.82   NaN        Q  \n",
       "8513          STON/O 168011   9.15   NaN        Q  \n",
       "13794                 11841  28.61   NaN        Q  \n",
       "18043             A/5 13459  34.17   NaN        Q  \n",
       "23802              A. 13869   7.99   NaN        Q  \n",
       "30821                 39336  52.00   NaN        Q  \n",
       "40782           C.A. 413630  31.73   NaN        Q  \n",
       "51360                  8522  27.14   NaN        Q  \n",
       "61073              A. 39072   8.76   NaN        Q  \n",
       "63890                 23371  30.47   NaN        Q  \n",
       "64896                412475  25.65   NaN        Q  \n",
       "68997                407639  28.80   NaN        Q  \n",
       "71361                430078   8.36   NaN        Q  \n",
       "71608                 25798  31.57   NaN        Q  \n",
       "80748        SC/PARIS 16387   9.54   NaN        Q  \n",
       "88865                 46722  64.47   NaN        Q  \n",
       "94905                 25449  11.60   NaN        Q  "
      ]
     },
     "execution_count": 52,
     "metadata": {},
     "output_type": "execute_result"
    }
   ],
   "source": [
    "# Список выбросов по возрасту для пассажиров с посадкой в порту Q = Queenstown:\n",
    "df[(df[\"Embarked\"]==\"Q\") & (df[\"Age\"] < bottom_line)]"
   ]
  },
  {
   "cell_type": "markdown",
   "id": "a87e8fb6",
   "metadata": {},
   "source": [
    "#### Перейдём к изучению другого параметра: Fare"
   ]
  },
  {
   "cell_type": "code",
   "execution_count": 53,
   "id": "8722a791",
   "metadata": {},
   "outputs": [
    {
     "data": {
      "text/plain": [
       "count    99866.00000\n",
       "mean        43.92933\n",
       "std         69.58882\n",
       "min          0.68000\n",
       "25%         10.04000\n",
       "50%         24.46000\n",
       "75%         33.50000\n",
       "max        744.66000\n",
       "Name: Fare, dtype: float64"
      ]
     },
     "execution_count": 53,
     "metadata": {},
     "output_type": "execute_result"
    }
   ],
   "source": [
    "# Статистики:\n",
    "df.Fare.describe()"
   ]
  },
  {
   "cell_type": "markdown",
   "id": "c4bcfa67",
   "metadata": {},
   "source": [
    "**Средняя стоимость**: 43\n",
    "\n",
    "**Самый дорогой**: 744\n",
    "\n",
    "**Самый дешёвый**: 0.68"
   ]
  },
  {
   "cell_type": "code",
   "execution_count": 54,
   "id": "83b24982",
   "metadata": {},
   "outputs": [
    {
     "data": {
      "image/png": "[encoded data removed]",
      "text/plain": [
       "<Figure size 432x288 with 1 Axes>"
      ]
     },
     "metadata": {
      "needs_background": "light"
     },
     "output_type": "display_data"
    }
   ],
   "source": [
    "sns.distplot(a=df[df.Fare.isna()==False]['Fare'], kde=False)\n",
    "plt.title(title_num(\"Распределение Платы за проезд\"), fontsize=15);\n"
   ]
  },
  {
   "cell_type": "markdown",
   "id": "3141eb0a",
   "metadata": {},
   "source": [
    "Рассмотрим распределения разных наборов Плат за проезд (разные группировки):"
   ]
  },
  {
   "cell_type": "code",
   "execution_count": 55,
   "id": "3adc1c42",
   "metadata": {},
   "outputs": [
    {
     "data": {
      "image/png": "[encoded data removed]",
      "text/plain": [
       "<Figure size 360x720 with 1 Axes>"
      ]
     },
     "metadata": {
      "needs_background": "light"
     },
     "output_type": "display_data"
    }
   ],
   "source": [
    "plt.figure(figsize=(5,10))\n",
    "sns.boxplot(y=\"Fare\", data=df)\n",
    "plt.title(title_num(\"Распределение Платы за проезд в разрезе Портов посадки пассажиров\"), fontsize=15);\n"
   ]
  },
  {
   "cell_type": "markdown",
   "id": "2c942b07",
   "metadata": {},
   "source": [
    "Сразу видим значительные выбросы по цене проезда. Рассмотрим их подробнее."
   ]
  },
  {
   "cell_type": "code",
   "execution_count": 56,
   "id": "5605fa42",
   "metadata": {},
   "outputs": [
    {
     "name": "stdout",
     "output_type": "stream",
     "text": [
      "Границы для оценки выбросов следуюшие:\n",
      "   нижняя: -25.15\n",
      "   верхняя: 68.69\n",
      "\n",
      "Минимальное значание '0.68' выше нижней границы. Это обычное значение.\n",
      "Максимальное значание '744.66' выше верхней границы. Это выброс.\n"
     ]
    }
   ],
   "source": [
    "# Найдём пороги:\n",
    "df_Fare = df[\"Fare\"]\n",
    "q25 = df_Fare.quantile(0.25)\n",
    "q75 = df_Fare.quantile(0.75)\n",
    "iqr = q75 - q25\n",
    "bottom_line = q25 - iqr * 1.5\n",
    "top_line = q75 + iqr * 1.5\n",
    "min_Fare = float(df_Fare.min())\n",
    "max_Fare = float(df_Fare.max())\n",
    "\n",
    "print(\"Границы для оценки выбросов следуюшие:\")\n",
    "print(f\"   нижняя: {bottom_line}\")\n",
    "print(f\"   верхняя: {top_line}\\n\")\n",
    "if min_Fare < bottom_line:\n",
    "    print(f\"Минимальное значание '{min_Fare}' ниже нижней границы. Это выброс.\")\n",
    "else:\n",
    "    print(f\"Минимальное значание '{min_Fare}' выше нижней границы. Это обычное значение.\")\n",
    "\n",
    "if max_Fare > top_line:\n",
    "    print(f\"Максимальное значание '{max_Fare}' выше верхней границы. Это выброс.\")\n",
    "else:\n",
    "    print(f\"Максимальное значание '{max_Fare}' ниже верхней границы. Это обычное значение.\")\n"
   ]
  },
  {
   "cell_type": "code",
   "execution_count": 57,
   "id": "99f71e8a",
   "metadata": {},
   "outputs": [
    {
     "name": "stdout",
     "output_type": "stream",
     "text": [
      "Количество выбросов по Плате за билет составляет: 17161 шт, что составляет 17.2%\n"
     ]
    }
   ],
   "source": [
    "# Количество выбросов по Плате за проезд:\n",
    "out_ko_bo = df[df[\"Fare\"] > top_line].shape[0]\n",
    "out_proc = round(df[df[\"Fare\"] > top_line].shape[0]/df_start_shape[0]*100, 1)\n",
    "print( \\\n",
    "      f\"Количество выбросов по Плате за билет составляет: {out_ko_bo} шт, что составляет {out_proc}%\")"
   ]
  },
  {
   "cell_type": "code",
   "execution_count": 58,
   "id": "2d7e5755",
   "metadata": {},
   "outputs": [
    {
     "name": "stdout",
     "output_type": "stream",
     "text": [
      "Доля выбросов в Плате за проезд составляет: 17.16 %\n",
      "Из них выживших: 61.49 %\n"
     ]
    }
   ],
   "source": [
    "print(\"Доля выбросов в Плате за проезд составляет:\", round(((len(df[df[\"Fare\"] > top_line]) / len(df)) * 100), 2), \"%\")\n",
    "df_tmp = df[df[\"Fare\"] > top_line]\n",
    "print(\"Из них выживших:\", round(((sum(df_tmp.Survived) / len(df_tmp)) * 100), 2), \"%\")\n"
   ]
  },
  {
   "cell_type": "code",
   "execution_count": 59,
   "id": "7dede7e4",
   "metadata": {},
   "outputs": [
    {
     "data": {
      "image/png": "[encoded data removed]",
      "text/plain": [
       "<Figure size 360x504 with 1 Axes>"
      ]
     },
     "metadata": {
      "needs_background": "light"
     },
     "output_type": "display_data"
    }
   ],
   "source": [
    "plt.figure(figsize=(5,7))\n",
    "sns.boxplot(x=\"Survived\", y=\"Fare\", data=df, palette=\"vlag\")\n",
    "plt.title(title_num(\"Распределение Платы за проезд в разрезе выжил/утонул\"), fontsize=15);\n"
   ]
  },
  {
   "cell_type": "code",
   "execution_count": 60,
   "id": "ef18a25b",
   "metadata": {},
   "outputs": [
    {
     "data": {
      "image/png": "[encoded data removed]",
      "text/plain": [
       "<Figure size 360x504 with 1 Axes>"
      ]
     },
     "metadata": {
      "needs_background": "light"
     },
     "output_type": "display_data"
    }
   ],
   "source": [
    "plt.figure(figsize=(5,7))\n",
    "sns.boxplot(x=\"Sex\", y=\"Fare\", data=df, palette=\"vlag\")\n",
    "plt.title(title_num(\"Распределение Платы за проезд в разрезе мужчина/женщина\"), fontsize=15);\n"
   ]
  },
  {
   "cell_type": "code",
   "execution_count": 61,
   "id": "e55b08a9",
   "metadata": {},
   "outputs": [
    {
     "data": {
      "image/png": "[encoded data removed]",
      "text/plain": [
       "<Figure size 360x504 with 1 Axes>"
      ]
     },
     "metadata": {
      "needs_background": "light"
     },
     "output_type": "display_data"
    }
   ],
   "source": [
    "plt.figure(figsize=(5,7))\n",
    "sns.boxplot(x=\"Embarked\", y=\"Fare\", data=df, palette=\"vlag\")\n",
    "plt.title(title_num(\"Распределение Платы за проезд в портов посадки пассажиров\"), fontsize=15);\n"
   ]
  },
  {
   "cell_type": "markdown",
   "id": "ed41214b",
   "metadata": {},
   "source": [
    "### Исследование `Age` и чем его можно заменить"
   ]
  },
  {
   "cell_type": "code",
   "execution_count": 62,
   "id": "359098b2",
   "metadata": {},
   "outputs": [
    {
     "name": "stdout",
     "output_type": "stream",
     "text": [
      "-------------------------------\n",
      "Доли выживших в записях где пропущен возраст: 41.19 %\n",
      "-------------------------------\n",
      "Доли выживших в записях где возраст присутствует: 42.83 %\n",
      "-------------------------------\n"
     ]
    }
   ],
   "source": [
    "no_age = df[df[\"Age\"].isna()]\n",
    "yes_age = df[df[\"Age\"].isna()==False]\n",
    "\n",
    "print(\"-------------------------------\")\n",
    "print(\"Доли выживших в записях где пропущен возраст:\", \n",
    "    round(no_age[no_age['Survived']==1]['Survived'].count()/len(no_age)*100,2), \"%\")\n",
    "print(\"-------------------------------\")\n",
    "print(\"Доли выживших в записях где возраст присутствует:\", \n",
    "    round(yes_age[yes_age['Survived']==1]['Survived'].count()/len(yes_age)*100,2), \"%\")\n",
    "print(\"-------------------------------\")\n"
   ]
  },
  {
   "cell_type": "markdown",
   "id": "93240ea0",
   "metadata": {},
   "source": [
    "Видим, что распределение очень близко, разница в 1,6 единицы. Отметим это!\n",
    "\n",
    "Посмотрим как распределена стоимость билетов по записям где указан возраст и где пропущен:"
   ]
  },
  {
   "cell_type": "code",
   "execution_count": 63,
   "id": "b0e61d89",
   "metadata": {},
   "outputs": [
    {
     "data": {
      "image/png": "[encoded data removed]",
      "text/plain": [
       "<Figure size 432x288 with 1 Axes>"
      ]
     },
     "metadata": {
      "needs_background": "light"
     },
     "output_type": "display_data"
    }
   ],
   "source": [
    "sns.distplot(a=no_age[no_age.Fare.isna()==False]['Fare'], kde=False)\n",
    "plt.title(title_num(\"Распределение цен билетов в записях где Возвраст пропущен\"), fontsize=15);\n"
   ]
  },
  {
   "cell_type": "code",
   "execution_count": 64,
   "id": "1b9c37af",
   "metadata": {},
   "outputs": [
    {
     "data": {
      "image/png": "[encoded data removed]",
      "text/plain": [
       "<Figure size 432x288 with 1 Axes>"
      ]
     },
     "metadata": {
      "needs_background": "light"
     },
     "output_type": "display_data"
    }
   ],
   "source": [
    "sns.distplot(a=yes_age[yes_age.Fare.isna()==False]['Fare'], kde=False)\n",
    "plt.title(title_num(\"Распределение цен билетов в записях где Возвраст указан\"), fontsize=15);\n",
    "# Тоже указано на диаграмме 8"
   ]
  },
  {
   "cell_type": "markdown",
   "id": "55b84f33",
   "metadata": {},
   "source": [
    "Видим, так же что распределение практически идентично!\n",
    "\n",
    "Посмотрим как распределена другие атрибуты по записям где указан возраст и где пропущен:"
   ]
  },
  {
   "cell_type": "code",
   "execution_count": 65,
   "id": "f758b53b",
   "metadata": {},
   "outputs": [
    {
     "name": "stdout",
     "output_type": "stream",
     "text": [
      "-------------------------------\n",
      "Доли выживших МУЖЧИН в записях где пропущен возраст: 57.93 %\n",
      "-------------------------------\n",
      "Доли выживших МУЖЧИН в записях где возраст присутствует: 56.05 %\n",
      "-------------------------------\n"
     ]
    }
   ],
   "source": [
    "print(\"-------------------------------\")\n",
    "print(\"Доли выживших МУЖЧИН в записях где пропущен возраст:\", \n",
    "    round(no_age[no_age['Sex']==\"male\"]['Sex'].count()/len(no_age)*100,2), \"%\")\n",
    "print(\"-------------------------------\")\n",
    "print(\"Доли выживших МУЖЧИН в записях где возраст присутствует:\", \n",
    "    round(yes_age[yes_age['Sex']==\"male\"]['Sex'].count()/len(yes_age)*100,2), \"%\")\n",
    "print(\"-------------------------------\")\n"
   ]
  },
  {
   "cell_type": "code",
   "execution_count": 66,
   "id": "aaaf799d",
   "metadata": {},
   "outputs": [
    {
     "name": "stdout",
     "output_type": "stream",
     "text": [
      "-------------------------------\n",
      "Доли выживших ЖЕНЩИН в записях где пропущен возраст: 42.07 %\n",
      "-------------------------------\n",
      "Доли выживших ЖЕНЩИН в записях где возраст присутствует: 43.95 %\n",
      "-------------------------------\n"
     ]
    }
   ],
   "source": [
    "print(\"-------------------------------\")\n",
    "print(\"Доли выживших ЖЕНЩИН в записях где пропущен возраст:\", \n",
    "    round(no_age[no_age['Sex']==\"female\"]['Sex'].count()/len(no_age)*100,2), \"%\")\n",
    "print(\"-------------------------------\")\n",
    "print(\"Доли выживших ЖЕНЩИН в записях где возраст присутствует:\", \n",
    "    round(yes_age[yes_age['Sex']==\"female\"]['Sex'].count()/len(yes_age)*100,2), \"%\")\n",
    "print(\"-------------------------------\")\n"
   ]
  },
  {
   "cell_type": "markdown",
   "id": "810eed28",
   "metadata": {},
   "source": [
    "Так же видим, что распределение и по МУЖЧИНАМ и по ЖЕНЩИНАМ практически идентично!\n",
    "\n",
    "Таким образом, пропущенные значения можно заменить средним по возрасту.\n",
    "\n",
    "Сделаем это:"
   ]
  },
  {
   "cell_type": "code",
   "execution_count": 67,
   "id": "06cae2e6",
   "metadata": {},
   "outputs": [
    {
     "name": "stdout",
     "output_type": "stream",
     "text": [
      "<class 'pandas.core.frame.DataFrame'>\n",
      "Int64Index: 100000 entries, 0 to 99999\n",
      "Data columns (total 11 columns):\n",
      " #   Column    Non-Null Count   Dtype  \n",
      "---  ------    --------------   -----  \n",
      " 0   Survived  100000 non-null  int64  \n",
      " 1   Pclass    100000 non-null  int64  \n",
      " 2   Name      100000 non-null  object \n",
      " 3   Sex       100000 non-null  object \n",
      " 4   Age       100000 non-null  float64\n",
      " 5   SibSp     100000 non-null  int64  \n",
      " 6   Parch     100000 non-null  int64  \n",
      " 7   Ticket    95377 non-null   object \n",
      " 8   Fare      99866 non-null   float64\n",
      " 9   Cabin     32134 non-null   object \n",
      " 10  Embarked  99750 non-null   object \n",
      "dtypes: float64(2), int64(4), object(5)\n",
      "memory usage: 9.2+ MB\n"
     ]
    }
   ],
   "source": [
    "n_age_mean = yes_age[\"Age\"].mean()\n",
    "df[\"Age\"] = df[\"Age\"].fillna(n_age_mean)\n",
    "df.info()"
   ]
  },
  {
   "cell_type": "code",
   "execution_count": 68,
   "id": "758f83d5",
   "metadata": {},
   "outputs": [
    {
     "name": "stdout",
     "output_type": "stream",
     "text": [
      "В итоговом датасете осталось строк: 99617, что на 383 шт. и 0.38% меньше чем было в исходном.\n"
     ]
    }
   ],
   "source": [
    "# Пустые билеты и каюты заполним соответствующими текстовыми лейблами:\n",
    "df[\"Cabin\"] = df[\"Cabin\"].fillna(\"<Каюта не указана>\")\n",
    "df[\"Ticket\"] = df[\"Ticket\"].fillna(\"<Билет отсутствует>\")\n",
    "\n",
    "# Удалим оставниеся строки содержащие пусторы - это Embarked (250шт) и Fare (134шт)\n",
    "df = df.dropna(axis=0)\n",
    "print(f\"В итоговом датасете осталось строк: {len(df)}, что на {df_start_shape[0] - len(df)} шт. и {round((df_start_shape[0] - len(df))/len(df)*100, 2)}% меньше чем было в исходном.\" )"
   ]
  },
  {
   "cell_type": "code",
   "execution_count": 69,
   "id": "bcf1a38a",
   "metadata": {},
   "outputs": [
    {
     "ename": "NameError",
     "evalue": "name 'msno' is not defined",
     "output_type": "error",
     "traceback": [
      "\u001b[1;31m---------------------------------------------------------------------------\u001b[0m",
      "\u001b[1;31mNameError\u001b[0m                                 Traceback (most recent call last)",
      "\u001b[1;32m~\\AppData\\Local\\Temp/ipykernel_9512/1748251598.py\u001b[0m in \u001b[0;36m<module>\u001b[1;34m\u001b[0m\n\u001b[1;32m----> 1\u001b[1;33m \u001b[0mmsno\u001b[0m\u001b[1;33m.\u001b[0m\u001b[0mmatrix\u001b[0m\u001b[1;33m(\u001b[0m\u001b[0mdf\u001b[0m\u001b[1;33m)\u001b[0m\u001b[1;33m\u001b[0m\u001b[1;33m\u001b[0m\u001b[0m\n\u001b[0m\u001b[0;32m      2\u001b[0m \u001b[0mplt\u001b[0m\u001b[1;33m.\u001b[0m\u001b[0mtitle\u001b[0m\u001b[1;33m(\u001b[0m\u001b[0mtitle_num\u001b[0m\u001b[1;33m(\u001b[0m\u001b[1;34m\"Наличие пропусков в итоговом датасете\"\u001b[0m\u001b[1;33m)\u001b[0m\u001b[1;33m,\u001b[0m \u001b[0mfontsize\u001b[0m\u001b[1;33m=\u001b[0m\u001b[1;36m25\u001b[0m\u001b[1;33m)\u001b[0m\u001b[1;33m;\u001b[0m\u001b[1;33m\u001b[0m\u001b[1;33m\u001b[0m\u001b[0m\n",
      "\u001b[1;31mNameError\u001b[0m: name 'msno' is not defined"
     ]
    }
   ],
   "source": [
    "msno.matrix(df)\n",
    "plt.title(title_num(\"Наличие пропусков в итоговом датасете\"), fontsize=25);"
   ]
  },
  {
   "cell_type": "code",
   "execution_count": null,
   "id": "6c194bcd",
   "metadata": {},
   "outputs": [],
   "source": [
    "# Посмотрим проценты пропусков в данных по столбцам:\n",
    "missing_values = ((df.isna().sum() / len(df)) * 100 ).sort_values(ascending=False)\n",
    "print(\"-------------------------------\")\n",
    "print(\"Процент пропущенных значений:\")\n",
    "print(missing_values)\n",
    "print(\"-------------------------------\")\n",
    "missing_values = df.isna().sum().sort_values(ascending=False)\n",
    "print(\"Количество пропущенных значений:\")\n",
    "print(missing_values)\n",
    "print(\"-------------------------------\")\n"
   ]
  },
  {
   "cell_type": "markdown",
   "id": "560b4566",
   "metadata": {},
   "source": [
    "# Summary (*Итоги*)"
   ]
  },
  {
   "cell_type": "markdown",
   "id": "e66b02f8",
   "metadata": {},
   "source": [
    "### В результате оценки качества данных можно констатировать:\n",
    "* Поля: `Survived`, `Pclass`, `Sex`, `Age`, `SibSp`, `Parch`, `Fare` соответствуют **Достоверности данных**.\n",
    "* Поля `SibSp`, `Parch` содержат значения (8 и 9), которые скорее всего можнопринять как допустимые;\n",
    "* Поля `SibSp`, `Parch` несут странный смысл и, как следствие, их возможность их использования не понятна;\n",
    "* Заметные пропуски у атрибута `Cabin`, но использование номера каюты, скорее всего не имеет смысла.\n",
    "* Предполагается то, что номер билета `Ticket` (сходя из его смысла) не позволит использовать его в исследовании данных. Кроме этого надо пониманить, что попать на борт без билета и быть учтённым - нельзя. Примем за данность, что пустоты в столбце `Ticket` для нас несущественно, так как нет понимания в возможности использвоания его значений.\n",
    "* Требования \"Степень соответствия данных\", \"Точность\", \"Завершенность\", \"Консистенция\", \"Единообразие\" считаем выполненным по результатм проверки состава данных.\n",
    "\n",
    "### В исходных даных присутствую пропуски и выбросы,\n",
    "##### при этом отрицательной стороной является:\n",
    "* заметное количество пропущенных значений в `Возрасте` пассажиров (~3,3%);\n",
    "* значительное количество значений являющихся выбросами по Плате за проезд (17161 шт: 17.2% от общего количества строк)\n",
    "\n",
    "##### а положительной  стороной является:\n",
    "* малое количество пропусков в столцах `Embarked` и `Fare` (0.25% и 0.13% соответственно);\n",
    "* предположение об отсутствии полезности в столбцах `Cabin` и `Ticket` имеющих значительные пропуски (67.87% и 4.62% соответственно).\n",
    "\n",
    "\n",
    "Таким образом, в результате проведённой **оценки** стоит сдалать обобщающий вывод о соответствии **качества данных** требованиям задания при условии очиски данных перед из обработкой, что, может включать:\n",
    "* удаление строк с незаполненными значениями в столбцах `Embarked` и `Fare`;\n",
    "* заполнении пропусков по `Возрасту`, например, средними значениеми, так как проверка показала возможность этого (см. описание выше);\n",
    "* исключив из рассмотрения и обработки столбцы `Номер каюты` и `Номер билета` иил заполнив из не пустыми значениями.\n",
    "\n",
    "### По результатам:\n",
    "\n",
    "**Диаграмма 14** (в сравнении с **Диаграммой 1**) показывает, что в итоговом датасете отсутствуют пропущенные значения и он готов к дальнейшему использованию."
   ]
  },
  {
   "cell_type": "markdown",
   "id": "c7d998fc",
   "metadata": {},
   "source": [
    "# Исследования, проведенные вне рамок домашнего задания\n",
    "#### (иследование зависимостей и взаимосвязей)"
   ]
  },
  {
   "cell_type": "markdown",
   "id": "4020b3ce",
   "metadata": {},
   "source": [
    "Посмотрим, видна ли зависимость двух количественных переменных: `Возраст` и `Плата за проезд`:"
   ]
  },
  {
   "cell_type": "code",
   "execution_count": null,
   "id": "0bae6907",
   "metadata": {},
   "outputs": [],
   "source": [
    "sns.scatterplot(x=df['Fare'], y=df['Age'], hue=df['Survived'])\n",
    "plt.title(title_num(\"Отсутствие видимой зависимости между Возрастом и Платой за проезд\"), fontsize=15);\n"
   ]
  },
  {
   "cell_type": "code",
   "execution_count": null,
   "id": "fdedb4e9",
   "metadata": {},
   "outputs": [],
   "source": [
    "ports_dict = {\"C\": 1, \"Q\": 2, \"S\": 3, np.nan: 0}\n",
    "sex_dict = {\"male\": 1, \"female\": 2, np.nan: 0}\n",
    "df[\"nPort\"] = df[\"Embarked\"].apply(lambda p: ports_dict[p])\n",
    "df[\"nSex\"] = df[\"Sex\"].apply(lambda p: sex_dict[p])"
   ]
  },
  {
   "cell_type": "code",
   "execution_count": null,
   "id": "96e9e912",
   "metadata": {},
   "outputs": [],
   "source": [
    "CorrKoef = df.corr(method='pearson')\n",
    "\n",
    "plt.figure(figsize=(8,7))\n",
    "sns.heatmap(CorrKoef, annot=True)\n",
    "plt.title(title_num(\"Корреляционная таблица\"), fontsize=15);\n"
   ]
  },
  {
   "cell_type": "markdown",
   "id": "ae829e10",
   "metadata": {},
   "source": [
    "Заметна некоторая повышенная корелляция по половому признаку."
   ]
  },
  {
   "cell_type": "code",
   "execution_count": null,
   "id": "879ec730",
   "metadata": {},
   "outputs": [],
   "source": [
    "def age_type(nage, ntype=1):\n",
    "    if nage == np.nan:\n",
    "        retrn (\"\" if ntype==1 else 0)\n",
    "    ret_value = \"\"\n",
    "    for num, element in enumerate(age_types):\n",
    "        if (nage > element[1]) & (nage <= element[2]):\n",
    "            return element[0] if ntype == 1 else num+1\n",
    "\n",
    "age_types = [\n",
    "    [\"1. Новорождённые\", -1, 1], \n",
    "    [\"2. Дошкольники\", 1, 7], \n",
    "    [\"3. Младшие школьники\", 7, 12], \n",
    "    [\"4. Тинейджеры\", 12, 15],\n",
    "    [\"5. Молодые люди\", 15, 28],\n",
    "    [\"6. Взрослые люди\", 28, 40],\n",
    "    [\"7. Люди от 40 до 60\", 40, 60],\n",
    "    [\"8. Пожилые\", 60, 200],\n",
    "           ]\n",
    "       \n",
    "\n",
    "df[\"age_type\"] = df[\"Age\"].apply(lambda y: age_type(y))\n",
    "df[\"age_ntype\"] = df[\"Age\"].apply(lambda y: age_type(y, 2))\n",
    "\n",
    "plt.figure(figsize=(18,5))\n",
    "\n",
    "# sns.set(style = 'white', font_scale=1.4)\n",
    "df_sorted = df.sort_values(by=\"age_type\")\n",
    "sns.histplot(data=df_sorted, x=df_sorted[\"age_type\"], hue=df_sorted[\"Survived\"])\n",
    "plt.xlabel('')\n",
    "plt.xticks(rotation=70, fontsize=15)\n",
    "plt.legend(['Выжил', 'Умер'], title='')\n",
    "plt.title(title_num(\"Выживаемость и смертность по возрастным группам\"), fontsize=15);\n"
   ]
  },
  {
   "cell_type": "markdown",
   "id": "5c81b61a",
   "metadata": {},
   "source": [
    "Здесь мы видим, что почти во всех возрастных группах смертность выше чем выживаемость.\n",
    "\n",
    "Но совсем другая картина предстанет если разделить по половым признакам:"
   ]
  },
  {
   "cell_type": "code",
   "execution_count": null,
   "id": "e4cc20b2",
   "metadata": {},
   "outputs": [],
   "source": [
    "def add_name(data):\n",
    "    return data[0] + (\" (М)\" if data[1] == 1 else \"(Ж)\")\n",
    "\n",
    "plt.figure(figsize=(18,7))\n",
    "\n",
    "df_sorted[\"age_type_sex\"] = df[[\"age_type\", \"nSex\"]].apply(lambda rowdata: add_name(rowdata.values), axis=1)\n",
    "\n",
    "df_sorted = df_sorted.sort_values(by=[\"age_type\", \"nSex\"])\n",
    "sns.histplot(data=df_sorted, x=df_sorted[\"age_type_sex\"], hue=df_sorted[\"Survived\"]);\n",
    "plt.xlabel('')\n",
    "plt.xticks(rotation=90, fontsize=15)\n",
    "plt.legend(['Выжил', 'Умер'], title='')\n",
    "plt.title(title_num(\"Выживаемость и смертность по возрастным группам\"), fontsize=15);\n"
   ]
  },
  {
   "cell_type": "markdown",
   "id": "e930f5a8",
   "metadata": {},
   "source": [
    "Здесь мы уже видим, что во все группах выживших женщин больше чем погибших. В то время как с мужчинами наоборот - мужчин везде умирло больше чем выжило."
   ]
  },
  {
   "cell_type": "code",
   "execution_count": null,
   "id": "ba126f58",
   "metadata": {},
   "outputs": [],
   "source": [
    "plt.figure(figsize=(10,5))\n",
    "df_sorted = df_sorted.sort_values(by=[\"Embarked\"])\n",
    "sns.histplot(data=df_sorted, x=df_sorted[\"Embarked\"], hue=df_sorted[\"Survived\"], multiple=\"dodge\");\n",
    "plt.xlabel('')\n",
    "plt.xticks(fontsize=15)\n",
    "plt.legend(['Выжил', 'Умер'], title='')\n",
    "plt.title(title_num(\"Выживаемость и смертность по Порту посадки пассажира\"), fontsize=15);\n",
    "\n"
   ]
  },
  {
   "cell_type": "markdown",
   "id": "ee77c44c",
   "metadata": {},
   "source": [
    "То есть умирали больше те, кто сел в порту S = Southampton."
   ]
  },
  {
   "cell_type": "code",
   "execution_count": null,
   "id": "b4998147",
   "metadata": {},
   "outputs": [],
   "source": []
  },
  {
   "cell_type": "code",
   "execution_count": null,
   "id": "3715a542",
   "metadata": {},
   "outputs": [],
   "source": []
  },
  {
   "cell_type": "code",
   "execution_count": null,
   "id": "01fe8c71",
   "metadata": {},
   "outputs": [],
   "source": []
  },
  {
   "cell_type": "code",
   "execution_count": null,
   "id": "7c8d30b8",
   "metadata": {},
   "outputs": [],
   "source": []
  },
  {
   "cell_type": "code",
   "execution_count": null,
   "id": "0ffcb0ec",
   "metadata": {},
   "outputs": [],
   "source": []
  },
  {
   "cell_type": "code",
   "execution_count": null,
   "id": "bd4c66e8",
   "metadata": {},
   "outputs": [],
   "source": []
  },
  {
   "cell_type": "code",
   "execution_count": null,
   "id": "30082314",
   "metadata": {},
   "outputs": [],
   "source": []
  }
 ],
 "metadata": {
  "kernelspec": {
   "display_name": "Python 3 (ipykernel)",
   "language": "python",
   "name": "python3"
  },
  "language_info": {
   "codemirror_mode": {
    "name": "ipython",
    "version": 3
   },
   "file_extension": ".py",
   "mimetype": "text/x-python",
   "name": "python",
   "nbconvert_exporter": "python",
   "pygments_lexer": "ipython3",
   "version": "3.9.1"
  },
  "toc": {
   "base_numbering": 1,
   "nav_menu": {},
   "number_sections": true,
   "sideBar": true,
   "skip_h1_title": false,
   "title_cell": "Table of Contents",
   "title_sidebar": "Contents",
   "toc_cell": false,
   "toc_position": {},
   "toc_section_display": true,
   "toc_window_display": false
  }
 },
 "nbformat": 4,
 "nbformat_minor": 5
}
