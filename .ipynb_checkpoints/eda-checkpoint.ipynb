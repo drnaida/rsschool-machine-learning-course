{
 "cells": [
  {
   "cell_type": "markdown",
   "id": "8450e08e",
   "metadata": {},
   "source": [
    "## Import data"
   ]
  },
  {
   "cell_type": "code",
   "execution_count": 149,
   "id": "b489cb9e",
   "metadata": {
    "scrolled": false
   },
   "outputs": [],
   "source": [
    "import pandas as pd\n",
    "import seaborn as sn\n",
    "\n",
    "path_to_file = 'train_titanic.csv'\n",
    "\n",
    "titanic_data = pd.read_csv(path_to_file, index_col='PassengerId')"
   ]
  },
  {
   "cell_type": "markdown",
   "id": "d07912a0",
   "metadata": {},
   "source": [
    "# Context"
   ]
  },
  {
   "cell_type": "markdown",
   "id": "f6f43c85",
   "metadata": {},
   "source": [
    "## What is titanic dataset about?"
   ]
  },
  {
   "cell_type": "markdown",
   "id": "74f3b3d9",
   "metadata": {},
   "source": [
    "Titanic is a dataset that contains features about people who were on Titanic like age, port in which they were embarked, whether they survived the Titanic catastrophe and etc."
   ]
  },
  {
   "cell_type": "code",
   "execution_count": 150,
   "id": "3b8598bf",
   "metadata": {},
   "outputs": [
    {
     "data": {
      "text/html": [
       "<div>\n",
       "<style scoped>\n",
       "    .dataframe tbody tr th:only-of-type {\n",
       "        vertical-align: middle;\n",
       "    }\n",
       "\n",
       "    .dataframe tbody tr th {\n",
       "        vertical-align: top;\n",
       "    }\n",
       "\n",
       "    .dataframe thead th {\n",
       "        text-align: right;\n",
       "    }\n",
       "</style>\n",
       "<table border=\"1\" class=\"dataframe\">\n",
       "  <thead>\n",
       "    <tr style=\"text-align: right;\">\n",
       "      <th></th>\n",
       "      <th>Survived</th>\n",
       "      <th>Pclass</th>\n",
       "      <th>Name</th>\n",
       "      <th>Sex</th>\n",
       "      <th>Age</th>\n",
       "      <th>SibSp</th>\n",
       "      <th>Parch</th>\n",
       "      <th>Ticket</th>\n",
       "      <th>Fare</th>\n",
       "      <th>Cabin</th>\n",
       "      <th>Embarked</th>\n",
       "    </tr>\n",
       "    <tr>\n",
       "      <th>PassengerId</th>\n",
       "      <th></th>\n",
       "      <th></th>\n",
       "      <th></th>\n",
       "      <th></th>\n",
       "      <th></th>\n",
       "      <th></th>\n",
       "      <th></th>\n",
       "      <th></th>\n",
       "      <th></th>\n",
       "      <th></th>\n",
       "      <th></th>\n",
       "    </tr>\n",
       "  </thead>\n",
       "  <tbody>\n",
       "    <tr>\n",
       "      <th>0</th>\n",
       "      <td>1</td>\n",
       "      <td>1</td>\n",
       "      <td>Oconnor, Frankie</td>\n",
       "      <td>male</td>\n",
       "      <td>NaN</td>\n",
       "      <td>2</td>\n",
       "      <td>0</td>\n",
       "      <td>209245</td>\n",
       "      <td>27.14</td>\n",
       "      <td>C12239</td>\n",
       "      <td>S</td>\n",
       "    </tr>\n",
       "    <tr>\n",
       "      <th>1</th>\n",
       "      <td>0</td>\n",
       "      <td>3</td>\n",
       "      <td>Bryan, Drew</td>\n",
       "      <td>male</td>\n",
       "      <td>NaN</td>\n",
       "      <td>0</td>\n",
       "      <td>0</td>\n",
       "      <td>27323</td>\n",
       "      <td>13.35</td>\n",
       "      <td>NaN</td>\n",
       "      <td>S</td>\n",
       "    </tr>\n",
       "    <tr>\n",
       "      <th>2</th>\n",
       "      <td>0</td>\n",
       "      <td>3</td>\n",
       "      <td>Owens, Kenneth</td>\n",
       "      <td>male</td>\n",
       "      <td>0.33</td>\n",
       "      <td>1</td>\n",
       "      <td>2</td>\n",
       "      <td>CA 457703</td>\n",
       "      <td>71.29</td>\n",
       "      <td>NaN</td>\n",
       "      <td>S</td>\n",
       "    </tr>\n",
       "    <tr>\n",
       "      <th>3</th>\n",
       "      <td>0</td>\n",
       "      <td>3</td>\n",
       "      <td>Kramer, James</td>\n",
       "      <td>male</td>\n",
       "      <td>19.00</td>\n",
       "      <td>0</td>\n",
       "      <td>0</td>\n",
       "      <td>A. 10866</td>\n",
       "      <td>13.04</td>\n",
       "      <td>NaN</td>\n",
       "      <td>S</td>\n",
       "    </tr>\n",
       "    <tr>\n",
       "      <th>4</th>\n",
       "      <td>1</td>\n",
       "      <td>3</td>\n",
       "      <td>Bond, Michael</td>\n",
       "      <td>male</td>\n",
       "      <td>25.00</td>\n",
       "      <td>0</td>\n",
       "      <td>0</td>\n",
       "      <td>427635</td>\n",
       "      <td>7.76</td>\n",
       "      <td>NaN</td>\n",
       "      <td>S</td>\n",
       "    </tr>\n",
       "    <tr>\n",
       "      <th>5</th>\n",
       "      <td>0</td>\n",
       "      <td>2</td>\n",
       "      <td>Sassano, Jonathan</td>\n",
       "      <td>male</td>\n",
       "      <td>35.00</td>\n",
       "      <td>0</td>\n",
       "      <td>0</td>\n",
       "      <td>13363</td>\n",
       "      <td>6.71</td>\n",
       "      <td>NaN</td>\n",
       "      <td>S</td>\n",
       "    </tr>\n",
       "    <tr>\n",
       "      <th>6</th>\n",
       "      <td>0</td>\n",
       "      <td>3</td>\n",
       "      <td>Conway, Jose</td>\n",
       "      <td>male</td>\n",
       "      <td>7.00</td>\n",
       "      <td>0</td>\n",
       "      <td>0</td>\n",
       "      <td>A/5</td>\n",
       "      <td>9.77</td>\n",
       "      <td>NaN</td>\n",
       "      <td>S</td>\n",
       "    </tr>\n",
       "    <tr>\n",
       "      <th>7</th>\n",
       "      <td>1</td>\n",
       "      <td>3</td>\n",
       "      <td>Werner, Linda</td>\n",
       "      <td>female</td>\n",
       "      <td>6.00</td>\n",
       "      <td>1</td>\n",
       "      <td>2</td>\n",
       "      <td>434426</td>\n",
       "      <td>31.50</td>\n",
       "      <td>NaN</td>\n",
       "      <td>S</td>\n",
       "    </tr>\n",
       "    <tr>\n",
       "      <th>8</th>\n",
       "      <td>0</td>\n",
       "      <td>1</td>\n",
       "      <td>Wardlaw, Michael</td>\n",
       "      <td>male</td>\n",
       "      <td>27.00</td>\n",
       "      <td>2</td>\n",
       "      <td>1</td>\n",
       "      <td>474849</td>\n",
       "      <td>73.02</td>\n",
       "      <td>A7253</td>\n",
       "      <td>S</td>\n",
       "    </tr>\n",
       "    <tr>\n",
       "      <th>9</th>\n",
       "      <td>0</td>\n",
       "      <td>2</td>\n",
       "      <td>Greigo, Rudy</td>\n",
       "      <td>male</td>\n",
       "      <td>66.00</td>\n",
       "      <td>0</td>\n",
       "      <td>0</td>\n",
       "      <td>6981</td>\n",
       "      <td>9.14</td>\n",
       "      <td>D2969</td>\n",
       "      <td>C</td>\n",
       "    </tr>\n",
       "    <tr>\n",
       "      <th>10</th>\n",
       "      <td>0</td>\n",
       "      <td>3</td>\n",
       "      <td>Nichols, William</td>\n",
       "      <td>male</td>\n",
       "      <td>31.00</td>\n",
       "      <td>0</td>\n",
       "      <td>0</td>\n",
       "      <td>459690</td>\n",
       "      <td>8.06</td>\n",
       "      <td>NaN</td>\n",
       "      <td>S</td>\n",
       "    </tr>\n",
       "    <tr>\n",
       "      <th>11</th>\n",
       "      <td>0</td>\n",
       "      <td>1</td>\n",
       "      <td>Telschow, Robert</td>\n",
       "      <td>male</td>\n",
       "      <td>60.00</td>\n",
       "      <td>0</td>\n",
       "      <td>0</td>\n",
       "      <td>19600</td>\n",
       "      <td>31.50</td>\n",
       "      <td>A9055</td>\n",
       "      <td>S</td>\n",
       "    </tr>\n",
       "    <tr>\n",
       "      <th>12</th>\n",
       "      <td>0</td>\n",
       "      <td>3</td>\n",
       "      <td>Stewart, Pat</td>\n",
       "      <td>male</td>\n",
       "      <td>36.00</td>\n",
       "      <td>0</td>\n",
       "      <td>0</td>\n",
       "      <td>434108</td>\n",
       "      <td>9.34</td>\n",
       "      <td>C8674</td>\n",
       "      <td>S</td>\n",
       "    </tr>\n",
       "    <tr>\n",
       "      <th>13</th>\n",
       "      <td>1</td>\n",
       "      <td>2</td>\n",
       "      <td>Raef, Phillip</td>\n",
       "      <td>male</td>\n",
       "      <td>50.00</td>\n",
       "      <td>0</td>\n",
       "      <td>0</td>\n",
       "      <td>3790453</td>\n",
       "      <td>7.88</td>\n",
       "      <td>NaN</td>\n",
       "      <td>Q</td>\n",
       "    </tr>\n",
       "    <tr>\n",
       "      <th>14</th>\n",
       "      <td>1</td>\n",
       "      <td>1</td>\n",
       "      <td>Seaton, Karen</td>\n",
       "      <td>female</td>\n",
       "      <td>44.00</td>\n",
       "      <td>0</td>\n",
       "      <td>1</td>\n",
       "      <td>12425</td>\n",
       "      <td>28.40</td>\n",
       "      <td>D6945</td>\n",
       "      <td>C</td>\n",
       "    </tr>\n",
       "  </tbody>\n",
       "</table>\n",
       "</div>"
      ],
      "text/plain": [
       "             Survived  Pclass               Name     Sex    Age  SibSp  Parch  \\\n",
       "PassengerId                                                                     \n",
       "0                   1       1   Oconnor, Frankie    male    NaN      2      0   \n",
       "1                   0       3        Bryan, Drew    male    NaN      0      0   \n",
       "2                   0       3     Owens, Kenneth    male   0.33      1      2   \n",
       "3                   0       3      Kramer, James    male  19.00      0      0   \n",
       "4                   1       3      Bond, Michael    male  25.00      0      0   \n",
       "5                   0       2  Sassano, Jonathan    male  35.00      0      0   \n",
       "6                   0       3       Conway, Jose    male   7.00      0      0   \n",
       "7                   1       3      Werner, Linda  female   6.00      1      2   \n",
       "8                   0       1   Wardlaw, Michael    male  27.00      2      1   \n",
       "9                   0       2       Greigo, Rudy    male  66.00      0      0   \n",
       "10                  0       3   Nichols, William    male  31.00      0      0   \n",
       "11                  0       1   Telschow, Robert    male  60.00      0      0   \n",
       "12                  0       3       Stewart, Pat    male  36.00      0      0   \n",
       "13                  1       2      Raef, Phillip    male  50.00      0      0   \n",
       "14                  1       1      Seaton, Karen  female  44.00      0      1   \n",
       "\n",
       "                Ticket   Fare   Cabin Embarked  \n",
       "PassengerId                                     \n",
       "0               209245  27.14  C12239        S  \n",
       "1                27323  13.35     NaN        S  \n",
       "2            CA 457703  71.29     NaN        S  \n",
       "3             A. 10866  13.04     NaN        S  \n",
       "4               427635   7.76     NaN        S  \n",
       "5                13363   6.71     NaN        S  \n",
       "6                 A/5    9.77     NaN        S  \n",
       "7               434426  31.50     NaN        S  \n",
       "8               474849  73.02   A7253        S  \n",
       "9                 6981   9.14   D2969        C  \n",
       "10              459690   8.06     NaN        S  \n",
       "11               19600  31.50   A9055        S  \n",
       "12              434108   9.34   C8674        S  \n",
       "13             3790453   7.88     NaN        Q  \n",
       "14               12425  28.40   D6945        C  "
      ]
     },
     "execution_count": 150,
     "metadata": {},
     "output_type": "execute_result"
    }
   ],
   "source": [
    "titanic_data.head(15)"
   ]
  },
  {
   "cell_type": "markdown",
   "id": "bb558375",
   "metadata": {},
   "source": [
    "## What is the unique id for each row of data?"
   ]
  },
  {
   "cell_type": "markdown",
   "id": "ccf24080",
   "metadata": {},
   "source": [
    "Each row of data is identified by a 'PassengerId' column."
   ]
  },
  {
   "cell_type": "markdown",
   "id": "da83f6a6",
   "metadata": {},
   "source": [
    "## Understanding the meaning of each variable"
   ]
  },
  {
   "cell_type": "code",
   "execution_count": 151,
   "id": "efe241b6",
   "metadata": {
    "scrolled": false
   },
   "outputs": [
    {
     "data": {
      "text/plain": [
       "['Survived',\n",
       " 'Pclass',\n",
       " 'Name',\n",
       " 'Sex',\n",
       " 'Age',\n",
       " 'SibSp',\n",
       " 'Parch',\n",
       " 'Ticket',\n",
       " 'Fare',\n",
       " 'Cabin',\n",
       " 'Embarked']"
      ]
     },
     "execution_count": 151,
     "metadata": {},
     "output_type": "execute_result"
    }
   ],
   "source": [
    "list(titanic_data.columns.values)"
   ]
  },
  {
   "cell_type": "markdown",
   "id": "a863680b",
   "metadata": {},
   "source": [
    "Those are the variables/features that we have"
   ]
  },
  {
   "cell_type": "markdown",
   "id": "126cc9d0",
   "metadata": {},
   "source": [
    "Let's understand the meaning of all features (variables) in the dataset:"
   ]
  },
  {
   "cell_type": "markdown",
   "id": "76250dac",
   "metadata": {},
   "source": [
    "???"
   ]
  },
  {
   "cell_type": "markdown",
   "id": "e947dc8e",
   "metadata": {},
   "source": [
    "## Deck plan"
   ]
  },
  {
   "cell_type": "markdown",
   "id": "c54cb16a",
   "metadata": {},
   "source": [
    "Since column 'Cabin' contains values with letters, and letters represent decks on Titanic, I will leave here a plane of Titanic decks.\n",
    "\n",
    " ![Titanic Deck plan](titanic_deck_plan.jpg)"
   ]
  },
  {
   "cell_type": "markdown",
   "id": "9b4320c6",
   "metadata": {},
   "source": [
    "# Data quality assessment"
   ]
  },
  {
   "cell_type": "markdown",
   "id": "ea89da14",
   "metadata": {},
   "source": [
    "## Number of raws and columnms"
   ]
  },
  {
   "cell_type": "markdown",
   "id": "bd814b87",
   "metadata": {},
   "source": [
    "Let's check how many raws and columns the initial dataset has using shape method"
   ]
  },
  {
   "cell_type": "code",
   "execution_count": 152,
   "id": "ca4f6966",
   "metadata": {},
   "outputs": [
    {
     "data": {
      "text/plain": [
       "(100000, 11)"
      ]
     },
     "execution_count": 152,
     "metadata": {},
     "output_type": "execute_result"
    }
   ],
   "source": [
    "titanic_data_shape = titanic_data.shape\n",
    "titanic_data_shape"
   ]
  },
  {
   "cell_type": "markdown",
   "id": "72f02f5c",
   "metadata": {},
   "source": [
    "In other words, there are 100,000 raws and 11 columns with features (with index it would be 12 columns)"
   ]
  },
  {
   "cell_type": "markdown",
   "id": "0f207650",
   "metadata": {},
   "source": [
    "## Types of columns\n",
    "\n",
    "Let's inspect data types of columns"
   ]
  },
  {
   "cell_type": "code",
   "execution_count": 153,
   "id": "51095c73",
   "metadata": {},
   "outputs": [
    {
     "data": {
      "text/plain": [
       "Survived      int64\n",
       "Pclass        int64\n",
       "Name         object\n",
       "Sex          object\n",
       "Age         float64\n",
       "SibSp         int64\n",
       "Parch         int64\n",
       "Ticket       object\n",
       "Fare        float64\n",
       "Cabin        object\n",
       "Embarked     object\n",
       "dtype: object"
      ]
     },
     "execution_count": 153,
     "metadata": {},
     "output_type": "execute_result"
    }
   ],
   "source": [
    "titanic_data.dtypes"
   ]
  },
  {
   "cell_type": "code",
   "execution_count": 154,
   "id": "576bf506",
   "metadata": {},
   "outputs": [
    {
     "data": {
      "text/plain": [
       "object     5\n",
       "int64      4\n",
       "float64    2\n",
       "dtype: int64"
      ]
     },
     "execution_count": 154,
     "metadata": {},
     "output_type": "execute_result"
    }
   ],
   "source": [
    "titanic_data.dtypes.value_counts()"
   ]
  },
  {
   "cell_type": "markdown",
   "id": "b7faba84",
   "metadata": {},
   "source": [
    "The dataset has 4 columns with integers, 2 columns with floats and 5 columns with object values."
   ]
  },
  {
   "cell_type": "markdown",
   "id": "abf8e1dc",
   "metadata": {},
   "source": [
    "## Categorizing data\n",
    "\n",
    "Our features can be divided in 2 groups based on their datatypes:\n",
    "\n",
    "1. Categorical features. All data that is NOT numerical (in our dataset it's data with an object type)."
   ]
  },
  {
   "cell_type": "code",
   "execution_count": 155,
   "id": "1534d3e2",
   "metadata": {
    "scrolled": true
   },
   "outputs": [
    {
     "data": {
      "text/plain": [
       "['Name', 'Sex', 'Ticket', 'Cabin', 'Embarked']"
      ]
     },
     "execution_count": 155,
     "metadata": {},
     "output_type": "execute_result"
    }
   ],
   "source": [
    "categorical_columns = list(titanic_data.select_dtypes(include=['object']).columns.values)\n",
    "categorical_columns"
   ]
  },
  {
   "cell_type": "markdown",
   "id": "126c2085",
   "metadata": {},
   "source": [
    "There are 5 features with categorical data."
   ]
  },
  {
   "cell_type": "markdown",
   "id": "eaaa6728",
   "metadata": {},
   "source": [
    "\n",
    "2. Quantitative features. In our dataset it's data with integer and float data types."
   ]
  },
  {
   "cell_type": "code",
   "execution_count": 156,
   "id": "7e52a8b3",
   "metadata": {
    "scrolled": false
   },
   "outputs": [
    {
     "data": {
      "text/plain": [
       "['Survived', 'Pclass', 'Age', 'SibSp', 'Parch', 'Fare']"
      ]
     },
     "execution_count": 156,
     "metadata": {},
     "output_type": "execute_result"
    }
   ],
   "source": [
    "quantitative_columns = list(titanic_data.select_dtypes(include=['float64', 'int64']).columns.values)\n",
    "quantitative_columns"
   ]
  },
  {
   "cell_type": "markdown",
   "id": "9f7d2027",
   "metadata": {},
   "source": [
    "There are 6 features with quantitative data."
   ]
  },
  {
   "cell_type": "markdown",
   "id": "ce1effc9",
   "metadata": {},
   "source": [
    "## Checking for duplicates"
   ]
  },
  {
   "cell_type": "code",
   "execution_count": 157,
   "id": "7600bc26",
   "metadata": {},
   "outputs": [
    {
     "data": {
      "text/plain": [
       "False    100000\n",
       "dtype: int64"
      ]
     },
     "execution_count": 157,
     "metadata": {},
     "output_type": "execute_result"
    }
   ],
   "source": [
    "titanic_data.duplicated().value_counts()"
   ]
  },
  {
   "cell_type": "markdown",
   "id": "4df53e44",
   "metadata": {},
   "source": [
    "There is no duplicated data in the dataset."
   ]
  },
  {
   "cell_type": "markdown",
   "id": "5047a34f",
   "metadata": {},
   "source": [
    "## Dealing with syntax errors and range constrains"
   ]
  },
  {
   "cell_type": "markdown",
   "id": "19216544",
   "metadata": {},
   "source": [
    "There are certain ranges and logical values which certain variables can have. For example, age cannot be negative, fare cannot be negative and etc.\n",
    "\n",
    "Let's check those ranges for each variable."
   ]
  },
  {
   "cell_type": "markdown",
   "id": "6b373e9f",
   "metadata": {},
   "source": [
    "### Pclass"
   ]
  },
  {
   "cell_type": "markdown",
   "id": "67c065af",
   "metadata": {},
   "source": [
    "According to the internet, on Titanic there were only 3 classes of cabins: 1st, 2nd and 3rd. Let's check that this is really like this in our dataset."
   ]
  },
  {
   "cell_type": "code",
   "execution_count": 158,
   "id": "2cd89c9f",
   "metadata": {},
   "outputs": [
    {
     "data": {
      "text/plain": [
       "3    41006\n",
       "1    30315\n",
       "2    28679\n",
       "Name: Pclass, dtype: int64"
      ]
     },
     "execution_count": 158,
     "metadata": {},
     "output_type": "execute_result"
    }
   ],
   "source": [
    "titanic_data.Pclass.value_counts()"
   ]
  },
  {
   "cell_type": "markdown",
   "id": "52235bb7",
   "metadata": {},
   "source": [
    "True, the data is within the range of discrete values."
   ]
  },
  {
   "cell_type": "markdown",
   "id": "d293d272",
   "metadata": {},
   "source": [
    "### Sex"
   ]
  },
  {
   "cell_type": "markdown",
   "id": "8621c7be",
   "metadata": {},
   "source": [
    "Let's check that sex is within a range of discrete values 'male' or 'female'."
   ]
  },
  {
   "cell_type": "code",
   "execution_count": 159,
   "id": "f7f70631",
   "metadata": {},
   "outputs": [
    {
     "data": {
      "text/plain": [
       "male      56114\n",
       "female    43886\n",
       "Name: Sex, dtype: int64"
      ]
     },
     "execution_count": 159,
     "metadata": {},
     "output_type": "execute_result"
    }
   ],
   "source": [
    "titanic_data.Sex.value_counts()"
   ]
  },
  {
   "cell_type": "markdown",
   "id": "daac3631",
   "metadata": {},
   "source": [
    "True, the data is within the range of discrete values."
   ]
  },
  {
   "cell_type": "markdown",
   "id": "2e8baec5",
   "metadata": {},
   "source": [
    "### Age"
   ]
  },
  {
   "cell_type": "markdown",
   "id": "dea4bbc3",
   "metadata": {},
   "source": [
    "Let's check that age is bigger than 0 and less than 122 (130 was chosen because the highest age that a person lived was 122 years)"
   ]
  },
  {
   "cell_type": "markdown",
   "id": "5dca136f",
   "metadata": {},
   "source": [
    "### SibSp"
   ]
  },
  {
   "cell_type": "markdown",
   "id": "7d5a4600",
   "metadata": {},
   "source": [
    "### Parch"
   ]
  },
  {
   "cell_type": "markdown",
   "id": "b4282ca2",
   "metadata": {},
   "source": [
    "## Dealing with missing data"
   ]
  },
  {
   "cell_type": "code",
   "execution_count": 160,
   "id": "1afbd15e",
   "metadata": {
    "scrolled": false
   },
   "outputs": [
    {
     "name": "stdout",
     "output_type": "stream",
     "text": [
      "<class 'pandas.core.frame.DataFrame'>\n",
      "Int64Index: 100000 entries, 0 to 99999\n",
      "Data columns (total 11 columns):\n",
      " #   Column    Non-Null Count   Dtype  \n",
      "---  ------    --------------   -----  \n",
      " 0   Survived  100000 non-null  int64  \n",
      " 1   Pclass    100000 non-null  int64  \n",
      " 2   Name      100000 non-null  object \n",
      " 3   Sex       100000 non-null  object \n",
      " 4   Age       96708 non-null   float64\n",
      " 5   SibSp     100000 non-null  int64  \n",
      " 6   Parch     100000 non-null  int64  \n",
      " 7   Ticket    95377 non-null   object \n",
      " 8   Fare      99866 non-null   float64\n",
      " 9   Cabin     32134 non-null   object \n",
      " 10  Embarked  99750 non-null   object \n",
      "dtypes: float64(2), int64(4), object(5)\n",
      "memory usage: 9.2+ MB\n"
     ]
    }
   ],
   "source": [
    "titanic_data.info()"
   ]
  },
  {
   "cell_type": "code",
   "execution_count": 161,
   "id": "94aa5da9",
   "metadata": {
    "scrolled": false
   },
   "outputs": [
    {
     "data": {
      "text/plain": [
       "Survived        0\n",
       "Pclass          0\n",
       "Name            0\n",
       "Sex             0\n",
       "Age          3292\n",
       "SibSp           0\n",
       "Parch           0\n",
       "Ticket       4623\n",
       "Fare          134\n",
       "Cabin       67866\n",
       "Embarked      250\n",
       "dtype: int64"
      ]
     },
     "execution_count": 161,
     "metadata": {},
     "output_type": "execute_result"
    }
   ],
   "source": [
    "count_nan = len(titanic_data) - titanic_data.count()\n",
    "count_nan"
   ]
  },
  {
   "cell_type": "markdown",
   "id": "a3b31a9c",
   "metadata": {},
   "source": [
    "Columns 'Sirvived', 'Pclass', 'Sex','SibSp', 'Parch' have no missing values"
   ]
  },
  {
   "cell_type": "markdown",
   "id": "0487dff5",
   "metadata": {},
   "source": [
    "Let's calculate percentage of missing data in columns that are left."
   ]
  },
  {
   "cell_type": "code",
   "execution_count": 162,
   "id": "08eb80cb",
   "metadata": {
    "scrolled": true
   },
   "outputs": [
    {
     "name": "stdout",
     "output_type": "stream",
     "text": [
      "There are 5 columns that have missing values.\n"
     ]
    },
    {
     "data": {
      "text/html": [
       "<div>\n",
       "<style scoped>\n",
       "    .dataframe tbody tr th:only-of-type {\n",
       "        vertical-align: middle;\n",
       "    }\n",
       "\n",
       "    .dataframe tbody tr th {\n",
       "        vertical-align: top;\n",
       "    }\n",
       "\n",
       "    .dataframe thead th {\n",
       "        text-align: right;\n",
       "    }\n",
       "</style>\n",
       "<table border=\"1\" class=\"dataframe\">\n",
       "  <thead>\n",
       "    <tr style=\"text-align: right;\">\n",
       "      <th></th>\n",
       "      <th>Missing Values</th>\n",
       "      <th>% of Total Values</th>\n",
       "    </tr>\n",
       "  </thead>\n",
       "  <tbody>\n",
       "    <tr>\n",
       "      <th>Cabin</th>\n",
       "      <td>67866</td>\n",
       "      <td>67.9</td>\n",
       "    </tr>\n",
       "    <tr>\n",
       "      <th>Ticket</th>\n",
       "      <td>4623</td>\n",
       "      <td>4.6</td>\n",
       "    </tr>\n",
       "    <tr>\n",
       "      <th>Age</th>\n",
       "      <td>3292</td>\n",
       "      <td>3.3</td>\n",
       "    </tr>\n",
       "    <tr>\n",
       "      <th>Embarked</th>\n",
       "      <td>250</td>\n",
       "      <td>0.2</td>\n",
       "    </tr>\n",
       "    <tr>\n",
       "      <th>Fare</th>\n",
       "      <td>134</td>\n",
       "      <td>0.1</td>\n",
       "    </tr>\n",
       "  </tbody>\n",
       "</table>\n",
       "</div>"
      ],
      "text/plain": [
       "          Missing Values  % of Total Values\n",
       "Cabin              67866               67.9\n",
       "Ticket              4623                4.6\n",
       "Age                 3292                3.3\n",
       "Embarked             250                0.2\n",
       "Fare                 134                0.1"
      ]
     },
     "execution_count": 162,
     "metadata": {},
     "output_type": "execute_result"
    }
   ],
   "source": [
    "def missing_values_table(df):\n",
    "    mis_val = df.isnull().sum()\n",
    "    mis_val_percent = 100 * df.isnull().sum() / len(df)\n",
    "    mis_val_table = pd.concat([mis_val, mis_val_percent], axis=1)\n",
    "    mis_val_table_ren_columns = mis_val_table.rename(\n",
    "    columns = {0 : 'Missing Values', 1 : '% of Total Values'})\n",
    "    mis_val_table_ren_columns = mis_val_table_ren_columns[\n",
    "        mis_val_table_ren_columns.iloc[:,1] != 0].sort_values(\n",
    "    '% of Total Values', ascending=False).round(1)\n",
    "    print (\"There are \" + str(mis_val_table_ren_columns.shape[0]) +\n",
    "            \" columns that have missing values.\")\n",
    "    return mis_val_table_ren_columns\n",
    "missing_values_table(titanic_data)"
   ]
  },
  {
   "cell_type": "markdown",
   "id": "5ddcbae7",
   "metadata": {},
   "source": [
    "'Cabin' column contains 67.9% of missing data, so it would be hard to impute there data without changing it significantly. The first thought would be to delete the column completely but as had been stated above Cabin is connected to Deck and Deck might have an assosiation with survival.\n",
    "\n",
    "Instead, let's replace NaN with 'Not stated' for 'Cabin'."
   ]
  },
  {
   "cell_type": "code",
   "execution_count": 172,
   "id": "14dade17",
   "metadata": {},
   "outputs": [],
   "source": [
    "titanic_data.Cabin = titanic_data.Cabin.fillna('Not stated')"
   ]
  },
  {
   "cell_type": "markdown",
   "id": "310481ab",
   "metadata": {},
   "source": [
    "ticket = поступить также как и с cabin\n",
    "\n",
    "age = среднее по классу каюты и возрасту по полу?\n",
    "\n",
    "Embarked = мода порта\n",
    "\n",
    "fare по средней цене в каюте того класса."
   ]
  },
  {
   "cell_type": "markdown",
   "id": "2adce41e",
   "metadata": {},
   "source": [
    "## Outlier analysis (boxplots)"
   ]
  },
  {
   "cell_type": "markdown",
   "id": "0cf927db",
   "metadata": {},
   "source": [
    "Let's find outliers in columns with quantitive categories"
   ]
  },
  {
   "cell_type": "code",
   "execution_count": 164,
   "id": "80f8f041",
   "metadata": {},
   "outputs": [
    {
     "data": {
      "text/plain": [
       "<AxesSubplot:>"
      ]
     },
     "execution_count": 164,
     "metadata": {},
     "output_type": "execute_result"
    },
    {
     "data": {
      "image/png": "[encoded data removed]",
      "text/plain": [
       "<Figure size 432x288 with 1 Axes>"
      ]
     },
     "metadata": {
      "needs_background": "light"
     },
     "output_type": "display_data"
    }
   ],
   "source": [
    "sn.boxplot(data=titanic_data['Age'])"
   ]
  },
  {
   "cell_type": "markdown",
   "id": "5408eca5",
   "metadata": {},
   "source": [
    "# Data exploration"
   ]
  },
  {
   "cell_type": "markdown",
   "id": "19353d7f",
   "metadata": {},
   "source": [
    "## Vizualization and summary statistics for each variable"
   ]
  },
  {
   "cell_type": "markdown",
   "id": "cbc46d08",
   "metadata": {},
   "source": [
    "### 'Survived' column"
   ]
  },
  {
   "cell_type": "code",
   "execution_count": 165,
   "id": "9caed2e7",
   "metadata": {
    "scrolled": true
   },
   "outputs": [
    {
     "data": {
      "text/plain": [
       "count    100000.000000\n",
       "mean          0.427740\n",
       "std           0.494753\n",
       "min           0.000000\n",
       "25%           0.000000\n",
       "50%           0.000000\n",
       "75%           1.000000\n",
       "max           1.000000\n",
       "Name: Survived, dtype: float64"
      ]
     },
     "execution_count": 165,
     "metadata": {},
     "output_type": "execute_result"
    }
   ],
   "source": [
    "titanic_data.Survived.describe()"
   ]
  },
  {
   "cell_type": "code",
   "execution_count": 166,
   "id": "baf896df",
   "metadata": {},
   "outputs": [
    {
     "data": {
      "text/plain": [
       "0    57226\n",
       "1    42774\n",
       "Name: Survived, dtype: int64"
      ]
     },
     "execution_count": 166,
     "metadata": {},
     "output_type": "execute_result"
    }
   ],
   "source": [
    "titanic_data.Survived.value_counts()"
   ]
  },
  {
   "cell_type": "markdown",
   "id": "e2b8dcd8",
   "metadata": {},
   "source": [
    "## Assert relationships"
   ]
  },
  {
   "cell_type": "markdown",
   "id": "c8380928",
   "metadata": {},
   "source": [
    "посмотреть отдельные калонки зависимость их и выживания\n",
    "посмотреть у связь выживания только у женщин\n",
    "\n",
    "взять зависимости из статьи про титаник"
   ]
  },
  {
   "cell_type": "markdown",
   "id": "034945c8",
   "metadata": {},
   "source": [
    "# Summary"
   ]
  },
  {
   "cell_type": "code",
   "execution_count": null,
   "id": "72e3fb13",
   "metadata": {},
   "outputs": [],
   "source": []
  }
 ],
 "metadata": {
  "kernelspec": {
   "display_name": "Python 3 (ipykernel)",
   "language": "python",
   "name": "python3"
  },
  "language_info": {
   "codemirror_mode": {
    "name": "ipython",
    "version": 3
   },
   "file_extension": ".py",
   "mimetype": "text/x-python",
   "name": "python",
   "nbconvert_exporter": "python",
   "pygments_lexer": "ipython3",
   "version": "3.9.1"
  },
  "toc": {
   "base_numbering": 1,
   "nav_menu": {},
   "number_sections": true,
   "sideBar": true,
   "skip_h1_title": false,
   "title_cell": "Table of Contents",
   "title_sidebar": "Contents",
   "toc_cell": false,
   "toc_position": {},
   "toc_section_display": true,
   "toc_window_display": false
  }
 },
 "nbformat": 4,
 "nbformat_minor": 5
}
