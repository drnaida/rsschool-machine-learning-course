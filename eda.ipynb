{
 "cells": [
  {
   "cell_type": "markdown",
   "id": "976b8301",
   "metadata": {},
   "source": [
    "## Import data"
   ]
  },
  {
   "cell_type": "code",
   "execution_count": 253,
   "id": "b489cb9e",
   "metadata": {
    "scrolled": false
   },
   "outputs": [],
   "source": [
    "import pandas as pd\n",
    "import seaborn as sns\n",
    "import matplotlib.pyplot as plt\n",
    "%matplotlib inline\n",
    "\n",
    "path_to_file = 'train_titanic.csv'\n",
    "\n",
    "titanic_data = pd.read_csv(path_to_file, index_col='PassengerId')"
   ]
  },
  {
   "cell_type": "markdown",
   "id": "d07912a0",
   "metadata": {},
   "source": [
    "# Context"
   ]
  },
  {
   "cell_type": "markdown",
   "id": "d92d0d8a",
   "metadata": {},
   "source": [
    "## What is titanic dataset about?"
   ]
  },
  {
   "cell_type": "markdown",
   "id": "ca463a7e",
   "metadata": {},
   "source": [
    "Titanic is a dataset that contains features about people who were on Titanic like age, port in which they were embarked, whether they survived the Titanic catastrophe and etc."
   ]
  },
  {
   "cell_type": "code",
   "execution_count": 254,
   "id": "8f49a152",
   "metadata": {},
   "outputs": [
    {
     "data": {
      "text/html": [
       "<div>\n",
       "<style scoped>\n",
       "    .dataframe tbody tr th:only-of-type {\n",
       "        vertical-align: middle;\n",
       "    }\n",
       "\n",
       "    .dataframe tbody tr th {\n",
       "        vertical-align: top;\n",
       "    }\n",
       "\n",
       "    .dataframe thead th {\n",
       "        text-align: right;\n",
       "    }\n",
       "</style>\n",
       "<table border=\"1\" class=\"dataframe\">\n",
       "  <thead>\n",
       "    <tr style=\"text-align: right;\">\n",
       "      <th></th>\n",
       "      <th>Survived</th>\n",
       "      <th>Pclass</th>\n",
       "      <th>Name</th>\n",
       "      <th>Sex</th>\n",
       "      <th>Age</th>\n",
       "      <th>SibSp</th>\n",
       "      <th>Parch</th>\n",
       "      <th>Ticket</th>\n",
       "      <th>Fare</th>\n",
       "      <th>Cabin</th>\n",
       "      <th>Embarked</th>\n",
       "    </tr>\n",
       "    <tr>\n",
       "      <th>PassengerId</th>\n",
       "      <th></th>\n",
       "      <th></th>\n",
       "      <th></th>\n",
       "      <th></th>\n",
       "      <th></th>\n",
       "      <th></th>\n",
       "      <th></th>\n",
       "      <th></th>\n",
       "      <th></th>\n",
       "      <th></th>\n",
       "      <th></th>\n",
       "    </tr>\n",
       "  </thead>\n",
       "  <tbody>\n",
       "    <tr>\n",
       "      <th>0</th>\n",
       "      <td>1</td>\n",
       "      <td>1</td>\n",
       "      <td>Oconnor, Frankie</td>\n",
       "      <td>male</td>\n",
       "      <td>NaN</td>\n",
       "      <td>2</td>\n",
       "      <td>0</td>\n",
       "      <td>209245</td>\n",
       "      <td>27.14</td>\n",
       "      <td>C12239</td>\n",
       "      <td>S</td>\n",
       "    </tr>\n",
       "    <tr>\n",
       "      <th>1</th>\n",
       "      <td>0</td>\n",
       "      <td>3</td>\n",
       "      <td>Bryan, Drew</td>\n",
       "      <td>male</td>\n",
       "      <td>NaN</td>\n",
       "      <td>0</td>\n",
       "      <td>0</td>\n",
       "      <td>27323</td>\n",
       "      <td>13.35</td>\n",
       "      <td>NaN</td>\n",
       "      <td>S</td>\n",
       "    </tr>\n",
       "    <tr>\n",
       "      <th>2</th>\n",
       "      <td>0</td>\n",
       "      <td>3</td>\n",
       "      <td>Owens, Kenneth</td>\n",
       "      <td>male</td>\n",
       "      <td>0.33</td>\n",
       "      <td>1</td>\n",
       "      <td>2</td>\n",
       "      <td>CA 457703</td>\n",
       "      <td>71.29</td>\n",
       "      <td>NaN</td>\n",
       "      <td>S</td>\n",
       "    </tr>\n",
       "    <tr>\n",
       "      <th>3</th>\n",
       "      <td>0</td>\n",
       "      <td>3</td>\n",
       "      <td>Kramer, James</td>\n",
       "      <td>male</td>\n",
       "      <td>19.00</td>\n",
       "      <td>0</td>\n",
       "      <td>0</td>\n",
       "      <td>A. 10866</td>\n",
       "      <td>13.04</td>\n",
       "      <td>NaN</td>\n",
       "      <td>S</td>\n",
       "    </tr>\n",
       "    <tr>\n",
       "      <th>4</th>\n",
       "      <td>1</td>\n",
       "      <td>3</td>\n",
       "      <td>Bond, Michael</td>\n",
       "      <td>male</td>\n",
       "      <td>25.00</td>\n",
       "      <td>0</td>\n",
       "      <td>0</td>\n",
       "      <td>427635</td>\n",
       "      <td>7.76</td>\n",
       "      <td>NaN</td>\n",
       "      <td>S</td>\n",
       "    </tr>\n",
       "    <tr>\n",
       "      <th>5</th>\n",
       "      <td>0</td>\n",
       "      <td>2</td>\n",
       "      <td>Sassano, Jonathan</td>\n",
       "      <td>male</td>\n",
       "      <td>35.00</td>\n",
       "      <td>0</td>\n",
       "      <td>0</td>\n",
       "      <td>13363</td>\n",
       "      <td>6.71</td>\n",
       "      <td>NaN</td>\n",
       "      <td>S</td>\n",
       "    </tr>\n",
       "    <tr>\n",
       "      <th>6</th>\n",
       "      <td>0</td>\n",
       "      <td>3</td>\n",
       "      <td>Conway, Jose</td>\n",
       "      <td>male</td>\n",
       "      <td>7.00</td>\n",
       "      <td>0</td>\n",
       "      <td>0</td>\n",
       "      <td>A/5</td>\n",
       "      <td>9.77</td>\n",
       "      <td>NaN</td>\n",
       "      <td>S</td>\n",
       "    </tr>\n",
       "    <tr>\n",
       "      <th>7</th>\n",
       "      <td>1</td>\n",
       "      <td>3</td>\n",
       "      <td>Werner, Linda</td>\n",
       "      <td>female</td>\n",
       "      <td>6.00</td>\n",
       "      <td>1</td>\n",
       "      <td>2</td>\n",
       "      <td>434426</td>\n",
       "      <td>31.50</td>\n",
       "      <td>NaN</td>\n",
       "      <td>S</td>\n",
       "    </tr>\n",
       "    <tr>\n",
       "      <th>8</th>\n",
       "      <td>0</td>\n",
       "      <td>1</td>\n",
       "      <td>Wardlaw, Michael</td>\n",
       "      <td>male</td>\n",
       "      <td>27.00</td>\n",
       "      <td>2</td>\n",
       "      <td>1</td>\n",
       "      <td>474849</td>\n",
       "      <td>73.02</td>\n",
       "      <td>A7253</td>\n",
       "      <td>S</td>\n",
       "    </tr>\n",
       "    <tr>\n",
       "      <th>9</th>\n",
       "      <td>0</td>\n",
       "      <td>2</td>\n",
       "      <td>Greigo, Rudy</td>\n",
       "      <td>male</td>\n",
       "      <td>66.00</td>\n",
       "      <td>0</td>\n",
       "      <td>0</td>\n",
       "      <td>6981</td>\n",
       "      <td>9.14</td>\n",
       "      <td>D2969</td>\n",
       "      <td>C</td>\n",
       "    </tr>\n",
       "    <tr>\n",
       "      <th>10</th>\n",
       "      <td>0</td>\n",
       "      <td>3</td>\n",
       "      <td>Nichols, William</td>\n",
       "      <td>male</td>\n",
       "      <td>31.00</td>\n",
       "      <td>0</td>\n",
       "      <td>0</td>\n",
       "      <td>459690</td>\n",
       "      <td>8.06</td>\n",
       "      <td>NaN</td>\n",
       "      <td>S</td>\n",
       "    </tr>\n",
       "    <tr>\n",
       "      <th>11</th>\n",
       "      <td>0</td>\n",
       "      <td>1</td>\n",
       "      <td>Telschow, Robert</td>\n",
       "      <td>male</td>\n",
       "      <td>60.00</td>\n",
       "      <td>0</td>\n",
       "      <td>0</td>\n",
       "      <td>19600</td>\n",
       "      <td>31.50</td>\n",
       "      <td>A9055</td>\n",
       "      <td>S</td>\n",
       "    </tr>\n",
       "    <tr>\n",
       "      <th>12</th>\n",
       "      <td>0</td>\n",
       "      <td>3</td>\n",
       "      <td>Stewart, Pat</td>\n",
       "      <td>male</td>\n",
       "      <td>36.00</td>\n",
       "      <td>0</td>\n",
       "      <td>0</td>\n",
       "      <td>434108</td>\n",
       "      <td>9.34</td>\n",
       "      <td>C8674</td>\n",
       "      <td>S</td>\n",
       "    </tr>\n",
       "    <tr>\n",
       "      <th>13</th>\n",
       "      <td>1</td>\n",
       "      <td>2</td>\n",
       "      <td>Raef, Phillip</td>\n",
       "      <td>male</td>\n",
       "      <td>50.00</td>\n",
       "      <td>0</td>\n",
       "      <td>0</td>\n",
       "      <td>3790453</td>\n",
       "      <td>7.88</td>\n",
       "      <td>NaN</td>\n",
       "      <td>Q</td>\n",
       "    </tr>\n",
       "    <tr>\n",
       "      <th>14</th>\n",
       "      <td>1</td>\n",
       "      <td>1</td>\n",
       "      <td>Seaton, Karen</td>\n",
       "      <td>female</td>\n",
       "      <td>44.00</td>\n",
       "      <td>0</td>\n",
       "      <td>1</td>\n",
       "      <td>12425</td>\n",
       "      <td>28.40</td>\n",
       "      <td>D6945</td>\n",
       "      <td>C</td>\n",
       "    </tr>\n",
       "  </tbody>\n",
       "</table>\n",
       "</div>"
      ],
      "text/plain": [
       "             Survived  Pclass               Name     Sex    Age  SibSp  Parch  \\\n",
       "PassengerId                                                                     \n",
       "0                   1       1   Oconnor, Frankie    male    NaN      2      0   \n",
       "1                   0       3        Bryan, Drew    male    NaN      0      0   \n",
       "2                   0       3     Owens, Kenneth    male   0.33      1      2   \n",
       "3                   0       3      Kramer, James    male  19.00      0      0   \n",
       "4                   1       3      Bond, Michael    male  25.00      0      0   \n",
       "5                   0       2  Sassano, Jonathan    male  35.00      0      0   \n",
       "6                   0       3       Conway, Jose    male   7.00      0      0   \n",
       "7                   1       3      Werner, Linda  female   6.00      1      2   \n",
       "8                   0       1   Wardlaw, Michael    male  27.00      2      1   \n",
       "9                   0       2       Greigo, Rudy    male  66.00      0      0   \n",
       "10                  0       3   Nichols, William    male  31.00      0      0   \n",
       "11                  0       1   Telschow, Robert    male  60.00      0      0   \n",
       "12                  0       3       Stewart, Pat    male  36.00      0      0   \n",
       "13                  1       2      Raef, Phillip    male  50.00      0      0   \n",
       "14                  1       1      Seaton, Karen  female  44.00      0      1   \n",
       "\n",
       "                Ticket   Fare   Cabin Embarked  \n",
       "PassengerId                                     \n",
       "0               209245  27.14  C12239        S  \n",
       "1                27323  13.35     NaN        S  \n",
       "2            CA 457703  71.29     NaN        S  \n",
       "3             A. 10866  13.04     NaN        S  \n",
       "4               427635   7.76     NaN        S  \n",
       "5                13363   6.71     NaN        S  \n",
       "6                 A/5    9.77     NaN        S  \n",
       "7               434426  31.50     NaN        S  \n",
       "8               474849  73.02   A7253        S  \n",
       "9                 6981   9.14   D2969        C  \n",
       "10              459690   8.06     NaN        S  \n",
       "11               19600  31.50   A9055        S  \n",
       "12              434108   9.34   C8674        S  \n",
       "13             3790453   7.88     NaN        Q  \n",
       "14               12425  28.40   D6945        C  "
      ]
     },
     "execution_count": 254,
     "metadata": {},
     "output_type": "execute_result"
    }
   ],
   "source": [
    "titanic_data.head(15)"
   ]
  },
  {
   "cell_type": "markdown",
   "id": "597d1773",
   "metadata": {},
   "source": [
    "## What is the unique id for each row of data?"
   ]
  },
  {
   "cell_type": "markdown",
   "id": "d056999d",
   "metadata": {},
   "source": [
    "Each row of data is identified by a 'PassengerId' column."
   ]
  },
  {
   "cell_type": "markdown",
   "id": "bcf8fb4a",
   "metadata": {},
   "source": [
    "## Understanding the meaning of each variable"
   ]
  },
  {
   "cell_type": "code",
   "execution_count": 255,
   "id": "cc2541b1",
   "metadata": {
    "scrolled": false
   },
   "outputs": [
    {
     "data": {
      "text/plain": [
       "['Survived',\n",
       " 'Pclass',\n",
       " 'Name',\n",
       " 'Sex',\n",
       " 'Age',\n",
       " 'SibSp',\n",
       " 'Parch',\n",
       " 'Ticket',\n",
       " 'Fare',\n",
       " 'Cabin',\n",
       " 'Embarked']"
      ]
     },
     "execution_count": 255,
     "metadata": {},
     "output_type": "execute_result"
    }
   ],
   "source": [
    "list(titanic_data.columns.values)"
   ]
  },
  {
   "cell_type": "markdown",
   "id": "cb7aff3a",
   "metadata": {},
   "source": [
    "Those are the variables/features that we have"
   ]
  },
  {
   "cell_type": "markdown",
   "id": "5fcd0e04",
   "metadata": {},
   "source": [
    "Let's understand the meaning of all features (variables) in the dataset:"
   ]
  },
  {
   "cell_type": "markdown",
   "id": "3d901430",
   "metadata": {},
   "source": [
    "'Survived' - whether a person survived the catastrophe or not, values 0 - dead and 1 - alive\n",
    "\n",
    "'Pclass' - class of the cabin, can 1st, 2nd or 3rd\n",
    "\n",
    "'Name' - name of the passenger, contains of First Name and Surname\n",
    "\n",
    "'Sex' - sex of the passenger, can be 'male' or 'female'\n",
    "\n",
    "'Age' - age of the person\n",
    "\n",
    "'SibSp' - number of horizontal relatives (siblings and spouses) a person travelled with\n",
    "\n",
    "'Parch' - number of vertical relatives (parents or children) a person travelled with\n",
    "\n",
    "'Ticket' - an id of a ticket\n",
    "\n",
    "'Fare' - amount of money person paid for a cabin\n",
    "\n",
    "'Cabin' - number of a cabin, consists of a letter representing deck and a number\n",
    "\n",
    "'Embarked' - name of the port in which person came on board of Titanic. Values are either 'C' - Cherbourg, 'S' - Southampton, or 'Q' - Queenstown"
   ]
  },
  {
   "cell_type": "markdown",
   "id": "57005421",
   "metadata": {},
   "source": [
    "## Deck plan"
   ]
  },
  {
   "cell_type": "markdown",
   "id": "5297b11d",
   "metadata": {},
   "source": [
    "Since column 'Cabin' contains values with letters, and letters represent decks on Titanic, I will leave here a plane of Titanic decks.\n",
    "\n",
    " ![Titanic Deck plan](titanic_deck_plan.jpg)"
   ]
  },
  {
   "cell_type": "markdown",
   "id": "9b4320c6",
   "metadata": {},
   "source": [
    "# Data quality assessment"
   ]
  },
  {
   "cell_type": "markdown",
   "id": "ea89da14",
   "metadata": {},
   "source": [
    "## Number of raws and columnms"
   ]
  },
  {
   "cell_type": "markdown",
   "id": "bd814b87",
   "metadata": {},
   "source": [
    "Let's check how many raws and columns the initial dataset has using shape method"
   ]
  },
  {
   "cell_type": "code",
   "execution_count": 256,
   "id": "ca4f6966",
   "metadata": {},
   "outputs": [
    {
     "data": {
      "text/plain": [
       "(100000, 11)"
      ]
     },
     "execution_count": 256,
     "metadata": {},
     "output_type": "execute_result"
    }
   ],
   "source": [
    "titanic_data_shape = titanic_data.shape\n",
    "titanic_data_shape"
   ]
  },
  {
   "cell_type": "markdown",
   "id": "3c209e1a",
   "metadata": {},
   "source": [
    "In other words, there are 100,000 raws and 11 columns with features (with index it would be 12 columns)"
   ]
  },
  {
   "cell_type": "markdown",
   "id": "50327dd5",
   "metadata": {},
   "source": [
    "## Types of columns\n",
    "\n",
    "Let's inspect data types of columns"
   ]
  },
  {
   "cell_type": "code",
   "execution_count": 257,
   "id": "05a4e991",
   "metadata": {
    "scrolled": true
   },
   "outputs": [
    {
     "data": {
      "text/plain": [
       "Survived      int64\n",
       "Pclass        int64\n",
       "Name         object\n",
       "Sex          object\n",
       "Age         float64\n",
       "SibSp         int64\n",
       "Parch         int64\n",
       "Ticket       object\n",
       "Fare        float64\n",
       "Cabin        object\n",
       "Embarked     object\n",
       "dtype: object"
      ]
     },
     "execution_count": 257,
     "metadata": {},
     "output_type": "execute_result"
    }
   ],
   "source": [
    "titanic_data.dtypes"
   ]
  },
  {
   "cell_type": "code",
   "execution_count": 258,
   "id": "e82888e3",
   "metadata": {},
   "outputs": [
    {
     "data": {
      "text/plain": [
       "object     5\n",
       "int64      4\n",
       "float64    2\n",
       "dtype: int64"
      ]
     },
     "execution_count": 258,
     "metadata": {},
     "output_type": "execute_result"
    }
   ],
   "source": [
    "titanic_data.dtypes.value_counts()"
   ]
  },
  {
   "cell_type": "markdown",
   "id": "3126bdf4",
   "metadata": {},
   "source": [
    "The dataset has 4 columns with integers, 2 columns with floats and 5 columns with object values."
   ]
  },
  {
   "cell_type": "markdown",
   "id": "70433841",
   "metadata": {},
   "source": [
    "## Categorizing features\n",
    "\n",
    "Our features can be divided in 2 groups based on their datatypes:\n",
    "\n",
    "1. Categorical features represent characteristics, and numbers can be used as values in them (for exampled, for a categorical feature 'Survived' dead means a number 0 and alive means a number 1 but we cannot add those numbers or calculate there mean."
   ]
  },
  {
   "cell_type": "markdown",
   "id": "ce113035",
   "metadata": {},
   "source": [
    "There are 5 features with categorical data:\n",
    "1. Survived\n",
    "2. Pclass\n",
    "3. Sex\n",
    "4. Cabin\n",
    "5. Embarked"
   ]
  },
  {
   "cell_type": "markdown",
   "id": "964d2076",
   "metadata": {},
   "source": [
    "A sub-class of categorical features are ordinal features. Ordinal features are the ones that can be ranked. In our case, ordinal feature is a 'Pclass' because 1st class is higher than 2nd, and 2nd is higher than 3rd."
   ]
  },
  {
   "cell_type": "markdown",
   "id": "babd220d",
   "metadata": {},
   "source": [
    "\n",
    "2. Quantitative (numeric) features. It's data which values are exact numbers."
   ]
  },
  {
   "cell_type": "markdown",
   "id": "8195e7f4",
   "metadata": {},
   "source": [
    "Quantitative data:\n",
    "1. Age\n",
    "2. Fare\n",
    "3. SibSp\n",
    "4. Parch"
   ]
  },
  {
   "cell_type": "markdown",
   "id": "ee3ce73e",
   "metadata": {},
   "source": [
    "Moreover, quantitive data can be divided in continuos and discrete. Continuos can take any value in a range while discrete takes certain values. For example, age in our dataset has years and months, so it can take any value in a range between 0 and highest value of age possible."
   ]
  },
  {
   "cell_type": "markdown",
   "id": "f5978cf3",
   "metadata": {},
   "source": [
    "Continuous values:\n",
    "1. Age\n",
    "2. Fare"
   ]
  },
  {
   "cell_type": "markdown",
   "id": "415e5eee",
   "metadata": {},
   "source": [
    "Discrete values:\n",
    "    \n",
    "1. SibSp\n",
    "2. Parch"
   ]
  },
  {
   "cell_type": "markdown",
   "id": "1c9c6be1",
   "metadata": {},
   "source": [
    "## Feature Engineering"
   ]
  },
  {
   "cell_type": "markdown",
   "id": "e78667ee",
   "metadata": {},
   "source": [
    "## Checking for duplicates"
   ]
  },
  {
   "cell_type": "code",
   "execution_count": 259,
   "id": "967bccc3",
   "metadata": {},
   "outputs": [
    {
     "data": {
      "text/plain": [
       "False    100000\n",
       "dtype: int64"
      ]
     },
     "execution_count": 259,
     "metadata": {},
     "output_type": "execute_result"
    }
   ],
   "source": [
    "titanic_data.duplicated().value_counts()"
   ]
  },
  {
   "cell_type": "markdown",
   "id": "8fac8948",
   "metadata": {},
   "source": [
    "There is no duplicated data in the dataset."
   ]
  },
  {
   "cell_type": "markdown",
   "id": "61edb8d9",
   "metadata": {},
   "source": [
    "## Dealing with syntax errors and range constrains"
   ]
  },
  {
   "cell_type": "markdown",
   "id": "244b4367",
   "metadata": {},
   "source": [
    "There are certain ranges and logical values which certain variables can have. For example, age cannot be negative, fare cannot be negative and etc.\n",
    "\n",
    "Let's check those ranges for each variable."
   ]
  },
  {
   "cell_type": "markdown",
   "id": "df9f22ed",
   "metadata": {},
   "source": [
    "### Pclass"
   ]
  },
  {
   "cell_type": "markdown",
   "id": "279b2add",
   "metadata": {},
   "source": [
    "According to the internet, on Titanic there were only 3 classes of cabins: 1st, 2nd and 3rd. Let's check that this is really like this in our dataset."
   ]
  },
  {
   "cell_type": "code",
   "execution_count": 260,
   "id": "bc40d2ff",
   "metadata": {},
   "outputs": [
    {
     "data": {
      "text/plain": [
       "3    41006\n",
       "1    30315\n",
       "2    28679\n",
       "Name: Pclass, dtype: int64"
      ]
     },
     "execution_count": 260,
     "metadata": {},
     "output_type": "execute_result"
    }
   ],
   "source": [
    "titanic_data.Pclass.value_counts()"
   ]
  },
  {
   "cell_type": "markdown",
   "id": "36f4bad0",
   "metadata": {},
   "source": [
    "True, the data is within the range of discrete values."
   ]
  },
  {
   "cell_type": "markdown",
   "id": "a4e72ee5",
   "metadata": {},
   "source": [
    "### Sex"
   ]
  },
  {
   "cell_type": "markdown",
   "id": "d7f77b40",
   "metadata": {},
   "source": [
    "Let's check that sex is within a range of discrete values 'male' or 'female'."
   ]
  },
  {
   "cell_type": "code",
   "execution_count": 261,
   "id": "ed80bb2f",
   "metadata": {},
   "outputs": [
    {
     "data": {
      "text/plain": [
       "male      56114\n",
       "female    43886\n",
       "Name: Sex, dtype: int64"
      ]
     },
     "execution_count": 261,
     "metadata": {},
     "output_type": "execute_result"
    }
   ],
   "source": [
    "titanic_data.Sex.value_counts()"
   ]
  },
  {
   "cell_type": "markdown",
   "id": "3794625c",
   "metadata": {},
   "source": [
    "True, the data is within the range of discrete values."
   ]
  },
  {
   "cell_type": "markdown",
   "id": "477a314d",
   "metadata": {},
   "source": [
    "### Age"
   ]
  },
  {
   "cell_type": "markdown",
   "id": "4bfa636d",
   "metadata": {},
   "source": [
    "Let's check that age is bigger than 0 and less than 122 (the highest age that a person lived was 122 years)."
   ]
  },
  {
   "cell_type": "code",
   "execution_count": 262,
   "id": "bdcf79a5",
   "metadata": {
    "scrolled": false
   },
   "outputs": [
    {
     "data": {
      "text/plain": [
       "Survived    0\n",
       "Pclass      0\n",
       "Name        0\n",
       "Sex         0\n",
       "Age         0\n",
       "SibSp       0\n",
       "Parch       0\n",
       "Ticket      0\n",
       "Fare        0\n",
       "Cabin       0\n",
       "Embarked    0\n",
       "dtype: int64"
      ]
     },
     "execution_count": 262,
     "metadata": {},
     "output_type": "execute_result"
    }
   ],
   "source": [
    "titanic_data.loc[(titanic_data.Age <= 0) | (titanic_data.Age >= 122)].count()"
   ]
  },
  {
   "cell_type": "markdown",
   "id": "e03f4f0b",
   "metadata": {},
   "source": [
    "True, ages are bigger than 0 and lower than 122."
   ]
  },
  {
   "cell_type": "markdown",
   "id": "f02a1855",
   "metadata": {},
   "source": [
    "### SibSp"
   ]
  },
  {
   "cell_type": "markdown",
   "id": "1d048cf5",
   "metadata": {},
   "source": [
    "Let's check that SibSp is NOT a negative number since number of people cannot be negative."
   ]
  },
  {
   "cell_type": "code",
   "execution_count": 263,
   "id": "8e8380ff",
   "metadata": {},
   "outputs": [
    {
     "data": {
      "text/plain": [
       "Survived    0\n",
       "Pclass      0\n",
       "Name        0\n",
       "Sex         0\n",
       "Age         0\n",
       "SibSp       0\n",
       "Parch       0\n",
       "Ticket      0\n",
       "Fare        0\n",
       "Cabin       0\n",
       "Embarked    0\n",
       "dtype: int64"
      ]
     },
     "execution_count": 263,
     "metadata": {},
     "output_type": "execute_result"
    }
   ],
   "source": [
    "titanic_data.loc[(titanic_data.SibSp < 0)].count()"
   ]
  },
  {
   "cell_type": "markdown",
   "id": "96b7dfef",
   "metadata": {},
   "source": [
    "True, there are no negative values of SibSp."
   ]
  },
  {
   "cell_type": "markdown",
   "id": "c3353e82",
   "metadata": {},
   "source": [
    "### Parch"
   ]
  },
  {
   "cell_type": "markdown",
   "id": "648b77bc",
   "metadata": {},
   "source": [
    "Let's check that Parch is NOT a negative number since number of people cannot be negative."
   ]
  },
  {
   "cell_type": "code",
   "execution_count": 264,
   "id": "c49990bc",
   "metadata": {},
   "outputs": [
    {
     "data": {
      "text/plain": [
       "Survived    0\n",
       "Pclass      0\n",
       "Name        0\n",
       "Sex         0\n",
       "Age         0\n",
       "SibSp       0\n",
       "Parch       0\n",
       "Ticket      0\n",
       "Fare        0\n",
       "Cabin       0\n",
       "Embarked    0\n",
       "dtype: int64"
      ]
     },
     "execution_count": 264,
     "metadata": {},
     "output_type": "execute_result"
    }
   ],
   "source": [
    "titanic_data.loc[(titanic_data.Parch < 0)].count()"
   ]
  },
  {
   "cell_type": "markdown",
   "id": "f60cd29e",
   "metadata": {},
   "source": [
    "True, there are no negative values of Parch."
   ]
  },
  {
   "cell_type": "markdown",
   "id": "f0f603be",
   "metadata": {},
   "source": [
    "### Fare"
   ]
  },
  {
   "cell_type": "markdown",
   "id": "378c1335",
   "metadata": {},
   "source": [
    "Let's check that 'Fare' is NOT equal to negative number, 0 or too big number which would be impossible to pay."
   ]
  },
  {
   "cell_type": "code",
   "execution_count": 265,
   "id": "f4dd38b9",
   "metadata": {},
   "outputs": [
    {
     "data": {
      "text/plain": [
       "(0.68, 744.66)"
      ]
     },
     "execution_count": 265,
     "metadata": {},
     "output_type": "execute_result"
    }
   ],
   "source": [
    "titanic_data['Fare'].min(), titanic_data['Fare'].max()"
   ]
  },
  {
   "cell_type": "markdown",
   "id": "9b6ed33e",
   "metadata": {},
   "source": [
    "### Embarked"
   ]
  },
  {
   "cell_type": "markdown",
   "id": "19041781",
   "metadata": {},
   "source": [
    "According to the internet, there were three ports (towns) from which people got on board of Titanic: 'S', 'Q', and 'C'. Let's check that this is really like this."
   ]
  },
  {
   "cell_type": "code",
   "execution_count": 266,
   "id": "21da3048",
   "metadata": {},
   "outputs": [
    {
     "data": {
      "text/plain": [
       "S    72139\n",
       "C    22187\n",
       "Q     5424\n",
       "Name: Embarked, dtype: int64"
      ]
     },
     "execution_count": 266,
     "metadata": {},
     "output_type": "execute_result"
    }
   ],
   "source": [
    "titanic_data.Embarked.value_counts()"
   ]
  },
  {
   "cell_type": "markdown",
   "id": "ae77ccc1",
   "metadata": {},
   "source": [
    "## Dealing with missing data"
   ]
  },
  {
   "cell_type": "code",
   "execution_count": 267,
   "id": "2caa84cc",
   "metadata": {
    "scrolled": false
   },
   "outputs": [
    {
     "name": "stdout",
     "output_type": "stream",
     "text": [
      "<class 'pandas.core.frame.DataFrame'>\n",
      "Int64Index: 100000 entries, 0 to 99999\n",
      "Data columns (total 11 columns):\n",
      " #   Column    Non-Null Count   Dtype  \n",
      "---  ------    --------------   -----  \n",
      " 0   Survived  100000 non-null  int64  \n",
      " 1   Pclass    100000 non-null  int64  \n",
      " 2   Name      100000 non-null  object \n",
      " 3   Sex       100000 non-null  object \n",
      " 4   Age       96708 non-null   float64\n",
      " 5   SibSp     100000 non-null  int64  \n",
      " 6   Parch     100000 non-null  int64  \n",
      " 7   Ticket    95377 non-null   object \n",
      " 8   Fare      99866 non-null   float64\n",
      " 9   Cabin     32134 non-null   object \n",
      " 10  Embarked  99750 non-null   object \n",
      "dtypes: float64(2), int64(4), object(5)\n",
      "memory usage: 9.2+ MB\n"
     ]
    }
   ],
   "source": [
    "titanic_data.info()"
   ]
  },
  {
   "cell_type": "code",
   "execution_count": 268,
   "id": "97dac035",
   "metadata": {
    "scrolled": false
   },
   "outputs": [
    {
     "data": {
      "text/plain": [
       "Survived        0\n",
       "Pclass          0\n",
       "Name            0\n",
       "Sex             0\n",
       "Age          3292\n",
       "SibSp           0\n",
       "Parch           0\n",
       "Ticket       4623\n",
       "Fare          134\n",
       "Cabin       67866\n",
       "Embarked      250\n",
       "dtype: int64"
      ]
     },
     "execution_count": 268,
     "metadata": {},
     "output_type": "execute_result"
    }
   ],
   "source": [
    "count_nan = len(titanic_data) - titanic_data.count()\n",
    "count_nan"
   ]
  },
  {
   "cell_type": "markdown",
   "id": "fc46032a",
   "metadata": {},
   "source": [
    "Columns 'Sirvived', 'Pclass', 'Sex','SibSp', 'Parch' have no missing values"
   ]
  },
  {
   "cell_type": "markdown",
   "id": "a6d9707a",
   "metadata": {},
   "source": [
    "Let's calculate percentage of missing data in columns that are left."
   ]
  },
  {
   "cell_type": "code",
   "execution_count": 269,
   "id": "62372de6",
   "metadata": {
    "scrolled": true
   },
   "outputs": [
    {
     "name": "stdout",
     "output_type": "stream",
     "text": [
      "There are 5 columns that have missing values.\n"
     ]
    },
    {
     "data": {
      "text/html": [
       "<div>\n",
       "<style scoped>\n",
       "    .dataframe tbody tr th:only-of-type {\n",
       "        vertical-align: middle;\n",
       "    }\n",
       "\n",
       "    .dataframe tbody tr th {\n",
       "        vertical-align: top;\n",
       "    }\n",
       "\n",
       "    .dataframe thead th {\n",
       "        text-align: right;\n",
       "    }\n",
       "</style>\n",
       "<table border=\"1\" class=\"dataframe\">\n",
       "  <thead>\n",
       "    <tr style=\"text-align: right;\">\n",
       "      <th></th>\n",
       "      <th>Missing Values</th>\n",
       "      <th>% of Total Values</th>\n",
       "    </tr>\n",
       "  </thead>\n",
       "  <tbody>\n",
       "    <tr>\n",
       "      <th>Cabin</th>\n",
       "      <td>67866</td>\n",
       "      <td>67.9</td>\n",
       "    </tr>\n",
       "    <tr>\n",
       "      <th>Ticket</th>\n",
       "      <td>4623</td>\n",
       "      <td>4.6</td>\n",
       "    </tr>\n",
       "    <tr>\n",
       "      <th>Age</th>\n",
       "      <td>3292</td>\n",
       "      <td>3.3</td>\n",
       "    </tr>\n",
       "    <tr>\n",
       "      <th>Embarked</th>\n",
       "      <td>250</td>\n",
       "      <td>0.2</td>\n",
       "    </tr>\n",
       "    <tr>\n",
       "      <th>Fare</th>\n",
       "      <td>134</td>\n",
       "      <td>0.1</td>\n",
       "    </tr>\n",
       "  </tbody>\n",
       "</table>\n",
       "</div>"
      ],
      "text/plain": [
       "          Missing Values  % of Total Values\n",
       "Cabin              67866               67.9\n",
       "Ticket              4623                4.6\n",
       "Age                 3292                3.3\n",
       "Embarked             250                0.2\n",
       "Fare                 134                0.1"
      ]
     },
     "execution_count": 269,
     "metadata": {},
     "output_type": "execute_result"
    }
   ],
   "source": [
    "def missing_values_table(df):\n",
    "    mis_val = df.isnull().sum()\n",
    "    mis_val_percent = 100 * df.isnull().sum() / len(df)\n",
    "    mis_val_table = pd.concat([mis_val, mis_val_percent], axis=1)\n",
    "    mis_val_table_ren_columns = mis_val_table.rename(\n",
    "    columns = {0 : 'Missing Values', 1 : '% of Total Values'})\n",
    "    mis_val_table_ren_columns = mis_val_table_ren_columns[\n",
    "        mis_val_table_ren_columns.iloc[:,1] != 0].sort_values(\n",
    "    '% of Total Values', ascending=False).round(1)\n",
    "    print (\"There are \" + str(mis_val_table_ren_columns.shape[0]) +\n",
    "            \" columns that have missing values.\")\n",
    "    return mis_val_table_ren_columns\n",
    "missing_values_table(titanic_data)"
   ]
  },
  {
   "cell_type": "markdown",
   "id": "d213aa02",
   "metadata": {},
   "source": [
    "### Missing 'Cabin' data"
   ]
  },
  {
   "cell_type": "markdown",
   "id": "ea746d24",
   "metadata": {},
   "source": [
    "'Cabin' column contains 67.9% of missing data, so it would be hard to impute there data without changing it significantly. The first thought would be to delete the column completely but as had been stated above Cabin is connected to Deck and Deck might have an assosiation with survival.\n",
    "\n",
    "Instead, let's replace NaN with 'Not stated' for 'Cabin'."
   ]
  },
  {
   "cell_type": "code",
   "execution_count": 270,
   "id": "f38e9d0b",
   "metadata": {},
   "outputs": [
    {
     "name": "stdout",
     "output_type": "stream",
     "text": [
      "<class 'pandas.core.frame.DataFrame'>\n",
      "Int64Index: 100000 entries, 0 to 99999\n",
      "Data columns (total 11 columns):\n",
      " #   Column    Non-Null Count   Dtype  \n",
      "---  ------    --------------   -----  \n",
      " 0   Survived  100000 non-null  int64  \n",
      " 1   Pclass    100000 non-null  int64  \n",
      " 2   Name      100000 non-null  object \n",
      " 3   Sex       100000 non-null  object \n",
      " 4   Age       96708 non-null   float64\n",
      " 5   SibSp     100000 non-null  int64  \n",
      " 6   Parch     100000 non-null  int64  \n",
      " 7   Ticket    95377 non-null   object \n",
      " 8   Fare      99866 non-null   float64\n",
      " 9   Cabin     100000 non-null  object \n",
      " 10  Embarked  99750 non-null   object \n",
      "dtypes: float64(2), int64(4), object(5)\n",
      "memory usage: 9.2+ MB\n"
     ]
    }
   ],
   "source": [
    "titanic_data.Cabin = titanic_data.Cabin.fillna('Not stated')\n",
    "titanic_data.info()"
   ]
  },
  {
   "cell_type": "markdown",
   "id": "46615cfa",
   "metadata": {},
   "source": [
    "### Missing 'Ticket' data"
   ]
  },
  {
   "cell_type": "markdown",
   "id": "3bcb64fe",
   "metadata": {},
   "source": [
    "According to articles about the tickets at the internet, people could have the same ticket number if they shared the same cabin. Moreover, tickets can be divided in different groups based on their pattern. For example, tickets that start with 'CA' were sold by the same seller, tickets that start with 'A' were sold by the same seller and etc.\n",
    "\n",
    "Let's check it in our dataset by counting unique values."
   ]
  },
  {
   "cell_type": "code",
   "execution_count": 271,
   "id": "544bcb15",
   "metadata": {
    "scrolled": true
   },
   "outputs": [
    {
     "data": {
      "text/plain": [
       "A/5             602\n",
       "C.A.            177\n",
       "SC/PARIS        145\n",
       "SOTON/O.Q.       80\n",
       "SC               57\n",
       "               ... \n",
       "421812            1\n",
       "PC 420601         1\n",
       "PC 26800          1\n",
       "STON/O 23755      1\n",
       "458074            1\n",
       "Name: Ticket, Length: 75331, dtype: int64"
      ]
     },
     "execution_count": 271,
     "metadata": {},
     "output_type": "execute_result"
    }
   ],
   "source": [
    "titanic_data.Ticket.value_counts()"
   ]
  },
  {
   "cell_type": "markdown",
   "id": "7330b5f7",
   "metadata": {},
   "source": [
    "Logically, 602 people or 177 people couldn't share the same cabin. Moreover, information about sellers cannot influence other features. Consequently, ticket data cannot be used to draw correlation and should be deleted."
   ]
  },
  {
   "cell_type": "code",
   "execution_count": 272,
   "id": "08063b35",
   "metadata": {},
   "outputs": [
    {
     "data": {
      "text/html": [
       "<div>\n",
       "<style scoped>\n",
       "    .dataframe tbody tr th:only-of-type {\n",
       "        vertical-align: middle;\n",
       "    }\n",
       "\n",
       "    .dataframe tbody tr th {\n",
       "        vertical-align: top;\n",
       "    }\n",
       "\n",
       "    .dataframe thead th {\n",
       "        text-align: right;\n",
       "    }\n",
       "</style>\n",
       "<table border=\"1\" class=\"dataframe\">\n",
       "  <thead>\n",
       "    <tr style=\"text-align: right;\">\n",
       "      <th></th>\n",
       "      <th>Survived</th>\n",
       "      <th>Pclass</th>\n",
       "      <th>Name</th>\n",
       "      <th>Sex</th>\n",
       "      <th>Age</th>\n",
       "      <th>SibSp</th>\n",
       "      <th>Parch</th>\n",
       "      <th>Fare</th>\n",
       "      <th>Cabin</th>\n",
       "      <th>Embarked</th>\n",
       "    </tr>\n",
       "    <tr>\n",
       "      <th>PassengerId</th>\n",
       "      <th></th>\n",
       "      <th></th>\n",
       "      <th></th>\n",
       "      <th></th>\n",
       "      <th></th>\n",
       "      <th></th>\n",
       "      <th></th>\n",
       "      <th></th>\n",
       "      <th></th>\n",
       "      <th></th>\n",
       "    </tr>\n",
       "  </thead>\n",
       "  <tbody>\n",
       "    <tr>\n",
       "      <th>0</th>\n",
       "      <td>1</td>\n",
       "      <td>1</td>\n",
       "      <td>Oconnor, Frankie</td>\n",
       "      <td>male</td>\n",
       "      <td>NaN</td>\n",
       "      <td>2</td>\n",
       "      <td>0</td>\n",
       "      <td>27.14</td>\n",
       "      <td>C12239</td>\n",
       "      <td>S</td>\n",
       "    </tr>\n",
       "    <tr>\n",
       "      <th>1</th>\n",
       "      <td>0</td>\n",
       "      <td>3</td>\n",
       "      <td>Bryan, Drew</td>\n",
       "      <td>male</td>\n",
       "      <td>NaN</td>\n",
       "      <td>0</td>\n",
       "      <td>0</td>\n",
       "      <td>13.35</td>\n",
       "      <td>Not stated</td>\n",
       "      <td>S</td>\n",
       "    </tr>\n",
       "    <tr>\n",
       "      <th>2</th>\n",
       "      <td>0</td>\n",
       "      <td>3</td>\n",
       "      <td>Owens, Kenneth</td>\n",
       "      <td>male</td>\n",
       "      <td>0.33</td>\n",
       "      <td>1</td>\n",
       "      <td>2</td>\n",
       "      <td>71.29</td>\n",
       "      <td>Not stated</td>\n",
       "      <td>S</td>\n",
       "    </tr>\n",
       "    <tr>\n",
       "      <th>3</th>\n",
       "      <td>0</td>\n",
       "      <td>3</td>\n",
       "      <td>Kramer, James</td>\n",
       "      <td>male</td>\n",
       "      <td>19.00</td>\n",
       "      <td>0</td>\n",
       "      <td>0</td>\n",
       "      <td>13.04</td>\n",
       "      <td>Not stated</td>\n",
       "      <td>S</td>\n",
       "    </tr>\n",
       "    <tr>\n",
       "      <th>4</th>\n",
       "      <td>1</td>\n",
       "      <td>3</td>\n",
       "      <td>Bond, Michael</td>\n",
       "      <td>male</td>\n",
       "      <td>25.00</td>\n",
       "      <td>0</td>\n",
       "      <td>0</td>\n",
       "      <td>7.76</td>\n",
       "      <td>Not stated</td>\n",
       "      <td>S</td>\n",
       "    </tr>\n",
       "    <tr>\n",
       "      <th>...</th>\n",
       "      <td>...</td>\n",
       "      <td>...</td>\n",
       "      <td>...</td>\n",
       "      <td>...</td>\n",
       "      <td>...</td>\n",
       "      <td>...</td>\n",
       "      <td>...</td>\n",
       "      <td>...</td>\n",
       "      <td>...</td>\n",
       "      <td>...</td>\n",
       "    </tr>\n",
       "    <tr>\n",
       "      <th>99995</th>\n",
       "      <td>1</td>\n",
       "      <td>2</td>\n",
       "      <td>Bell, Adele</td>\n",
       "      <td>female</td>\n",
       "      <td>62.00</td>\n",
       "      <td>0</td>\n",
       "      <td>0</td>\n",
       "      <td>14.86</td>\n",
       "      <td>D17243</td>\n",
       "      <td>C</td>\n",
       "    </tr>\n",
       "    <tr>\n",
       "      <th>99996</th>\n",
       "      <td>0</td>\n",
       "      <td>2</td>\n",
       "      <td>Brown, Herman</td>\n",
       "      <td>male</td>\n",
       "      <td>66.00</td>\n",
       "      <td>0</td>\n",
       "      <td>0</td>\n",
       "      <td>11.15</td>\n",
       "      <td>Not stated</td>\n",
       "      <td>S</td>\n",
       "    </tr>\n",
       "    <tr>\n",
       "      <th>99997</th>\n",
       "      <td>0</td>\n",
       "      <td>3</td>\n",
       "      <td>Childress, Charles</td>\n",
       "      <td>male</td>\n",
       "      <td>37.00</td>\n",
       "      <td>0</td>\n",
       "      <td>0</td>\n",
       "      <td>9.95</td>\n",
       "      <td>Not stated</td>\n",
       "      <td>S</td>\n",
       "    </tr>\n",
       "    <tr>\n",
       "      <th>99998</th>\n",
       "      <td>0</td>\n",
       "      <td>3</td>\n",
       "      <td>Caughlin, Thomas</td>\n",
       "      <td>male</td>\n",
       "      <td>51.00</td>\n",
       "      <td>0</td>\n",
       "      <td>1</td>\n",
       "      <td>30.92</td>\n",
       "      <td>Not stated</td>\n",
       "      <td>S</td>\n",
       "    </tr>\n",
       "    <tr>\n",
       "      <th>99999</th>\n",
       "      <td>0</td>\n",
       "      <td>3</td>\n",
       "      <td>Enciso, Tyler</td>\n",
       "      <td>male</td>\n",
       "      <td>55.00</td>\n",
       "      <td>0</td>\n",
       "      <td>0</td>\n",
       "      <td>13.96</td>\n",
       "      <td>Not stated</td>\n",
       "      <td>S</td>\n",
       "    </tr>\n",
       "  </tbody>\n",
       "</table>\n",
       "<p>100000 rows × 10 columns</p>\n",
       "</div>"
      ],
      "text/plain": [
       "             Survived  Pclass                Name     Sex    Age  SibSp  \\\n",
       "PassengerId                                                               \n",
       "0                   1       1    Oconnor, Frankie    male    NaN      2   \n",
       "1                   0       3         Bryan, Drew    male    NaN      0   \n",
       "2                   0       3      Owens, Kenneth    male   0.33      1   \n",
       "3                   0       3       Kramer, James    male  19.00      0   \n",
       "4                   1       3       Bond, Michael    male  25.00      0   \n",
       "...               ...     ...                 ...     ...    ...    ...   \n",
       "99995               1       2         Bell, Adele  female  62.00      0   \n",
       "99996               0       2       Brown, Herman    male  66.00      0   \n",
       "99997               0       3  Childress, Charles    male  37.00      0   \n",
       "99998               0       3    Caughlin, Thomas    male  51.00      0   \n",
       "99999               0       3       Enciso, Tyler    male  55.00      0   \n",
       "\n",
       "             Parch   Fare       Cabin Embarked  \n",
       "PassengerId                                     \n",
       "0                0  27.14      C12239        S  \n",
       "1                0  13.35  Not stated        S  \n",
       "2                2  71.29  Not stated        S  \n",
       "3                0  13.04  Not stated        S  \n",
       "4                0   7.76  Not stated        S  \n",
       "...            ...    ...         ...      ...  \n",
       "99995            0  14.86      D17243        C  \n",
       "99996            0  11.15  Not stated        S  \n",
       "99997            0   9.95  Not stated        S  \n",
       "99998            1  30.92  Not stated        S  \n",
       "99999            0  13.96  Not stated        S  \n",
       "\n",
       "[100000 rows x 10 columns]"
      ]
     },
     "execution_count": 272,
     "metadata": {},
     "output_type": "execute_result"
    }
   ],
   "source": [
    "titanic_data = titanic_data.drop('Ticket', axis=1)\n",
    "titanic_data"
   ]
  },
  {
   "cell_type": "markdown",
   "id": "7934bf08",
   "metadata": {},
   "source": [
    "### Missing 'Embarked' data"
   ]
  },
  {
   "cell_type": "markdown",
   "id": "c6233770",
   "metadata": {},
   "source": [
    "Embarked is a categorical data and has a loss of only 0.2% of data, so let's fill missing data with mode which is 'S'."
   ]
  },
  {
   "cell_type": "code",
   "execution_count": 273,
   "id": "9b2711ce",
   "metadata": {
    "scrolled": true
   },
   "outputs": [
    {
     "name": "stdout",
     "output_type": "stream",
     "text": [
      "<class 'pandas.core.frame.DataFrame'>\n",
      "Int64Index: 100000 entries, 0 to 99999\n",
      "Data columns (total 10 columns):\n",
      " #   Column    Non-Null Count   Dtype  \n",
      "---  ------    --------------   -----  \n",
      " 0   Survived  100000 non-null  int64  \n",
      " 1   Pclass    100000 non-null  int64  \n",
      " 2   Name      100000 non-null  object \n",
      " 3   Sex       100000 non-null  object \n",
      " 4   Age       96708 non-null   float64\n",
      " 5   SibSp     100000 non-null  int64  \n",
      " 6   Parch     100000 non-null  int64  \n",
      " 7   Fare      99866 non-null   float64\n",
      " 8   Cabin     100000 non-null  object \n",
      " 9   Embarked  100000 non-null  object \n",
      "dtypes: float64(2), int64(4), object(4)\n",
      "memory usage: 8.4+ MB\n"
     ]
    }
   ],
   "source": [
    "embarked_mode = titanic_data.Embarked.mode()[0]\n",
    "titanic_data['Embarked'] = titanic_data['Embarked'].fillna(embarked_mode)\n",
    "titanic_data.info()"
   ]
  },
  {
   "cell_type": "markdown",
   "id": "dc38057e",
   "metadata": {},
   "source": [
    "### Missing 'Fare' data"
   ]
  },
  {
   "cell_type": "markdown",
   "id": "99030b3b",
   "metadata": {},
   "source": [
    "Instead of just filling 'Fare' with mean, let's find correlation between fare mean and other features. Logically, the correlation that might exist is between 'Pclass' and 'Fare' mean because the higher the class, the higher should be price."
   ]
  },
  {
   "cell_type": "code",
   "execution_count": 274,
   "id": "30ebcd8b",
   "metadata": {},
   "outputs": [
    {
     "data": {
      "text/plain": [
       "(92.65311345995046, 25.756003422146332, 20.618226058504753)"
      ]
     },
     "execution_count": 274,
     "metadata": {},
     "output_type": "execute_result"
    }
   ],
   "source": [
    "first_class_mean = titanic_data.loc[titanic_data.Pclass == 1].Fare.mean()\n",
    "second_class_mean = titanic_data.loc[titanic_data.Pclass == 2].Fare.mean()\n",
    "third_class_mean = titanic_data.loc[titanic_data.Pclass == 3].Fare.mean()\n",
    "first_class_mean, second_class_mean, third_class_mean"
   ]
  },
  {
   "cell_type": "markdown",
   "id": "3a59d5ac",
   "metadata": {},
   "source": [
    "True, the higher mean price, the higher cabin class."
   ]
  },
  {
   "cell_type": "markdown",
   "id": "a04b3a65",
   "metadata": {},
   "source": [
    "Let's fill missing data in Fares for 1st class with mean for 1st class, for 2nd class with mean for 2nd class and etc. In this case, numbers that we fill will be more accurate because prices for classes of Cabins differ."
   ]
  },
  {
   "cell_type": "code",
   "execution_count": 275,
   "id": "412a8280",
   "metadata": {
    "scrolled": false
   },
   "outputs": [
    {
     "name": "stdout",
     "output_type": "stream",
     "text": [
      "<class 'pandas.core.frame.DataFrame'>\n",
      "Int64Index: 100000 entries, 0 to 99999\n",
      "Data columns (total 10 columns):\n",
      " #   Column    Non-Null Count   Dtype  \n",
      "---  ------    --------------   -----  \n",
      " 0   Survived  100000 non-null  int64  \n",
      " 1   Pclass    100000 non-null  int64  \n",
      " 2   Name      100000 non-null  object \n",
      " 3   Sex       100000 non-null  object \n",
      " 4   Age       96708 non-null   float64\n",
      " 5   SibSp     100000 non-null  int64  \n",
      " 6   Parch     100000 non-null  int64  \n",
      " 7   Fare      100000 non-null  float64\n",
      " 8   Cabin     100000 non-null  object \n",
      " 9   Embarked  100000 non-null  object \n",
      "dtypes: float64(2), int64(4), object(4)\n",
      "memory usage: 8.4+ MB\n"
     ]
    }
   ],
   "source": [
    "titanic_data['Fare'] = titanic_data.groupby('Pclass')['Fare'].transform(lambda group: group.fillna(group.mean()))\n",
    "titanic_data.info()"
   ]
  },
  {
   "cell_type": "markdown",
   "id": "8d93e03e",
   "metadata": {},
   "source": [
    "### Missing 'Age' data"
   ]
  },
  {
   "cell_type": "markdown",
   "id": "31971edd",
   "metadata": {},
   "source": [
    "Instead of just filling data with median or mean, let's make more accurate filling of missing data. For that, let's try to find assosiations between age and other features."
   ]
  },
  {
   "cell_type": "markdown",
   "id": "c0231ea2",
   "metadata": {},
   "source": [
    "Let's try to find a correlation between 'Age' and 'Pclass'."
   ]
  },
  {
   "cell_type": "code",
   "execution_count": 276,
   "id": "34495390",
   "metadata": {
    "scrolled": true
   },
   "outputs": [
    {
     "data": {
      "image/png": "[encoded data removed]",
      "text/plain": [
       "<Figure size 720x576 with 1 Axes>"
      ]
     },
     "metadata": {
      "needs_background": "light"
     },
     "output_type": "display_data"
    }
   ],
   "source": [
    "plt.figure(figsize=(10,8))\n",
    "sns.boxplot(x=\"Pclass\", y=\"Age\", data=titanic_data, palette=\"vlag\")\n",
    "plt.title('Correlation between Age and Pclass', fontsize=15);"
   ]
  },
  {
   "cell_type": "markdown",
   "id": "897aef32",
   "metadata": {},
   "source": [
    "As seen above, the higher the Pclass the higher median age of a person. May be that is because older people could have earned more money during their life and riched higher job titles."
   ]
  },
  {
   "cell_type": "markdown",
   "id": "d645a5d8",
   "metadata": {},
   "source": [
    "Let's try to find a correlation between 'Age' and 'Sex'."
   ]
  },
  {
   "cell_type": "code",
   "execution_count": 277,
   "id": "c4bb0b82",
   "metadata": {},
   "outputs": [
    {
     "data": {
      "image/png": "[encoded data removed]",
      "text/plain": [
       "<Figure size 720x576 with 1 Axes>"
      ]
     },
     "metadata": {
      "needs_background": "light"
     },
     "output_type": "display_data"
    }
   ],
   "source": [
    "plt.figure(figsize=(10,8))\n",
    "sns.boxplot(x=\"Sex\", y=\"Age\", data=titanic_data, palette=\"vlag\")\n",
    "plt.title('Correlation between Age and Sex', fontsize=15);"
   ]
  },
  {
   "cell_type": "markdown",
   "id": "ea53c87e",
   "metadata": {},
   "source": [
    "As seen above, females had a bigger median."
   ]
  },
  {
   "cell_type": "code",
   "execution_count": 278,
   "id": "3365cd70",
   "metadata": {},
   "outputs": [
    {
     "name": "stdout",
     "output_type": "stream",
     "text": [
      "<class 'pandas.core.frame.DataFrame'>\n",
      "Int64Index: 100000 entries, 0 to 99999\n",
      "Data columns (total 10 columns):\n",
      " #   Column    Non-Null Count   Dtype  \n",
      "---  ------    --------------   -----  \n",
      " 0   Survived  100000 non-null  int64  \n",
      " 1   Pclass    100000 non-null  int64  \n",
      " 2   Name      100000 non-null  object \n",
      " 3   Sex       100000 non-null  object \n",
      " 4   Age       100000 non-null  float64\n",
      " 5   SibSp     100000 non-null  int64  \n",
      " 6   Parch     100000 non-null  int64  \n",
      " 7   Fare      100000 non-null  float64\n",
      " 8   Cabin     100000 non-null  object \n",
      " 9   Embarked  100000 non-null  object \n",
      "dtypes: float64(2), int64(4), object(4)\n",
      "memory usage: 8.4+ MB\n"
     ]
    }
   ],
   "source": [
    "titanic_data['Age'] = titanic_data.groupby(['Pclass', 'Sex'])['Age'].transform(lambda group: group.fillna(group.median()))\n",
    "titanic_data.info()"
   ]
  },
  {
   "cell_type": "markdown",
   "id": "386fb55a",
   "metadata": {},
   "source": [
    "Now all of the missing values are either filled or deleted. Let's check how the shape of our dataset changed."
   ]
  },
  {
   "cell_type": "code",
   "execution_count": 279,
   "id": "6c5ef47b",
   "metadata": {},
   "outputs": [
    {
     "name": "stdout",
     "output_type": "stream",
     "text": [
      "Rows left: 100000, 0 raws were deleted\n"
     ]
    }
   ],
   "source": [
    "print(f\"Rows left: {len(titanic_data)}, {titanic_data_shape[0] - len(titanic_data)} raws were deleted\")"
   ]
  },
  {
   "cell_type": "code",
   "execution_count": 280,
   "id": "4d1845c3",
   "metadata": {},
   "outputs": [
    {
     "name": "stdout",
     "output_type": "stream",
     "text": [
      "Columns left: 10, 1 columns were deleted\n"
     ]
    }
   ],
   "source": [
    "print(f\"Columns left: {titanic_data.shape[1]}, {titanic_data_shape[1] - titanic_data.shape[1]} columns were deleted\")"
   ]
  },
  {
   "cell_type": "markdown",
   "id": "2a095c46",
   "metadata": {},
   "source": [
    "## Ommiting unnessesary data (Name)"
   ]
  },
  {
   "cell_type": "markdown",
   "id": "b2021433",
   "metadata": {},
   "source": [
    "As seen below, names contain only First Name and Surname without any title or occupation, so there may not be any correlation between name and other features."
   ]
  },
  {
   "cell_type": "code",
   "execution_count": 281,
   "id": "639081de",
   "metadata": {
    "scrolled": true
   },
   "outputs": [
    {
     "data": {
      "text/plain": [
       "Johnson, John        31\n",
       "Smith, James         24\n",
       "Smith, John          24\n",
       "Johnson, William     22\n",
       "Smith, Michael       20\n",
       "Smith, William       19\n",
       "Jones, James         19\n",
       "Smith, Robert        18\n",
       "Johnson, James       18\n",
       "Smith, Mary          17\n",
       "Johnson, Robert      16\n",
       "Williams, Michael    15\n",
       "Brown, John          15\n",
       "Jones, William       15\n",
       "Davis, Robert        15\n",
       "Jones, Robert        15\n",
       "Williams, Robert     14\n",
       "Williams, John       14\n",
       "Davis, John          14\n",
       "Moore, David         14\n",
       "Name: Name, dtype: int64"
      ]
     },
     "execution_count": 281,
     "metadata": {},
     "output_type": "execute_result"
    }
   ],
   "source": [
    "titanic_data.Name.value_counts().head(20)"
   ]
  },
  {
   "cell_type": "markdown",
   "id": "84c93ba7",
   "metadata": {},
   "source": [
    "So let's delete it."
   ]
  },
  {
   "cell_type": "code",
   "execution_count": 282,
   "id": "5b2bf35f",
   "metadata": {},
   "outputs": [
    {
     "data": {
      "text/html": [
       "<div>\n",
       "<style scoped>\n",
       "    .dataframe tbody tr th:only-of-type {\n",
       "        vertical-align: middle;\n",
       "    }\n",
       "\n",
       "    .dataframe tbody tr th {\n",
       "        vertical-align: top;\n",
       "    }\n",
       "\n",
       "    .dataframe thead th {\n",
       "        text-align: right;\n",
       "    }\n",
       "</style>\n",
       "<table border=\"1\" class=\"dataframe\">\n",
       "  <thead>\n",
       "    <tr style=\"text-align: right;\">\n",
       "      <th></th>\n",
       "      <th>Survived</th>\n",
       "      <th>Pclass</th>\n",
       "      <th>Sex</th>\n",
       "      <th>Age</th>\n",
       "      <th>SibSp</th>\n",
       "      <th>Parch</th>\n",
       "      <th>Fare</th>\n",
       "      <th>Cabin</th>\n",
       "      <th>Embarked</th>\n",
       "    </tr>\n",
       "    <tr>\n",
       "      <th>PassengerId</th>\n",
       "      <th></th>\n",
       "      <th></th>\n",
       "      <th></th>\n",
       "      <th></th>\n",
       "      <th></th>\n",
       "      <th></th>\n",
       "      <th></th>\n",
       "      <th></th>\n",
       "      <th></th>\n",
       "    </tr>\n",
       "  </thead>\n",
       "  <tbody>\n",
       "    <tr>\n",
       "      <th>0</th>\n",
       "      <td>1</td>\n",
       "      <td>1</td>\n",
       "      <td>male</td>\n",
       "      <td>44.00</td>\n",
       "      <td>2</td>\n",
       "      <td>0</td>\n",
       "      <td>27.14</td>\n",
       "      <td>C12239</td>\n",
       "      <td>S</td>\n",
       "    </tr>\n",
       "    <tr>\n",
       "      <th>1</th>\n",
       "      <td>0</td>\n",
       "      <td>3</td>\n",
       "      <td>male</td>\n",
       "      <td>31.00</td>\n",
       "      <td>0</td>\n",
       "      <td>0</td>\n",
       "      <td>13.35</td>\n",
       "      <td>Not stated</td>\n",
       "      <td>S</td>\n",
       "    </tr>\n",
       "    <tr>\n",
       "      <th>2</th>\n",
       "      <td>0</td>\n",
       "      <td>3</td>\n",
       "      <td>male</td>\n",
       "      <td>0.33</td>\n",
       "      <td>1</td>\n",
       "      <td>2</td>\n",
       "      <td>71.29</td>\n",
       "      <td>Not stated</td>\n",
       "      <td>S</td>\n",
       "    </tr>\n",
       "    <tr>\n",
       "      <th>3</th>\n",
       "      <td>0</td>\n",
       "      <td>3</td>\n",
       "      <td>male</td>\n",
       "      <td>19.00</td>\n",
       "      <td>0</td>\n",
       "      <td>0</td>\n",
       "      <td>13.04</td>\n",
       "      <td>Not stated</td>\n",
       "      <td>S</td>\n",
       "    </tr>\n",
       "    <tr>\n",
       "      <th>4</th>\n",
       "      <td>1</td>\n",
       "      <td>3</td>\n",
       "      <td>male</td>\n",
       "      <td>25.00</td>\n",
       "      <td>0</td>\n",
       "      <td>0</td>\n",
       "      <td>7.76</td>\n",
       "      <td>Not stated</td>\n",
       "      <td>S</td>\n",
       "    </tr>\n",
       "    <tr>\n",
       "      <th>...</th>\n",
       "      <td>...</td>\n",
       "      <td>...</td>\n",
       "      <td>...</td>\n",
       "      <td>...</td>\n",
       "      <td>...</td>\n",
       "      <td>...</td>\n",
       "      <td>...</td>\n",
       "      <td>...</td>\n",
       "      <td>...</td>\n",
       "    </tr>\n",
       "    <tr>\n",
       "      <th>99995</th>\n",
       "      <td>1</td>\n",
       "      <td>2</td>\n",
       "      <td>female</td>\n",
       "      <td>62.00</td>\n",
       "      <td>0</td>\n",
       "      <td>0</td>\n",
       "      <td>14.86</td>\n",
       "      <td>D17243</td>\n",
       "      <td>C</td>\n",
       "    </tr>\n",
       "    <tr>\n",
       "      <th>99996</th>\n",
       "      <td>0</td>\n",
       "      <td>2</td>\n",
       "      <td>male</td>\n",
       "      <td>66.00</td>\n",
       "      <td>0</td>\n",
       "      <td>0</td>\n",
       "      <td>11.15</td>\n",
       "      <td>Not stated</td>\n",
       "      <td>S</td>\n",
       "    </tr>\n",
       "    <tr>\n",
       "      <th>99997</th>\n",
       "      <td>0</td>\n",
       "      <td>3</td>\n",
       "      <td>male</td>\n",
       "      <td>37.00</td>\n",
       "      <td>0</td>\n",
       "      <td>0</td>\n",
       "      <td>9.95</td>\n",
       "      <td>Not stated</td>\n",
       "      <td>S</td>\n",
       "    </tr>\n",
       "    <tr>\n",
       "      <th>99998</th>\n",
       "      <td>0</td>\n",
       "      <td>3</td>\n",
       "      <td>male</td>\n",
       "      <td>51.00</td>\n",
       "      <td>0</td>\n",
       "      <td>1</td>\n",
       "      <td>30.92</td>\n",
       "      <td>Not stated</td>\n",
       "      <td>S</td>\n",
       "    </tr>\n",
       "    <tr>\n",
       "      <th>99999</th>\n",
       "      <td>0</td>\n",
       "      <td>3</td>\n",
       "      <td>male</td>\n",
       "      <td>55.00</td>\n",
       "      <td>0</td>\n",
       "      <td>0</td>\n",
       "      <td>13.96</td>\n",
       "      <td>Not stated</td>\n",
       "      <td>S</td>\n",
       "    </tr>\n",
       "  </tbody>\n",
       "</table>\n",
       "<p>100000 rows × 9 columns</p>\n",
       "</div>"
      ],
      "text/plain": [
       "             Survived  Pclass     Sex    Age  SibSp  Parch   Fare       Cabin  \\\n",
       "PassengerId                                                                     \n",
       "0                   1       1    male  44.00      2      0  27.14      C12239   \n",
       "1                   0       3    male  31.00      0      0  13.35  Not stated   \n",
       "2                   0       3    male   0.33      1      2  71.29  Not stated   \n",
       "3                   0       3    male  19.00      0      0  13.04  Not stated   \n",
       "4                   1       3    male  25.00      0      0   7.76  Not stated   \n",
       "...               ...     ...     ...    ...    ...    ...    ...         ...   \n",
       "99995               1       2  female  62.00      0      0  14.86      D17243   \n",
       "99996               0       2    male  66.00      0      0  11.15  Not stated   \n",
       "99997               0       3    male  37.00      0      0   9.95  Not stated   \n",
       "99998               0       3    male  51.00      0      1  30.92  Not stated   \n",
       "99999               0       3    male  55.00      0      0  13.96  Not stated   \n",
       "\n",
       "            Embarked  \n",
       "PassengerId           \n",
       "0                  S  \n",
       "1                  S  \n",
       "2                  S  \n",
       "3                  S  \n",
       "4                  S  \n",
       "...              ...  \n",
       "99995              C  \n",
       "99996              S  \n",
       "99997              S  \n",
       "99998              S  \n",
       "99999              S  \n",
       "\n",
       "[100000 rows x 9 columns]"
      ]
     },
     "execution_count": 282,
     "metadata": {},
     "output_type": "execute_result"
    }
   ],
   "source": [
    "titanic_data = titanic_data.drop('Name', axis=1)\n",
    "titanic_data"
   ]
  },
  {
   "cell_type": "markdown",
   "id": "7f9f52f3",
   "metadata": {},
   "source": [
    "## Outlier analysis (boxplots)"
   ]
  },
  {
   "cell_type": "markdown",
   "id": "99991081",
   "metadata": {},
   "source": [
    "Let's find outliers in columns. It can be done using boxplots only with quantitative features like 'Age', 'SibSp', 'Parch', and 'Fare'."
   ]
  },
  {
   "cell_type": "markdown",
   "id": "c75181a3",
   "metadata": {},
   "source": [
    "### Age"
   ]
  },
  {
   "cell_type": "code",
   "execution_count": 283,
   "id": "643200cf",
   "metadata": {},
   "outputs": [
    {
     "data": {
      "text/plain": [
       "Text(0.5, 1.0, 'Age')"
      ]
     },
     "execution_count": 283,
     "metadata": {},
     "output_type": "execute_result"
    },
    {
     "data": {
      "image/png": "[encoded data removed]",
      "text/plain": [
       "<Figure size 360x720 with 1 Axes>"
      ]
     },
     "metadata": {
      "needs_background": "light"
     },
     "output_type": "display_data"
    }
   ],
   "source": [
    "plt.figure(figsize=(5,10))\n",
    "sns.boxplot(y=\"Age\", data=titanic_data)\n",
    "plt.title('Age', fontsize=15)"
   ]
  },
  {
   "cell_type": "markdown",
   "id": "6c46988e",
   "metadata": {},
   "source": [
    "As we can see there are no outliers for 'Age'."
   ]
  },
  {
   "cell_type": "markdown",
   "id": "12dd1232",
   "metadata": {},
   "source": [
    "### SibSp"
   ]
  },
  {
   "cell_type": "code",
   "execution_count": 284,
   "id": "eb727238",
   "metadata": {},
   "outputs": [
    {
     "data": {
      "text/plain": [
       "Text(0.5, 1.0, 'SibSp')"
      ]
     },
     "execution_count": 284,
     "metadata": {},
     "output_type": "execute_result"
    },
    {
     "data": {
      "image/png": "[encoded data removed]",
      "text/plain": [
       "<Figure size 360x720 with 1 Axes>"
      ]
     },
     "metadata": {
      "needs_background": "light"
     },
     "output_type": "display_data"
    }
   ],
   "source": [
    "plt.figure(figsize=(5,10))\n",
    "sns.boxplot(y=\"SibSp\", data=titanic_data)\n",
    "plt.title('SibSp', fontsize=15)"
   ]
  },
  {
   "cell_type": "markdown",
   "id": "c89bbef0",
   "metadata": {},
   "source": [
    "Boxplot shows outliers but they don't hurt the results because there can logically be 8 siblings and a wife / a husband, so we will let them be."
   ]
  },
  {
   "cell_type": "markdown",
   "id": "850a4aa3",
   "metadata": {},
   "source": [
    "### Parch"
   ]
  },
  {
   "cell_type": "code",
   "execution_count": 285,
   "id": "b3adf2f5",
   "metadata": {},
   "outputs": [
    {
     "data": {
      "text/plain": [
       "Text(0.5, 1.0, 'Parch')"
      ]
     },
     "execution_count": 285,
     "metadata": {},
     "output_type": "execute_result"
    },
    {
     "data": {
      "image/png": "[encoded data removed]",
      "text/plain": [
       "<Figure size 360x720 with 1 Axes>"
      ]
     },
     "metadata": {
      "needs_background": "light"
     },
     "output_type": "display_data"
    }
   ],
   "source": [
    "plt.figure(figsize=(5,10))\n",
    "sns.boxplot(y=\"Parch\", data=titanic_data)\n",
    "plt.title('Parch', fontsize=15)"
   ]
  },
  {
   "cell_type": "markdown",
   "id": "dd96f04a",
   "metadata": {},
   "source": [
    "Boxplot shows outliers but they don't hurt the results because there can logically be so many parents and children together, so we will let them be."
   ]
  },
  {
   "cell_type": "markdown",
   "id": "c2fca1fc",
   "metadata": {},
   "source": [
    "### Fare"
   ]
  },
  {
   "cell_type": "code",
   "execution_count": 286,
   "id": "e1e835e3",
   "metadata": {},
   "outputs": [
    {
     "data": {
      "text/plain": [
       "Text(0.5, 1.0, 'Fare')"
      ]
     },
     "execution_count": 286,
     "metadata": {},
     "output_type": "execute_result"
    },
    {
     "data": {
      "image/png": "[encoded data removed]",
      "text/plain": [
       "<Figure size 360x720 with 1 Axes>"
      ]
     },
     "metadata": {
      "needs_background": "light"
     },
     "output_type": "display_data"
    }
   ],
   "source": [
    "plt.figure(figsize=(5,10))\n",
    "sns.boxplot(y=\"Fare\", data=titanic_data)\n",
    "plt.title('Fare', fontsize=15)"
   ]
  },
  {
   "cell_type": "markdown",
   "id": "59225ed1",
   "metadata": {},
   "source": [
    "Let's check whether those outliers mild or extreme."
   ]
  },
  {
   "cell_type": "code",
   "execution_count": 287,
   "id": "55e8756e",
   "metadata": {
    "scrolled": true
   },
   "outputs": [
    {
     "data": {
      "text/plain": [
       "(-25.15, 68.69)"
      ]
     },
     "execution_count": 287,
     "metadata": {},
     "output_type": "execute_result"
    }
   ],
   "source": [
    "Q1 = titanic_data['Fare'].quantile(0.25)\n",
    "Q3 = titanic_data['Fare'].quantile(0.75)\n",
    "IQR = Q3 - Q1\n",
    "lower_lim_mild = Q1 - 1.5 * IQR\n",
    "upper_lim_mild = Q3 + 1.5 * IQR\n",
    "lower_lim_extreme = Q1 - 3 * IQR\n",
    "upper_lim_extreme = Q3 + 3 * IQR\n",
    "lower_lim_mild, upper_lim_mild"
   ]
  },
  {
   "cell_type": "code",
   "execution_count": 288,
   "id": "cf944f2f",
   "metadata": {},
   "outputs": [
    {
     "data": {
      "text/plain": [
       "(-60.339999999999996, 103.88)"
      ]
     },
     "execution_count": 288,
     "metadata": {},
     "output_type": "execute_result"
    }
   ],
   "source": [
    "lower_lim_extreme, upper_lim_extreme"
   ]
  },
  {
   "cell_type": "code",
   "execution_count": 289,
   "id": "27c1d115",
   "metadata": {},
   "outputs": [
    {
     "data": {
      "text/html": [
       "<div>\n",
       "<style scoped>\n",
       "    .dataframe tbody tr th:only-of-type {\n",
       "        vertical-align: middle;\n",
       "    }\n",
       "\n",
       "    .dataframe tbody tr th {\n",
       "        vertical-align: top;\n",
       "    }\n",
       "\n",
       "    .dataframe thead th {\n",
       "        text-align: right;\n",
       "    }\n",
       "</style>\n",
       "<table border=\"1\" class=\"dataframe\">\n",
       "  <thead>\n",
       "    <tr style=\"text-align: right;\">\n",
       "      <th></th>\n",
       "      <th>Survived</th>\n",
       "      <th>Pclass</th>\n",
       "      <th>Sex</th>\n",
       "      <th>Age</th>\n",
       "      <th>SibSp</th>\n",
       "      <th>Parch</th>\n",
       "      <th>Fare</th>\n",
       "      <th>Cabin</th>\n",
       "      <th>Embarked</th>\n",
       "    </tr>\n",
       "    <tr>\n",
       "      <th>PassengerId</th>\n",
       "      <th></th>\n",
       "      <th></th>\n",
       "      <th></th>\n",
       "      <th></th>\n",
       "      <th></th>\n",
       "      <th></th>\n",
       "      <th></th>\n",
       "      <th></th>\n",
       "      <th></th>\n",
       "    </tr>\n",
       "  </thead>\n",
       "  <tbody>\n",
       "  </tbody>\n",
       "</table>\n",
       "</div>"
      ],
      "text/plain": [
       "Empty DataFrame\n",
       "Columns: [Survived, Pclass, Sex, Age, SibSp, Parch, Fare, Cabin, Embarked]\n",
       "Index: []"
      ]
     },
     "execution_count": 289,
     "metadata": {},
     "output_type": "execute_result"
    }
   ],
   "source": [
    "titanic_data[titanic_data['Fare'] < lower_lim_mild]"
   ]
  },
  {
   "cell_type": "markdown",
   "id": "70cad693",
   "metadata": {},
   "source": [
    "As we can see there is no mild and consequently extreme outliers that are below lower limit."
   ]
  },
  {
   "cell_type": "code",
   "execution_count": 290,
   "id": "53f57f74",
   "metadata": {
    "scrolled": true
   },
   "outputs": [
    {
     "data": {
      "text/html": [
       "<div>\n",
       "<style scoped>\n",
       "    .dataframe tbody tr th:only-of-type {\n",
       "        vertical-align: middle;\n",
       "    }\n",
       "\n",
       "    .dataframe tbody tr th {\n",
       "        vertical-align: top;\n",
       "    }\n",
       "\n",
       "    .dataframe thead th {\n",
       "        text-align: right;\n",
       "    }\n",
       "</style>\n",
       "<table border=\"1\" class=\"dataframe\">\n",
       "  <thead>\n",
       "    <tr style=\"text-align: right;\">\n",
       "      <th></th>\n",
       "      <th>Survived</th>\n",
       "      <th>Pclass</th>\n",
       "      <th>Sex</th>\n",
       "      <th>Age</th>\n",
       "      <th>SibSp</th>\n",
       "      <th>Parch</th>\n",
       "      <th>Fare</th>\n",
       "      <th>Cabin</th>\n",
       "      <th>Embarked</th>\n",
       "    </tr>\n",
       "    <tr>\n",
       "      <th>PassengerId</th>\n",
       "      <th></th>\n",
       "      <th></th>\n",
       "      <th></th>\n",
       "      <th></th>\n",
       "      <th></th>\n",
       "      <th></th>\n",
       "      <th></th>\n",
       "      <th></th>\n",
       "      <th></th>\n",
       "    </tr>\n",
       "  </thead>\n",
       "  <tbody>\n",
       "    <tr>\n",
       "      <th>2</th>\n",
       "      <td>0</td>\n",
       "      <td>3</td>\n",
       "      <td>male</td>\n",
       "      <td>0.33</td>\n",
       "      <td>1</td>\n",
       "      <td>2</td>\n",
       "      <td>71.29</td>\n",
       "      <td>Not stated</td>\n",
       "      <td>S</td>\n",
       "    </tr>\n",
       "    <tr>\n",
       "      <th>8</th>\n",
       "      <td>0</td>\n",
       "      <td>1</td>\n",
       "      <td>male</td>\n",
       "      <td>27.00</td>\n",
       "      <td>2</td>\n",
       "      <td>1</td>\n",
       "      <td>73.02</td>\n",
       "      <td>A7253</td>\n",
       "      <td>S</td>\n",
       "    </tr>\n",
       "    <tr>\n",
       "      <th>25</th>\n",
       "      <td>0</td>\n",
       "      <td>1</td>\n",
       "      <td>female</td>\n",
       "      <td>53.00</td>\n",
       "      <td>1</td>\n",
       "      <td>1</td>\n",
       "      <td>82.57</td>\n",
       "      <td>B11790</td>\n",
       "      <td>Q</td>\n",
       "    </tr>\n",
       "    <tr>\n",
       "      <th>33</th>\n",
       "      <td>1</td>\n",
       "      <td>1</td>\n",
       "      <td>female</td>\n",
       "      <td>67.00</td>\n",
       "      <td>1</td>\n",
       "      <td>0</td>\n",
       "      <td>97.20</td>\n",
       "      <td>B16390</td>\n",
       "      <td>Q</td>\n",
       "    </tr>\n",
       "    <tr>\n",
       "      <th>50</th>\n",
       "      <td>1</td>\n",
       "      <td>1</td>\n",
       "      <td>male</td>\n",
       "      <td>63.00</td>\n",
       "      <td>0</td>\n",
       "      <td>0</td>\n",
       "      <td>80.11</td>\n",
       "      <td>C12615</td>\n",
       "      <td>C</td>\n",
       "    </tr>\n",
       "    <tr>\n",
       "      <th>...</th>\n",
       "      <td>...</td>\n",
       "      <td>...</td>\n",
       "      <td>...</td>\n",
       "      <td>...</td>\n",
       "      <td>...</td>\n",
       "      <td>...</td>\n",
       "      <td>...</td>\n",
       "      <td>...</td>\n",
       "      <td>...</td>\n",
       "    </tr>\n",
       "    <tr>\n",
       "      <th>99934</th>\n",
       "      <td>1</td>\n",
       "      <td>1</td>\n",
       "      <td>male</td>\n",
       "      <td>51.00</td>\n",
       "      <td>0</td>\n",
       "      <td>0</td>\n",
       "      <td>70.55</td>\n",
       "      <td>B9505</td>\n",
       "      <td>S</td>\n",
       "    </tr>\n",
       "    <tr>\n",
       "      <th>99935</th>\n",
       "      <td>1</td>\n",
       "      <td>2</td>\n",
       "      <td>male</td>\n",
       "      <td>30.00</td>\n",
       "      <td>0</td>\n",
       "      <td>0</td>\n",
       "      <td>75.60</td>\n",
       "      <td>D12752</td>\n",
       "      <td>C</td>\n",
       "    </tr>\n",
       "    <tr>\n",
       "      <th>99941</th>\n",
       "      <td>1</td>\n",
       "      <td>1</td>\n",
       "      <td>female</td>\n",
       "      <td>49.00</td>\n",
       "      <td>0</td>\n",
       "      <td>0</td>\n",
       "      <td>86.32</td>\n",
       "      <td>C3291</td>\n",
       "      <td>Q</td>\n",
       "    </tr>\n",
       "    <tr>\n",
       "      <th>99959</th>\n",
       "      <td>1</td>\n",
       "      <td>1</td>\n",
       "      <td>female</td>\n",
       "      <td>52.00</td>\n",
       "      <td>1</td>\n",
       "      <td>0</td>\n",
       "      <td>73.42</td>\n",
       "      <td>C8687</td>\n",
       "      <td>S</td>\n",
       "    </tr>\n",
       "    <tr>\n",
       "      <th>99977</th>\n",
       "      <td>0</td>\n",
       "      <td>3</td>\n",
       "      <td>male</td>\n",
       "      <td>52.00</td>\n",
       "      <td>0</td>\n",
       "      <td>3</td>\n",
       "      <td>77.25</td>\n",
       "      <td>Not stated</td>\n",
       "      <td>S</td>\n",
       "    </tr>\n",
       "  </tbody>\n",
       "</table>\n",
       "<p>7788 rows × 9 columns</p>\n",
       "</div>"
      ],
      "text/plain": [
       "             Survived  Pclass     Sex    Age  SibSp  Parch   Fare       Cabin  \\\n",
       "PassengerId                                                                     \n",
       "2                   0       3    male   0.33      1      2  71.29  Not stated   \n",
       "8                   0       1    male  27.00      2      1  73.02       A7253   \n",
       "25                  0       1  female  53.00      1      1  82.57      B11790   \n",
       "33                  1       1  female  67.00      1      0  97.20      B16390   \n",
       "50                  1       1    male  63.00      0      0  80.11      C12615   \n",
       "...               ...     ...     ...    ...    ...    ...    ...         ...   \n",
       "99934               1       1    male  51.00      0      0  70.55       B9505   \n",
       "99935               1       2    male  30.00      0      0  75.60      D12752   \n",
       "99941               1       1  female  49.00      0      0  86.32       C3291   \n",
       "99959               1       1  female  52.00      1      0  73.42       C8687   \n",
       "99977               0       3    male  52.00      0      3  77.25  Not stated   \n",
       "\n",
       "            Embarked  \n",
       "PassengerId           \n",
       "2                  S  \n",
       "8                  S  \n",
       "25                 Q  \n",
       "33                 Q  \n",
       "50                 C  \n",
       "...              ...  \n",
       "99934              S  \n",
       "99935              C  \n",
       "99941              Q  \n",
       "99959              S  \n",
       "99977              S  \n",
       "\n",
       "[7788 rows x 9 columns]"
      ]
     },
     "execution_count": 290,
     "metadata": {},
     "output_type": "execute_result"
    }
   ],
   "source": [
    "titanic_data[(titanic_data['Fare'] > upper_lim_mild) & (titanic_data['Fare'] < upper_lim_extreme)]"
   ]
  },
  {
   "cell_type": "code",
   "execution_count": 291,
   "id": "f22ab51d",
   "metadata": {},
   "outputs": [
    {
     "data": {
      "text/plain": [
       "7788"
      ]
     },
     "execution_count": 291,
     "metadata": {},
     "output_type": "execute_result"
    }
   ],
   "source": [
    "len(titanic_data[(titanic_data['Fare'] > upper_lim_mild) & (titanic_data['Fare'] < upper_lim_extreme)])"
   ]
  },
  {
   "cell_type": "markdown",
   "id": "8c73cc4c",
   "metadata": {},
   "source": [
    "There are 7788 mild outliers that are higher than upper mild limit."
   ]
  },
  {
   "cell_type": "code",
   "execution_count": 292,
   "id": "d11d8c99",
   "metadata": {
    "scrolled": true
   },
   "outputs": [
    {
     "data": {
      "text/html": [
       "<div>\n",
       "<style scoped>\n",
       "    .dataframe tbody tr th:only-of-type {\n",
       "        vertical-align: middle;\n",
       "    }\n",
       "\n",
       "    .dataframe tbody tr th {\n",
       "        vertical-align: top;\n",
       "    }\n",
       "\n",
       "    .dataframe thead th {\n",
       "        text-align: right;\n",
       "    }\n",
       "</style>\n",
       "<table border=\"1\" class=\"dataframe\">\n",
       "  <thead>\n",
       "    <tr style=\"text-align: right;\">\n",
       "      <th></th>\n",
       "      <th>Survived</th>\n",
       "      <th>Pclass</th>\n",
       "      <th>Sex</th>\n",
       "      <th>Age</th>\n",
       "      <th>SibSp</th>\n",
       "      <th>Parch</th>\n",
       "      <th>Fare</th>\n",
       "      <th>Cabin</th>\n",
       "      <th>Embarked</th>\n",
       "    </tr>\n",
       "    <tr>\n",
       "      <th>PassengerId</th>\n",
       "      <th></th>\n",
       "      <th></th>\n",
       "      <th></th>\n",
       "      <th></th>\n",
       "      <th></th>\n",
       "      <th></th>\n",
       "      <th></th>\n",
       "      <th></th>\n",
       "      <th></th>\n",
       "    </tr>\n",
       "  </thead>\n",
       "  <tbody>\n",
       "    <tr>\n",
       "      <th>19</th>\n",
       "      <td>1</td>\n",
       "      <td>1</td>\n",
       "      <td>female</td>\n",
       "      <td>61.0</td>\n",
       "      <td>0</td>\n",
       "      <td>4</td>\n",
       "      <td>205.01</td>\n",
       "      <td>B7010</td>\n",
       "      <td>Q</td>\n",
       "    </tr>\n",
       "    <tr>\n",
       "      <th>27</th>\n",
       "      <td>1</td>\n",
       "      <td>1</td>\n",
       "      <td>female</td>\n",
       "      <td>35.0</td>\n",
       "      <td>0</td>\n",
       "      <td>2</td>\n",
       "      <td>154.61</td>\n",
       "      <td>C20297</td>\n",
       "      <td>C</td>\n",
       "    </tr>\n",
       "    <tr>\n",
       "      <th>37</th>\n",
       "      <td>1</td>\n",
       "      <td>1</td>\n",
       "      <td>male</td>\n",
       "      <td>54.0</td>\n",
       "      <td>0</td>\n",
       "      <td>0</td>\n",
       "      <td>228.82</td>\n",
       "      <td>B7665</td>\n",
       "      <td>S</td>\n",
       "    </tr>\n",
       "    <tr>\n",
       "      <th>40</th>\n",
       "      <td>1</td>\n",
       "      <td>1</td>\n",
       "      <td>female</td>\n",
       "      <td>69.0</td>\n",
       "      <td>1</td>\n",
       "      <td>0</td>\n",
       "      <td>116.65</td>\n",
       "      <td>D6224</td>\n",
       "      <td>Q</td>\n",
       "    </tr>\n",
       "    <tr>\n",
       "      <th>63</th>\n",
       "      <td>0</td>\n",
       "      <td>1</td>\n",
       "      <td>female</td>\n",
       "      <td>36.0</td>\n",
       "      <td>0</td>\n",
       "      <td>2</td>\n",
       "      <td>473.49</td>\n",
       "      <td>A6932</td>\n",
       "      <td>C</td>\n",
       "    </tr>\n",
       "    <tr>\n",
       "      <th>...</th>\n",
       "      <td>...</td>\n",
       "      <td>...</td>\n",
       "      <td>...</td>\n",
       "      <td>...</td>\n",
       "      <td>...</td>\n",
       "      <td>...</td>\n",
       "      <td>...</td>\n",
       "      <td>...</td>\n",
       "      <td>...</td>\n",
       "    </tr>\n",
       "    <tr>\n",
       "      <th>99946</th>\n",
       "      <td>1</td>\n",
       "      <td>1</td>\n",
       "      <td>female</td>\n",
       "      <td>62.0</td>\n",
       "      <td>0</td>\n",
       "      <td>0</td>\n",
       "      <td>209.06</td>\n",
       "      <td>C4196</td>\n",
       "      <td>C</td>\n",
       "    </tr>\n",
       "    <tr>\n",
       "      <th>99949</th>\n",
       "      <td>1</td>\n",
       "      <td>1</td>\n",
       "      <td>female</td>\n",
       "      <td>49.0</td>\n",
       "      <td>1</td>\n",
       "      <td>1</td>\n",
       "      <td>148.73</td>\n",
       "      <td>B15425</td>\n",
       "      <td>S</td>\n",
       "    </tr>\n",
       "    <tr>\n",
       "      <th>99960</th>\n",
       "      <td>1</td>\n",
       "      <td>1</td>\n",
       "      <td>male</td>\n",
       "      <td>20.0</td>\n",
       "      <td>0</td>\n",
       "      <td>4</td>\n",
       "      <td>271.78</td>\n",
       "      <td>B3911</td>\n",
       "      <td>S</td>\n",
       "    </tr>\n",
       "    <tr>\n",
       "      <th>99966</th>\n",
       "      <td>1</td>\n",
       "      <td>1</td>\n",
       "      <td>male</td>\n",
       "      <td>46.0</td>\n",
       "      <td>1</td>\n",
       "      <td>0</td>\n",
       "      <td>246.10</td>\n",
       "      <td>C6653</td>\n",
       "      <td>S</td>\n",
       "    </tr>\n",
       "    <tr>\n",
       "      <th>99967</th>\n",
       "      <td>0</td>\n",
       "      <td>1</td>\n",
       "      <td>male</td>\n",
       "      <td>49.0</td>\n",
       "      <td>2</td>\n",
       "      <td>0</td>\n",
       "      <td>225.51</td>\n",
       "      <td>A4590</td>\n",
       "      <td>S</td>\n",
       "    </tr>\n",
       "  </tbody>\n",
       "</table>\n",
       "<p>9413 rows × 9 columns</p>\n",
       "</div>"
      ],
      "text/plain": [
       "             Survived  Pclass     Sex   Age  SibSp  Parch    Fare   Cabin  \\\n",
       "PassengerId                                                                 \n",
       "19                  1       1  female  61.0      0      4  205.01   B7010   \n",
       "27                  1       1  female  35.0      0      2  154.61  C20297   \n",
       "37                  1       1    male  54.0      0      0  228.82   B7665   \n",
       "40                  1       1  female  69.0      1      0  116.65   D6224   \n",
       "63                  0       1  female  36.0      0      2  473.49   A6932   \n",
       "...               ...     ...     ...   ...    ...    ...     ...     ...   \n",
       "99946               1       1  female  62.0      0      0  209.06   C4196   \n",
       "99949               1       1  female  49.0      1      1  148.73  B15425   \n",
       "99960               1       1    male  20.0      0      4  271.78   B3911   \n",
       "99966               1       1    male  46.0      1      0  246.10   C6653   \n",
       "99967               0       1    male  49.0      2      0  225.51   A4590   \n",
       "\n",
       "            Embarked  \n",
       "PassengerId           \n",
       "19                 Q  \n",
       "27                 C  \n",
       "37                 S  \n",
       "40                 Q  \n",
       "63                 C  \n",
       "...              ...  \n",
       "99946              C  \n",
       "99949              S  \n",
       "99960              S  \n",
       "99966              S  \n",
       "99967              S  \n",
       "\n",
       "[9413 rows x 9 columns]"
      ]
     },
     "execution_count": 292,
     "metadata": {},
     "output_type": "execute_result"
    }
   ],
   "source": [
    "titanic_data[(titanic_data['Fare'] > upper_lim_extreme)]"
   ]
  },
  {
   "cell_type": "code",
   "execution_count": 293,
   "id": "4020fb65",
   "metadata": {},
   "outputs": [
    {
     "data": {
      "text/plain": [
       "9413"
      ]
     },
     "execution_count": 293,
     "metadata": {},
     "output_type": "execute_result"
    }
   ],
   "source": [
    "len(titanic_data[(titanic_data['Fare'] > upper_lim_extreme)])"
   ]
  },
  {
   "cell_type": "markdown",
   "id": "8f420ba9",
   "metadata": {},
   "source": [
    "And there are 9413 extreme outliers that are higher than upper extreme limit."
   ]
  },
  {
   "cell_type": "markdown",
   "id": "8ea27f0a",
   "metadata": {},
   "source": [
    "In total there are 17201 outliers."
   ]
  },
  {
   "cell_type": "markdown",
   "id": "53a35b95",
   "metadata": {},
   "source": [
    "Those outliers can be due to mistakes in gathering data but as we know the data is syntatic. Moreover, in real world big prices for cabincs can be due to people who buy tickets and resell them to other people for higher price (resellers).\n",
    "\n",
    "Consequently, we will not delete the outliers."
   ]
  },
  {
   "cell_type": "markdown",
   "id": "c3b66175",
   "metadata": {},
   "source": [
    "However, let's look how those outliers distribute between Pclasses and Embarked."
   ]
  },
  {
   "cell_type": "markdown",
   "id": "a6d724d2",
   "metadata": {},
   "source": [
    "'Fare' contains outliers, let's check whether they differ by classes of cabins."
   ]
  },
  {
   "cell_type": "code",
   "execution_count": 294,
   "id": "915082df",
   "metadata": {
    "scrolled": false
   },
   "outputs": [
    {
     "data": {
      "text/plain": [
       "Text(0.5, 1.0, 'Fare')"
      ]
     },
     "execution_count": 294,
     "metadata": {},
     "output_type": "execute_result"
    },
    {
     "data": {
      "image/png": "[encoded data removed]",
      "text/plain": [
       "<Figure size 360x720 with 1 Axes>"
      ]
     },
     "metadata": {
      "needs_background": "light"
     },
     "output_type": "display_data"
    }
   ],
   "source": [
    "plt.figure(figsize=(5,10))\n",
    "sns.boxplot(x='Pclass', y=\"Fare\", data=titanic_data)\n",
    "plt.title('Fare', fontsize=15)"
   ]
  },
  {
   "cell_type": "markdown",
   "id": "9d85c932",
   "metadata": {},
   "source": [
    "## Pre-Summary we can make based on Data Quality Assestment"
   ]
  },
  {
   "cell_type": "markdown",
   "id": "a07e3648",
   "metadata": {},
   "source": [
    "Even at the stage of Data Quality assesment we can make certain conclusions about the dataset:\n",
    "\n",
    "- dataset contains categorical, ordinal and numerical values\n",
    "- dataset has no duplicates\n",
    "- all values but Fare are within logical ranges. Fare feature has around 17000 outliers including extreme outliers\n",
    "- the largest amount of missing values had 'Cabin' feature (around 70%). All missing values has been either replaced or deleted.\n",
    "- Fare contains outliers but they can be due to resell of tickets which highered price\n",
    "- Pclass has a correlation with Fare. Mean Fare is higher when Pclass is more prestigious.\n",
    "- Pclass has a correlation with Age. Older people tend to buy Cabins with higher Pclass.\n",
    "- Female median age is higher than Male median age"
   ]
  },
  {
   "cell_type": "markdown",
   "id": "5408eca5",
   "metadata": {},
   "source": [
    "# Data exploration"
   ]
  },
  {
   "cell_type": "markdown",
   "id": "21230557",
   "metadata": {},
   "source": [
    "## Vizualization and summary statistics for each variable"
   ]
  },
  {
   "cell_type": "markdown",
   "id": "380ba32c",
   "metadata": {},
   "source": [
    "### 'Survived' column"
   ]
  },
  {
   "cell_type": "markdown",
   "id": "55cccbe1",
   "metadata": {},
   "source": [
    "As 'Survived' column is a category data there is no use in describe() method. \n",
    "\n",
    "Let's see the distribution of values using other ways."
   ]
  },
  {
   "cell_type": "code",
   "execution_count": 295,
   "id": "c2af9f0c",
   "metadata": {
    "scrolled": false
   },
   "outputs": [
    {
     "data": {
      "text/plain": [
       "0    57226\n",
       "1    42774\n",
       "Name: Survived, dtype: int64"
      ]
     },
     "execution_count": 295,
     "metadata": {},
     "output_type": "execute_result"
    }
   ],
   "source": [
    "titanic_data.Survived.value_counts()"
   ]
  },
  {
   "cell_type": "code",
   "execution_count": 296,
   "id": "6d2b4ba2",
   "metadata": {},
   "outputs": [
    {
     "data": {
      "text/plain": [
       "Text(0.5, 1.0, 'Distribution of Survived by categories')"
      ]
     },
     "execution_count": 296,
     "metadata": {},
     "output_type": "execute_result"
    },
    {
     "data": {
      "image/png": "[encoded data removed]",
      "text/plain": [
       "<Figure size 432x288 with 1 Axes>"
      ]
     },
     "metadata": {
      "needs_background": "light"
     },
     "output_type": "display_data"
    }
   ],
   "source": [
    "sns.countplot(x=\"Survived\",data=titanic_data)\n",
    "plt.title('Distribution of Survived by categories')"
   ]
  },
  {
   "cell_type": "markdown",
   "id": "c9368ac9",
   "metadata": {},
   "source": [
    "We can already make the conclusion that more people didn't survive than survived."
   ]
  },
  {
   "cell_type": "code",
   "execution_count": 297,
   "id": "8e744dac",
   "metadata": {
    "scrolled": true
   },
   "outputs": [
    {
     "name": "stdout",
     "output_type": "stream",
     "text": [
      "Precisely, 57.226% didn't survived and 42.774% survived\n"
     ]
    }
   ],
   "source": [
    "print(f\"Precisely, {100*titanic_data.Survived.value_counts()[0]/len(titanic_data)}% didn't survived and {100*titanic_data.Survived.value_counts()[1]/len(titanic_data)}% survived\")"
   ]
  },
  {
   "cell_type": "markdown",
   "id": "02ec28be",
   "metadata": {},
   "source": [
    "### 'Pclass' column"
   ]
  },
  {
   "cell_type": "markdown",
   "id": "6567b1b3",
   "metadata": {},
   "source": [
    "Let's examine 'Pclass' column with categorical data closer."
   ]
  },
  {
   "cell_type": "code",
   "execution_count": 298,
   "id": "17ad25f1",
   "metadata": {},
   "outputs": [
    {
     "data": {
      "text/plain": [
       "3    41006\n",
       "1    30315\n",
       "2    28679\n",
       "Name: Pclass, dtype: int64"
      ]
     },
     "execution_count": 298,
     "metadata": {},
     "output_type": "execute_result"
    }
   ],
   "source": [
    "titanic_data.Pclass.value_counts()"
   ]
  },
  {
   "cell_type": "code",
   "execution_count": 299,
   "id": "7cd655db",
   "metadata": {},
   "outputs": [
    {
     "data": {
      "text/plain": [
       "Text(0.5, 1.0, 'Distribution of Pclass by categories')"
      ]
     },
     "execution_count": 299,
     "metadata": {},
     "output_type": "execute_result"
    },
    {
     "data": {
      "image/png": "[encoded data removed]",
      "text/plain": [
       "<Figure size 432x288 with 1 Axes>"
      ]
     },
     "metadata": {
      "needs_background": "light"
     },
     "output_type": "display_data"
    }
   ],
   "source": [
    "sns.countplot(x=\"Pclass\",data=titanic_data)\n",
    "plt.title('Distribution of Pclass by categories')"
   ]
  },
  {
   "cell_type": "markdown",
   "id": "49f2ab54",
   "metadata": {},
   "source": [
    "To conclude, the most people had 3rd class cabin, than 1st, than 2nd."
   ]
  },
  {
   "cell_type": "code",
   "execution_count": 300,
   "id": "d8b33e79",
   "metadata": {},
   "outputs": [
    {
     "name": "stdout",
     "output_type": "stream",
     "text": [
      "Precisely, 30.315% had 1st class cabin, 28.679% had 2nd class cabin and 41.006% had third class cabin\n"
     ]
    }
   ],
   "source": [
    "print(f\"Precisely, {100*titanic_data.Pclass.value_counts()[1]/len(titanic_data)}% had 1st class cabin, {100*titanic_data.Pclass.value_counts()[2]/len(titanic_data)}% had 2nd class cabin and {100*titanic_data.Pclass.value_counts()[3]/len(titanic_data)}% had third class cabin\")"
   ]
  },
  {
   "cell_type": "markdown",
   "id": "b16026d8",
   "metadata": {},
   "source": [
    "### 'Sex' column"
   ]
  },
  {
   "cell_type": "markdown",
   "id": "16cdb541",
   "metadata": {},
   "source": [
    "Let's examine 'Sex' column with categorical data closer."
   ]
  },
  {
   "cell_type": "code",
   "execution_count": 301,
   "id": "21a7ab87",
   "metadata": {},
   "outputs": [
    {
     "data": {
      "text/plain": [
       "male      56114\n",
       "female    43886\n",
       "Name: Sex, dtype: int64"
      ]
     },
     "execution_count": 301,
     "metadata": {},
     "output_type": "execute_result"
    }
   ],
   "source": [
    "titanic_data.Sex.value_counts()"
   ]
  },
  {
   "cell_type": "code",
   "execution_count": 302,
   "id": "c671ba2c",
   "metadata": {},
   "outputs": [
    {
     "data": {
      "text/plain": [
       "Text(0.5, 1.0, 'Distribution of Sex by categories')"
      ]
     },
     "execution_count": 302,
     "metadata": {},
     "output_type": "execute_result"
    },
    {
     "data": {
      "image/png": "[encoded data removed]",
      "text/plain": [
       "<Figure size 432x288 with 1 Axes>"
      ]
     },
     "metadata": {
      "needs_background": "light"
     },
     "output_type": "display_data"
    }
   ],
   "source": [
    "sns.countplot(x='Sex', data=titanic_data)\n",
    "plt.title('Distribution of Sex by categories')"
   ]
  },
  {
   "cell_type": "markdown",
   "id": "f3be1eaa",
   "metadata": {},
   "source": [
    "To conclude, there were more male on board than female."
   ]
  },
  {
   "cell_type": "code",
   "execution_count": 303,
   "id": "2745c6cc",
   "metadata": {
    "scrolled": true
   },
   "outputs": [
    {
     "name": "stdout",
     "output_type": "stream",
     "text": [
      "Precisely, 56.114% were male and 43.886% were female\n"
     ]
    }
   ],
   "source": [
    "print(f\"Precisely, {100*titanic_data.Sex.value_counts()[0]/len(titanic_data)}% were male and {100*titanic_data.Sex.value_counts()[1]/len(titanic_data)}% were female\")"
   ]
  },
  {
   "cell_type": "markdown",
   "id": "faf7a71c",
   "metadata": {},
   "source": [
    "### Age"
   ]
  },
  {
   "cell_type": "markdown",
   "id": "05a10471",
   "metadata": {},
   "source": [
    "Age is numerical, so let's approach it with describe."
   ]
  },
  {
   "cell_type": "code",
   "execution_count": 304,
   "id": "af23daad",
   "metadata": {},
   "outputs": [
    {
     "data": {
      "text/plain": [
       "count    100000.000000\n",
       "mean         38.322220\n",
       "std          18.056228\n",
       "min           0.080000\n",
       "25%          25.000000\n",
       "50%          38.000000\n",
       "75%          53.000000\n",
       "max          87.000000\n",
       "Name: Age, dtype: float64"
      ]
     },
     "execution_count": 304,
     "metadata": {},
     "output_type": "execute_result"
    }
   ],
   "source": [
    "titanic_data.Age.describe()"
   ]
  },
  {
   "cell_type": "code",
   "execution_count": 305,
   "id": "7335d2f2",
   "metadata": {
    "scrolled": true
   },
   "outputs": [
    {
     "name": "stderr",
     "output_type": "stream",
     "text": [
      "D:\\MiniConda\\envs\\rsschool-machine-learning-course\\lib\\site-packages\\seaborn\\distributions.py:2619: FutureWarning: `distplot` is a deprecated function and will be removed in a future version. Please adapt your code to use either `displot` (a figure-level function with similar flexibility) or `histplot` (an axes-level function for histograms).\n",
      "  warnings.warn(msg, FutureWarning)\n"
     ]
    },
    {
     "data": {
      "text/plain": [
       "<AxesSubplot:xlabel='Age'>"
      ]
     },
     "execution_count": 305,
     "metadata": {},
     "output_type": "execute_result"
    },
    {
     "data": {
      "image/png": "[encoded data removed]",
      "text/plain": [
       "<Figure size 720x432 with 1 Axes>"
      ]
     },
     "metadata": {
      "needs_background": "light"
     },
     "output_type": "display_data"
    }
   ],
   "source": [
    "plt.figure(figsize=(10, 6))\n",
    "sns.distplot(a=titanic_data['Age'], kde=False)"
   ]
  },
  {
   "cell_type": "markdown",
   "id": "37dc2a8a",
   "metadata": {},
   "source": [
    "To conclude median is 38, mean is roughly the same as median. Minimum value is 0.08 years and maximum is 87 years. People's ages are concentrated between 20 and 40 years old."
   ]
  },
  {
   "cell_type": "markdown",
   "id": "473094a6",
   "metadata": {},
   "source": [
    "### SibSp"
   ]
  },
  {
   "cell_type": "markdown",
   "id": "5cd05ea7",
   "metadata": {},
   "source": [
    "Although we assigned SibSp to be numerical, it's between numerical and categorical, and has discrete values, so we will examine it as categorical value."
   ]
  },
  {
   "cell_type": "code",
   "execution_count": 306,
   "id": "b2e496b5",
   "metadata": {},
   "outputs": [
    {
     "data": {
      "text/plain": [
       "0    73308\n",
       "1    19758\n",
       "2     3703\n",
       "3     1635\n",
       "4     1168\n",
       "8      296\n",
       "5      132\n",
       "Name: SibSp, dtype: int64"
      ]
     },
     "execution_count": 306,
     "metadata": {},
     "output_type": "execute_result"
    }
   ],
   "source": [
    "titanic_data.SibSp.value_counts()"
   ]
  },
  {
   "cell_type": "code",
   "execution_count": 307,
   "id": "e7248d42",
   "metadata": {
    "scrolled": true
   },
   "outputs": [
    {
     "data": {
      "text/plain": [
       "Text(0.5, 1.0, 'Distribution of SibSp between categories')"
      ]
     },
     "execution_count": 307,
     "metadata": {},
     "output_type": "execute_result"
    },
    {
     "data": {
      "image/png": "[encoded data removed]",
      "text/plain": [
       "<Figure size 432x288 with 1 Axes>"
      ]
     },
     "metadata": {
      "needs_background": "light"
     },
     "output_type": "display_data"
    }
   ],
   "source": [
    "sns.countplot(x='SibSp', data=titanic_data)\n",
    "plt.title('Distribution of SibSp between categories')"
   ]
  },
  {
   "cell_type": "markdown",
   "id": "7b21ff45",
   "metadata": {},
   "source": [
    "Let's calculate amount of SibSp values in percent."
   ]
  },
  {
   "cell_type": "code",
   "execution_count": 308,
   "id": "36476e8e",
   "metadata": {},
   "outputs": [
    {
     "data": {
      "text/plain": [
       "0    73.308\n",
       "1    19.758\n",
       "2     3.703\n",
       "3     1.635\n",
       "4     1.168\n",
       "8     0.296\n",
       "5     0.132\n",
       "Name: SibSp, dtype: float64"
      ]
     },
     "execution_count": 308,
     "metadata": {},
     "output_type": "execute_result"
    }
   ],
   "source": [
    "titanic_data.SibSp.value_counts(normalize=True).map(lambda x: x * 100)"
   ]
  },
  {
   "cell_type": "markdown",
   "id": "2f6871b8",
   "metadata": {},
   "source": [
    "To conclude, around 73% had no siblings or spouces on board, around 20% had 1 sibling or spouce on board and etc."
   ]
  },
  {
   "cell_type": "markdown",
   "id": "2a559e0b",
   "metadata": {},
   "source": [
    "### Parch"
   ]
  },
  {
   "cell_type": "markdown",
   "id": "97646bc0",
   "metadata": {},
   "source": [
    "Although we assigned Parch to be numerical, it's between numerical and categorical, and has discrete values, so we will examine it as categorical value."
   ]
  },
  {
   "cell_type": "code",
   "execution_count": 309,
   "id": "c542c638",
   "metadata": {},
   "outputs": [
    {
     "data": {
      "text/plain": [
       "Text(0.5, 1.0, 'Distribution of Parch between categories')"
      ]
     },
     "execution_count": 309,
     "metadata": {},
     "output_type": "execute_result"
    },
    {
     "data": {
      "image/png": "[encoded data removed]",
      "text/plain": [
       "<Figure size 432x288 with 1 Axes>"
      ]
     },
     "metadata": {
      "needs_background": "light"
     },
     "output_type": "display_data"
    }
   ],
   "source": [
    "sns.countplot(x='Parch', data=titanic_data)\n",
    "plt.title('Distribution of Parch between categories')"
   ]
  },
  {
   "cell_type": "code",
   "execution_count": 310,
   "id": "58bab1ba",
   "metadata": {},
   "outputs": [
    {
     "data": {
      "text/plain": [
       "0    73540\n",
       "1    12996\n",
       "2    11236\n",
       "3      983\n",
       "4      446\n",
       "5      331\n",
       "9      264\n",
       "6      204\n",
       "Name: Parch, dtype: int64"
      ]
     },
     "execution_count": 310,
     "metadata": {},
     "output_type": "execute_result"
    }
   ],
   "source": [
    "titanic_data.Parch.value_counts()"
   ]
  },
  {
   "cell_type": "code",
   "execution_count": 311,
   "id": "afedbdbe",
   "metadata": {
    "scrolled": true
   },
   "outputs": [
    {
     "data": {
      "text/plain": [
       "Text(0.5, 1.0, 'Distribution of Parch between categories')"
      ]
     },
     "execution_count": 311,
     "metadata": {},
     "output_type": "execute_result"
    },
    {
     "data": {
      "image/png": "[encoded data removed]",
      "text/plain": [
       "<Figure size 432x288 with 1 Axes>"
      ]
     },
     "metadata": {
      "needs_background": "light"
     },
     "output_type": "display_data"
    }
   ],
   "source": [
    "sns.countplot(x='Parch', data=titanic_data)\n",
    "plt.title('Distribution of Parch between categories')"
   ]
  },
  {
   "cell_type": "markdown",
   "id": "1faabcaf",
   "metadata": {},
   "source": [
    "Let's calculate amount of Parch values in percent."
   ]
  },
  {
   "cell_type": "code",
   "execution_count": 312,
   "id": "8ead7ddc",
   "metadata": {
    "scrolled": true
   },
   "outputs": [
    {
     "data": {
      "text/plain": [
       "0    73.540\n",
       "1    12.996\n",
       "2    11.236\n",
       "3     0.983\n",
       "4     0.446\n",
       "5     0.331\n",
       "9     0.264\n",
       "6     0.204\n",
       "Name: Parch, dtype: float64"
      ]
     },
     "execution_count": 312,
     "metadata": {},
     "output_type": "execute_result"
    }
   ],
   "source": [
    "titanic_data.Parch.value_counts(normalize=True).map(lambda x: x * 100)"
   ]
  },
  {
   "cell_type": "markdown",
   "id": "646dfb7f",
   "metadata": {},
   "source": [
    "To conclude, around 73% had 0 parent or child on board, around 12% had 1 parent or child on board, around 11% had 1 parent or child on board."
   ]
  },
  {
   "cell_type": "markdown",
   "id": "74acb18d",
   "metadata": {},
   "source": [
    "### Fare"
   ]
  },
  {
   "cell_type": "markdown",
   "id": "edc34f65",
   "metadata": {},
   "source": [
    "Fare like Age is numerical, so we can use histogram and describe method for it."
   ]
  },
  {
   "cell_type": "code",
   "execution_count": 313,
   "id": "05e1e862",
   "metadata": {},
   "outputs": [
    {
     "data": {
      "text/plain": [
       "count    100000.000000\n",
       "mean         43.929065\n",
       "std          69.552036\n",
       "min           0.680000\n",
       "25%          10.040000\n",
       "50%          24.470000\n",
       "75%          33.500000\n",
       "max         744.660000\n",
       "Name: Fare, dtype: float64"
      ]
     },
     "execution_count": 313,
     "metadata": {},
     "output_type": "execute_result"
    }
   ],
   "source": [
    "titanic_data.Fare.describe()"
   ]
  },
  {
   "cell_type": "code",
   "execution_count": 314,
   "id": "ccb1942c",
   "metadata": {},
   "outputs": [
    {
     "name": "stderr",
     "output_type": "stream",
     "text": [
      "D:\\MiniConda\\envs\\rsschool-machine-learning-course\\lib\\site-packages\\seaborn\\distributions.py:2619: FutureWarning: `distplot` is a deprecated function and will be removed in a future version. Please adapt your code to use either `displot` (a figure-level function with similar flexibility) or `histplot` (an axes-level function for histograms).\n",
      "  warnings.warn(msg, FutureWarning)\n"
     ]
    },
    {
     "data": {
      "text/plain": [
       "<AxesSubplot:xlabel='Fare'>"
      ]
     },
     "execution_count": 314,
     "metadata": {},
     "output_type": "execute_result"
    },
    {
     "data": {
      "image/png": "[encoded data removed]",
      "text/plain": [
       "<Figure size 432x288 with 1 Axes>"
      ]
     },
     "metadata": {
      "needs_background": "light"
     },
     "output_type": "display_data"
    }
   ],
   "source": [
    "sns.distplot(a=titanic_data.Fare, kde=False)"
   ]
  },
  {
   "cell_type": "markdown",
   "id": "f0c73638",
   "metadata": {},
   "source": [
    "To conclude, mean is around 43.92, median is 24.47, min value is around 0.68 and max value is around 744.6, 75% percent of the values are below 33.5."
   ]
  },
  {
   "cell_type": "markdown",
   "id": "f721a0d0",
   "metadata": {},
   "source": [
    "### Cabin"
   ]
  },
  {
   "cell_type": "markdown",
   "id": "295060a9",
   "metadata": {},
   "source": [
    "Cabin data is categorical, but as seen below it has 26993 categories, so there is no much to say in term of memorazing."
   ]
  },
  {
   "cell_type": "code",
   "execution_count": 315,
   "id": "51464578",
   "metadata": {
    "scrolled": true
   },
   "outputs": [
    {
     "data": {
      "text/plain": [
       "Not stated    67866\n",
       "C19828            6\n",
       "B18148            5\n",
       "C9767             5\n",
       "A9127             5\n",
       "              ...  \n",
       "C7208             1\n",
       "A5788             1\n",
       "C5607             1\n",
       "D14672            1\n",
       "D17243            1\n",
       "Name: Cabin, Length: 26993, dtype: int64"
      ]
     },
     "execution_count": 315,
     "metadata": {},
     "output_type": "execute_result"
    }
   ],
   "source": [
    "titanic_data.Cabin.value_counts()"
   ]
  },
  {
   "cell_type": "markdown",
   "id": "3d2684fc",
   "metadata": {},
   "source": [
    "To conclude, the most popular value is 'Not stated', others values popularity differs between 1 and 6."
   ]
  },
  {
   "cell_type": "markdown",
   "id": "1c8d3154",
   "metadata": {},
   "source": [
    "### Embarked"
   ]
  },
  {
   "cell_type": "markdown",
   "id": "f7700eaf",
   "metadata": {},
   "source": [
    "Let's examine 'Embarked' column with categorical data closer."
   ]
  },
  {
   "cell_type": "code",
   "execution_count": 316,
   "id": "4fca8584",
   "metadata": {},
   "outputs": [
    {
     "data": {
      "text/plain": [
       "S    72389\n",
       "C    22187\n",
       "Q     5424\n",
       "Name: Embarked, dtype: int64"
      ]
     },
     "execution_count": 316,
     "metadata": {},
     "output_type": "execute_result"
    }
   ],
   "source": [
    "titanic_data.Embarked.value_counts()"
   ]
  },
  {
   "cell_type": "code",
   "execution_count": 317,
   "id": "d7b1f8a9",
   "metadata": {},
   "outputs": [
    {
     "data": {
      "text/plain": [
       "Text(0.5, 1.0, 'Distribution of Embarked by categories')"
      ]
     },
     "execution_count": 317,
     "metadata": {},
     "output_type": "execute_result"
    },
    {
     "data": {
      "image/png": "[encoded data removed]",
      "text/plain": [
       "<Figure size 864x432 with 1 Axes>"
      ]
     },
     "metadata": {
      "needs_background": "light"
     },
     "output_type": "display_data"
    }
   ],
   "source": [
    "plt.figure(figsize=(12,6))\n",
    "sns.countplot(x='Embarked', data=titanic_data)\n",
    "plt.title('Distribution of Embarked by categories')"
   ]
  },
  {
   "cell_type": "code",
   "execution_count": 318,
   "id": "30142146",
   "metadata": {},
   "outputs": [
    {
     "name": "stdout",
     "output_type": "stream",
     "text": [
      "To conclude, 72.389% of passangers came from 'S' port, 22.187% of people came from 'C' port and 5.424% of people came from 'Q' port\n"
     ]
    }
   ],
   "source": [
    "print(f\"To conclude, {100*titanic_data.Embarked.value_counts()[0]/len(titanic_data)}% of passangers came from 'S' port, {100*titanic_data.Embarked.value_counts()[1]/len(titanic_data)}% of people came from 'C' port and {100*titanic_data.Embarked.value_counts()[2]/len(titanic_data)}% of people came from 'Q' port\")"
   ]
  },
  {
   "cell_type": "markdown",
   "id": "953efafb",
   "metadata": {},
   "source": [
    "## Assert relationships"
   ]
  },
  {
   "cell_type": "markdown",
   "id": "01b4f56f",
   "metadata": {},
   "source": [
    "### Target feature 'Survived'"
   ]
  },
  {
   "cell_type": "markdown",
   "id": "7db7639e",
   "metadata": {},
   "source": [
    "Let's start with finding relationships between 'Survived' feature and others."
   ]
  },
  {
   "cell_type": "markdown",
   "id": "5cb3e88e",
   "metadata": {},
   "source": [
    "### Survived and Age"
   ]
  },
  {
   "cell_type": "markdown",
   "id": "5684fb40",
   "metadata": {},
   "source": [
    "Hypothetically, age can matter because adolescents and young adults can swim better and are more resistant than too young children or old people. Let's check it.\n",
    "\n",
    "Also, the Captain of Titanic prioritized placing children and women in lifeboats, so kids could have higher chances to survive."
   ]
  },
  {
   "cell_type": "code",
   "execution_count": 319,
   "id": "86b848bb",
   "metadata": {},
   "outputs": [
    {
     "data": {
      "text/plain": [
       "Text(0.5, 1.0, 'Fare')"
      ]
     },
     "execution_count": 319,
     "metadata": {},
     "output_type": "execute_result"
    },
    {
     "data": {
      "image/png": "[encoded data removed]",
      "text/plain": [
       "<Figure size 360x720 with 1 Axes>"
      ]
     },
     "metadata": {
      "needs_background": "light"
     },
     "output_type": "display_data"
    }
   ],
   "source": [
    "plt.figure(figsize=(5,10))\n",
    "sns.boxplot(x='Survived', y=\"Age\", data=titanic_data)\n",
    "plt.title('Fare', fontsize=15)"
   ]
  },
  {
   "cell_type": "code",
   "execution_count": 320,
   "id": "268a2dac",
   "metadata": {},
   "outputs": [
    {
     "data": {
      "text/html": [
       "<div>\n",
       "<style scoped>\n",
       "    .dataframe tbody tr th:only-of-type {\n",
       "        vertical-align: middle;\n",
       "    }\n",
       "\n",
       "    .dataframe tbody tr th {\n",
       "        vertical-align: top;\n",
       "    }\n",
       "\n",
       "    .dataframe thead th {\n",
       "        text-align: right;\n",
       "    }\n",
       "</style>\n",
       "<table border=\"1\" class=\"dataframe\">\n",
       "  <thead>\n",
       "    <tr style=\"text-align: right;\">\n",
       "      <th></th>\n",
       "      <th>count</th>\n",
       "      <th>mean</th>\n",
       "      <th>std</th>\n",
       "      <th>min</th>\n",
       "      <th>25%</th>\n",
       "      <th>50%</th>\n",
       "      <th>75%</th>\n",
       "      <th>max</th>\n",
       "    </tr>\n",
       "    <tr>\n",
       "      <th>Survived</th>\n",
       "      <th></th>\n",
       "      <th></th>\n",
       "      <th></th>\n",
       "      <th></th>\n",
       "      <th></th>\n",
       "      <th></th>\n",
       "      <th></th>\n",
       "      <th></th>\n",
       "    </tr>\n",
       "  </thead>\n",
       "  <tbody>\n",
       "    <tr>\n",
       "      <th>0</th>\n",
       "      <td>57226.0</td>\n",
       "      <td>36.665654</td>\n",
       "      <td>17.543936</td>\n",
       "      <td>0.08</td>\n",
       "      <td>24.0</td>\n",
       "      <td>36.0</td>\n",
       "      <td>51.0</td>\n",
       "      <td>83.0</td>\n",
       "    </tr>\n",
       "    <tr>\n",
       "      <th>1</th>\n",
       "      <td>42774.0</td>\n",
       "      <td>40.538487</td>\n",
       "      <td>18.489222</td>\n",
       "      <td>0.08</td>\n",
       "      <td>27.0</td>\n",
       "      <td>43.0</td>\n",
       "      <td>55.0</td>\n",
       "      <td>87.0</td>\n",
       "    </tr>\n",
       "  </tbody>\n",
       "</table>\n",
       "</div>"
      ],
      "text/plain": [
       "            count       mean        std   min   25%   50%   75%   max\n",
       "Survived                                                             \n",
       "0         57226.0  36.665654  17.543936  0.08  24.0  36.0  51.0  83.0\n",
       "1         42774.0  40.538487  18.489222  0.08  27.0  43.0  55.0  87.0"
      ]
     },
     "execution_count": 320,
     "metadata": {},
     "output_type": "execute_result"
    }
   ],
   "source": [
    "titanic_data.groupby('Survived').Age.describe()"
   ]
  },
  {
   "cell_type": "markdown",
   "id": "fb8f04a3",
   "metadata": {},
   "source": [
    "As seen by the graph and table, mean age for those who stayed alive is 40 and median is 43, while mean age for those who did NOT survive is 36 and mmedian is 36. Moreover, 25% percentile of age for those who didn't survive is slightly lower.\n",
    "\n",
    "It shows that the hypothesis that young adults and adolescents had more changes to survive because of their physical strength is False. In fact, ages of those who survived and didn't survive are close and even old people as 87 years old survived."
   ]
  },
  {
   "cell_type": "markdown",
   "id": "175555ea",
   "metadata": {},
   "source": [
    "### Survived and Sex"
   ]
  },
  {
   "cell_type": "markdown",
   "id": "0340faf1",
   "metadata": {},
   "source": [
    "As was said above the Captain ordered to save women first, so we can propose that women survival rate must be significantly higher."
   ]
  },
  {
   "cell_type": "code",
   "execution_count": 323,
   "id": "2a2747a2",
   "metadata": {},
   "outputs": [
    {
     "data": {
      "text/plain": [
       "<AxesSubplot:xlabel='Sex'>"
      ]
     },
     "execution_count": 323,
     "metadata": {},
     "output_type": "execute_result"
    },
    {
     "data": {
      "image/png": "[encoded data removed]",
      "text/plain": [
       "<Figure size 432x288 with 1 Axes>"
      ]
     },
     "metadata": {
      "needs_background": "light"
     },
     "output_type": "display_data"
    }
   ],
   "source": [
    "df2 = titanic_data.groupby(['Sex', 'Survived'])['Sex'].count().unstack('Survived')\n",
    "df2[[0, 1]].plot(kind='bar', stacked=True)"
   ]
  },
  {
   "cell_type": "markdown",
   "id": "5a3b7b4d",
   "metadata": {},
   "source": [
    "True, women chances to survive are significantly higher."
   ]
  },
  {
   "cell_type": "markdown",
   "id": "704ce7cb",
   "metadata": {},
   "source": [
    "### Survived and Pclass, Deck"
   ]
  },
  {
   "cell_type": "markdown",
   "id": "e47ad7fa",
   "metadata": {},
   "source": [
    "According to the internet, spaces for people in 3rd class were isolated from people in 1st class and 2nd class, and crew forgot about opening some of those bars separating people form 3rd class from others. \n",
    "\n",
    "Moreover, 3rd class cabins were on lower decks and their passengers had to come upstairs and could, for instance, drawn through doing so, be blocked by some obstacles or come later to the lifeboats.\n",
    "\n",
    "Hypothetically, there should be a big difference in survival between people in 3rd class and lower decks and others. "
   ]
  },
  {
   "cell_type": "markdown",
   "id": "a649179c",
   "metadata": {},
   "source": [
    "According to the intertnet,\n",
    "\n",
    "A Deck had cabins of First Class\n",
    "\n",
    "B Deck had cabins of First Class\n",
    "\n",
    "C Deck had cabins of First Class, Second class\n",
    "\n",
    "D Deck had cabins of First Class, Second class, Third class\n",
    "\n",
    "E Deck had cabins of First Class, Second class, Third class\n",
    "\n",
    "F Deck had cabins of Second class, Third class\n",
    "\n",
    "G Deck had no cabins\n"
   ]
  },
  {
   "cell_type": "code",
   "execution_count": 321,
   "id": "21d28719",
   "metadata": {
    "scrolled": true
   },
   "outputs": [
    {
     "data": {
      "text/plain": [
       "<AxesSubplot:xlabel='Pclass'>"
      ]
     },
     "execution_count": 321,
     "metadata": {},
     "output_type": "execute_result"
    },
    {
     "data": {
      "image/png": "[encoded data removed]",
      "text/plain": [
       "<Figure size 432x288 with 1 Axes>"
      ]
     },
     "metadata": {
      "needs_background": "light"
     },
     "output_type": "display_data"
    }
   ],
   "source": [
    "df2 = titanic_data.groupby(['Pclass', 'Survived'])['Pclass'].count().unstack('Survived')\n",
    "df2[[0, 1]].plot(kind='bar', stacked=True)"
   ]
  },
  {
   "cell_type": "markdown",
   "id": "a54fe848",
   "metadata": {},
   "source": [
    "True, the higher the class of a cabin, the more chances a person had to survive. Moreover, there is a big difference between survival of 3rd class passengers and other classes passengers."
   ]
  },
  {
   "cell_type": "code",
   "execution_count": 325,
   "id": "20831b21",
   "metadata": {
    "scrolled": true
   },
   "outputs": [
    {
     "ename": "SyntaxError",
     "evalue": "invalid syntax (Temp/ipykernel_10504/2435107379.py, line 2)",
     "output_type": "error",
     "traceback": [
      "\u001b[1;36m  File \u001b[1;32m\"C:\\Users\\Anzhe\\AppData\\Local\\Temp/ipykernel_10504/2435107379.py\"\u001b[1;36m, line \u001b[1;32m2\u001b[0m\n\u001b[1;33m    df2[[0, 1]].plot(kind='bar', stacked=True) ???\u001b[0m\n\u001b[1;37m                                               ^\u001b[0m\n\u001b[1;31mSyntaxError\u001b[0m\u001b[1;31m:\u001b[0m invalid syntax\n"
     ]
    }
   ],
   "source": [
    "df2 = titanic_data.groupby(['Deck', 'Survived'])['Deck'].count().unstack('Survived')\n",
    "df2[[0, 1]].plot(kind='bar', stacked=True) ???"
   ]
  },
  {
   "cell_type": "markdown",
   "id": "423c8dca",
   "metadata": {},
   "source": [
    "### Survived, pclass, age and sex ???"
   ]
  },
  {
   "cell_type": "code",
   "execution_count": null,
   "id": "ad4a19d4",
   "metadata": {},
   "outputs": [],
   "source": [
    "As we have seen there is no logical correlation between "
   ]
  },
  {
   "cell_type": "markdown",
   "id": "d1d8b6a3",
   "metadata": {},
   "source": [
    "### Survived and SibSp"
   ]
  },
  {
   "cell_type": "markdown",
   "id": "5e0ec757",
   "metadata": {},
   "source": [
    "Assuming about relathionship of Survived and SibSp is interesting because of so small info we have about SibSp. In fact, we know only amount of Siblings/Spouses but we cannot match people and their siblings and see what age, sex and etc. their Siblins/Spauses had. With info about relationships we found above we could speculate.\n",
    "\n",
    "For example, we could say that if a person has a sister, he might sacrifise his spot on a lifeboat for her and etc. But we don't have this data, so let's not speculate and just see info that graphs show us."
   ]
  },
  {
   "cell_type": "code",
   "execution_count": 335,
   "id": "9f2cbbc0",
   "metadata": {
    "scrolled": false
   },
   "outputs": [
    {
     "data": {
      "text/plain": [
       "<AxesSubplot:xlabel='SibSp'>"
      ]
     },
     "execution_count": 335,
     "metadata": {},
     "output_type": "execute_result"
    },
    {
     "data": {
      "image/png": "[encoded data removed]",
      "text/plain": [
       "<Figure size 1152x720 with 1 Axes>"
      ]
     },
     "metadata": {
      "needs_background": "light"
     },
     "output_type": "display_data"
    }
   ],
   "source": [
    "df2 = titanic_data.groupby(['SibSp', 'Survived'])['SibSp'].count().unstack('Survived')\n",
    "df2[[0, 1]].plot(kind='bar', stacked=True, figsize=(16, 10))"
   ]
  },
  {
   "cell_type": "markdown",
   "id": "8da24312",
   "metadata": {},
   "source": [
    "As we can see people who had 0 SibSp had a slightly smaller chance of Survival. When a person had at least 1 SibSp they had almost 50%/50% chance of survival. Maybe that's because relatives helped each other."
   ]
  },
  {
   "cell_type": "markdown",
   "id": "73d597da",
   "metadata": {},
   "source": [
    "### Survived and Parch"
   ]
  },
  {
   "cell_type": "markdown",
   "id": "5e1a4e7c",
   "metadata": {},
   "source": [
    "I will not make any speculations about this relatioship before seeing graphs using logic from 'Survived and SibSp'."
   ]
  },
  {
   "cell_type": "code",
   "execution_count": 337,
   "id": "8f2d328a",
   "metadata": {},
   "outputs": [
    {
     "data": {
      "text/plain": [
       "<AxesSubplot:xlabel='Parch'>"
      ]
     },
     "execution_count": 337,
     "metadata": {},
     "output_type": "execute_result"
    },
    {
     "data": {
      "image/png": "[encoded data removed]",
      "text/plain": [
       "<Figure size 1152x720 with 1 Axes>"
      ]
     },
     "metadata": {
      "needs_background": "light"
     },
     "output_type": "display_data"
    }
   ],
   "source": [
    "df2 = titanic_data.groupby(['Parch', 'Survived'])['Parch'].count().unstack('Survived')\n",
    "df2[[0, 1]].plot(kind='bar', stacked=True, figsize=(16, 10))"
   ]
  },
  {
   "cell_type": "markdown",
   "id": "c44c7542",
   "metadata": {},
   "source": [
    "As we can see people who had 0 Parch had a slightly smaller chance of Survival. When a person had at least 1 Parch they had almost 50%/50% chance of survival. Maybe that's because relatives helped each other."
   ]
  },
  {
   "cell_type": "markdown",
   "id": "7704820f",
   "metadata": {},
   "source": [
    "### Survived and Embarked"
   ]
  },
  {
   "cell_type": "markdown",
   "id": "406dc1eb",
   "metadata": {},
   "source": [
    "There is a very small change that port city could influence Survival because all of this cities are ports relatively in the same area (France, England and Ireland), and a lot of people who came on board of Titanic there could be living in different cities."
   ]
  },
  {
   "cell_type": "code",
   "execution_count": 322,
   "id": "f629d97f",
   "metadata": {},
   "outputs": [
    {
     "data": {
      "text/plain": [
       "<AxesSubplot:xlabel='Embarked'>"
      ]
     },
     "execution_count": 322,
     "metadata": {},
     "output_type": "execute_result"
    },
    {
     "data": {
      "image/png": "[encoded data removed]",
      "text/plain": [
       "<Figure size 432x288 with 1 Axes>"
      ]
     },
     "metadata": {
      "needs_background": "light"
     },
     "output_type": "display_data"
    }
   ],
   "source": [
    "df2 = titanic_data.groupby(['Embarked', 'Survived'])['Pclass'].count().unstack('Survived')\n",
    "df2[[0, 1]].plot(kind='bar', stacked=True)"
   ]
  },
  {
   "cell_type": "markdown",
   "id": "69cceb4c",
   "metadata": {},
   "source": [
    "As we can see there is a difference in survival between ports. But it can be caused by other factors."
   ]
  },
  {
   "cell_type": "markdown",
   "id": "db1b4e46",
   "metadata": {},
   "source": [
    "## Target feature Pclass"
   ]
  },
  {
   "cell_type": "markdown",
   "id": "a95b78e0",
   "metadata": {},
   "source": [
    "### Pclass and Age"
   ]
  },
  {
   "cell_type": "markdown",
   "id": "d9ea67c4",
   "metadata": {},
   "source": [
    "As we have already proved in Data Quality assesment, the older the person, the more chance that they have a higher Pclass."
   ]
  },
  {
   "cell_type": "markdown",
   "id": "920a8404",
   "metadata": {},
   "source": [
    "### Pclass and Sex"
   ]
  },
  {
   "cell_type": "markdown",
   "id": "7962e1eb",
   "metadata": {},
   "source": [
    "### Pclass and Price"
   ]
  },
  {
   "cell_type": "markdown",
   "id": "2ec57f8b",
   "metadata": {},
   "source": [
    "    класс каюты и порт (проверим в выжимаемости)\n",
    "\n",
    "пол и возраст (проверено)\n",
    "\n",
    "пол и кол-во родственников\n",
    "\n",
    "    пол и порт (проверим в выжимаемости\n",
    "\n",
    "пол и палуба\n",
    "\n",
    "\n",
    "возраст и родственники\n",
    "\n",
    "    возраст и порт (проверим в выжимаемости"
   ]
  },
  {
   "cell_type": "markdown",
   "id": "529bc87c",
   "metadata": {},
   "source": [
    "## Target feature Fare"
   ]
  },
  {
   "cell_type": "markdown",
   "id": "bc5cfe07",
   "metadata": {},
   "source": [
    "### Fare and Age"
   ]
  },
  {
   "cell_type": "markdown",
   "id": "ca555616",
   "metadata": {},
   "source": [
    "Following modern world logic hypothetically tickets for children and seniors could be lower in price. However, there is no info on the internet telling that tickets were divided into tickets for children, adults, and seniors, so we shouldn't think this way."
   ]
  },
  {
   "cell_type": "code",
   "execution_count": 341,
   "id": "33b9a95b",
   "metadata": {},
   "outputs": [
    {
     "data": {
      "text/plain": [
       "<AxesSubplot:xlabel='Fare', ylabel='Age'>"
      ]
     },
     "execution_count": 341,
     "metadata": {},
     "output_type": "execute_result"
    },
    {
     "data": {
      "image/png": "[encoded data removed]",
      "text/plain": [
       "<Figure size 432x288 with 1 Axes>"
      ]
     },
     "metadata": {
      "needs_background": "light"
     },
     "output_type": "display_data"
    }
   ],
   "source": [
    "sns.scatterplot(x=titanic_data['Fare'], y=titanic_data['Age'])"
   ]
  },
  {
   "cell_type": "markdown",
   "id": "3a18ff69",
   "metadata": {},
   "source": [
    "As we can see there is no clear relationship between Age and Fare. For example, people whose age below 20 could have fare from around 0 to around 600, and etc."
   ]
  },
  {
   "cell_type": "markdown",
   "id": "3162866e",
   "metadata": {},
   "source": [
    "To underline, the highest Fare tended to have middle aged people."
   ]
  },
  {
   "cell_type": "markdown",
   "id": "d744be3f",
   "metadata": {},
   "source": [
    "### Fare and Sex"
   ]
  },
  {
   "cell_type": "markdown",
   "id": "73b80f43",
   "metadata": {},
   "source": [
    "As said above, tickets were not divided into categories, so we can assume that Fare was distributed equally between sexes."
   ]
  },
  {
   "cell_type": "code",
   "execution_count": 346,
   "id": "300a4a53",
   "metadata": {},
   "outputs": [
    {
     "data": {
      "text/plain": [
       "Text(0.5, 1.0, 'Fare and Sex')"
      ]
     },
     "execution_count": 346,
     "metadata": {},
     "output_type": "execute_result"
    },
    {
     "data": {
      "image/png": "[encoded data removed]",
      "text/plain": [
       "<Figure size 360x720 with 1 Axes>"
      ]
     },
     "metadata": {
      "needs_background": "light"
     },
     "output_type": "display_data"
    }
   ],
   "source": [
    "plt.figure(figsize=(5,10))\n",
    "sns.boxplot(x='Sex', y=\"Fare\", data=titanic_data)\n",
    "plt.title('Fare and Sex', fontsize=15)"
   ]
  },
  {
   "cell_type": "code",
   "execution_count": 347,
   "id": "c06236e6",
   "metadata": {},
   "outputs": [
    {
     "data": {
      "text/html": [
       "<div>\n",
       "<style scoped>\n",
       "    .dataframe tbody tr th:only-of-type {\n",
       "        vertical-align: middle;\n",
       "    }\n",
       "\n",
       "    .dataframe tbody tr th {\n",
       "        vertical-align: top;\n",
       "    }\n",
       "\n",
       "    .dataframe thead th {\n",
       "        text-align: right;\n",
       "    }\n",
       "</style>\n",
       "<table border=\"1\" class=\"dataframe\">\n",
       "  <thead>\n",
       "    <tr style=\"text-align: right;\">\n",
       "      <th></th>\n",
       "      <th>count</th>\n",
       "      <th>mean</th>\n",
       "      <th>std</th>\n",
       "      <th>min</th>\n",
       "      <th>25%</th>\n",
       "      <th>50%</th>\n",
       "      <th>75%</th>\n",
       "      <th>max</th>\n",
       "    </tr>\n",
       "    <tr>\n",
       "      <th>Sex</th>\n",
       "      <th></th>\n",
       "      <th></th>\n",
       "      <th></th>\n",
       "      <th></th>\n",
       "      <th></th>\n",
       "      <th></th>\n",
       "      <th></th>\n",
       "      <th></th>\n",
       "    </tr>\n",
       "  </thead>\n",
       "  <tbody>\n",
       "    <tr>\n",
       "      <th>female</th>\n",
       "      <td>43886.0</td>\n",
       "      <td>55.214484</td>\n",
       "      <td>79.238188</td>\n",
       "      <td>1.61</td>\n",
       "      <td>12.58</td>\n",
       "      <td>28.31</td>\n",
       "      <td>62.10</td>\n",
       "      <td>744.46</td>\n",
       "    </tr>\n",
       "    <tr>\n",
       "      <th>male</th>\n",
       "      <td>56114.0</td>\n",
       "      <td>35.102892</td>\n",
       "      <td>59.438364</td>\n",
       "      <td>0.68</td>\n",
       "      <td>9.13</td>\n",
       "      <td>13.62</td>\n",
       "      <td>29.94</td>\n",
       "      <td>744.66</td>\n",
       "    </tr>\n",
       "  </tbody>\n",
       "</table>\n",
       "</div>"
      ],
      "text/plain": [
       "          count       mean        std   min    25%    50%    75%     max\n",
       "Sex                                                                     \n",
       "female  43886.0  55.214484  79.238188  1.61  12.58  28.31  62.10  744.46\n",
       "male    56114.0  35.102892  59.438364  0.68   9.13  13.62  29.94  744.66"
      ]
     },
     "execution_count": 347,
     "metadata": {},
     "output_type": "execute_result"
    }
   ],
   "source": [
    "titanic_data.groupby('Sex').Fare.describe()"
   ]
  },
  {
   "cell_type": "markdown",
   "id": "1ebe1963",
   "metadata": {},
   "source": [
    "Women tended to have higher fares."
   ]
  },
  {
   "cell_type": "markdown",
   "id": "b306be4e",
   "metadata": {},
   "source": [
    "### Fare and Pclass"
   ]
  },
  {
   "cell_type": "markdown",
   "id": "034945c8",
   "metadata": {},
   "source": [
    "# Summary"
   ]
  },
  {
   "cell_type": "markdown",
   "id": "b3db83e5",
   "metadata": {},
   "source": [
    "теория про борты"
   ]
  },
  {
   "cell_type": "code",
   "execution_count": null,
   "id": "e48f7901",
   "metadata": {},
   "outputs": [],
   "source": []
  }
 ],
 "metadata": {
  "kernelspec": {
   "display_name": "Python 3 (ipykernel)",
   "language": "python",
   "name": "python3"
  },
  "language_info": {
   "codemirror_mode": {
    "name": "ipython",
    "version": 3
   },
   "file_extension": ".py",
   "mimetype": "text/x-python",
   "name": "python",
   "nbconvert_exporter": "python",
   "pygments_lexer": "ipython3",
   "version": "3.9.1"
  },
  "toc": {
   "base_numbering": 1,
   "nav_menu": {},
   "number_sections": true,
   "sideBar": true,
   "skip_h1_title": false,
   "title_cell": "Table of Contents",
   "title_sidebar": "Contents",
   "toc_cell": false,
   "toc_position": {},
   "toc_section_display": true,
   "toc_window_display": false
  }
 },
 "nbformat": 4,
 "nbformat_minor": 5
}
