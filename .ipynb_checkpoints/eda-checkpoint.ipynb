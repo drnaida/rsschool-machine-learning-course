{
 "cells": [
  {
   "cell_type": "markdown",
   "id": "fae4e594",
   "metadata": {},
   "source": [
    "## Import data"
   ]
  },
  {
   "cell_type": "code",
   "execution_count": 149,
   "id": "b489cb9e",
   "metadata": {
    "scrolled": false
   },
   "outputs": [],
   "source": [
    "import pandas as pd\n",
    "import seaborn as sn\n",
    "\n",
    "path_to_file = 'train_titanic.csv'\n",
    "\n",
    "titanic_data = pd.read_csv(path_to_file, index_col='PassengerId')"
   ]
  },
  {
   "cell_type": "markdown",
   "id": "d07912a0",
   "metadata": {},
   "source": [
    "# Context"
   ]
  },
  {
   "cell_type": "markdown",
   "id": "67534d90",
   "metadata": {},
   "source": [
    "## What is titanic dataset about?"
   ]
  },
  {
   "cell_type": "markdown",
   "id": "b00e4ff1",
   "metadata": {},
   "source": [
    "Titanic is a dataset that contains features about people who were on Titanic like age, port in which they were embarked, whether they survived the Titanic catastrophe and etc."
   ]
  },
  {
   "cell_type": "code",
   "execution_count": 150,
   "id": "a5c18bd6",
   "metadata": {},
   "outputs": [
    {
     "data": {
      "text/html": [
       "<div>\n",
       "<style scoped>\n",
       "    .dataframe tbody tr th:only-of-type {\n",
       "        vertical-align: middle;\n",
       "    }\n",
       "\n",
       "    .dataframe tbody tr th {\n",
       "        vertical-align: top;\n",
       "    }\n",
       "\n",
       "    .dataframe thead th {\n",
       "        text-align: right;\n",
       "    }\n",
       "</style>\n",
       "<table border=\"1\" class=\"dataframe\">\n",
       "  <thead>\n",
       "    <tr style=\"text-align: right;\">\n",
       "      <th></th>\n",
       "      <th>Survived</th>\n",
       "      <th>Pclass</th>\n",
       "      <th>Name</th>\n",
       "      <th>Sex</th>\n",
       "      <th>Age</th>\n",
       "      <th>SibSp</th>\n",
       "      <th>Parch</th>\n",
       "      <th>Ticket</th>\n",
       "      <th>Fare</th>\n",
       "      <th>Cabin</th>\n",
       "      <th>Embarked</th>\n",
       "    </tr>\n",
       "    <tr>\n",
       "      <th>PassengerId</th>\n",
       "      <th></th>\n",
       "      <th></th>\n",
       "      <th></th>\n",
       "      <th></th>\n",
       "      <th></th>\n",
       "      <th></th>\n",
       "      <th></th>\n",
       "      <th></th>\n",
       "      <th></th>\n",
       "      <th></th>\n",
       "      <th></th>\n",
       "    </tr>\n",
       "  </thead>\n",
       "  <tbody>\n",
       "    <tr>\n",
       "      <th>0</th>\n",
       "      <td>1</td>\n",
       "      <td>1</td>\n",
       "      <td>Oconnor, Frankie</td>\n",
       "      <td>male</td>\n",
       "      <td>NaN</td>\n",
       "      <td>2</td>\n",
       "      <td>0</td>\n",
       "      <td>209245</td>\n",
       "      <td>27.14</td>\n",
       "      <td>C12239</td>\n",
       "      <td>S</td>\n",
       "    </tr>\n",
       "    <tr>\n",
       "      <th>1</th>\n",
       "      <td>0</td>\n",
       "      <td>3</td>\n",
       "      <td>Bryan, Drew</td>\n",
       "      <td>male</td>\n",
       "      <td>NaN</td>\n",
       "      <td>0</td>\n",
       "      <td>0</td>\n",
       "      <td>27323</td>\n",
       "      <td>13.35</td>\n",
       "      <td>NaN</td>\n",
       "      <td>S</td>\n",
       "    </tr>\n",
       "    <tr>\n",
       "      <th>2</th>\n",
       "      <td>0</td>\n",
       "      <td>3</td>\n",
       "      <td>Owens, Kenneth</td>\n",
       "      <td>male</td>\n",
       "      <td>0.33</td>\n",
       "      <td>1</td>\n",
       "      <td>2</td>\n",
       "      <td>CA 457703</td>\n",
       "      <td>71.29</td>\n",
       "      <td>NaN</td>\n",
       "      <td>S</td>\n",
       "    </tr>\n",
       "    <tr>\n",
       "      <th>3</th>\n",
       "      <td>0</td>\n",
       "      <td>3</td>\n",
       "      <td>Kramer, James</td>\n",
       "      <td>male</td>\n",
       "      <td>19.00</td>\n",
       "      <td>0</td>\n",
       "      <td>0</td>\n",
       "      <td>A. 10866</td>\n",
       "      <td>13.04</td>\n",
       "      <td>NaN</td>\n",
       "      <td>S</td>\n",
       "    </tr>\n",
       "    <tr>\n",
       "      <th>4</th>\n",
       "      <td>1</td>\n",
       "      <td>3</td>\n",
       "      <td>Bond, Michael</td>\n",
       "      <td>male</td>\n",
       "      <td>25.00</td>\n",
       "      <td>0</td>\n",
       "      <td>0</td>\n",
       "      <td>427635</td>\n",
       "      <td>7.76</td>\n",
       "      <td>NaN</td>\n",
       "      <td>S</td>\n",
       "    </tr>\n",
       "    <tr>\n",
       "      <th>5</th>\n",
       "      <td>0</td>\n",
       "      <td>2</td>\n",
       "      <td>Sassano, Jonathan</td>\n",
       "      <td>male</td>\n",
       "      <td>35.00</td>\n",
       "      <td>0</td>\n",
       "      <td>0</td>\n",
       "      <td>13363</td>\n",
       "      <td>6.71</td>\n",
       "      <td>NaN</td>\n",
       "      <td>S</td>\n",
       "    </tr>\n",
       "    <tr>\n",
       "      <th>6</th>\n",
       "      <td>0</td>\n",
       "      <td>3</td>\n",
       "      <td>Conway, Jose</td>\n",
       "      <td>male</td>\n",
       "      <td>7.00</td>\n",
       "      <td>0</td>\n",
       "      <td>0</td>\n",
       "      <td>A/5</td>\n",
       "      <td>9.77</td>\n",
       "      <td>NaN</td>\n",
       "      <td>S</td>\n",
       "    </tr>\n",
       "    <tr>\n",
       "      <th>7</th>\n",
       "      <td>1</td>\n",
       "      <td>3</td>\n",
       "      <td>Werner, Linda</td>\n",
       "      <td>female</td>\n",
       "      <td>6.00</td>\n",
       "      <td>1</td>\n",
       "      <td>2</td>\n",
       "      <td>434426</td>\n",
       "      <td>31.50</td>\n",
       "      <td>NaN</td>\n",
       "      <td>S</td>\n",
       "    </tr>\n",
       "    <tr>\n",
       "      <th>8</th>\n",
       "      <td>0</td>\n",
       "      <td>1</td>\n",
       "      <td>Wardlaw, Michael</td>\n",
       "      <td>male</td>\n",
       "      <td>27.00</td>\n",
       "      <td>2</td>\n",
       "      <td>1</td>\n",
       "      <td>474849</td>\n",
       "      <td>73.02</td>\n",
       "      <td>A7253</td>\n",
       "      <td>S</td>\n",
       "    </tr>\n",
       "    <tr>\n",
       "      <th>9</th>\n",
       "      <td>0</td>\n",
       "      <td>2</td>\n",
       "      <td>Greigo, Rudy</td>\n",
       "      <td>male</td>\n",
       "      <td>66.00</td>\n",
       "      <td>0</td>\n",
       "      <td>0</td>\n",
       "      <td>6981</td>\n",
       "      <td>9.14</td>\n",
       "      <td>D2969</td>\n",
       "      <td>C</td>\n",
       "    </tr>\n",
       "    <tr>\n",
       "      <th>10</th>\n",
       "      <td>0</td>\n",
       "      <td>3</td>\n",
       "      <td>Nichols, William</td>\n",
       "      <td>male</td>\n",
       "      <td>31.00</td>\n",
       "      <td>0</td>\n",
       "      <td>0</td>\n",
       "      <td>459690</td>\n",
       "      <td>8.06</td>\n",
       "      <td>NaN</td>\n",
       "      <td>S</td>\n",
       "    </tr>\n",
       "    <tr>\n",
       "      <th>11</th>\n",
       "      <td>0</td>\n",
       "      <td>1</td>\n",
       "      <td>Telschow, Robert</td>\n",
       "      <td>male</td>\n",
       "      <td>60.00</td>\n",
       "      <td>0</td>\n",
       "      <td>0</td>\n",
       "      <td>19600</td>\n",
       "      <td>31.50</td>\n",
       "      <td>A9055</td>\n",
       "      <td>S</td>\n",
       "    </tr>\n",
       "    <tr>\n",
       "      <th>12</th>\n",
       "      <td>0</td>\n",
       "      <td>3</td>\n",
       "      <td>Stewart, Pat</td>\n",
       "      <td>male</td>\n",
       "      <td>36.00</td>\n",
       "      <td>0</td>\n",
       "      <td>0</td>\n",
       "      <td>434108</td>\n",
       "      <td>9.34</td>\n",
       "      <td>C8674</td>\n",
       "      <td>S</td>\n",
       "    </tr>\n",
       "    <tr>\n",
       "      <th>13</th>\n",
       "      <td>1</td>\n",
       "      <td>2</td>\n",
       "      <td>Raef, Phillip</td>\n",
       "      <td>male</td>\n",
       "      <td>50.00</td>\n",
       "      <td>0</td>\n",
       "      <td>0</td>\n",
       "      <td>3790453</td>\n",
       "      <td>7.88</td>\n",
       "      <td>NaN</td>\n",
       "      <td>Q</td>\n",
       "    </tr>\n",
       "    <tr>\n",
       "      <th>14</th>\n",
       "      <td>1</td>\n",
       "      <td>1</td>\n",
       "      <td>Seaton, Karen</td>\n",
       "      <td>female</td>\n",
       "      <td>44.00</td>\n",
       "      <td>0</td>\n",
       "      <td>1</td>\n",
       "      <td>12425</td>\n",
       "      <td>28.40</td>\n",
       "      <td>D6945</td>\n",
       "      <td>C</td>\n",
       "    </tr>\n",
       "  </tbody>\n",
       "</table>\n",
       "</div>"
      ],
      "text/plain": [
       "             Survived  Pclass               Name     Sex    Age  SibSp  Parch  \\\n",
       "PassengerId                                                                     \n",
       "0                   1       1   Oconnor, Frankie    male    NaN      2      0   \n",
       "1                   0       3        Bryan, Drew    male    NaN      0      0   \n",
       "2                   0       3     Owens, Kenneth    male   0.33      1      2   \n",
       "3                   0       3      Kramer, James    male  19.00      0      0   \n",
       "4                   1       3      Bond, Michael    male  25.00      0      0   \n",
       "5                   0       2  Sassano, Jonathan    male  35.00      0      0   \n",
       "6                   0       3       Conway, Jose    male   7.00      0      0   \n",
       "7                   1       3      Werner, Linda  female   6.00      1      2   \n",
       "8                   0       1   Wardlaw, Michael    male  27.00      2      1   \n",
       "9                   0       2       Greigo, Rudy    male  66.00      0      0   \n",
       "10                  0       3   Nichols, William    male  31.00      0      0   \n",
       "11                  0       1   Telschow, Robert    male  60.00      0      0   \n",
       "12                  0       3       Stewart, Pat    male  36.00      0      0   \n",
       "13                  1       2      Raef, Phillip    male  50.00      0      0   \n",
       "14                  1       1      Seaton, Karen  female  44.00      0      1   \n",
       "\n",
       "                Ticket   Fare   Cabin Embarked  \n",
       "PassengerId                                     \n",
       "0               209245  27.14  C12239        S  \n",
       "1                27323  13.35     NaN        S  \n",
       "2            CA 457703  71.29     NaN        S  \n",
       "3             A. 10866  13.04     NaN        S  \n",
       "4               427635   7.76     NaN        S  \n",
       "5                13363   6.71     NaN        S  \n",
       "6                 A/5    9.77     NaN        S  \n",
       "7               434426  31.50     NaN        S  \n",
       "8               474849  73.02   A7253        S  \n",
       "9                 6981   9.14   D2969        C  \n",
       "10              459690   8.06     NaN        S  \n",
       "11               19600  31.50   A9055        S  \n",
       "12              434108   9.34   C8674        S  \n",
       "13             3790453   7.88     NaN        Q  \n",
       "14               12425  28.40   D6945        C  "
      ]
     },
     "execution_count": 150,
     "metadata": {},
     "output_type": "execute_result"
    }
   ],
   "source": [
    "titanic_data.head(15)"
   ]
  },
  {
   "cell_type": "markdown",
   "id": "353e43c7",
   "metadata": {},
   "source": [
    "## What is the unique id for each row of data?"
   ]
  },
  {
   "cell_type": "markdown",
   "id": "9e639d71",
   "metadata": {},
   "source": [
    "Each row of data is identified by a 'PassengerId' column."
   ]
  },
  {
   "cell_type": "markdown",
   "id": "f764c37d",
   "metadata": {},
   "source": [
    "## Understanding the meaning of each variable"
   ]
  },
  {
   "cell_type": "code",
   "execution_count": 151,
   "id": "967a64a6",
   "metadata": {
    "scrolled": false
   },
   "outputs": [
    {
     "data": {
      "text/plain": [
       "['Survived',\n",
       " 'Pclass',\n",
       " 'Name',\n",
       " 'Sex',\n",
       " 'Age',\n",
       " 'SibSp',\n",
       " 'Parch',\n",
       " 'Ticket',\n",
       " 'Fare',\n",
       " 'Cabin',\n",
       " 'Embarked']"
      ]
     },
     "execution_count": 151,
     "metadata": {},
     "output_type": "execute_result"
    }
   ],
   "source": [
    "list(titanic_data.columns.values)"
   ]
  },
  {
   "cell_type": "markdown",
   "id": "3bc06860",
   "metadata": {},
   "source": [
    "Those are the variables/features that we have"
   ]
  },
  {
   "cell_type": "markdown",
   "id": "d84f0287",
   "metadata": {},
   "source": [
    "Let's understand the meaning of all features (variables) in the dataset:"
   ]
  },
  {
   "cell_type": "markdown",
   "id": "7bdddf6a",
   "metadata": {},
   "source": [
    "'Survived' - whether a person survived the catastrophe or not, values 0 - dead and 1 - alive\n",
    "\n",
    "'Pclass' - class of the cabin, can 1st, 2nd or 3rd\n",
    "\n",
    "'Name' - name of the passenger, contains of First Name and Surname\n",
    "\n",
    "'Sex' - sex of the passenger, can be 'male' or 'female'\n",
    "\n",
    "'Age' - age of the person\n",
    "\n",
    "'SibSp' - number of horizontal relatives (siblings and spouses) a person travelled with\n",
    "\n",
    "'Parch' - number of vertical relatives (parents or children) a person travelled with\n",
    "\n",
    "'Ticket' - an id of a ticket\n",
    "\n",
    "'Fare' - amount of money person paid for a cabin\n",
    "\n",
    "'Cabin' - number of a cabin, consists of a letter representing deck and a number\n",
    "\n",
    "'Embarked' - name of the port in which person came on board of Titanic. Values are either 'C' - Cherbourg, 'S' - Southampton, or 'Q' - Queenstown"
   ]
  },
  {
   "cell_type": "markdown",
   "id": "392c6a5f",
   "metadata": {},
   "source": [
    "## Deck plan"
   ]
  },
  {
   "cell_type": "markdown",
   "id": "966af745",
   "metadata": {},
   "source": [
    "Since column 'Cabin' contains values with letters, and letters represent decks on Titanic, I will leave here a plane of Titanic decks.\n",
    "\n",
    " ![Titanic Deck plan](titanic_deck_plan.jpg)"
   ]
  },
  {
   "cell_type": "markdown",
   "id": "9b4320c6",
   "metadata": {},
   "source": [
    "# Data quality assessment"
   ]
  },
  {
   "cell_type": "markdown",
   "id": "ea89da14",
   "metadata": {},
   "source": [
    "## Number of raws and columnms"
   ]
  },
  {
   "cell_type": "markdown",
   "id": "bd814b87",
   "metadata": {},
   "source": [
    "Let's check how many raws and columns the initial dataset has using shape method"
   ]
  },
  {
   "cell_type": "code",
   "execution_count": 152,
   "id": "ca4f6966",
   "metadata": {},
   "outputs": [
    {
     "data": {
      "text/plain": [
       "(100000, 11)"
      ]
     },
     "execution_count": 152,
     "metadata": {},
     "output_type": "execute_result"
    }
   ],
   "source": [
    "titanic_data_shape = titanic_data.shape\n",
    "titanic_data_shape"
   ]
  },
  {
   "cell_type": "markdown",
   "id": "80d7bd7c",
   "metadata": {},
   "source": [
    "In other words, there are 100,000 raws and 11 columns with features (with index it would be 12 columns)"
   ]
  },
  {
   "cell_type": "markdown",
   "id": "78b894b3",
   "metadata": {},
   "source": [
    "## Types of columns\n",
    "\n",
    "Let's inspect data types of columns"
   ]
  },
  {
   "cell_type": "code",
   "execution_count": 153,
   "id": "aa709aa6",
   "metadata": {
    "scrolled": true
   },
   "outputs": [
    {
     "data": {
      "text/plain": [
       "Survived      int64\n",
       "Pclass        int64\n",
       "Name         object\n",
       "Sex          object\n",
       "Age         float64\n",
       "SibSp         int64\n",
       "Parch         int64\n",
       "Ticket       object\n",
       "Fare        float64\n",
       "Cabin        object\n",
       "Embarked     object\n",
       "dtype: object"
      ]
     },
     "execution_count": 153,
     "metadata": {},
     "output_type": "execute_result"
    }
   ],
   "source": [
    "titanic_data.dtypes"
   ]
  },
  {
   "cell_type": "code",
   "execution_count": 154,
   "id": "a423276b",
   "metadata": {},
   "outputs": [
    {
     "data": {
      "text/plain": [
       "object     5\n",
       "int64      4\n",
       "float64    2\n",
       "dtype: int64"
      ]
     },
     "execution_count": 154,
     "metadata": {},
     "output_type": "execute_result"
    }
   ],
   "source": [
    "titanic_data.dtypes.value_counts()"
   ]
  },
  {
   "cell_type": "markdown",
   "id": "0513f521",
   "metadata": {},
   "source": [
    "The dataset has 4 columns with integers, 2 columns with floats and 5 columns with object values."
   ]
  },
  {
   "cell_type": "markdown",
   "id": "af6351f6",
   "metadata": {},
   "source": [
    "## Categorizing features\n",
    "\n",
    "Our features can be divided in 2 groups based on their datatypes:\n",
    "\n",
    "1. Categorical features. All data that is NOT numerical (in our dataset it's data with an object type)."
   ]
  },
  {
   "cell_type": "code",
   "execution_count": 155,
   "id": "0b9c7148",
   "metadata": {
    "scrolled": true
   },
   "outputs": [
    {
     "data": {
      "text/plain": [
       "['Name', 'Sex', 'Ticket', 'Cabin', 'Embarked']"
      ]
     },
     "execution_count": 155,
     "metadata": {},
     "output_type": "execute_result"
    }
   ],
   "source": [
    "categorical_columns = list(titanic_data.select_dtypes(include=['object']).columns.values)\n",
    "categorical_columns"
   ]
  },
  {
   "cell_type": "markdown",
   "id": "f6abdcce",
   "metadata": {},
   "source": [
    "There are 5 features with categorical data."
   ]
  },
  {
   "cell_type": "markdown",
   "id": "4db2aaa5",
   "metadata": {},
   "source": [
    "\n",
    "2. Quantitative features. In our dataset it's data with integer and float data types."
   ]
  },
  {
   "cell_type": "code",
   "execution_count": 156,
   "id": "25ee016a",
   "metadata": {
    "scrolled": false
   },
   "outputs": [
    {
     "data": {
      "text/plain": [
       "['Survived', 'Pclass', 'Age', 'SibSp', 'Parch', 'Fare']"
      ]
     },
     "execution_count": 156,
     "metadata": {},
     "output_type": "execute_result"
    }
   ],
   "source": [
    "quantitative_columns = list(titanic_data.select_dtypes(include=['float64', 'int64']).columns.values)\n",
    "quantitative_columns"
   ]
  },
  {
   "cell_type": "markdown",
   "id": "05bf991d",
   "metadata": {},
   "source": [
    "There are 6 features with quantitative data."
   ]
  },
  {
   "cell_type": "markdown",
   "id": "073b6280",
   "metadata": {},
   "source": [
    "Moreover, quantitive data can be divided in continuos and discrete."
   ]
  },
  {
   "cell_type": "code",
   "execution_count": null,
   "id": "b5cb0bc0",
   "metadata": {},
   "outputs": [],
   "source": []
  },
  {
   "cell_type": "markdown",
   "id": "7caa9691",
   "metadata": {},
   "source": [
    "## Checking for duplicates"
   ]
  },
  {
   "cell_type": "code",
   "execution_count": 157,
   "id": "24e2962f",
   "metadata": {},
   "outputs": [
    {
     "data": {
      "text/plain": [
       "False    100000\n",
       "dtype: int64"
      ]
     },
     "execution_count": 157,
     "metadata": {},
     "output_type": "execute_result"
    }
   ],
   "source": [
    "titanic_data.duplicated().value_counts()"
   ]
  },
  {
   "cell_type": "markdown",
   "id": "ca4815c0",
   "metadata": {},
   "source": [
    "There is no duplicated data in the dataset."
   ]
  },
  {
   "cell_type": "markdown",
   "id": "b89f583f",
   "metadata": {},
   "source": [
    "## Dealing with syntax errors and range constrains"
   ]
  },
  {
   "cell_type": "markdown",
   "id": "1c69e017",
   "metadata": {},
   "source": [
    "There are certain ranges and logical values which certain variables can have. For example, age cannot be negative, fare cannot be negative and etc.\n",
    "\n",
    "Let's check those ranges for each variable."
   ]
  },
  {
   "cell_type": "markdown",
   "id": "8f7a522d",
   "metadata": {},
   "source": [
    "### Pclass"
   ]
  },
  {
   "cell_type": "markdown",
   "id": "375d9959",
   "metadata": {},
   "source": [
    "According to the internet, on Titanic there were only 3 classes of cabins: 1st, 2nd and 3rd. Let's check that this is really like this in our dataset."
   ]
  },
  {
   "cell_type": "code",
   "execution_count": 158,
   "id": "9590a348",
   "metadata": {},
   "outputs": [
    {
     "data": {
      "text/plain": [
       "3    41006\n",
       "1    30315\n",
       "2    28679\n",
       "Name: Pclass, dtype: int64"
      ]
     },
     "execution_count": 158,
     "metadata": {},
     "output_type": "execute_result"
    }
   ],
   "source": [
    "titanic_data.Pclass.value_counts()"
   ]
  },
  {
   "cell_type": "markdown",
   "id": "b3832c6e",
   "metadata": {},
   "source": [
    "True, the data is within the range of discrete values."
   ]
  },
  {
   "cell_type": "markdown",
   "id": "54d6fdc0",
   "metadata": {},
   "source": [
    "### Sex"
   ]
  },
  {
   "cell_type": "markdown",
   "id": "89e337ac",
   "metadata": {},
   "source": [
    "Let's check that sex is within a range of discrete values 'male' or 'female'."
   ]
  },
  {
   "cell_type": "code",
   "execution_count": 159,
   "id": "2fb6b024",
   "metadata": {},
   "outputs": [
    {
     "data": {
      "text/plain": [
       "male      56114\n",
       "female    43886\n",
       "Name: Sex, dtype: int64"
      ]
     },
     "execution_count": 159,
     "metadata": {},
     "output_type": "execute_result"
    }
   ],
   "source": [
    "titanic_data.Sex.value_counts()"
   ]
  },
  {
   "cell_type": "markdown",
   "id": "36a3023b",
   "metadata": {},
   "source": [
    "True, the data is within the range of discrete values."
   ]
  },
  {
   "cell_type": "markdown",
   "id": "66facdca",
   "metadata": {},
   "source": [
    "### Age"
   ]
  },
  {
   "cell_type": "markdown",
   "id": "4974cb2a",
   "metadata": {},
   "source": [
    "Let's check that age is bigger than 0 and less than 122 (the highest age that a person lived was 122 years)."
   ]
  },
  {
   "cell_type": "code",
   "execution_count": 178,
   "id": "73db2eaa",
   "metadata": {
    "scrolled": true
   },
   "outputs": [
    {
     "data": {
      "text/plain": [
       "Survived    0\n",
       "Pclass      0\n",
       "Name        0\n",
       "Sex         0\n",
       "Age         0\n",
       "SibSp       0\n",
       "Parch       0\n",
       "Ticket      0\n",
       "Fare        0\n",
       "Cabin       0\n",
       "Embarked    0\n",
       "dtype: int64"
      ]
     },
     "execution_count": 178,
     "metadata": {},
     "output_type": "execute_result"
    }
   ],
   "source": [
    "titanic_data.loc[(titanic_data.Age <= 0) | (titanic_data.Age >= 122)].count()"
   ]
  },
  {
   "cell_type": "markdown",
   "id": "a5cec4d1",
   "metadata": {},
   "source": [
    "True, ages are bigger than 0 and lower than 122."
   ]
  },
  {
   "cell_type": "markdown",
   "id": "4050be8a",
   "metadata": {},
   "source": [
    "### SibSp"
   ]
  },
  {
   "cell_type": "markdown",
   "id": "25fd1996",
   "metadata": {},
   "source": [
    "Let's check that SibSp is NOT a negative number since number of people cannot be negative."
   ]
  },
  {
   "cell_type": "code",
   "execution_count": 183,
   "id": "91b8ef4e",
   "metadata": {},
   "outputs": [
    {
     "data": {
      "text/plain": [
       "Survived    0\n",
       "Pclass      0\n",
       "Name        0\n",
       "Sex         0\n",
       "Age         0\n",
       "SibSp       0\n",
       "Parch       0\n",
       "Ticket      0\n",
       "Fare        0\n",
       "Cabin       0\n",
       "Embarked    0\n",
       "dtype: int64"
      ]
     },
     "execution_count": 183,
     "metadata": {},
     "output_type": "execute_result"
    }
   ],
   "source": [
    "titanic_data.loc[(titanic_data.SibSp < 0)].count()"
   ]
  },
  {
   "cell_type": "markdown",
   "id": "115b9318",
   "metadata": {},
   "source": [
    "True, there are no negative values of SibSp."
   ]
  },
  {
   "cell_type": "markdown",
   "id": "bf10d407",
   "metadata": {},
   "source": [
    "### Parch"
   ]
  },
  {
   "cell_type": "markdown",
   "id": "ef91221c",
   "metadata": {},
   "source": [
    "Let's check that Parch is NOT a negative number since number of people cannot be negative."
   ]
  },
  {
   "cell_type": "code",
   "execution_count": 209,
   "id": "455121e5",
   "metadata": {},
   "outputs": [
    {
     "data": {
      "text/plain": [
       "Survived    0\n",
       "Pclass      0\n",
       "Sex         0\n",
       "Age         0\n",
       "SibSp       0\n",
       "Parch       0\n",
       "Ticket      0\n",
       "Fare        0\n",
       "Cabin       0\n",
       "Embarked    0\n",
       "Title       0\n",
       "dtype: int64"
      ]
     },
     "execution_count": 209,
     "metadata": {},
     "output_type": "execute_result"
    }
   ],
   "source": [
    "titanic_data.loc[(titanic_data.Parch < 0)].count()"
   ]
  },
  {
   "cell_type": "markdown",
   "id": "447940db",
   "metadata": {},
   "source": [
    "True, there are no negative values of Parch."
   ]
  },
  {
   "cell_type": "markdown",
   "id": "9728f354",
   "metadata": {},
   "source": [
    "### Embarked"
   ]
  },
  {
   "cell_type": "markdown",
   "id": "45c21851",
   "metadata": {},
   "source": [
    "According to the internet, there were three ports (towns) from which people got on board of Titanic: 'S', 'Q', and 'C'. Let's check that this is really like this."
   ]
  },
  {
   "cell_type": "code",
   "execution_count": 211,
   "id": "fb6e6d1b",
   "metadata": {},
   "outputs": [
    {
     "data": {
      "text/plain": [
       "S    72139\n",
       "C    22187\n",
       "Q     5424\n",
       "Name: Embarked, dtype: int64"
      ]
     },
     "execution_count": 211,
     "metadata": {},
     "output_type": "execute_result"
    }
   ],
   "source": [
    "titanic_data.Embarked.value_counts()"
   ]
  },
  {
   "cell_type": "markdown",
   "id": "162155e8",
   "metadata": {},
   "source": [
    "## Dealing with missing data"
   ]
  },
  {
   "cell_type": "code",
   "execution_count": 160,
   "id": "17273990",
   "metadata": {
    "scrolled": false
   },
   "outputs": [
    {
     "name": "stdout",
     "output_type": "stream",
     "text": [
      "<class 'pandas.core.frame.DataFrame'>\n",
      "Int64Index: 100000 entries, 0 to 99999\n",
      "Data columns (total 11 columns):\n",
      " #   Column    Non-Null Count   Dtype  \n",
      "---  ------    --------------   -----  \n",
      " 0   Survived  100000 non-null  int64  \n",
      " 1   Pclass    100000 non-null  int64  \n",
      " 2   Name      100000 non-null  object \n",
      " 3   Sex       100000 non-null  object \n",
      " 4   Age       96708 non-null   float64\n",
      " 5   SibSp     100000 non-null  int64  \n",
      " 6   Parch     100000 non-null  int64  \n",
      " 7   Ticket    95377 non-null   object \n",
      " 8   Fare      99866 non-null   float64\n",
      " 9   Cabin     32134 non-null   object \n",
      " 10  Embarked  99750 non-null   object \n",
      "dtypes: float64(2), int64(4), object(5)\n",
      "memory usage: 9.2+ MB\n"
     ]
    }
   ],
   "source": [
    "titanic_data.info()"
   ]
  },
  {
   "cell_type": "code",
   "execution_count": 161,
   "id": "d114a558",
   "metadata": {
    "scrolled": false
   },
   "outputs": [
    {
     "data": {
      "text/plain": [
       "Survived        0\n",
       "Pclass          0\n",
       "Name            0\n",
       "Sex             0\n",
       "Age          3292\n",
       "SibSp           0\n",
       "Parch           0\n",
       "Ticket       4623\n",
       "Fare          134\n",
       "Cabin       67866\n",
       "Embarked      250\n",
       "dtype: int64"
      ]
     },
     "execution_count": 161,
     "metadata": {},
     "output_type": "execute_result"
    }
   ],
   "source": [
    "count_nan = len(titanic_data) - titanic_data.count()\n",
    "count_nan"
   ]
  },
  {
   "cell_type": "markdown",
   "id": "4feb9767",
   "metadata": {},
   "source": [
    "Columns 'Sirvived', 'Pclass', 'Sex','SibSp', 'Parch' have no missing values"
   ]
  },
  {
   "cell_type": "markdown",
   "id": "7eef70d2",
   "metadata": {},
   "source": [
    "Let's calculate percentage of missing data in columns that are left."
   ]
  },
  {
   "cell_type": "code",
   "execution_count": 162,
   "id": "056f67f0",
   "metadata": {
    "scrolled": true
   },
   "outputs": [
    {
     "name": "stdout",
     "output_type": "stream",
     "text": [
      "There are 5 columns that have missing values.\n"
     ]
    },
    {
     "data": {
      "text/html": [
       "<div>\n",
       "<style scoped>\n",
       "    .dataframe tbody tr th:only-of-type {\n",
       "        vertical-align: middle;\n",
       "    }\n",
       "\n",
       "    .dataframe tbody tr th {\n",
       "        vertical-align: top;\n",
       "    }\n",
       "\n",
       "    .dataframe thead th {\n",
       "        text-align: right;\n",
       "    }\n",
       "</style>\n",
       "<table border=\"1\" class=\"dataframe\">\n",
       "  <thead>\n",
       "    <tr style=\"text-align: right;\">\n",
       "      <th></th>\n",
       "      <th>Missing Values</th>\n",
       "      <th>% of Total Values</th>\n",
       "    </tr>\n",
       "  </thead>\n",
       "  <tbody>\n",
       "    <tr>\n",
       "      <th>Cabin</th>\n",
       "      <td>67866</td>\n",
       "      <td>67.9</td>\n",
       "    </tr>\n",
       "    <tr>\n",
       "      <th>Ticket</th>\n",
       "      <td>4623</td>\n",
       "      <td>4.6</td>\n",
       "    </tr>\n",
       "    <tr>\n",
       "      <th>Age</th>\n",
       "      <td>3292</td>\n",
       "      <td>3.3</td>\n",
       "    </tr>\n",
       "    <tr>\n",
       "      <th>Embarked</th>\n",
       "      <td>250</td>\n",
       "      <td>0.2</td>\n",
       "    </tr>\n",
       "    <tr>\n",
       "      <th>Fare</th>\n",
       "      <td>134</td>\n",
       "      <td>0.1</td>\n",
       "    </tr>\n",
       "  </tbody>\n",
       "</table>\n",
       "</div>"
      ],
      "text/plain": [
       "          Missing Values  % of Total Values\n",
       "Cabin              67866               67.9\n",
       "Ticket              4623                4.6\n",
       "Age                 3292                3.3\n",
       "Embarked             250                0.2\n",
       "Fare                 134                0.1"
      ]
     },
     "execution_count": 162,
     "metadata": {},
     "output_type": "execute_result"
    }
   ],
   "source": [
    "def missing_values_table(df):\n",
    "    mis_val = df.isnull().sum()\n",
    "    mis_val_percent = 100 * df.isnull().sum() / len(df)\n",
    "    mis_val_table = pd.concat([mis_val, mis_val_percent], axis=1)\n",
    "    mis_val_table_ren_columns = mis_val_table.rename(\n",
    "    columns = {0 : 'Missing Values', 1 : '% of Total Values'})\n",
    "    mis_val_table_ren_columns = mis_val_table_ren_columns[\n",
    "        mis_val_table_ren_columns.iloc[:,1] != 0].sort_values(\n",
    "    '% of Total Values', ascending=False).round(1)\n",
    "    print (\"There are \" + str(mis_val_table_ren_columns.shape[0]) +\n",
    "            \" columns that have missing values.\")\n",
    "    return mis_val_table_ren_columns\n",
    "missing_values_table(titanic_data)"
   ]
  },
  {
   "cell_type": "markdown",
   "id": "aa2f7aa0",
   "metadata": {},
   "source": [
    "### Missing 'Cabin' data"
   ]
  },
  {
   "cell_type": "markdown",
   "id": "1d4080f9",
   "metadata": {},
   "source": [
    "'Cabin' column contains 67.9% of missing data, so it would be hard to impute there data without changing it significantly. The first thought would be to delete the column completely but as had been stated above Cabin is connected to Deck and Deck might have an assosiation with survival.\n",
    "\n",
    "Instead, let's replace NaN with 'Not stated' for 'Cabin'."
   ]
  },
  {
   "cell_type": "code",
   "execution_count": 172,
   "id": "0cd7ccff",
   "metadata": {},
   "outputs": [],
   "source": [
    "titanic_data.Cabin = titanic_data.Cabin.fillna('Not stated')"
   ]
  },
  {
   "cell_type": "markdown",
   "id": "4cfeba10",
   "metadata": {},
   "source": [
    "### Missing 'Ticket' data"
   ]
  },
  {
   "cell_type": "markdown",
   "id": "cb5cfb09",
   "metadata": {},
   "source": [
    "According to articles about the tickets at the internet, people could have the same ticket number if they shared the same cabin.\n",
    "\n",
    "Let's check it in our dataset by counting unique values."
   ]
  },
  {
   "cell_type": "code",
   "execution_count": 215,
   "id": "79e03f93",
   "metadata": {
    "scrolled": true
   },
   "outputs": [
    {
     "data": {
      "text/plain": [
       "A/5             602\n",
       "C.A.            177\n",
       "SC/PARIS        145\n",
       "SOTON/O.Q.       80\n",
       "SC               57\n",
       "               ... \n",
       "421812            1\n",
       "PC 420601         1\n",
       "PC 26800          1\n",
       "STON/O 23755      1\n",
       "458074            1\n",
       "Name: Ticket, Length: 75331, dtype: int64"
      ]
     },
     "execution_count": 215,
     "metadata": {},
     "output_type": "execute_result"
    }
   ],
   "source": [
    "titanic_data.Ticket.value_counts()"
   ]
  },
  {
   "cell_type": "markdown",
   "id": "aeca7a14",
   "metadata": {},
   "source": [
    "Logically, 602 people or 177 people couldn't share the same cabin. Consequently, ticket data cannot be used to draw correlation and should be deleted."
   ]
  },
  {
   "cell_type": "code",
   "execution_count": 217,
   "id": "68ac8501",
   "metadata": {},
   "outputs": [
    {
     "data": {
      "text/html": [
       "<div>\n",
       "<style scoped>\n",
       "    .dataframe tbody tr th:only-of-type {\n",
       "        vertical-align: middle;\n",
       "    }\n",
       "\n",
       "    .dataframe tbody tr th {\n",
       "        vertical-align: top;\n",
       "    }\n",
       "\n",
       "    .dataframe thead th {\n",
       "        text-align: right;\n",
       "    }\n",
       "</style>\n",
       "<table border=\"1\" class=\"dataframe\">\n",
       "  <thead>\n",
       "    <tr style=\"text-align: right;\">\n",
       "      <th></th>\n",
       "      <th>Survived</th>\n",
       "      <th>Pclass</th>\n",
       "      <th>Sex</th>\n",
       "      <th>Age</th>\n",
       "      <th>SibSp</th>\n",
       "      <th>Parch</th>\n",
       "      <th>Fare</th>\n",
       "      <th>Cabin</th>\n",
       "      <th>Embarked</th>\n",
       "      <th>Title</th>\n",
       "    </tr>\n",
       "    <tr>\n",
       "      <th>PassengerId</th>\n",
       "      <th></th>\n",
       "      <th></th>\n",
       "      <th></th>\n",
       "      <th></th>\n",
       "      <th></th>\n",
       "      <th></th>\n",
       "      <th></th>\n",
       "      <th></th>\n",
       "      <th></th>\n",
       "      <th></th>\n",
       "    </tr>\n",
       "  </thead>\n",
       "  <tbody>\n",
       "    <tr>\n",
       "      <th>0</th>\n",
       "      <td>1</td>\n",
       "      <td>1</td>\n",
       "      <td>male</td>\n",
       "      <td>NaN</td>\n",
       "      <td>2</td>\n",
       "      <td>0</td>\n",
       "      <td>27.14</td>\n",
       "      <td>C12239</td>\n",
       "      <td>S</td>\n",
       "      <td>NaN</td>\n",
       "    </tr>\n",
       "    <tr>\n",
       "      <th>1</th>\n",
       "      <td>0</td>\n",
       "      <td>3</td>\n",
       "      <td>male</td>\n",
       "      <td>NaN</td>\n",
       "      <td>0</td>\n",
       "      <td>0</td>\n",
       "      <td>13.35</td>\n",
       "      <td>Not stated</td>\n",
       "      <td>S</td>\n",
       "      <td>NaN</td>\n",
       "    </tr>\n",
       "    <tr>\n",
       "      <th>2</th>\n",
       "      <td>0</td>\n",
       "      <td>3</td>\n",
       "      <td>male</td>\n",
       "      <td>0.33</td>\n",
       "      <td>1</td>\n",
       "      <td>2</td>\n",
       "      <td>71.29</td>\n",
       "      <td>Not stated</td>\n",
       "      <td>S</td>\n",
       "      <td>NaN</td>\n",
       "    </tr>\n",
       "    <tr>\n",
       "      <th>3</th>\n",
       "      <td>0</td>\n",
       "      <td>3</td>\n",
       "      <td>male</td>\n",
       "      <td>19.00</td>\n",
       "      <td>0</td>\n",
       "      <td>0</td>\n",
       "      <td>13.04</td>\n",
       "      <td>Not stated</td>\n",
       "      <td>S</td>\n",
       "      <td>NaN</td>\n",
       "    </tr>\n",
       "    <tr>\n",
       "      <th>4</th>\n",
       "      <td>1</td>\n",
       "      <td>3</td>\n",
       "      <td>male</td>\n",
       "      <td>25.00</td>\n",
       "      <td>0</td>\n",
       "      <td>0</td>\n",
       "      <td>7.76</td>\n",
       "      <td>Not stated</td>\n",
       "      <td>S</td>\n",
       "      <td>NaN</td>\n",
       "    </tr>\n",
       "    <tr>\n",
       "      <th>...</th>\n",
       "      <td>...</td>\n",
       "      <td>...</td>\n",
       "      <td>...</td>\n",
       "      <td>...</td>\n",
       "      <td>...</td>\n",
       "      <td>...</td>\n",
       "      <td>...</td>\n",
       "      <td>...</td>\n",
       "      <td>...</td>\n",
       "      <td>...</td>\n",
       "    </tr>\n",
       "    <tr>\n",
       "      <th>99995</th>\n",
       "      <td>1</td>\n",
       "      <td>2</td>\n",
       "      <td>female</td>\n",
       "      <td>62.00</td>\n",
       "      <td>0</td>\n",
       "      <td>0</td>\n",
       "      <td>14.86</td>\n",
       "      <td>D17243</td>\n",
       "      <td>C</td>\n",
       "      <td>NaN</td>\n",
       "    </tr>\n",
       "    <tr>\n",
       "      <th>99996</th>\n",
       "      <td>0</td>\n",
       "      <td>2</td>\n",
       "      <td>male</td>\n",
       "      <td>66.00</td>\n",
       "      <td>0</td>\n",
       "      <td>0</td>\n",
       "      <td>11.15</td>\n",
       "      <td>Not stated</td>\n",
       "      <td>S</td>\n",
       "      <td>NaN</td>\n",
       "    </tr>\n",
       "    <tr>\n",
       "      <th>99997</th>\n",
       "      <td>0</td>\n",
       "      <td>3</td>\n",
       "      <td>male</td>\n",
       "      <td>37.00</td>\n",
       "      <td>0</td>\n",
       "      <td>0</td>\n",
       "      <td>9.95</td>\n",
       "      <td>Not stated</td>\n",
       "      <td>S</td>\n",
       "      <td>NaN</td>\n",
       "    </tr>\n",
       "    <tr>\n",
       "      <th>99998</th>\n",
       "      <td>0</td>\n",
       "      <td>3</td>\n",
       "      <td>male</td>\n",
       "      <td>51.00</td>\n",
       "      <td>0</td>\n",
       "      <td>1</td>\n",
       "      <td>30.92</td>\n",
       "      <td>Not stated</td>\n",
       "      <td>S</td>\n",
       "      <td>NaN</td>\n",
       "    </tr>\n",
       "    <tr>\n",
       "      <th>99999</th>\n",
       "      <td>0</td>\n",
       "      <td>3</td>\n",
       "      <td>male</td>\n",
       "      <td>55.00</td>\n",
       "      <td>0</td>\n",
       "      <td>0</td>\n",
       "      <td>13.96</td>\n",
       "      <td>Not stated</td>\n",
       "      <td>S</td>\n",
       "      <td>NaN</td>\n",
       "    </tr>\n",
       "  </tbody>\n",
       "</table>\n",
       "<p>100000 rows × 10 columns</p>\n",
       "</div>"
      ],
      "text/plain": [
       "             Survived  Pclass     Sex    Age  SibSp  Parch   Fare       Cabin  \\\n",
       "PassengerId                                                                     \n",
       "0                   1       1    male    NaN      2      0  27.14      C12239   \n",
       "1                   0       3    male    NaN      0      0  13.35  Not stated   \n",
       "2                   0       3    male   0.33      1      2  71.29  Not stated   \n",
       "3                   0       3    male  19.00      0      0  13.04  Not stated   \n",
       "4                   1       3    male  25.00      0      0   7.76  Not stated   \n",
       "...               ...     ...     ...    ...    ...    ...    ...         ...   \n",
       "99995               1       2  female  62.00      0      0  14.86      D17243   \n",
       "99996               0       2    male  66.00      0      0  11.15  Not stated   \n",
       "99997               0       3    male  37.00      0      0   9.95  Not stated   \n",
       "99998               0       3    male  51.00      0      1  30.92  Not stated   \n",
       "99999               0       3    male  55.00      0      0  13.96  Not stated   \n",
       "\n",
       "            Embarked Title  \n",
       "PassengerId                 \n",
       "0                  S   NaN  \n",
       "1                  S   NaN  \n",
       "2                  S   NaN  \n",
       "3                  S   NaN  \n",
       "4                  S   NaN  \n",
       "...              ...   ...  \n",
       "99995              C   NaN  \n",
       "99996              S   NaN  \n",
       "99997              S   NaN  \n",
       "99998              S   NaN  \n",
       "99999              S   NaN  \n",
       "\n",
       "[100000 rows x 10 columns]"
      ]
     },
     "execution_count": 217,
     "metadata": {},
     "output_type": "execute_result"
    }
   ],
   "source": [
    "titanic_data = titanic_data.drop('Ticket', axis=1)\n",
    "titanic_data"
   ]
  },
  {
   "cell_type": "markdown",
   "id": "9751461b",
   "metadata": {},
   "source": [
    "### Missing 'Embarked' data"
   ]
  },
  {
   "cell_type": "markdown",
   "id": "b07b26d7",
   "metadata": {},
   "source": [
    "Embarked is a categorical data and has a loss of only 0.2% of data, so let's fill missing data with mode which is 'S'."
   ]
  },
  {
   "cell_type": "code",
   "execution_count": 223,
   "id": "b7970209",
   "metadata": {},
   "outputs": [
    {
     "data": {
      "text/plain": [
       "0    S\n",
       "Name: Embarked, dtype: object"
      ]
     },
     "execution_count": 223,
     "metadata": {},
     "output_type": "execute_result"
    }
   ],
   "source": [
    "mode = titanic_data.Embarked.mode()\n",
    "titanic_data.Embarked = titanic_data.Embarked.fillna(mode)\n",
    "mode"
   ]
  },
  {
   "cell_type": "markdown",
   "id": "52df7791",
   "metadata": {},
   "source": [
    "### Missing 'Fare' data"
   ]
  },
  {
   "cell_type": "markdown",
   "id": "672f57e4",
   "metadata": {},
   "source": [
    "Instead of just filling 'Fare' with mean, let's find means of each class of a cabin like 1st, 2nd and 3rd (Pclass column) and fill NaN Fares for 1st class with mean for 1st class, for 2nd class with 2nd class and etc."
   ]
  },
  {
   "cell_type": "markdown",
   "id": "c1e6ec86",
   "metadata": {},
   "source": [
    "age = среднее по классу каюты и возрасту по полу?\n",
    "\n",
    "fare по средней цене в каюте того класса."
   ]
  },
  {
   "cell_type": "markdown",
   "id": "84b0ee7d",
   "metadata": {},
   "source": [
    "## Ommiting unnessesary data (Name)"
   ]
  },
  {
   "cell_type": "markdown",
   "id": "4778dece",
   "metadata": {},
   "source": [
    "As seen below, names contain only First Name and Surname without any title or occupation, so there may not be any correlation between name and other features."
   ]
  },
  {
   "cell_type": "code",
   "execution_count": 203,
   "id": "75de30bf",
   "metadata": {
    "scrolled": true
   },
   "outputs": [
    {
     "data": {
      "text/plain": [
       "Johnson, John        31\n",
       "Smith, James         24\n",
       "Smith, John          24\n",
       "Johnson, William     22\n",
       "Smith, Michael       20\n",
       "Smith, William       19\n",
       "Jones, James         19\n",
       "Smith, Robert        18\n",
       "Johnson, James       18\n",
       "Smith, Mary          17\n",
       "Johnson, Robert      16\n",
       "Williams, Michael    15\n",
       "Brown, John          15\n",
       "Jones, William       15\n",
       "Davis, Robert        15\n",
       "Jones, Robert        15\n",
       "Williams, Robert     14\n",
       "Williams, John       14\n",
       "Davis, John          14\n",
       "Moore, David         14\n",
       "Name: Name, dtype: int64"
      ]
     },
     "execution_count": 203,
     "metadata": {},
     "output_type": "execute_result"
    }
   ],
   "source": [
    "titanic_data.Name.value_counts().head(20)"
   ]
  },
  {
   "cell_type": "markdown",
   "id": "fad21c81",
   "metadata": {},
   "source": [
    "So let's delete it."
   ]
  },
  {
   "cell_type": "code",
   "execution_count": 206,
   "id": "5b5a7042",
   "metadata": {},
   "outputs": [
    {
     "data": {
      "text/html": [
       "<div>\n",
       "<style scoped>\n",
       "    .dataframe tbody tr th:only-of-type {\n",
       "        vertical-align: middle;\n",
       "    }\n",
       "\n",
       "    .dataframe tbody tr th {\n",
       "        vertical-align: top;\n",
       "    }\n",
       "\n",
       "    .dataframe thead th {\n",
       "        text-align: right;\n",
       "    }\n",
       "</style>\n",
       "<table border=\"1\" class=\"dataframe\">\n",
       "  <thead>\n",
       "    <tr style=\"text-align: right;\">\n",
       "      <th></th>\n",
       "      <th>Survived</th>\n",
       "      <th>Pclass</th>\n",
       "      <th>Sex</th>\n",
       "      <th>Age</th>\n",
       "      <th>SibSp</th>\n",
       "      <th>Parch</th>\n",
       "      <th>Ticket</th>\n",
       "      <th>Fare</th>\n",
       "      <th>Cabin</th>\n",
       "      <th>Embarked</th>\n",
       "      <th>Title</th>\n",
       "    </tr>\n",
       "    <tr>\n",
       "      <th>PassengerId</th>\n",
       "      <th></th>\n",
       "      <th></th>\n",
       "      <th></th>\n",
       "      <th></th>\n",
       "      <th></th>\n",
       "      <th></th>\n",
       "      <th></th>\n",
       "      <th></th>\n",
       "      <th></th>\n",
       "      <th></th>\n",
       "      <th></th>\n",
       "    </tr>\n",
       "  </thead>\n",
       "  <tbody>\n",
       "    <tr>\n",
       "      <th>0</th>\n",
       "      <td>1</td>\n",
       "      <td>1</td>\n",
       "      <td>male</td>\n",
       "      <td>NaN</td>\n",
       "      <td>2</td>\n",
       "      <td>0</td>\n",
       "      <td>209245</td>\n",
       "      <td>27.14</td>\n",
       "      <td>C12239</td>\n",
       "      <td>S</td>\n",
       "      <td>NaN</td>\n",
       "    </tr>\n",
       "    <tr>\n",
       "      <th>1</th>\n",
       "      <td>0</td>\n",
       "      <td>3</td>\n",
       "      <td>male</td>\n",
       "      <td>NaN</td>\n",
       "      <td>0</td>\n",
       "      <td>0</td>\n",
       "      <td>27323</td>\n",
       "      <td>13.35</td>\n",
       "      <td>Not stated</td>\n",
       "      <td>S</td>\n",
       "      <td>NaN</td>\n",
       "    </tr>\n",
       "    <tr>\n",
       "      <th>2</th>\n",
       "      <td>0</td>\n",
       "      <td>3</td>\n",
       "      <td>male</td>\n",
       "      <td>0.33</td>\n",
       "      <td>1</td>\n",
       "      <td>2</td>\n",
       "      <td>CA 457703</td>\n",
       "      <td>71.29</td>\n",
       "      <td>Not stated</td>\n",
       "      <td>S</td>\n",
       "      <td>NaN</td>\n",
       "    </tr>\n",
       "    <tr>\n",
       "      <th>3</th>\n",
       "      <td>0</td>\n",
       "      <td>3</td>\n",
       "      <td>male</td>\n",
       "      <td>19.00</td>\n",
       "      <td>0</td>\n",
       "      <td>0</td>\n",
       "      <td>A. 10866</td>\n",
       "      <td>13.04</td>\n",
       "      <td>Not stated</td>\n",
       "      <td>S</td>\n",
       "      <td>NaN</td>\n",
       "    </tr>\n",
       "    <tr>\n",
       "      <th>4</th>\n",
       "      <td>1</td>\n",
       "      <td>3</td>\n",
       "      <td>male</td>\n",
       "      <td>25.00</td>\n",
       "      <td>0</td>\n",
       "      <td>0</td>\n",
       "      <td>427635</td>\n",
       "      <td>7.76</td>\n",
       "      <td>Not stated</td>\n",
       "      <td>S</td>\n",
       "      <td>NaN</td>\n",
       "    </tr>\n",
       "    <tr>\n",
       "      <th>...</th>\n",
       "      <td>...</td>\n",
       "      <td>...</td>\n",
       "      <td>...</td>\n",
       "      <td>...</td>\n",
       "      <td>...</td>\n",
       "      <td>...</td>\n",
       "      <td>...</td>\n",
       "      <td>...</td>\n",
       "      <td>...</td>\n",
       "      <td>...</td>\n",
       "      <td>...</td>\n",
       "    </tr>\n",
       "    <tr>\n",
       "      <th>99995</th>\n",
       "      <td>1</td>\n",
       "      <td>2</td>\n",
       "      <td>female</td>\n",
       "      <td>62.00</td>\n",
       "      <td>0</td>\n",
       "      <td>0</td>\n",
       "      <td>PC 15008</td>\n",
       "      <td>14.86</td>\n",
       "      <td>D17243</td>\n",
       "      <td>C</td>\n",
       "      <td>NaN</td>\n",
       "    </tr>\n",
       "    <tr>\n",
       "      <th>99996</th>\n",
       "      <td>0</td>\n",
       "      <td>2</td>\n",
       "      <td>male</td>\n",
       "      <td>66.00</td>\n",
       "      <td>0</td>\n",
       "      <td>0</td>\n",
       "      <td>13273</td>\n",
       "      <td>11.15</td>\n",
       "      <td>Not stated</td>\n",
       "      <td>S</td>\n",
       "      <td>NaN</td>\n",
       "    </tr>\n",
       "    <tr>\n",
       "      <th>99997</th>\n",
       "      <td>0</td>\n",
       "      <td>3</td>\n",
       "      <td>male</td>\n",
       "      <td>37.00</td>\n",
       "      <td>0</td>\n",
       "      <td>0</td>\n",
       "      <td>NaN</td>\n",
       "      <td>9.95</td>\n",
       "      <td>Not stated</td>\n",
       "      <td>S</td>\n",
       "      <td>NaN</td>\n",
       "    </tr>\n",
       "    <tr>\n",
       "      <th>99998</th>\n",
       "      <td>0</td>\n",
       "      <td>3</td>\n",
       "      <td>male</td>\n",
       "      <td>51.00</td>\n",
       "      <td>0</td>\n",
       "      <td>1</td>\n",
       "      <td>458654</td>\n",
       "      <td>30.92</td>\n",
       "      <td>Not stated</td>\n",
       "      <td>S</td>\n",
       "      <td>NaN</td>\n",
       "    </tr>\n",
       "    <tr>\n",
       "      <th>99999</th>\n",
       "      <td>0</td>\n",
       "      <td>3</td>\n",
       "      <td>male</td>\n",
       "      <td>55.00</td>\n",
       "      <td>0</td>\n",
       "      <td>0</td>\n",
       "      <td>458074</td>\n",
       "      <td>13.96</td>\n",
       "      <td>Not stated</td>\n",
       "      <td>S</td>\n",
       "      <td>NaN</td>\n",
       "    </tr>\n",
       "  </tbody>\n",
       "</table>\n",
       "<p>100000 rows × 11 columns</p>\n",
       "</div>"
      ],
      "text/plain": [
       "             Survived  Pclass     Sex    Age  SibSp  Parch     Ticket   Fare  \\\n",
       "PassengerId                                                                    \n",
       "0                   1       1    male    NaN      2      0     209245  27.14   \n",
       "1                   0       3    male    NaN      0      0      27323  13.35   \n",
       "2                   0       3    male   0.33      1      2  CA 457703  71.29   \n",
       "3                   0       3    male  19.00      0      0   A. 10866  13.04   \n",
       "4                   1       3    male  25.00      0      0     427635   7.76   \n",
       "...               ...     ...     ...    ...    ...    ...        ...    ...   \n",
       "99995               1       2  female  62.00      0      0   PC 15008  14.86   \n",
       "99996               0       2    male  66.00      0      0      13273  11.15   \n",
       "99997               0       3    male  37.00      0      0        NaN   9.95   \n",
       "99998               0       3    male  51.00      0      1     458654  30.92   \n",
       "99999               0       3    male  55.00      0      0     458074  13.96   \n",
       "\n",
       "                  Cabin Embarked Title  \n",
       "PassengerId                             \n",
       "0                C12239        S   NaN  \n",
       "1            Not stated        S   NaN  \n",
       "2            Not stated        S   NaN  \n",
       "3            Not stated        S   NaN  \n",
       "4            Not stated        S   NaN  \n",
       "...                 ...      ...   ...  \n",
       "99995            D17243        C   NaN  \n",
       "99996        Not stated        S   NaN  \n",
       "99997        Not stated        S   NaN  \n",
       "99998        Not stated        S   NaN  \n",
       "99999        Not stated        S   NaN  \n",
       "\n",
       "[100000 rows x 11 columns]"
      ]
     },
     "execution_count": 206,
     "metadata": {},
     "output_type": "execute_result"
    }
   ],
   "source": [
    "titanic_data = titanic_data.drop('Name', axis=1)\n",
    "titanic_data"
   ]
  },
  {
   "cell_type": "markdown",
   "id": "4a722877",
   "metadata": {},
   "source": [
    "## Outlier analysis (boxplots)"
   ]
  },
  {
   "cell_type": "markdown",
   "id": "50c0f71e",
   "metadata": {},
   "source": [
    "Let's find outliers in columns with quantitive categories"
   ]
  },
  {
   "cell_type": "code",
   "execution_count": 164,
   "id": "33c1e4da",
   "metadata": {
    "scrolled": true
   },
   "outputs": [
    {
     "data": {
      "text/plain": [
       "<AxesSubplot:>"
      ]
     },
     "execution_count": 164,
     "metadata": {},
     "output_type": "execute_result"
    },
    {
     "data": {
      "image/png": "[encoded data removed]",
      "text/plain": [
       "<Figure size 432x288 with 1 Axes>"
      ]
     },
     "metadata": {
      "needs_background": "light"
     },
     "output_type": "display_data"
    }
   ],
   "source": [
    "sn.boxplot(data=titanic_data['Age'])"
   ]
  },
  {
   "cell_type": "markdown",
   "id": "76c414a4",
   "metadata": {},
   "source": [
    "## Create usefull features based on existing"
   ]
  },
  {
   "cell_type": "markdown",
   "id": "7eb11c28",
   "metadata": {},
   "source": [
    "create family feature"
   ]
  },
  {
   "cell_type": "markdown",
   "id": "f8f2ec5a",
   "metadata": {},
   "source": [
    "turn continuos feature age to categorical"
   ]
  },
  {
   "cell_type": "markdown",
   "id": "a9e1364f",
   "metadata": {},
   "source": [
    "create a fare range feature"
   ]
  },
  {
   "cell_type": "markdown",
   "id": "5408eca5",
   "metadata": {},
   "source": [
    "# Data exploration"
   ]
  },
  {
   "cell_type": "markdown",
   "id": "cdd9ec77",
   "metadata": {},
   "source": [
    "## Vizualization and summary statistics for each variable"
   ]
  },
  {
   "cell_type": "markdown",
   "id": "1e40fe47",
   "metadata": {},
   "source": [
    "### 'Survived' column"
   ]
  },
  {
   "cell_type": "code",
   "execution_count": 165,
   "id": "230a9cc4",
   "metadata": {
    "scrolled": true
   },
   "outputs": [
    {
     "data": {
      "text/plain": [
       "count    100000.000000\n",
       "mean          0.427740\n",
       "std           0.494753\n",
       "min           0.000000\n",
       "25%           0.000000\n",
       "50%           0.000000\n",
       "75%           1.000000\n",
       "max           1.000000\n",
       "Name: Survived, dtype: float64"
      ]
     },
     "execution_count": 165,
     "metadata": {},
     "output_type": "execute_result"
    }
   ],
   "source": [
    "titanic_data.Survived.describe()"
   ]
  },
  {
   "cell_type": "code",
   "execution_count": 166,
   "id": "5508c0b8",
   "metadata": {},
   "outputs": [
    {
     "data": {
      "text/plain": [
       "0    57226\n",
       "1    42774\n",
       "Name: Survived, dtype: int64"
      ]
     },
     "execution_count": 166,
     "metadata": {},
     "output_type": "execute_result"
    }
   ],
   "source": [
    "titanic_data.Survived.value_counts()"
   ]
  },
  {
   "cell_type": "markdown",
   "id": "510e421a",
   "metadata": {},
   "source": [
    "## Assert relationships"
   ]
  },
  {
   "cell_type": "markdown",
   "id": "f23d1cf4",
   "metadata": {},
   "source": [
    "посмотреть отдельные калонки зависимость их и выживания\n",
    "посмотреть у связь выживания только у женщин\n",
    "\n",
    "взять зависимости из статьи про титаник\n",
    "\n",
    "\n",
    "Выживаемость:\n",
    "возраст и выживаемость\n",
    "пол и выживаемость \n",
    "палуба и выживаемость\n",
    "выживаемость и кол-во горизонтальных\n",
    "выживаемость и кол-во вертикальыных\n",
    "выживаемость и порт\n",
    "выживаемость и класс каюты\n",
    "\n",
    "Класс каюты и возраст\n",
    "Класс каюты и пол\n",
    "класс каюты и порт\n",
    "класс каюты и палуба\n",
    "\n",
    "пол и возраст\n",
    "пол и кол-во родственников\n",
    "пол и порт\n",
    "пол и палуба\n",
    "\n",
    "возраст и родственники\n",
    "возраст и порт"
   ]
  },
  {
   "cell_type": "markdown",
   "id": "034945c8",
   "metadata": {},
   "source": [
    "# Summary"
   ]
  },
  {
   "cell_type": "code",
   "execution_count": null,
   "id": "72e3fb13",
   "metadata": {},
   "outputs": [],
   "source": []
  }
 ],
 "metadata": {
  "kernelspec": {
   "display_name": "Python 3 (ipykernel)",
   "language": "python",
   "name": "python3"
  },
  "language_info": {
   "codemirror_mode": {
    "name": "ipython",
    "version": 3
   },
   "file_extension": ".py",
   "mimetype": "text/x-python",
   "name": "python",
   "nbconvert_exporter": "python",
   "pygments_lexer": "ipython3",
   "version": "3.9.1"
  },
  "toc": {
   "base_numbering": 1,
   "nav_menu": {},
   "number_sections": true,
   "sideBar": true,
   "skip_h1_title": false,
   "title_cell": "Table of Contents",
   "title_sidebar": "Contents",
   "toc_cell": false,
   "toc_position": {},
   "toc_section_display": true,
   "toc_window_display": false
  }
 },
 "nbformat": 4,
 "nbformat_minor": 5
}
