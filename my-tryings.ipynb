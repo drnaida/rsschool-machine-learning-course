{
 "cells": [
  {
   "cell_type": "code",
   "execution_count": 1,
   "id": "ea84d60f",
   "metadata": {},
   "outputs": [],
   "source": [
    "import pandas as pd\n",
    "import numpy as np\n",
    "import matplotlib.pyplot as plt\n",
    "from sklearn.preprocessing import normalize\n",
    "from sklearn.ensemble import RandomForestClassifier"
   ]
  },
  {
   "cell_type": "code",
   "execution_count": 2,
   "id": "ff956e3d",
   "metadata": {},
   "outputs": [],
   "source": [
    "columns_for_normalization = ['Aspect', 'Slope', 'Horizontal_Distance_To_Hydrology', 'Vertical_Distance_To_Hydrology',\n",
    "'Hillshade_9am', 'Hillshade_Noon', 'Hillshade_3pm', 'Horizontal_Distance_To_Fire_Points']\n",
    "\n",
    "columns_for_bins = ['Elevation', 'Horizontal_Distance_To_Roadways']"
   ]
  },
  {
   "cell_type": "markdown",
   "id": "e7c7413f",
   "metadata": {},
   "source": [
    "**_Get data_**"
   ]
  },
  {
   "cell_type": "code",
   "execution_count": 3,
   "id": "56d590aa",
   "metadata": {},
   "outputs": [],
   "source": [
    "dataset = pd.read_csv('train.csv')\n",
    "dataset.drop(\"Id\", axis=1, inplace=True)"
   ]
  },
  {
   "cell_type": "markdown",
   "id": "73427f41",
   "metadata": {},
   "source": [
    "**_Get training data_**"
   ]
  },
  {
   "cell_type": "code",
   "execution_count": 4,
   "id": "f0d3e30f",
   "metadata": {},
   "outputs": [],
   "source": [
    "X = dataset.drop(\"Cover_Type\", axis=1)\n",
    "y = dataset[\"Cover_Type\"]"
   ]
  },
  {
   "cell_type": "code",
   "execution_count": 5,
   "id": "e04a39e0",
   "metadata": {},
   "outputs": [
    {
     "data": {
      "text/plain": [
       "Index(['Elevation', 'Aspect', 'Slope', 'Horizontal_Distance_To_Hydrology',\n",
       "       'Vertical_Distance_To_Hydrology', 'Horizontal_Distance_To_Roadways',\n",
       "       'Hillshade_9am', 'Hillshade_Noon', 'Hillshade_3pm',\n",
       "       'Horizontal_Distance_To_Fire_Points', 'Wilderness_Area1',\n",
       "       'Wilderness_Area2', 'Wilderness_Area3', 'Wilderness_Area4',\n",
       "       'Soil_Type1', 'Soil_Type2', 'Soil_Type3', 'Soil_Type4', 'Soil_Type5',\n",
       "       'Soil_Type6', 'Soil_Type7', 'Soil_Type8', 'Soil_Type9', 'Soil_Type10',\n",
       "       'Soil_Type11', 'Soil_Type12', 'Soil_Type13', 'Soil_Type14',\n",
       "       'Soil_Type15', 'Soil_Type16', 'Soil_Type17', 'Soil_Type18',\n",
       "       'Soil_Type19', 'Soil_Type20', 'Soil_Type21', 'Soil_Type22',\n",
       "       'Soil_Type23', 'Soil_Type24', 'Soil_Type25', 'Soil_Type26',\n",
       "       'Soil_Type27', 'Soil_Type28', 'Soil_Type29', 'Soil_Type30',\n",
       "       'Soil_Type31', 'Soil_Type32', 'Soil_Type33', 'Soil_Type34',\n",
       "       'Soil_Type35', 'Soil_Type36', 'Soil_Type37', 'Soil_Type38',\n",
       "       'Soil_Type39', 'Soil_Type40'],\n",
       "      dtype='object')"
      ]
     },
     "execution_count": 5,
     "metadata": {},
     "output_type": "execute_result"
    }
   ],
   "source": [
    "X.columns"
   ]
  },
  {
   "cell_type": "markdown",
   "id": "9d9dff19",
   "metadata": {},
   "source": [
    "**_Get test data_**"
   ]
  },
  {
   "cell_type": "code",
   "execution_count": 6,
   "id": "7661986b",
   "metadata": {},
   "outputs": [],
   "source": [
    "test_data = pd.read_csv('test.csv')\n",
    "id_column = test_data[\"Id\"].copy(deep=True)\n",
    "test_data.drop(\"Id\", axis=1, inplace=True)"
   ]
  },
  {
   "cell_type": "markdown",
   "id": "b4abd620",
   "metadata": {},
   "source": [
    "**_Eucledean distance_**"
   ]
  },
  {
   "cell_type": "code",
   "execution_count": 7,
   "id": "f3fb68e4",
   "metadata": {},
   "outputs": [],
   "source": [
    "# X['Euclidian_Distance_To_Hydrology'] = (X['Horizontal_Distance_To_Hydrology']**2 + X['Vertical_Distance_To_Hydrology']**2)**0.5\n",
    "# test_data['Euclidian_Distance_To_Hydrology'] = (test_data['Horizontal_Distance_To_Hydrology']**2 + test_data['Vertical_Distance_To_Hydrology']**2)**0.5"
   ]
  },
  {
   "cell_type": "markdown",
   "id": "2d9fff4f",
   "metadata": {},
   "source": [
    "**_Normalize data_**"
   ]
  },
  {
   "cell_type": "code",
   "execution_count": 8,
   "id": "35302cfb",
   "metadata": {},
   "outputs": [],
   "source": [
    "X[columns_for_normalization] = normalize(X[columns_for_normalization])\n",
    "test_data[columns_for_normalization] = normalize(test_data[columns_for_normalization])"
   ]
  },
  {
   "cell_type": "code",
   "execution_count": 9,
   "id": "5a78e157",
   "metadata": {},
   "outputs": [
    {
     "data": {
      "text/html": [
       "<div>\n",
       "<style scoped>\n",
       "    .dataframe tbody tr th:only-of-type {\n",
       "        vertical-align: middle;\n",
       "    }\n",
       "\n",
       "    .dataframe tbody tr th {\n",
       "        vertical-align: top;\n",
       "    }\n",
       "\n",
       "    .dataframe thead th {\n",
       "        text-align: right;\n",
       "    }\n",
       "</style>\n",
       "<table border=\"1\" class=\"dataframe\">\n",
       "  <thead>\n",
       "    <tr style=\"text-align: right;\">\n",
       "      <th></th>\n",
       "      <th>Elevation</th>\n",
       "      <th>Aspect</th>\n",
       "      <th>Slope</th>\n",
       "      <th>Horizontal_Distance_To_Hydrology</th>\n",
       "      <th>Vertical_Distance_To_Hydrology</th>\n",
       "      <th>Horizontal_Distance_To_Roadways</th>\n",
       "      <th>Hillshade_9am</th>\n",
       "      <th>Hillshade_Noon</th>\n",
       "      <th>Hillshade_3pm</th>\n",
       "      <th>Horizontal_Distance_To_Fire_Points</th>\n",
       "      <th>...</th>\n",
       "      <th>Soil_Type31</th>\n",
       "      <th>Soil_Type32</th>\n",
       "      <th>Soil_Type33</th>\n",
       "      <th>Soil_Type34</th>\n",
       "      <th>Soil_Type35</th>\n",
       "      <th>Soil_Type36</th>\n",
       "      <th>Soil_Type37</th>\n",
       "      <th>Soil_Type38</th>\n",
       "      <th>Soil_Type39</th>\n",
       "      <th>Soil_Type40</th>\n",
       "    </tr>\n",
       "  </thead>\n",
       "  <tbody>\n",
       "    <tr>\n",
       "      <th>0</th>\n",
       "      <td>2596</td>\n",
       "      <td>0.008102</td>\n",
       "      <td>0.000477</td>\n",
       "      <td>0.040989</td>\n",
       "      <td>0.000000</td>\n",
       "      <td>510</td>\n",
       "      <td>0.035111</td>\n",
       "      <td>0.036858</td>\n",
       "      <td>0.023513</td>\n",
       "      <td>0.997552</td>\n",
       "      <td>...</td>\n",
       "      <td>0</td>\n",
       "      <td>0</td>\n",
       "      <td>0</td>\n",
       "      <td>0</td>\n",
       "      <td>0</td>\n",
       "      <td>0</td>\n",
       "      <td>0</td>\n",
       "      <td>0</td>\n",
       "      <td>0</td>\n",
       "      <td>0</td>\n",
       "    </tr>\n",
       "    <tr>\n",
       "      <th>1</th>\n",
       "      <td>2590</td>\n",
       "      <td>0.008976</td>\n",
       "      <td>0.000321</td>\n",
       "      <td>0.033980</td>\n",
       "      <td>-0.000962</td>\n",
       "      <td>390</td>\n",
       "      <td>0.035262</td>\n",
       "      <td>0.037666</td>\n",
       "      <td>0.024203</td>\n",
       "      <td>0.997755</td>\n",
       "      <td>...</td>\n",
       "      <td>0</td>\n",
       "      <td>0</td>\n",
       "      <td>0</td>\n",
       "      <td>0</td>\n",
       "      <td>0</td>\n",
       "      <td>0</td>\n",
       "      <td>0</td>\n",
       "      <td>0</td>\n",
       "      <td>0</td>\n",
       "      <td>0</td>\n",
       "    </tr>\n",
       "    <tr>\n",
       "      <th>2</th>\n",
       "      <td>2804</td>\n",
       "      <td>0.022641</td>\n",
       "      <td>0.001466</td>\n",
       "      <td>0.043653</td>\n",
       "      <td>0.010587</td>\n",
       "      <td>3180</td>\n",
       "      <td>0.038115</td>\n",
       "      <td>0.038766</td>\n",
       "      <td>0.021989</td>\n",
       "      <td>0.997010</td>\n",
       "      <td>...</td>\n",
       "      <td>0</td>\n",
       "      <td>0</td>\n",
       "      <td>0</td>\n",
       "      <td>0</td>\n",
       "      <td>0</td>\n",
       "      <td>0</td>\n",
       "      <td>0</td>\n",
       "      <td>0</td>\n",
       "      <td>0</td>\n",
       "      <td>0</td>\n",
       "    </tr>\n",
       "    <tr>\n",
       "      <th>3</th>\n",
       "      <td>2785</td>\n",
       "      <td>0.024883</td>\n",
       "      <td>0.002890</td>\n",
       "      <td>0.038850</td>\n",
       "      <td>0.018943</td>\n",
       "      <td>3090</td>\n",
       "      <td>0.038208</td>\n",
       "      <td>0.038208</td>\n",
       "      <td>0.019586</td>\n",
       "      <td>0.997096</td>\n",
       "      <td>...</td>\n",
       "      <td>0</td>\n",
       "      <td>0</td>\n",
       "      <td>0</td>\n",
       "      <td>0</td>\n",
       "      <td>0</td>\n",
       "      <td>0</td>\n",
       "      <td>0</td>\n",
       "      <td>0</td>\n",
       "      <td>0</td>\n",
       "      <td>0</td>\n",
       "    </tr>\n",
       "    <tr>\n",
       "      <th>4</th>\n",
       "      <td>2595</td>\n",
       "      <td>0.007277</td>\n",
       "      <td>0.000323</td>\n",
       "      <td>0.024740</td>\n",
       "      <td>-0.000162</td>\n",
       "      <td>391</td>\n",
       "      <td>0.035574</td>\n",
       "      <td>0.037838</td>\n",
       "      <td>0.024255</td>\n",
       "      <td>0.998023</td>\n",
       "      <td>...</td>\n",
       "      <td>0</td>\n",
       "      <td>0</td>\n",
       "      <td>0</td>\n",
       "      <td>0</td>\n",
       "      <td>0</td>\n",
       "      <td>0</td>\n",
       "      <td>0</td>\n",
       "      <td>0</td>\n",
       "      <td>0</td>\n",
       "      <td>0</td>\n",
       "    </tr>\n",
       "    <tr>\n",
       "      <th>...</th>\n",
       "      <td>...</td>\n",
       "      <td>...</td>\n",
       "      <td>...</td>\n",
       "      <td>...</td>\n",
       "      <td>...</td>\n",
       "      <td>...</td>\n",
       "      <td>...</td>\n",
       "      <td>...</td>\n",
       "      <td>...</td>\n",
       "      <td>...</td>\n",
       "      <td>...</td>\n",
       "      <td>...</td>\n",
       "      <td>...</td>\n",
       "      <td>...</td>\n",
       "      <td>...</td>\n",
       "      <td>...</td>\n",
       "      <td>...</td>\n",
       "      <td>...</td>\n",
       "      <td>...</td>\n",
       "      <td>...</td>\n",
       "      <td>...</td>\n",
       "    </tr>\n",
       "    <tr>\n",
       "      <th>15115</th>\n",
       "      <td>2607</td>\n",
       "      <td>0.175948</td>\n",
       "      <td>0.016654</td>\n",
       "      <td>0.186809</td>\n",
       "      <td>0.005068</td>\n",
       "      <td>660</td>\n",
       "      <td>0.123091</td>\n",
       "      <td>0.181740</td>\n",
       "      <td>0.154950</td>\n",
       "      <td>0.928252</td>\n",
       "      <td>...</td>\n",
       "      <td>0</td>\n",
       "      <td>0</td>\n",
       "      <td>0</td>\n",
       "      <td>0</td>\n",
       "      <td>0</td>\n",
       "      <td>0</td>\n",
       "      <td>0</td>\n",
       "      <td>0</td>\n",
       "      <td>0</td>\n",
       "      <td>0</td>\n",
       "    </tr>\n",
       "    <tr>\n",
       "      <th>15116</th>\n",
       "      <td>2603</td>\n",
       "      <td>0.079296</td>\n",
       "      <td>0.012451</td>\n",
       "      <td>0.414829</td>\n",
       "      <td>0.127791</td>\n",
       "      <td>618</td>\n",
       "      <td>0.163179</td>\n",
       "      <td>0.144830</td>\n",
       "      <td>0.059636</td>\n",
       "      <td>0.868323</td>\n",
       "      <td>...</td>\n",
       "      <td>0</td>\n",
       "      <td>0</td>\n",
       "      <td>0</td>\n",
       "      <td>0</td>\n",
       "      <td>0</td>\n",
       "      <td>0</td>\n",
       "      <td>0</td>\n",
       "      <td>0</td>\n",
       "      <td>0</td>\n",
       "      <td>0</td>\n",
       "    </tr>\n",
       "    <tr>\n",
       "      <th>15117</th>\n",
       "      <td>2492</td>\n",
       "      <td>0.103008</td>\n",
       "      <td>0.019218</td>\n",
       "      <td>0.280582</td>\n",
       "      <td>0.089940</td>\n",
       "      <td>335</td>\n",
       "      <td>0.192180</td>\n",
       "      <td>0.169118</td>\n",
       "      <td>0.063804</td>\n",
       "      <td>0.912469</td>\n",
       "      <td>...</td>\n",
       "      <td>0</td>\n",
       "      <td>0</td>\n",
       "      <td>0</td>\n",
       "      <td>0</td>\n",
       "      <td>0</td>\n",
       "      <td>0</td>\n",
       "      <td>0</td>\n",
       "      <td>0</td>\n",
       "      <td>0</td>\n",
       "      <td>0</td>\n",
       "    </tr>\n",
       "    <tr>\n",
       "      <th>15118</th>\n",
       "      <td>2487</td>\n",
       "      <td>0.160860</td>\n",
       "      <td>0.026971</td>\n",
       "      <td>0.209985</td>\n",
       "      <td>0.097287</td>\n",
       "      <td>242</td>\n",
       "      <td>0.220581</td>\n",
       "      <td>0.228287</td>\n",
       "      <td>0.114625</td>\n",
       "      <td>0.897735</td>\n",
       "      <td>...</td>\n",
       "      <td>0</td>\n",
       "      <td>0</td>\n",
       "      <td>0</td>\n",
       "      <td>0</td>\n",
       "      <td>0</td>\n",
       "      <td>0</td>\n",
       "      <td>0</td>\n",
       "      <td>0</td>\n",
       "      <td>0</td>\n",
       "      <td>0</td>\n",
       "    </tr>\n",
       "    <tr>\n",
       "      <th>15119</th>\n",
       "      <td>2475</td>\n",
       "      <td>0.187376</td>\n",
       "      <td>0.032339</td>\n",
       "      <td>0.303416</td>\n",
       "      <td>0.074190</td>\n",
       "      <td>270</td>\n",
       "      <td>0.179767</td>\n",
       "      <td>0.232080</td>\n",
       "      <td>0.155988</td>\n",
       "      <td>0.869350</td>\n",
       "      <td>...</td>\n",
       "      <td>0</td>\n",
       "      <td>0</td>\n",
       "      <td>0</td>\n",
       "      <td>0</td>\n",
       "      <td>0</td>\n",
       "      <td>0</td>\n",
       "      <td>0</td>\n",
       "      <td>0</td>\n",
       "      <td>0</td>\n",
       "      <td>0</td>\n",
       "    </tr>\n",
       "  </tbody>\n",
       "</table>\n",
       "<p>15120 rows × 54 columns</p>\n",
       "</div>"
      ],
      "text/plain": [
       "       Elevation    Aspect     Slope  Horizontal_Distance_To_Hydrology  \\\n",
       "0           2596  0.008102  0.000477                          0.040989   \n",
       "1           2590  0.008976  0.000321                          0.033980   \n",
       "2           2804  0.022641  0.001466                          0.043653   \n",
       "3           2785  0.024883  0.002890                          0.038850   \n",
       "4           2595  0.007277  0.000323                          0.024740   \n",
       "...          ...       ...       ...                               ...   \n",
       "15115       2607  0.175948  0.016654                          0.186809   \n",
       "15116       2603  0.079296  0.012451                          0.414829   \n",
       "15117       2492  0.103008  0.019218                          0.280582   \n",
       "15118       2487  0.160860  0.026971                          0.209985   \n",
       "15119       2475  0.187376  0.032339                          0.303416   \n",
       "\n",
       "       Vertical_Distance_To_Hydrology  Horizontal_Distance_To_Roadways  \\\n",
       "0                            0.000000                              510   \n",
       "1                           -0.000962                              390   \n",
       "2                            0.010587                             3180   \n",
       "3                            0.018943                             3090   \n",
       "4                           -0.000162                              391   \n",
       "...                               ...                              ...   \n",
       "15115                        0.005068                              660   \n",
       "15116                        0.127791                              618   \n",
       "15117                        0.089940                              335   \n",
       "15118                        0.097287                              242   \n",
       "15119                        0.074190                              270   \n",
       "\n",
       "       Hillshade_9am  Hillshade_Noon  Hillshade_3pm  \\\n",
       "0           0.035111        0.036858       0.023513   \n",
       "1           0.035262        0.037666       0.024203   \n",
       "2           0.038115        0.038766       0.021989   \n",
       "3           0.038208        0.038208       0.019586   \n",
       "4           0.035574        0.037838       0.024255   \n",
       "...              ...             ...            ...   \n",
       "15115       0.123091        0.181740       0.154950   \n",
       "15116       0.163179        0.144830       0.059636   \n",
       "15117       0.192180        0.169118       0.063804   \n",
       "15118       0.220581        0.228287       0.114625   \n",
       "15119       0.179767        0.232080       0.155988   \n",
       "\n",
       "       Horizontal_Distance_To_Fire_Points  ...  Soil_Type31  Soil_Type32  \\\n",
       "0                                0.997552  ...            0            0   \n",
       "1                                0.997755  ...            0            0   \n",
       "2                                0.997010  ...            0            0   \n",
       "3                                0.997096  ...            0            0   \n",
       "4                                0.998023  ...            0            0   \n",
       "...                                   ...  ...          ...          ...   \n",
       "15115                            0.928252  ...            0            0   \n",
       "15116                            0.868323  ...            0            0   \n",
       "15117                            0.912469  ...            0            0   \n",
       "15118                            0.897735  ...            0            0   \n",
       "15119                            0.869350  ...            0            0   \n",
       "\n",
       "       Soil_Type33  Soil_Type34  Soil_Type35  Soil_Type36  Soil_Type37  \\\n",
       "0                0            0            0            0            0   \n",
       "1                0            0            0            0            0   \n",
       "2                0            0            0            0            0   \n",
       "3                0            0            0            0            0   \n",
       "4                0            0            0            0            0   \n",
       "...            ...          ...          ...          ...          ...   \n",
       "15115            0            0            0            0            0   \n",
       "15116            0            0            0            0            0   \n",
       "15117            0            0            0            0            0   \n",
       "15118            0            0            0            0            0   \n",
       "15119            0            0            0            0            0   \n",
       "\n",
       "       Soil_Type38  Soil_Type39  Soil_Type40  \n",
       "0                0            0            0  \n",
       "1                0            0            0  \n",
       "2                0            0            0  \n",
       "3                0            0            0  \n",
       "4                0            0            0  \n",
       "...            ...          ...          ...  \n",
       "15115            0            0            0  \n",
       "15116            0            0            0  \n",
       "15117            0            0            0  \n",
       "15118            0            0            0  \n",
       "15119            0            0            0  \n",
       "\n",
       "[15120 rows x 54 columns]"
      ]
     },
     "execution_count": 9,
     "metadata": {},
     "output_type": "execute_result"
    }
   ],
   "source": [
    "X"
   ]
  },
  {
   "cell_type": "markdown",
   "id": "8f6d706a",
   "metadata": {},
   "source": [
    "**_Train model_**"
   ]
  },
  {
   "cell_type": "code",
   "execution_count": 10,
   "id": "9dd03e0b",
   "metadata": {
    "scrolled": false
   },
   "outputs": [
    {
     "data": {
      "text/plain": [
       "ExtraTreesClassifier(n_jobs=-1, random_state=42)"
      ]
     },
     "execution_count": 10,
     "metadata": {},
     "output_type": "execute_result"
    }
   ],
   "source": [
    "from sklearn.ensemble import ExtraTreesClassifier\n",
    "model = ExtraTreesClassifier(n_jobs=-1, random_state=42).fit(X, y)\n",
    "model.fit(X, y)"
   ]
  },
  {
   "cell_type": "markdown",
   "id": "69733594",
   "metadata": {},
   "source": [
    "**_Predict probability_**"
   ]
  },
  {
   "cell_type": "code",
   "execution_count": 11,
   "id": "25699e52",
   "metadata": {},
   "outputs": [],
   "source": [
    "predicted_probability = model.predict_proba(test_data)\n",
    "df_probabilities = pd.DataFrame(predicted_probability, index=id_column)"
   ]
  },
  {
   "cell_type": "markdown",
   "id": "ccf9b098",
   "metadata": {},
   "source": [
    "**_Predict model_**"
   ]
  },
  {
   "cell_type": "code",
   "execution_count": 12,
   "id": "2be9ee13",
   "metadata": {},
   "outputs": [],
   "source": [
    "y_predicted = model.predict(test_data)\n",
    "df_for_saving = pd.DataFrame(y_predicted, index=id_column, columns=[\"Cover_Type\"])"
   ]
  },
  {
   "cell_type": "code",
   "execution_count": 13,
   "id": "c2fa44e6",
   "metadata": {},
   "outputs": [],
   "source": [
    "df_for_saving[df_probabilities.max(axis=1) < 0.5] = 2"
   ]
  },
  {
   "cell_type": "markdown",
   "id": "272db23b",
   "metadata": {},
   "source": [
    "**_Save dataset_**"
   ]
  },
  {
   "cell_type": "code",
   "execution_count": 14,
   "id": "074e3c7a",
   "metadata": {
    "scrolled": false
   },
   "outputs": [],
   "source": [
    "df_for_saving.to_csv('cover_type.csv', index_label=\"Id\")"
   ]
  },
  {
   "cell_type": "code",
   "execution_count": 15,
   "id": "033c3480",
   "metadata": {},
   "outputs": [
    {
     "ename": "SyntaxError",
     "evalue": "invalid syntax (3702991729.py, line 1)",
     "output_type": "error",
     "traceback": [
      "\u001b[1;36m  Input \u001b[1;32mIn [15]\u001b[1;36m\u001b[0m\n\u001b[1;33m    Combinations tried:\u001b[0m\n\u001b[1;37m                 ^\u001b[0m\n\u001b[1;31mSyntaxError\u001b[0m\u001b[1;31m:\u001b[0m invalid syntax\n"
     ]
    }
   ],
   "source": [
    "Combinations tried:\n",
    "    - standard scaler"
   ]
  },
  {
   "cell_type": "markdown",
   "id": "87783fce",
   "metadata": {},
   "source": [
    "1 - Spruce/Fir\n",
    "\n",
    "2 - Lodgepole Pine\n",
    "\n",
    "3 - Ponderosa Pine\n",
    "\n",
    "4 - Cottonwood/Willow\n",
    "\n",
    "5 - Aspen\n",
    "\n",
    "6 - Douglas-fir\n",
    "\n",
    "7 - Krummholz"
   ]
  },
  {
   "cell_type": "code",
   "execution_count": null,
   "id": "15f7183f",
   "metadata": {},
   "outputs": [],
   "source": [
    "plt.rcParams[\"figure.figsize\"] = (16,8)\n",
    "df2 = data.groupby(['Wilderness_Area1', 'Cover_Type'])['Wilderness_Area1'].count().unstack('Cover_Type')\n",
    "df2[[1, 2, 3, 4, 5, 6, 7]].plot(kind='bar', stacked=True)"
   ]
  },
  {
   "cell_type": "code",
   "execution_count": null,
   "id": "832e62e6",
   "metadata": {},
   "outputs": [],
   "source": [
    "df2 = data.groupby(['Wilderness_Area2', 'Cover_Type'])['Wilderness_Area2'].count().unstack('Cover_Type')\n",
    "df2[[1, 2, 3, 4, 5, 6, 7]].plot(kind='bar', stacked=True)"
   ]
  },
  {
   "cell_type": "code",
   "execution_count": null,
   "id": "5e208b01",
   "metadata": {},
   "outputs": [],
   "source": [
    "df2 = data.groupby(['Wilderness_Area3', 'Cover_Type'])['Wilderness_Area3'].count().unstack('Cover_Type')\n",
    "df2[[1, 2, 3, 4, 5, 6, 7]].plot(kind='bar', stacked=True)"
   ]
  },
  {
   "cell_type": "code",
   "execution_count": null,
   "id": "7348f05b",
   "metadata": {},
   "outputs": [],
   "source": [
    "df2 = data.groupby(['Wilderness_Area4', 'Cover_Type'])['Wilderness_Area4'].count().unstack('Cover_Type')\n",
    "df2[[1, 2, 3, 4, 5, 6, 7]].plot(kind='bar', stacked=True)"
   ]
  }
 ],
 "metadata": {
  "kernelspec": {
   "display_name": "Python 3 (ipykernel)",
   "language": "python",
   "name": "python3"
  },
  "language_info": {
   "codemirror_mode": {
    "name": "ipython",
    "version": 3
   },
   "file_extension": ".py",
   "mimetype": "text/x-python",
   "name": "python",
   "nbconvert_exporter": "python",
   "pygments_lexer": "ipython3",
   "version": "3.9.1"
  }
 },
 "nbformat": 4,
 "nbformat_minor": 5
}
